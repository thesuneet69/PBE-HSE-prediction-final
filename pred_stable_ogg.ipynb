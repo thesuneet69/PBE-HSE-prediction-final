{
 "cells": [
  {
   "cell_type": "markdown",
   "metadata": {},
   "source": [
    "# Here we explore the prediction of various properties like PBE bandgap, HSE bandgap, Energy above hull and if the bandgaps are direct or not in ABX3 type compounds "
   ]
  },
  {
   "cell_type": "markdown",
   "metadata": {},
   "source": [
    "## Importing all the necessary libraries"
   ]
  },
  {
   "cell_type": "code",
   "execution_count": 2,
   "metadata": {},
   "outputs": [],
   "source": [
    "import pandas as pd\n",
    "import numpy as np\n",
    "from sklearn.model_selection import KFold, cross_val_score\n",
    "from sklearn.metrics import mean_squared_error\n"
   ]
  },
  {
   "cell_type": "markdown",
   "metadata": {},
   "source": [
    "## Converting json file into pandas dataframe"
   ]
  },
  {
   "cell_type": "code",
   "execution_count": 3,
   "metadata": {},
   "outputs": [
    {
     "data": {
      "text/html": [
       "<div>\n",
       "<style scoped>\n",
       "    .dataframe tbody tr th:only-of-type {\n",
       "        vertical-align: middle;\n",
       "    }\n",
       "\n",
       "    .dataframe tbody tr th {\n",
       "        vertical-align: top;\n",
       "    }\n",
       "\n",
       "    .dataframe thead th {\n",
       "        text-align: right;\n",
       "    }\n",
       "</style>\n",
       "<table border=\"1\" class=\"dataframe\">\n",
       "  <thead>\n",
       "    <tr style=\"text-align: right;\">\n",
       "      <th></th>\n",
       "      <th>A</th>\n",
       "      <th>A_HOMO</th>\n",
       "      <th>A_IE</th>\n",
       "      <th>A_IR</th>\n",
       "      <th>A_LUMO</th>\n",
       "      <th>A_OS</th>\n",
       "      <th>A_X</th>\n",
       "      <th>A_Z_radii</th>\n",
       "      <th>A_e_affin</th>\n",
       "      <th>B</th>\n",
       "      <th>...</th>\n",
       "      <th>efermi</th>\n",
       "      <th>density</th>\n",
       "      <th>volume</th>\n",
       "      <th>training_type</th>\n",
       "      <th>HSE_band_gap</th>\n",
       "      <th>PBE_insulator</th>\n",
       "      <th>HSE_insulator</th>\n",
       "      <th>a</th>\n",
       "      <th>b</th>\n",
       "      <th>c</th>\n",
       "    </tr>\n",
       "  </thead>\n",
       "  <tbody>\n",
       "    <tr>\n",
       "      <th>0</th>\n",
       "      <td>Te</td>\n",
       "      <td>-5.952</td>\n",
       "      <td>869.2</td>\n",
       "      <td>1.87</td>\n",
       "      <td>-0.56</td>\n",
       "      <td>4</td>\n",
       "      <td>2.1</td>\n",
       "      <td>1.67</td>\n",
       "      <td>190.2</td>\n",
       "      <td>Be</td>\n",
       "      <td>...</td>\n",
       "      <td>2.108769</td>\n",
       "      <td>4.368437</td>\n",
       "      <td>567.890393</td>\n",
       "      <td>set_6</td>\n",
       "      <td>0.0097</td>\n",
       "      <td>0</td>\n",
       "      <td>0</td>\n",
       "      <td>4.075319</td>\n",
       "      <td>9.180483</td>\n",
       "      <td>15.178798</td>\n",
       "    </tr>\n",
       "    <tr>\n",
       "      <th>1</th>\n",
       "      <td>Te</td>\n",
       "      <td>-5.952</td>\n",
       "      <td>869.2</td>\n",
       "      <td>1.87</td>\n",
       "      <td>-0.56</td>\n",
       "      <td>4</td>\n",
       "      <td>2.1</td>\n",
       "      <td>1.67</td>\n",
       "      <td>190.2</td>\n",
       "      <td>Zn</td>\n",
       "      <td>...</td>\n",
       "      <td>2.301251</td>\n",
       "      <td>5.028065</td>\n",
       "      <td>567.890393</td>\n",
       "      <td>set_6</td>\n",
       "      <td>0.0602</td>\n",
       "      <td>0</td>\n",
       "      <td>0</td>\n",
       "      <td>4.075319</td>\n",
       "      <td>9.180483</td>\n",
       "      <td>15.178798</td>\n",
       "    </tr>\n",
       "    <tr>\n",
       "      <th>2</th>\n",
       "      <td>Te</td>\n",
       "      <td>-5.952</td>\n",
       "      <td>869.2</td>\n",
       "      <td>1.87</td>\n",
       "      <td>-0.56</td>\n",
       "      <td>4</td>\n",
       "      <td>2.1</td>\n",
       "      <td>1.67</td>\n",
       "      <td>190.2</td>\n",
       "      <td>Hg</td>\n",
       "      <td>...</td>\n",
       "      <td>2.938953</td>\n",
       "      <td>6.609168</td>\n",
       "      <td>567.890393</td>\n",
       "      <td>set_6</td>\n",
       "      <td>0.0175</td>\n",
       "      <td>0</td>\n",
       "      <td>0</td>\n",
       "      <td>4.075319</td>\n",
       "      <td>9.180483</td>\n",
       "      <td>15.178798</td>\n",
       "    </tr>\n",
       "    <tr>\n",
       "      <th>3</th>\n",
       "      <td>Te</td>\n",
       "      <td>-5.952</td>\n",
       "      <td>869.2</td>\n",
       "      <td>1.87</td>\n",
       "      <td>-0.56</td>\n",
       "      <td>4</td>\n",
       "      <td>2.1</td>\n",
       "      <td>1.67</td>\n",
       "      <td>190.2</td>\n",
       "      <td>Cu</td>\n",
       "      <td>...</td>\n",
       "      <td>2.595679</td>\n",
       "      <td>5.006275</td>\n",
       "      <td>567.890393</td>\n",
       "      <td>set_6</td>\n",
       "      <td>0.0114</td>\n",
       "      <td>0</td>\n",
       "      <td>0</td>\n",
       "      <td>4.075319</td>\n",
       "      <td>9.180483</td>\n",
       "      <td>15.178798</td>\n",
       "    </tr>\n",
       "    <tr>\n",
       "      <th>4</th>\n",
       "      <td>Te</td>\n",
       "      <td>-5.952</td>\n",
       "      <td>869.2</td>\n",
       "      <td>1.87</td>\n",
       "      <td>-0.56</td>\n",
       "      <td>4</td>\n",
       "      <td>2.1</td>\n",
       "      <td>1.67</td>\n",
       "      <td>190.2</td>\n",
       "      <td>Ni</td>\n",
       "      <td>...</td>\n",
       "      <td>2.617512</td>\n",
       "      <td>4.949518</td>\n",
       "      <td>567.890393</td>\n",
       "      <td>set_6</td>\n",
       "      <td>0.0040</td>\n",
       "      <td>0</td>\n",
       "      <td>0</td>\n",
       "      <td>4.075319</td>\n",
       "      <td>9.180483</td>\n",
       "      <td>15.178798</td>\n",
       "    </tr>\n",
       "  </tbody>\n",
       "</table>\n",
       "<p>5 rows × 41 columns</p>\n",
       "</div>"
      ],
      "text/plain": [
       "    A  A_HOMO   A_IE  A_IR  A_LUMO  A_OS  A_X  A_Z_radii  A_e_affin   B  ...  \\\n",
       "0  Te  -5.952  869.2  1.87   -0.56     4  2.1       1.67      190.2  Be  ...   \n",
       "1  Te  -5.952  869.2  1.87   -0.56     4  2.1       1.67      190.2  Zn  ...   \n",
       "2  Te  -5.952  869.2  1.87   -0.56     4  2.1       1.67      190.2  Hg  ...   \n",
       "3  Te  -5.952  869.2  1.87   -0.56     4  2.1       1.67      190.2  Cu  ...   \n",
       "4  Te  -5.952  869.2  1.87   -0.56     4  2.1       1.67      190.2  Ni  ...   \n",
       "\n",
       "     efermi   density      volume  training_type  HSE_band_gap  PBE_insulator  \\\n",
       "0  2.108769  4.368437  567.890393          set_6        0.0097              0   \n",
       "1  2.301251  5.028065  567.890393          set_6        0.0602              0   \n",
       "2  2.938953  6.609168  567.890393          set_6        0.0175              0   \n",
       "3  2.595679  5.006275  567.890393          set_6        0.0114              0   \n",
       "4  2.617512  4.949518  567.890393          set_6        0.0040              0   \n",
       "\n",
       "   HSE_insulator         a         b          c  \n",
       "0              0  4.075319  9.180483  15.178798  \n",
       "1              0  4.075319  9.180483  15.178798  \n",
       "2              0  4.075319  9.180483  15.178798  \n",
       "3              0  4.075319  9.180483  15.178798  \n",
       "4              0  4.075319  9.180483  15.178798  \n",
       "\n",
       "[5 rows x 41 columns]"
      ]
     },
     "execution_count": 3,
     "metadata": {},
     "output_type": "execute_result"
    }
   ],
   "source": [
    "# Replace 'your_file.json' with the path to your JSON file\n",
    "df = pd.read_json('/Users/suneet/projects/PBE-HSE-prediction/all_ABSe3_calculated_data_2.json')\n",
    "df.head()"
   ]
  },
  {
   "cell_type": "markdown",
   "metadata": {},
   "source": [
    "## Analysing dataset"
   ]
  },
  {
   "cell_type": "code",
   "execution_count": 6,
   "metadata": {},
   "outputs": [
    {
     "data": {
      "text/html": [
       "<div>\n",
       "<style scoped>\n",
       "    .dataframe tbody tr th:only-of-type {\n",
       "        vertical-align: middle;\n",
       "    }\n",
       "\n",
       "    .dataframe tbody tr th {\n",
       "        vertical-align: top;\n",
       "    }\n",
       "\n",
       "    .dataframe thead th {\n",
       "        text-align: right;\n",
       "    }\n",
       "</style>\n",
       "<table border=\"1\" class=\"dataframe\">\n",
       "  <thead>\n",
       "    <tr style=\"text-align: right;\">\n",
       "      <th></th>\n",
       "      <th>A_HOMO</th>\n",
       "      <th>A_IE</th>\n",
       "      <th>A_IR</th>\n",
       "      <th>A_LUMO</th>\n",
       "      <th>A_OS</th>\n",
       "      <th>A_X</th>\n",
       "      <th>A_Z_radii</th>\n",
       "      <th>A_e_affin</th>\n",
       "      <th>B_HOMO</th>\n",
       "      <th>B_IE</th>\n",
       "      <th>...</th>\n",
       "      <th>e_above_hull</th>\n",
       "      <th>efermi</th>\n",
       "      <th>density</th>\n",
       "      <th>volume</th>\n",
       "      <th>HSE_band_gap</th>\n",
       "      <th>PBE_insulator</th>\n",
       "      <th>HSE_insulator</th>\n",
       "      <th>a</th>\n",
       "      <th>b</th>\n",
       "      <th>c</th>\n",
       "    </tr>\n",
       "  </thead>\n",
       "  <tbody>\n",
       "    <tr>\n",
       "      <th>count</th>\n",
       "      <td>957.000000</td>\n",
       "      <td>957.000000</td>\n",
       "      <td>957.000000</td>\n",
       "      <td>957.000000</td>\n",
       "      <td>957.000000</td>\n",
       "      <td>957.000000</td>\n",
       "      <td>957.000000</td>\n",
       "      <td>957.000000</td>\n",
       "      <td>957.000000</td>\n",
       "      <td>957.000000</td>\n",
       "      <td>...</td>\n",
       "      <td>957.000000</td>\n",
       "      <td>957.000000</td>\n",
       "      <td>957.000000</td>\n",
       "      <td>957.000000</td>\n",
       "      <td>957.000000</td>\n",
       "      <td>957.000000</td>\n",
       "      <td>957.000000</td>\n",
       "      <td>957.000000</td>\n",
       "      <td>957.000000</td>\n",
       "      <td>957.000000</td>\n",
       "    </tr>\n",
       "    <tr>\n",
       "      <th>mean</th>\n",
       "      <td>-4.235488</td>\n",
       "      <td>732.696552</td>\n",
       "      <td>1.242293</td>\n",
       "      <td>-1.572004</td>\n",
       "      <td>2.991641</td>\n",
       "      <td>1.783678</td>\n",
       "      <td>2.304447</td>\n",
       "      <td>57.208963</td>\n",
       "      <td>-4.259792</td>\n",
       "      <td>736.419958</td>\n",
       "      <td>...</td>\n",
       "      <td>0.733983</td>\n",
       "      <td>3.440496</td>\n",
       "      <td>5.884782</td>\n",
       "      <td>512.814547</td>\n",
       "      <td>0.293561</td>\n",
       "      <td>0.228840</td>\n",
       "      <td>0.370951</td>\n",
       "      <td>3.890364</td>\n",
       "      <td>9.313622</td>\n",
       "      <td>14.318710</td>\n",
       "    </tr>\n",
       "    <tr>\n",
       "      <th>std</th>\n",
       "      <td>1.119252</td>\n",
       "      <td>135.869730</td>\n",
       "      <td>0.212076</td>\n",
       "      <td>1.334446</td>\n",
       "      <td>0.961570</td>\n",
       "      <td>0.432583</td>\n",
       "      <td>0.618047</td>\n",
       "      <td>64.332324</td>\n",
       "      <td>1.101291</td>\n",
       "      <td>131.515365</td>\n",
       "      <td>...</td>\n",
       "      <td>9.971522</td>\n",
       "      <td>4.659803</td>\n",
       "      <td>1.356302</td>\n",
       "      <td>75.065316</td>\n",
       "      <td>0.470728</td>\n",
       "      <td>0.420306</td>\n",
       "      <td>0.483312</td>\n",
       "      <td>0.282350</td>\n",
       "      <td>1.088588</td>\n",
       "      <td>1.914430</td>\n",
       "    </tr>\n",
       "    <tr>\n",
       "      <th>min</th>\n",
       "      <td>-6.815000</td>\n",
       "      <td>375.700000</td>\n",
       "      <td>0.810000</td>\n",
       "      <td>-5.355000</td>\n",
       "      <td>1.000000</td>\n",
       "      <td>0.790000</td>\n",
       "      <td>0.795000</td>\n",
       "      <td>-68.000000</td>\n",
       "      <td>-6.815000</td>\n",
       "      <td>375.700000</td>\n",
       "      <td>...</td>\n",
       "      <td>0.000000</td>\n",
       "      <td>0.385257</td>\n",
       "      <td>2.929034</td>\n",
       "      <td>326.254744</td>\n",
       "      <td>0.000000</td>\n",
       "      <td>0.000000</td>\n",
       "      <td>0.000000</td>\n",
       "      <td>3.021577</td>\n",
       "      <td>5.410410</td>\n",
       "      <td>9.238741</td>\n",
       "    </tr>\n",
       "    <tr>\n",
       "      <th>25%</th>\n",
       "      <td>-5.194000</td>\n",
       "      <td>650.300000</td>\n",
       "      <td>1.096000</td>\n",
       "      <td>-2.432000</td>\n",
       "      <td>2.000000</td>\n",
       "      <td>1.550000</td>\n",
       "      <td>1.997000</td>\n",
       "      <td>17.000000</td>\n",
       "      <td>-5.194000</td>\n",
       "      <td>652.800000</td>\n",
       "      <td>...</td>\n",
       "      <td>0.136197</td>\n",
       "      <td>2.174115</td>\n",
       "      <td>4.887292</td>\n",
       "      <td>451.634304</td>\n",
       "      <td>0.015200</td>\n",
       "      <td>0.000000</td>\n",
       "      <td>0.000000</td>\n",
       "      <td>3.720540</td>\n",
       "      <td>8.733970</td>\n",
       "      <td>13.448358</td>\n",
       "    </tr>\n",
       "    <tr>\n",
       "      <th>50%</th>\n",
       "      <td>-4.368000</td>\n",
       "      <td>736.700000</td>\n",
       "      <td>1.230000</td>\n",
       "      <td>-0.943000</td>\n",
       "      <td>3.000000</td>\n",
       "      <td>1.900000</td>\n",
       "      <td>2.410000</td>\n",
       "      <td>50.000000</td>\n",
       "      <td>-4.417000</td>\n",
       "      <td>736.700000</td>\n",
       "      <td>...</td>\n",
       "      <td>0.251193</td>\n",
       "      <td>3.260095</td>\n",
       "      <td>5.759300</td>\n",
       "      <td>537.933861</td>\n",
       "      <td>0.042900</td>\n",
       "      <td>0.000000</td>\n",
       "      <td>0.000000</td>\n",
       "      <td>3.936074</td>\n",
       "      <td>9.180483</td>\n",
       "      <td>15.178798</td>\n",
       "    </tr>\n",
       "    <tr>\n",
       "      <th>75%</th>\n",
       "      <td>-3.528000</td>\n",
       "      <td>833.700000</td>\n",
       "      <td>1.360000</td>\n",
       "      <td>-0.596000</td>\n",
       "      <td>4.000000</td>\n",
       "      <td>2.180000</td>\n",
       "      <td>2.700000</td>\n",
       "      <td>101.000000</td>\n",
       "      <td>-3.584000</td>\n",
       "      <td>833.700000</td>\n",
       "      <td>...</td>\n",
       "      <td>0.520905</td>\n",
       "      <td>4.310645</td>\n",
       "      <td>6.714942</td>\n",
       "      <td>567.890393</td>\n",
       "      <td>0.411000</td>\n",
       "      <td>0.000000</td>\n",
       "      <td>1.000000</td>\n",
       "      <td>4.075319</td>\n",
       "      <td>9.338559</td>\n",
       "      <td>15.178798</td>\n",
       "    </tr>\n",
       "    <tr>\n",
       "      <th>max</th>\n",
       "      <td>-2.109000</td>\n",
       "      <td>1011.700000</td>\n",
       "      <td>1.880000</td>\n",
       "      <td>-0.298000</td>\n",
       "      <td>5.000000</td>\n",
       "      <td>2.540000</td>\n",
       "      <td>4.310000</td>\n",
       "      <td>222.800000</td>\n",
       "      <td>-2.109000</td>\n",
       "      <td>1011.700000</td>\n",
       "      <td>...</td>\n",
       "      <td>308.618865</td>\n",
       "      <td>140.937936</td>\n",
       "      <td>10.601874</td>\n",
       "      <td>810.982049</td>\n",
       "      <td>2.863100</td>\n",
       "      <td>1.000000</td>\n",
       "      <td>1.000000</td>\n",
       "      <td>5.534548</td>\n",
       "      <td>13.717645</td>\n",
       "      <td>22.324960</td>\n",
       "    </tr>\n",
       "  </tbody>\n",
       "</table>\n",
       "<p>8 rows × 36 columns</p>\n",
       "</div>"
      ],
      "text/plain": [
       "           A_HOMO         A_IE        A_IR      A_LUMO        A_OS  \\\n",
       "count  957.000000   957.000000  957.000000  957.000000  957.000000   \n",
       "mean    -4.235488   732.696552    1.242293   -1.572004    2.991641   \n",
       "std      1.119252   135.869730    0.212076    1.334446    0.961570   \n",
       "min     -6.815000   375.700000    0.810000   -5.355000    1.000000   \n",
       "25%     -5.194000   650.300000    1.096000   -2.432000    2.000000   \n",
       "50%     -4.368000   736.700000    1.230000   -0.943000    3.000000   \n",
       "75%     -3.528000   833.700000    1.360000   -0.596000    4.000000   \n",
       "max     -2.109000  1011.700000    1.880000   -0.298000    5.000000   \n",
       "\n",
       "              A_X   A_Z_radii   A_e_affin      B_HOMO         B_IE  ...  \\\n",
       "count  957.000000  957.000000  957.000000  957.000000   957.000000  ...   \n",
       "mean     1.783678    2.304447   57.208963   -4.259792   736.419958  ...   \n",
       "std      0.432583    0.618047   64.332324    1.101291   131.515365  ...   \n",
       "min      0.790000    0.795000  -68.000000   -6.815000   375.700000  ...   \n",
       "25%      1.550000    1.997000   17.000000   -5.194000   652.800000  ...   \n",
       "50%      1.900000    2.410000   50.000000   -4.417000   736.700000  ...   \n",
       "75%      2.180000    2.700000  101.000000   -3.584000   833.700000  ...   \n",
       "max      2.540000    4.310000  222.800000   -2.109000  1011.700000  ...   \n",
       "\n",
       "       e_above_hull      efermi     density      volume  HSE_band_gap  \\\n",
       "count    957.000000  957.000000  957.000000  957.000000    957.000000   \n",
       "mean       0.733983    3.440496    5.884782  512.814547      0.293561   \n",
       "std        9.971522    4.659803    1.356302   75.065316      0.470728   \n",
       "min        0.000000    0.385257    2.929034  326.254744      0.000000   \n",
       "25%        0.136197    2.174115    4.887292  451.634304      0.015200   \n",
       "50%        0.251193    3.260095    5.759300  537.933861      0.042900   \n",
       "75%        0.520905    4.310645    6.714942  567.890393      0.411000   \n",
       "max      308.618865  140.937936   10.601874  810.982049      2.863100   \n",
       "\n",
       "       PBE_insulator  HSE_insulator           a           b           c  \n",
       "count     957.000000     957.000000  957.000000  957.000000  957.000000  \n",
       "mean        0.228840       0.370951    3.890364    9.313622   14.318710  \n",
       "std         0.420306       0.483312    0.282350    1.088588    1.914430  \n",
       "min         0.000000       0.000000    3.021577    5.410410    9.238741  \n",
       "25%         0.000000       0.000000    3.720540    8.733970   13.448358  \n",
       "50%         0.000000       0.000000    3.936074    9.180483   15.178798  \n",
       "75%         0.000000       1.000000    4.075319    9.338559   15.178798  \n",
       "max         1.000000       1.000000    5.534548   13.717645   22.324960  \n",
       "\n",
       "[8 rows x 36 columns]"
      ]
     },
     "execution_count": 6,
     "metadata": {},
     "output_type": "execute_result"
    }
   ],
   "source": [
    "df.describe()"
   ]
  },
  {
   "cell_type": "code",
   "execution_count": 7,
   "metadata": {},
   "outputs": [
    {
     "data": {
      "text/plain": [
       "count    957.000000\n",
       "mean       0.120515\n",
       "std        0.251546\n",
       "min        0.000000\n",
       "25%        0.006700\n",
       "50%        0.022600\n",
       "75%        0.081000\n",
       "max        1.993400\n",
       "Name: PBE_band_gap, dtype: float64"
      ]
     },
     "execution_count": 7,
     "metadata": {},
     "output_type": "execute_result"
    }
   ],
   "source": [
    "df['PBE_band_gap'].describe()"
   ]
  },
  {
   "cell_type": "markdown",
   "metadata": {},
   "source": [
    "### Number of unique datatypes"
   ]
  },
  {
   "cell_type": "code",
   "execution_count": 8,
   "metadata": {},
   "outputs": [
    {
     "name": "stdout",
     "output_type": "stream",
     "text": [
      "Unique Data Types in the DataFrame:\n",
      "[dtype('O'), dtype('float64'), dtype('int64')]\n"
     ]
    }
   ],
   "source": [
    "unique_data_types = df.dtypes.unique().tolist()\n",
    "\n",
    "print(\"Unique Data Types in the DataFrame:\")\n",
    "print(unique_data_types)"
   ]
  },
  {
   "cell_type": "markdown",
   "metadata": {},
   "source": [
    "## Data cleaning"
   ]
  },
  {
   "cell_type": "markdown",
   "metadata": {},
   "source": [
    "### Converting DF with stable, PBE_direct, HSE_direct as number values"
   ]
  },
  {
   "cell_type": "code",
   "execution_count": 9,
   "metadata": {},
   "outputs": [
    {
     "name": "stdout",
     "output_type": "stream",
     "text": [
      "0      0\n",
      "1      0\n",
      "2      0\n",
      "3      0\n",
      "4      0\n",
      "      ..\n",
      "952    1\n",
      "953    0\n",
      "954    0\n",
      "955    0\n",
      "956    0\n",
      "Name: stable, Length: 957, dtype: int64\n"
     ]
    }
   ],
   "source": [
    "df['stable'] = df['stable'].replace({'True': 1, 'False': 0})\n",
    "print(df['stable'])\n"
   ]
  },
  {
   "cell_type": "code",
   "execution_count": 10,
   "metadata": {},
   "outputs": [
    {
     "name": "stdout",
     "output_type": "stream",
     "text": [
      "0      0.0\n",
      "1      0.0\n",
      "2      0.0\n",
      "3      0.0\n",
      "4      0.0\n",
      "      ... \n",
      "952    NaN\n",
      "953    NaN\n",
      "954    NaN\n",
      "955    NaN\n",
      "956    NaN\n",
      "Name: HSE_direct, Length: 957, dtype: float64\n"
     ]
    }
   ],
   "source": [
    "df['HSE_direct'] = df['HSE_direct'].replace({'True': 1, 'False': 0})\n",
    "print(df['HSE_direct'])"
   ]
  },
  {
   "cell_type": "code",
   "execution_count": 11,
   "metadata": {},
   "outputs": [
    {
     "name": "stdout",
     "output_type": "stream",
     "text": [
      "0      0.0\n",
      "1      0.0\n",
      "2      0.0\n",
      "3      0.0\n",
      "4      0.0\n",
      "      ... \n",
      "952    NaN\n",
      "953    NaN\n",
      "954    NaN\n",
      "955    NaN\n",
      "956    NaN\n",
      "Name: PBE_direct, Length: 957, dtype: float64\n"
     ]
    }
   ],
   "source": [
    "df['PBE_direct'] = df['PBE_direct'].replace({'True': 1, 'False': 0})\n",
    "print(df['PBE_direct'])"
   ]
  },
  {
   "cell_type": "markdown",
   "metadata": {},
   "source": [
    "### Looking at the unique values in a column"
   ]
  },
  {
   "cell_type": "code",
   "execution_count": 12,
   "metadata": {},
   "outputs": [
    {
     "name": "stdout",
     "output_type": "stream",
     "text": [
      "Unique values in the 'PBE_direct' column: [ 0.  1. nan]\n"
     ]
    }
   ],
   "source": [
    "unique_values_stable = df['PBE_direct'].unique()\n",
    "print(\"Unique values in the 'PBE_direct' column:\", unique_values_stable)\n"
   ]
  },
  {
   "cell_type": "markdown",
   "metadata": {},
   "source": [
    "### Looking at all the parameters for a single compound we have info about"
   ]
  },
  {
   "cell_type": "code",
   "execution_count": 13,
   "metadata": {},
   "outputs": [
    {
     "name": "stdout",
     "output_type": "stream",
     "text": [
      "A                           Te\n",
      "A_HOMO                  -5.952\n",
      "A_IE                     869.2\n",
      "A_IR                      1.87\n",
      "A_LUMO                   -0.56\n",
      "A_OS                         4\n",
      "A_X                        2.1\n",
      "A_Z_radii                 1.67\n",
      "A_e_affin                190.2\n",
      "B                           Be\n",
      "B_HOMO                   -5.61\n",
      "B_IE                     899.4\n",
      "B_IR                      0.45\n",
      "B_LUMO                  -2.017\n",
      "B_OS                         2\n",
      "B_X                       1.57\n",
      "B_Z_radii                 1.08\n",
      "B_e_affin                -48.0\n",
      "functional_group       TeBeSe3\n",
      "mu                     0.22727\n",
      "tau                    1.12031\n",
      "PBE_vbm                 2.3778\n",
      "PBE_cbm                 2.3959\n",
      "PBE_direct                 0.0\n",
      "HSE_vbm                 2.2194\n",
      "HSE_cbm                 2.2291\n",
      "HSE_direct                 0.0\n",
      "PBE_band_gap            0.0181\n",
      "total_energy        -60.424158\n",
      "e_above_hull          0.773124\n",
      "stable                       0\n",
      "efermi                2.108769\n",
      "density               4.368437\n",
      "volume              567.890393\n",
      "training_type            set_6\n",
      "HSE_band_gap            0.0097\n",
      "PBE_insulator                0\n",
      "HSE_insulator                0\n",
      "a                     4.075319\n",
      "b                     9.180483\n",
      "c                    15.178798\n",
      "Name: 0, dtype: object\n"
     ]
    }
   ],
   "source": [
    "first_row = df.iloc[0]\n",
    "print(first_row)"
   ]
  },
  {
   "cell_type": "markdown",
   "metadata": {},
   "source": [
    "### Function to quick search anything"
   ]
  },
  {
   "cell_type": "code",
   "execution_count": 14,
   "metadata": {},
   "outputs": [
    {
     "name": "stdout",
     "output_type": "stream",
     "text": [
      "The value of column 'C' where 'B' is 'SbRhSe3' is: 0.0\n"
     ]
    }
   ],
   "source": [
    "# Specify the element to search for\n",
    "element_to_search = 'SbRhSe3'\n",
    "\n",
    "# Filter the DataFrame to get the rows where 'X' is present in column 'B'\n",
    "result = df[df['functional_group'] == element_to_search]\n",
    "\n",
    "# Print the value of column 'C' from the result\n",
    "if not result.empty:\n",
    "    value_of_column_c = result['HSE_direct'].values[0]\n",
    "    print(f\"The value of column 'C' where 'B' is '{element_to_search}' is: {value_of_column_c}\")\n",
    "else:\n",
    "    print(\"no rows were {element_to_search} is present\")    "
   ]
  },
  {
   "cell_type": "markdown",
   "metadata": {},
   "source": [
    "### Extracting composition using matminer"
   ]
  },
  {
   "cell_type": "code",
   "execution_count": 37,
   "metadata": {},
   "outputs": [
    {
     "name": "stderr",
     "output_type": "stream",
     "text": [
      "/Users/suneet/Library/Python/3.11/lib/python/site-packages/tqdm/auto.py:21: TqdmWarning: IProgress not found. Please update jupyter and ipywidgets. See https://ipywidgets.readthedocs.io/en/stable/user_install.html\n",
      "  from .autonotebook import tqdm as notebook_tqdm\n",
      "StrToComposition: 100%|██████████| 957/957 [00:00<00:00, 9548.06it/s]\n"
     ]
    },
    {
     "data": {
      "text/html": [
       "<div>\n",
       "<style scoped>\n",
       "    .dataframe tbody tr th:only-of-type {\n",
       "        vertical-align: middle;\n",
       "    }\n",
       "\n",
       "    .dataframe tbody tr th {\n",
       "        vertical-align: top;\n",
       "    }\n",
       "\n",
       "    .dataframe thead th {\n",
       "        text-align: right;\n",
       "    }\n",
       "</style>\n",
       "<table border=\"1\" class=\"dataframe\">\n",
       "  <thead>\n",
       "    <tr style=\"text-align: right;\">\n",
       "      <th></th>\n",
       "      <th>A</th>\n",
       "      <th>A_HOMO</th>\n",
       "      <th>A_IE</th>\n",
       "      <th>A_IR</th>\n",
       "      <th>A_LUMO</th>\n",
       "      <th>A_OS</th>\n",
       "      <th>A_X</th>\n",
       "      <th>A_Z_radii</th>\n",
       "      <th>A_e_affin</th>\n",
       "      <th>B</th>\n",
       "      <th>...</th>\n",
       "      <th>density</th>\n",
       "      <th>volume</th>\n",
       "      <th>training_type</th>\n",
       "      <th>HSE_band_gap</th>\n",
       "      <th>PBE_insulator</th>\n",
       "      <th>HSE_insulator</th>\n",
       "      <th>a</th>\n",
       "      <th>b</th>\n",
       "      <th>c</th>\n",
       "      <th>composition</th>\n",
       "    </tr>\n",
       "  </thead>\n",
       "  <tbody>\n",
       "    <tr>\n",
       "      <th>0</th>\n",
       "      <td>Te</td>\n",
       "      <td>-5.952</td>\n",
       "      <td>869.2</td>\n",
       "      <td>1.87</td>\n",
       "      <td>-0.56</td>\n",
       "      <td>4</td>\n",
       "      <td>2.1</td>\n",
       "      <td>1.67</td>\n",
       "      <td>190.2</td>\n",
       "      <td>Be</td>\n",
       "      <td>...</td>\n",
       "      <td>4.368437</td>\n",
       "      <td>567.890393</td>\n",
       "      <td>set_6</td>\n",
       "      <td>0.0097</td>\n",
       "      <td>0</td>\n",
       "      <td>0</td>\n",
       "      <td>4.075319</td>\n",
       "      <td>9.180483</td>\n",
       "      <td>15.178798</td>\n",
       "      <td>(Te, Be, Se)</td>\n",
       "    </tr>\n",
       "    <tr>\n",
       "      <th>1</th>\n",
       "      <td>Te</td>\n",
       "      <td>-5.952</td>\n",
       "      <td>869.2</td>\n",
       "      <td>1.87</td>\n",
       "      <td>-0.56</td>\n",
       "      <td>4</td>\n",
       "      <td>2.1</td>\n",
       "      <td>1.67</td>\n",
       "      <td>190.2</td>\n",
       "      <td>Zn</td>\n",
       "      <td>...</td>\n",
       "      <td>5.028065</td>\n",
       "      <td>567.890393</td>\n",
       "      <td>set_6</td>\n",
       "      <td>0.0602</td>\n",
       "      <td>0</td>\n",
       "      <td>0</td>\n",
       "      <td>4.075319</td>\n",
       "      <td>9.180483</td>\n",
       "      <td>15.178798</td>\n",
       "      <td>(Te, Zn, Se)</td>\n",
       "    </tr>\n",
       "    <tr>\n",
       "      <th>2</th>\n",
       "      <td>Te</td>\n",
       "      <td>-5.952</td>\n",
       "      <td>869.2</td>\n",
       "      <td>1.87</td>\n",
       "      <td>-0.56</td>\n",
       "      <td>4</td>\n",
       "      <td>2.1</td>\n",
       "      <td>1.67</td>\n",
       "      <td>190.2</td>\n",
       "      <td>Hg</td>\n",
       "      <td>...</td>\n",
       "      <td>6.609168</td>\n",
       "      <td>567.890393</td>\n",
       "      <td>set_6</td>\n",
       "      <td>0.0175</td>\n",
       "      <td>0</td>\n",
       "      <td>0</td>\n",
       "      <td>4.075319</td>\n",
       "      <td>9.180483</td>\n",
       "      <td>15.178798</td>\n",
       "      <td>(Te, Hg, Se)</td>\n",
       "    </tr>\n",
       "    <tr>\n",
       "      <th>3</th>\n",
       "      <td>Te</td>\n",
       "      <td>-5.952</td>\n",
       "      <td>869.2</td>\n",
       "      <td>1.87</td>\n",
       "      <td>-0.56</td>\n",
       "      <td>4</td>\n",
       "      <td>2.1</td>\n",
       "      <td>1.67</td>\n",
       "      <td>190.2</td>\n",
       "      <td>Cu</td>\n",
       "      <td>...</td>\n",
       "      <td>5.006275</td>\n",
       "      <td>567.890393</td>\n",
       "      <td>set_6</td>\n",
       "      <td>0.0114</td>\n",
       "      <td>0</td>\n",
       "      <td>0</td>\n",
       "      <td>4.075319</td>\n",
       "      <td>9.180483</td>\n",
       "      <td>15.178798</td>\n",
       "      <td>(Te, Cu, Se)</td>\n",
       "    </tr>\n",
       "    <tr>\n",
       "      <th>4</th>\n",
       "      <td>Te</td>\n",
       "      <td>-5.952</td>\n",
       "      <td>869.2</td>\n",
       "      <td>1.87</td>\n",
       "      <td>-0.56</td>\n",
       "      <td>4</td>\n",
       "      <td>2.1</td>\n",
       "      <td>1.67</td>\n",
       "      <td>190.2</td>\n",
       "      <td>Ni</td>\n",
       "      <td>...</td>\n",
       "      <td>4.949518</td>\n",
       "      <td>567.890393</td>\n",
       "      <td>set_6</td>\n",
       "      <td>0.0040</td>\n",
       "      <td>0</td>\n",
       "      <td>0</td>\n",
       "      <td>4.075319</td>\n",
       "      <td>9.180483</td>\n",
       "      <td>15.178798</td>\n",
       "      <td>(Te, Ni, Se)</td>\n",
       "    </tr>\n",
       "  </tbody>\n",
       "</table>\n",
       "<p>5 rows × 42 columns</p>\n",
       "</div>"
      ],
      "text/plain": [
       "    A  A_HOMO   A_IE  A_IR  A_LUMO  A_OS  A_X  A_Z_radii  A_e_affin   B  ...  \\\n",
       "0  Te  -5.952  869.2  1.87   -0.56     4  2.1       1.67      190.2  Be  ...   \n",
       "1  Te  -5.952  869.2  1.87   -0.56     4  2.1       1.67      190.2  Zn  ...   \n",
       "2  Te  -5.952  869.2  1.87   -0.56     4  2.1       1.67      190.2  Hg  ...   \n",
       "3  Te  -5.952  869.2  1.87   -0.56     4  2.1       1.67      190.2  Cu  ...   \n",
       "4  Te  -5.952  869.2  1.87   -0.56     4  2.1       1.67      190.2  Ni  ...   \n",
       "\n",
       "    density      volume  training_type  HSE_band_gap  PBE_insulator  \\\n",
       "0  4.368437  567.890393          set_6        0.0097              0   \n",
       "1  5.028065  567.890393          set_6        0.0602              0   \n",
       "2  6.609168  567.890393          set_6        0.0175              0   \n",
       "3  5.006275  567.890393          set_6        0.0114              0   \n",
       "4  4.949518  567.890393          set_6        0.0040              0   \n",
       "\n",
       "   HSE_insulator         a         b          c   composition  \n",
       "0              0  4.075319  9.180483  15.178798  (Te, Be, Se)  \n",
       "1              0  4.075319  9.180483  15.178798  (Te, Zn, Se)  \n",
       "2              0  4.075319  9.180483  15.178798  (Te, Hg, Se)  \n",
       "3              0  4.075319  9.180483  15.178798  (Te, Cu, Se)  \n",
       "4              0  4.075319  9.180483  15.178798  (Te, Ni, Se)  \n",
       "\n",
       "[5 rows x 42 columns]"
      ]
     },
     "execution_count": 37,
     "metadata": {},
     "output_type": "execute_result"
    }
   ],
   "source": [
    "from matminer.featurizers.conversions import StrToComposition\n",
    "df = StrToComposition().featurize_dataframe(df, \"functional_group\")\n",
    "df.head()"
   ]
  },
  {
   "cell_type": "markdown",
   "metadata": {},
   "source": [
    "### To check the percentage of nan values the columns have"
   ]
  },
  {
   "cell_type": "code",
   "execution_count": 38,
   "metadata": {},
   "outputs": [
    {
     "name": "stdout",
     "output_type": "stream",
     "text": [
      "Percentage of missing values in column 'A': 0.00%\n",
      "Percentage of missing values in column 'A_HOMO': 0.00%\n",
      "Percentage of missing values in column 'A_IE': 0.00%\n",
      "Percentage of missing values in column 'A_IR': 0.00%\n",
      "Percentage of missing values in column 'A_LUMO': 0.00%\n",
      "Percentage of missing values in column 'A_OS': 0.00%\n",
      "Percentage of missing values in column 'A_X': 0.00%\n",
      "Percentage of missing values in column 'A_Z_radii': 0.00%\n",
      "Percentage of missing values in column 'A_e_affin': 0.00%\n",
      "Percentage of missing values in column 'B': 0.00%\n",
      "Percentage of missing values in column 'B_HOMO': 0.00%\n",
      "Percentage of missing values in column 'B_IE': 0.00%\n",
      "Percentage of missing values in column 'B_IR': 0.00%\n",
      "Percentage of missing values in column 'B_LUMO': 0.00%\n",
      "Percentage of missing values in column 'B_OS': 0.00%\n",
      "Percentage of missing values in column 'B_X': 0.00%\n",
      "Percentage of missing values in column 'B_Z_radii': 0.00%\n",
      "Percentage of missing values in column 'B_e_affin': 0.00%\n",
      "Percentage of missing values in column 'functional_group': 0.00%\n",
      "Percentage of missing values in column 'mu': 0.00%\n",
      "Percentage of missing values in column 'tau': 0.00%\n",
      "Percentage of missing values in column 'PBE_vbm': 0.00%\n",
      "Percentage of missing values in column 'PBE_cbm': 0.00%\n",
      "Percentage of missing values in column 'PBE_direct': 3.87%\n",
      "Percentage of missing values in column 'HSE_vbm': 0.00%\n",
      "Percentage of missing values in column 'HSE_cbm': 0.00%\n",
      "Percentage of missing values in column 'HSE_direct': 3.87%\n",
      "Percentage of missing values in column 'PBE_band_gap': 0.00%\n",
      "Percentage of missing values in column 'total_energy': 0.00%\n",
      "Percentage of missing values in column 'e_above_hull': 0.00%\n",
      "Percentage of missing values in column 'stable': 0.00%\n",
      "Percentage of missing values in column 'efermi': 0.00%\n",
      "Percentage of missing values in column 'density': 0.00%\n",
      "Percentage of missing values in column 'volume': 0.00%\n",
      "Percentage of missing values in column 'training_type': 0.00%\n",
      "Percentage of missing values in column 'HSE_band_gap': 0.00%\n",
      "Percentage of missing values in column 'PBE_insulator': 0.00%\n",
      "Percentage of missing values in column 'HSE_insulator': 0.00%\n",
      "Percentage of missing values in column 'a': 0.00%\n",
      "Percentage of missing values in column 'b': 0.00%\n",
      "Percentage of missing values in column 'c': 0.00%\n",
      "Percentage of missing values in column 'composition': 0.00%\n"
     ]
    }
   ],
   "source": [
    "for column in df.columns:\n",
    "    missing_count = df[column].isnull().sum()\n",
    "\n",
    "    # Calculate the percentage of missing values\n",
    "    total_rows = len(df)\n",
    "    percentage_missing = (missing_count / total_rows) * 100\n",
    "    print(f\"Percentage of missing values in column '{column}': {percentage_missing:.2f}%\")\n"
   ]
  },
  {
   "cell_type": "markdown",
   "metadata": {},
   "source": [
    "### Remove duplicate entries"
   ]
  },
  {
   "cell_type": "code",
   "execution_count": 39,
   "metadata": {},
   "outputs": [
    {
     "name": "stdout",
     "output_type": "stream",
     "text": [
      "Duplicate elements:\n",
      "705     PTlSe3\n",
      "707    BiRhSe3\n",
      "708    BiRuSe3\n",
      "709    BiCrSe3\n",
      "710    GeIrSe3\n",
      "711    GaAuSe3\n",
      "712    GaCrSe3\n",
      "713    InIrSe3\n",
      "714    InCrSe3\n",
      "715    TlNbSe3\n",
      "716    LaBiSe3\n",
      "717    LaInSe3\n",
      "718    LaTlSe3\n",
      "719    LaAuSe3\n",
      "720    LaRuSe3\n",
      "721    LaFeSe3\n",
      "722    LaCrSe3\n",
      "723     LaYSe3\n",
      "724     YAuSe3\n",
      "725     YCrSe3\n",
      "726     YLaSe3\n",
      "727    CaPtSe3\n",
      "728    SrPbSe3\n",
      "729    SrPdSe3\n",
      "730    SrMnSe3\n",
      "731    SrReSe3\n",
      "732    BaSnSe3\n",
      "733    BaPbSe3\n",
      "734    BaIrSe3\n",
      "735    BaReSe3\n",
      "736    BaMoSe3\n",
      "737     LiVSe3\n",
      "942    HgReSe3\n",
      "953    BiAuSe3\n",
      "954    TlRhSe3\n",
      "955    CaPdSe3\n",
      "956     RbVSe3\n",
      "Name: functional_group, dtype: object\n",
      "(37,)\n"
     ]
    }
   ],
   "source": [
    "duplicate_values = df['functional_group'].duplicated()\n",
    "duplicated_elements = df['functional_group'][duplicate_values]\n",
    "\n",
    "print(\"Duplicate elements:\")\n",
    "print(duplicated_elements)\n",
    "print(duplicated_elements.shape)"
   ]
  },
  {
   "cell_type": "code",
   "execution_count": 40,
   "metadata": {},
   "outputs": [
    {
     "data": {
      "text/html": [
       "<div>\n",
       "<style scoped>\n",
       "    .dataframe tbody tr th:only-of-type {\n",
       "        vertical-align: middle;\n",
       "    }\n",
       "\n",
       "    .dataframe tbody tr th {\n",
       "        vertical-align: top;\n",
       "    }\n",
       "\n",
       "    .dataframe thead th {\n",
       "        text-align: right;\n",
       "    }\n",
       "</style>\n",
       "<table border=\"1\" class=\"dataframe\">\n",
       "  <thead>\n",
       "    <tr style=\"text-align: right;\">\n",
       "      <th></th>\n",
       "      <th>A</th>\n",
       "      <th>A_HOMO</th>\n",
       "      <th>A_IE</th>\n",
       "      <th>A_IR</th>\n",
       "      <th>A_LUMO</th>\n",
       "      <th>A_OS</th>\n",
       "      <th>A_X</th>\n",
       "      <th>A_Z_radii</th>\n",
       "      <th>A_e_affin</th>\n",
       "      <th>B</th>\n",
       "      <th>...</th>\n",
       "      <th>density</th>\n",
       "      <th>volume</th>\n",
       "      <th>training_type</th>\n",
       "      <th>HSE_band_gap</th>\n",
       "      <th>PBE_insulator</th>\n",
       "      <th>HSE_insulator</th>\n",
       "      <th>a</th>\n",
       "      <th>b</th>\n",
       "      <th>c</th>\n",
       "      <th>composition</th>\n",
       "    </tr>\n",
       "  </thead>\n",
       "  <tbody>\n",
       "    <tr>\n",
       "      <th>0</th>\n",
       "      <td>Te</td>\n",
       "      <td>-5.952</td>\n",
       "      <td>869.2</td>\n",
       "      <td>1.870</td>\n",
       "      <td>-0.560</td>\n",
       "      <td>4</td>\n",
       "      <td>2.10</td>\n",
       "      <td>1.670</td>\n",
       "      <td>190.20</td>\n",
       "      <td>Be</td>\n",
       "      <td>...</td>\n",
       "      <td>4.368437</td>\n",
       "      <td>567.890393</td>\n",
       "      <td>set_6</td>\n",
       "      <td>0.0097</td>\n",
       "      <td>0</td>\n",
       "      <td>0</td>\n",
       "      <td>4.075319</td>\n",
       "      <td>9.180483</td>\n",
       "      <td>15.178798</td>\n",
       "      <td>(Te, Be, Se)</td>\n",
       "    </tr>\n",
       "    <tr>\n",
       "      <th>1</th>\n",
       "      <td>Te</td>\n",
       "      <td>-5.952</td>\n",
       "      <td>869.2</td>\n",
       "      <td>1.870</td>\n",
       "      <td>-0.560</td>\n",
       "      <td>4</td>\n",
       "      <td>2.10</td>\n",
       "      <td>1.670</td>\n",
       "      <td>190.20</td>\n",
       "      <td>Zn</td>\n",
       "      <td>...</td>\n",
       "      <td>5.028065</td>\n",
       "      <td>567.890393</td>\n",
       "      <td>set_6</td>\n",
       "      <td>0.0602</td>\n",
       "      <td>0</td>\n",
       "      <td>0</td>\n",
       "      <td>4.075319</td>\n",
       "      <td>9.180483</td>\n",
       "      <td>15.178798</td>\n",
       "      <td>(Te, Zn, Se)</td>\n",
       "    </tr>\n",
       "    <tr>\n",
       "      <th>2</th>\n",
       "      <td>Te</td>\n",
       "      <td>-5.952</td>\n",
       "      <td>869.2</td>\n",
       "      <td>1.870</td>\n",
       "      <td>-0.560</td>\n",
       "      <td>4</td>\n",
       "      <td>2.10</td>\n",
       "      <td>1.670</td>\n",
       "      <td>190.20</td>\n",
       "      <td>Hg</td>\n",
       "      <td>...</td>\n",
       "      <td>6.609168</td>\n",
       "      <td>567.890393</td>\n",
       "      <td>set_6</td>\n",
       "      <td>0.0175</td>\n",
       "      <td>0</td>\n",
       "      <td>0</td>\n",
       "      <td>4.075319</td>\n",
       "      <td>9.180483</td>\n",
       "      <td>15.178798</td>\n",
       "      <td>(Te, Hg, Se)</td>\n",
       "    </tr>\n",
       "    <tr>\n",
       "      <th>3</th>\n",
       "      <td>Te</td>\n",
       "      <td>-5.952</td>\n",
       "      <td>869.2</td>\n",
       "      <td>1.870</td>\n",
       "      <td>-0.560</td>\n",
       "      <td>4</td>\n",
       "      <td>2.10</td>\n",
       "      <td>1.670</td>\n",
       "      <td>190.20</td>\n",
       "      <td>Cu</td>\n",
       "      <td>...</td>\n",
       "      <td>5.006275</td>\n",
       "      <td>567.890393</td>\n",
       "      <td>set_6</td>\n",
       "      <td>0.0114</td>\n",
       "      <td>0</td>\n",
       "      <td>0</td>\n",
       "      <td>4.075319</td>\n",
       "      <td>9.180483</td>\n",
       "      <td>15.178798</td>\n",
       "      <td>(Te, Cu, Se)</td>\n",
       "    </tr>\n",
       "    <tr>\n",
       "      <th>4</th>\n",
       "      <td>Te</td>\n",
       "      <td>-5.952</td>\n",
       "      <td>869.2</td>\n",
       "      <td>1.870</td>\n",
       "      <td>-0.560</td>\n",
       "      <td>4</td>\n",
       "      <td>2.10</td>\n",
       "      <td>1.670</td>\n",
       "      <td>190.20</td>\n",
       "      <td>Ni</td>\n",
       "      <td>...</td>\n",
       "      <td>4.949518</td>\n",
       "      <td>567.890393</td>\n",
       "      <td>set_6</td>\n",
       "      <td>0.0040</td>\n",
       "      <td>0</td>\n",
       "      <td>0</td>\n",
       "      <td>4.075319</td>\n",
       "      <td>9.180483</td>\n",
       "      <td>15.178798</td>\n",
       "      <td>(Te, Ni, Se)</td>\n",
       "    </tr>\n",
       "    <tr>\n",
       "      <th>...</th>\n",
       "      <td>...</td>\n",
       "      <td>...</td>\n",
       "      <td>...</td>\n",
       "      <td>...</td>\n",
       "      <td>...</td>\n",
       "      <td>...</td>\n",
       "      <td>...</td>\n",
       "      <td>...</td>\n",
       "      <td>...</td>\n",
       "      <td>...</td>\n",
       "      <td>...</td>\n",
       "      <td>...</td>\n",
       "      <td>...</td>\n",
       "      <td>...</td>\n",
       "      <td>...</td>\n",
       "      <td>...</td>\n",
       "      <td>...</td>\n",
       "      <td>...</td>\n",
       "      <td>...</td>\n",
       "      <td>...</td>\n",
       "      <td>...</td>\n",
       "    </tr>\n",
       "    <tr>\n",
       "      <th>948</th>\n",
       "      <td>Ba</td>\n",
       "      <td>-3.235</td>\n",
       "      <td>502.9</td>\n",
       "      <td>1.610</td>\n",
       "      <td>-2.026</td>\n",
       "      <td>2</td>\n",
       "      <td>0.89</td>\n",
       "      <td>3.402</td>\n",
       "      <td>13.95</td>\n",
       "      <td>Ti</td>\n",
       "      <td>...</td>\n",
       "      <td>5.443971</td>\n",
       "      <td>514.969966</td>\n",
       "      <td>set_1</td>\n",
       "      <td>0.5571</td>\n",
       "      <td>1</td>\n",
       "      <td>1</td>\n",
       "      <td>3.944580</td>\n",
       "      <td>8.885966</td>\n",
       "      <td>14.691850</td>\n",
       "      <td>(Ba, Ti, Se)</td>\n",
       "    </tr>\n",
       "    <tr>\n",
       "      <th>949</th>\n",
       "      <td>K</td>\n",
       "      <td>-2.330</td>\n",
       "      <td>418.8</td>\n",
       "      <td>1.640</td>\n",
       "      <td>-0.793</td>\n",
       "      <td>1</td>\n",
       "      <td>0.82</td>\n",
       "      <td>3.690</td>\n",
       "      <td>48.40</td>\n",
       "      <td>Ta</td>\n",
       "      <td>...</td>\n",
       "      <td>5.987427</td>\n",
       "      <td>506.891366</td>\n",
       "      <td>set_1</td>\n",
       "      <td>0.9214</td>\n",
       "      <td>1</td>\n",
       "      <td>1</td>\n",
       "      <td>3.923844</td>\n",
       "      <td>8.839255</td>\n",
       "      <td>14.614619</td>\n",
       "      <td>(K, Ta, Se)</td>\n",
       "    </tr>\n",
       "    <tr>\n",
       "      <th>950</th>\n",
       "      <td>La</td>\n",
       "      <td>-2.885</td>\n",
       "      <td>538.1</td>\n",
       "      <td>1.425</td>\n",
       "      <td>-2.881</td>\n",
       "      <td>3</td>\n",
       "      <td>1.10</td>\n",
       "      <td>3.080</td>\n",
       "      <td>50.00</td>\n",
       "      <td>Rh</td>\n",
       "      <td>...</td>\n",
       "      <td>6.979987</td>\n",
       "      <td>455.522342</td>\n",
       "      <td>set_1</td>\n",
       "      <td>0.4571</td>\n",
       "      <td>1</td>\n",
       "      <td>1</td>\n",
       "      <td>3.786547</td>\n",
       "      <td>8.529965</td>\n",
       "      <td>14.103246</td>\n",
       "      <td>(La, Rh, Se)</td>\n",
       "    </tr>\n",
       "    <tr>\n",
       "      <th>951</th>\n",
       "      <td>Ba</td>\n",
       "      <td>-3.235</td>\n",
       "      <td>502.9</td>\n",
       "      <td>1.610</td>\n",
       "      <td>-2.026</td>\n",
       "      <td>2</td>\n",
       "      <td>0.89</td>\n",
       "      <td>3.402</td>\n",
       "      <td>13.95</td>\n",
       "      <td>Zr</td>\n",
       "      <td>...</td>\n",
       "      <td>5.450586</td>\n",
       "      <td>567.180352</td>\n",
       "      <td>set_1</td>\n",
       "      <td>0.9872</td>\n",
       "      <td>1</td>\n",
       "      <td>1</td>\n",
       "      <td>4.073620</td>\n",
       "      <td>9.176655</td>\n",
       "      <td>15.172469</td>\n",
       "      <td>(Ba, Zr, Se)</td>\n",
       "    </tr>\n",
       "    <tr>\n",
       "      <th>952</th>\n",
       "      <td>Ge</td>\n",
       "      <td>-3.894</td>\n",
       "      <td>762.1</td>\n",
       "      <td>1.460</td>\n",
       "      <td>-0.529</td>\n",
       "      <td>2</td>\n",
       "      <td>2.01</td>\n",
       "      <td>1.560</td>\n",
       "      <td>116.00</td>\n",
       "      <td>Mn</td>\n",
       "      <td>...</td>\n",
       "      <td>5.774976</td>\n",
       "      <td>419.185662</td>\n",
       "      <td>set_3</td>\n",
       "      <td>0.0000</td>\n",
       "      <td>0</td>\n",
       "      <td>0</td>\n",
       "      <td>3.683061</td>\n",
       "      <td>8.296842</td>\n",
       "      <td>13.717807</td>\n",
       "      <td>(Ge, Mn, Se)</td>\n",
       "    </tr>\n",
       "  </tbody>\n",
       "</table>\n",
       "<p>920 rows × 42 columns</p>\n",
       "</div>"
      ],
      "text/plain": [
       "      A  A_HOMO   A_IE   A_IR  A_LUMO  A_OS   A_X  A_Z_radii  A_e_affin   B  \\\n",
       "0    Te  -5.952  869.2  1.870  -0.560     4  2.10      1.670     190.20  Be   \n",
       "1    Te  -5.952  869.2  1.870  -0.560     4  2.10      1.670     190.20  Zn   \n",
       "2    Te  -5.952  869.2  1.870  -0.560     4  2.10      1.670     190.20  Hg   \n",
       "3    Te  -5.952  869.2  1.870  -0.560     4  2.10      1.670     190.20  Cu   \n",
       "4    Te  -5.952  869.2  1.870  -0.560     4  2.10      1.670     190.20  Ni   \n",
       "..   ..     ...    ...    ...     ...   ...   ...        ...        ...  ..   \n",
       "948  Ba  -3.235  502.9  1.610  -2.026     2  0.89      3.402      13.95  Ti   \n",
       "949   K  -2.330  418.8  1.640  -0.793     1  0.82      3.690      48.40  Ta   \n",
       "950  La  -2.885  538.1  1.425  -2.881     3  1.10      3.080      50.00  Rh   \n",
       "951  Ba  -3.235  502.9  1.610  -2.026     2  0.89      3.402      13.95  Zr   \n",
       "952  Ge  -3.894  762.1  1.460  -0.529     2  2.01      1.560     116.00  Mn   \n",
       "\n",
       "     ...   density      volume  training_type  HSE_band_gap  PBE_insulator  \\\n",
       "0    ...  4.368437  567.890393          set_6        0.0097              0   \n",
       "1    ...  5.028065  567.890393          set_6        0.0602              0   \n",
       "2    ...  6.609168  567.890393          set_6        0.0175              0   \n",
       "3    ...  5.006275  567.890393          set_6        0.0114              0   \n",
       "4    ...  4.949518  567.890393          set_6        0.0040              0   \n",
       "..   ...       ...         ...            ...           ...            ...   \n",
       "948  ...  5.443971  514.969966          set_1        0.5571              1   \n",
       "949  ...  5.987427  506.891366          set_1        0.9214              1   \n",
       "950  ...  6.979987  455.522342          set_1        0.4571              1   \n",
       "951  ...  5.450586  567.180352          set_1        0.9872              1   \n",
       "952  ...  5.774976  419.185662          set_3        0.0000              0   \n",
       "\n",
       "     HSE_insulator         a         b          c   composition  \n",
       "0                0  4.075319  9.180483  15.178798  (Te, Be, Se)  \n",
       "1                0  4.075319  9.180483  15.178798  (Te, Zn, Se)  \n",
       "2                0  4.075319  9.180483  15.178798  (Te, Hg, Se)  \n",
       "3                0  4.075319  9.180483  15.178798  (Te, Cu, Se)  \n",
       "4                0  4.075319  9.180483  15.178798  (Te, Ni, Se)  \n",
       "..             ...       ...       ...        ...           ...  \n",
       "948              1  3.944580  8.885966  14.691850  (Ba, Ti, Se)  \n",
       "949              1  3.923844  8.839255  14.614619   (K, Ta, Se)  \n",
       "950              1  3.786547  8.529965  14.103246  (La, Rh, Se)  \n",
       "951              1  4.073620  9.176655  15.172469  (Ba, Zr, Se)  \n",
       "952              0  3.683061  8.296842  13.717807  (Ge, Mn, Se)  \n",
       "\n",
       "[920 rows x 42 columns]"
      ]
     },
     "execution_count": 40,
     "metadata": {},
     "output_type": "execute_result"
    }
   ],
   "source": [
    "indices_to_remove = df[duplicate_values].index\n",
    "\n",
    "# Remove rows with duplicate occurrences\n",
    "df = df.drop(indices_to_remove)\n",
    "\n",
    "# Print the modified DataFrame\n",
    "df"
   ]
  },
  {
   "cell_type": "markdown",
   "metadata": {},
   "source": [
    "## Visualizing PBE bandgap values vs HSE Bandgap values"
   ]
  },
  {
   "cell_type": "code",
   "execution_count": 102,
   "metadata": {},
   "outputs": [
    {
     "data": {
      "application/vnd.plotly.v1+json": {
       "config": {
        "plotlyServerURL": "https://plot.ly",
        "toImageButtonOptions": {
         "filename": "custom_image",
         "format": "png",
         "height": 500,
         "scale": 6,
         "width": 700
        }
       },
       "data": [
        {
         "hovertemplate": "PBE Band Gap=%{x}<br>HSE Band Gap=%{y}<extra></extra>",
         "legendgroup": "",
         "marker": {
          "color": "royalblue",
          "symbol": "circle"
         },
         "mode": "markers",
         "name": "",
         "orientation": "v",
         "showlegend": false,
         "type": "scatter",
         "x": [
          0.0181,
          0.051800000000000006,
          0.0383,
          0.0074999999999990005,
          0.028200000000000003,
          0,
          0.012100000000000001,
          0.028999999999999002,
          0.023000000000000003,
          0.07100000000000001,
          0.11799999999999901,
          0.038899999999999005,
          0.7155,
          0.09089999999999901,
          0.153399999999999,
          0.016499999999999,
          0.1817,
          0.042699999999999,
          0.0064999999999990005,
          0.0038000000000000004,
          0.020800000000000003,
          0.06760000000000001,
          0.075599999999999,
          0.10010000000000001,
          0.7585000000000001,
          0.11379999999999901,
          0.049499999999999,
          0.6574,
          0.17750000000000002,
          0.0815,
          0.1222,
          0.9169,
          0.0221,
          0.008199999999999001,
          0.35649999999999904,
          0.0137,
          0.032599999999999005,
          0.055299999999999,
          0.008,
          0.009199999999999,
          0.013199999999999,
          0.096,
          0.6664999999999991,
          0.011499999999999,
          0.315399999999999,
          0.032999999999999,
          0.0018000000000000002,
          0.051000000000000004,
          0.1164,
          0.28450000000000003,
          0.8980999999999991,
          1.3011,
          1.1993,
          0.0529,
          0.2096,
          0.029799999999999,
          0.006899999999999001,
          0.1184,
          0.030899999999999,
          0.032100000000000004,
          0.024099999999999,
          0.017,
          0.14700000000000002,
          0.8607999999999991,
          0.5697000000000001,
          0.651199999999999,
          0.053099999999999,
          0.28450000000000003,
          0.022399999999999,
          0.08070000000000001,
          0.027700000000000002,
          1.3412,
          1.255599999999999,
          0.0175,
          0.11190000000000001,
          0.011599999999999002,
          0.007,
          0.074799999999999,
          0.1333,
          0.329899999999999,
          0.014299999999999001,
          0.0864,
          0.7581000000000001,
          0.9256000000000001,
          0.035299999999999006,
          0.0020999999999990002,
          0.00019999999999900002,
          0.8096999999999991,
          0.023999999999999,
          0.005900000000000001,
          0.020100000000000003,
          0.049,
          0.057199999999999,
          0.6626000000000001,
          0.006,
          0.30960000000000004,
          0.064999999999999,
          0.022000000000000002,
          0.062199999999999006,
          0.052499999999999006,
          0.33939999999999904,
          0.1872,
          0.024799999999999003,
          0.064599999999999,
          0.066399999999999,
          0.049299999999999004,
          0.016,
          0.315799999999999,
          0.008,
          0.055499999999999,
          0.0020999999999990002,
          0.015600000000000001,
          0.677999999999999,
          0.012399999999999,
          0.012899999999999,
          0.013800000000000002,
          0.022499999999999003,
          0.0189,
          0.017399999999999003,
          0.025900000000000003,
          0.17240000000000003,
          0.1874,
          0.010199999999999002,
          0.0068000000000000005,
          0.047099999999999004,
          0.010599999999999,
          0.025799999999999,
          0.016,
          0.005999999999999,
          0.031400000000000004,
          0.012100000000000001,
          0.032900000000000006,
          0.0009999999999990002,
          0.6726999999999991,
          0.125,
          0.08040000000000001,
          0.042699999999999,
          0.029199999999999,
          0.027800000000000002,
          0.024300000000000002,
          0.007699999999999,
          0.003899999999999,
          0.037899999999999004,
          0.20340000000000003,
          0.10729999999999901,
          0.07730000000000001,
          1.052499999999999,
          0.915899999999999,
          0.003399999999999,
          0.059000000000000004,
          0.12460000000000002,
          0.018499999999999,
          0.1183,
          0.008199999999999001,
          1.993399999999999,
          0.894899999999999,
          0.004799999999999,
          0.0031000000000000003,
          0.021199999999999,
          0.010099999999999,
          0.029400000000000003,
          0.8954999999999991,
          0.016599999999999,
          0.0187,
          1.200799999999999,
          0.015099999999999001,
          0.9657999999999991,
          0.017900000000000003,
          0.031400000000000004,
          1.4593,
          0.8236000000000001,
          0.006199999999999001,
          0.8464,
          0.004,
          0.007300000000000001,
          0.0034000000000000002,
          0.142799999999999,
          1.3771,
          0.035499999999999005,
          0.054899999999999005,
          0.018699999999999002,
          0.655899999999999,
          1.357099999999999,
          0.653999999999999,
          0.29289999999999905,
          0.013600000000000001,
          0.034100000000000005,
          0.003699999999999,
          0.029099999999999,
          0.925999999999999,
          0.035299999999999006,
          0.028999999999999002,
          0.0117,
          0.451899999999999,
          0.024099999999999,
          0.028200000000000003,
          0.0158,
          0.041599999999999006,
          0.024700000000000003,
          0.0034999999999990004,
          0.007200000000000001,
          0.07990000000000001,
          0.021799999999999,
          0.035800000000000005,
          0.034499999999999004,
          0.6562,
          0.020999999999999002,
          0.0381,
          0.027199999999999003,
          0.011000000000000001,
          0.0067,
          0.042300000000000004,
          0.06909999999999901,
          0.0726,
          0.617,
          0.0659,
          0.045199999999999005,
          0.035899999999999,
          0.026599999999999003,
          0.026899999999999,
          0.0048000000000000004,
          0.014299999999999001,
          0.0091,
          0.0034999999999990004,
          0.037999999999999,
          0.034,
          0.042699999999999,
          0.42599999999999905,
          0.0383,
          0.5834,
          0.021900000000000003,
          0.017899999999999,
          0.005900000000000001,
          0.01,
          0.013300000000000001,
          0.013000000000000001,
          0.7323000000000001,
          0.0158,
          0.023699999999999003,
          0.0364,
          0.0036000000000000003,
          0.068799999999999,
          0.036399999999999,
          0.025999999999999003,
          0.054799999999999,
          0.051899999999999,
          0.0187,
          0.0154,
          0.031299999999999,
          0.0014999999999990002,
          0.004899999999999001,
          0.030199999999999002,
          0.008199999999999001,
          0.0268,
          0.048699999999999,
          0.010099999999999,
          0.7234,
          0.0134,
          0.0227,
          0.5749999999999991,
          0.06519999999999901,
          0.21249999999999902,
          0.2669,
          0.0077,
          0.13439999999999902,
          0.0102,
          0.0884,
          0.0091,
          0.0315,
          0.060999999999999006,
          0.373899999999999,
          0.273099999999999,
          0.16540000000000002,
          0.0756,
          0.5227,
          0.0425,
          0.020899999999999003,
          0.058100000000000006,
          0.0020999999999990002,
          0.0071,
          0.0033000000000000004,
          0.015300000000000001,
          0.07149999999999901,
          0.0015,
          0.040999999999999,
          0.0432,
          0.14319999999999902,
          0.003,
          0.0758,
          0.0041999999999990005,
          0.024699999999999,
          0.010299999999999001,
          0.025799999999999,
          0.027399999999999,
          0.024999999999999002,
          0.0632,
          0.0099,
          0.0216,
          0.005600000000000001,
          0.0024000000000000002,
          0.0064999999999990005,
          0.064499999999999,
          0.032899999999999,
          0.040799999999999004,
          0.010699999999999,
          0.020599999999999,
          0.007200000000000001,
          0.05670000000000001,
          0.027699999999999003,
          0.026299999999999,
          0.008799999999999001,
          0.061700000000000005,
          0.05330000000000001,
          0.015799999999999002,
          0.0013999999999990001,
          0.022299999999999,
          0.006699999999999,
          0.088299999999999,
          0.07149999999999901,
          0.1701,
          0.04939999999999901,
          0.002199999999999,
          0.554999999999999,
          0.08860000000000001,
          0.020299999999999003,
          0.05670000000000001,
          0.032900000000000006,
          0.013799999999999,
          0.030499999999999004,
          0.05960000000000001,
          0.018499999999999,
          0.029599999999999002,
          0.23019999999999902,
          0.12529999999999902,
          0.2399,
          0.045399999999999004,
          0.024,
          0.041299999999999004,
          0.026799999999999,
          0.012999999999999,
          0.024700000000000003,
          0.044999999999999006,
          0.07149999999999901,
          0.006599999999999001,
          0.008599999999999,
          0.020699999999999,
          0.0029000000000000002,
          0.006500000000000001,
          0.030499999999999004,
          0.0211,
          0.0044999999999990005,
          0.022400000000000003,
          0.0198,
          0.26569999999999905,
          0.0256,
          0.08959999999999901,
          0.6557000000000001,
          0.21729999999999902,
          0.022600000000000002,
          0.0094,
          0.020699999999999,
          0.6806000000000001,
          0.025999999999999003,
          0.20549999999999902,
          0.010299999999999001,
          0.015099999999999001,
          0.008100000000000001,
          0.077599999999999,
          0.001199999999999,
          0.05040000000000001,
          0.025200000000000004,
          0.7795999999999991,
          0.18700000000000003,
          0.038700000000000005,
          0.0134,
          0.013900000000000001,
          0.05790000000000001,
          0.025399999999999003,
          0.006,
          0.019000000000000003,
          0.010699999999999,
          0.006500000000000001,
          0.0041999999999990005,
          0.657799999999999,
          0.0014000000000000002,
          0.021399999999999003,
          0.018699999999999002,
          0.206799999999999,
          0.0297,
          0.028599999999999,
          0.013000000000000001,
          0.030600000000000002,
          0.028799999999999003,
          0.006600000000000001,
          0.007199999999999001,
          0.018299999999999,
          0.0026000000000000003,
          0.0022999999999990003,
          0.0036000000000000003,
          0.001699999999999,
          0.012,
          0.032099999999999004,
          0.0027999999999990003,
          0.010299999999999001,
          0.015200000000000002,
          0.006500000000000001,
          0.012199999999999002,
          0.014400000000000001,
          0.006199999999999001,
          0.015699999999999003,
          0.05,
          0.018000000000000002,
          0.0071,
          0.007500000000000001,
          0.010799999999999001,
          0.029300000000000003,
          0.004900000000000001,
          0.027700000000000002,
          0.0055000000000000005,
          0.11359999999999901,
          0.0083,
          0.013800000000000002,
          0.0335,
          0.081599999999999,
          0.061700000000000005,
          0.0165,
          0.020099999999999,
          0.232299999999999,
          0.036000000000000004,
          0.041299999999999004,
          0.0495,
          0.0442,
          0.0074,
          0.051999999999999005,
          0.038899999999999005,
          0.045599999999999,
          0.018699999999999002,
          0.032,
          0.026999999999999,
          0.071399999999999,
          0.16259999999999902,
          0.0718,
          0.056799999999999004,
          0.012999999999999,
          0.0339,
          0.0158,
          0.010900000000000002,
          0.0205,
          0.007699999999999,
          0,
          0.008100000000000001,
          0.0649,
          0.0117,
          0.0119,
          0.0171,
          0.009399999999999001,
          0.032099999999999004,
          0.0195,
          0.0035999999999990003,
          0.0009999999999990002,
          0.044699999999999004,
          0.006099999999999,
          0.004999999999999,
          0.044000000000000004,
          0.1081,
          0.001699999999999,
          0.016999999999999002,
          0.017400000000000002,
          0.059800000000000006,
          0.002899999999999,
          0.0034999999999990004,
          0.006099999999999,
          0.022699999999999002,
          0.016399999999999002,
          0.008499999999999001,
          0.0024000000000000002,
          0.026600000000000002,
          0.0119,
          0.021799999999999,
          0.012199999999999002,
          0.008599999999999,
          0.012900000000000002,
          0.017099999999999,
          0.002,
          0.014400000000000001,
          0.0106,
          0.006299999999999001,
          0.0106,
          0.0114,
          0.003899999999999,
          0.004900000000000001,
          0.014699999999999,
          0.016799999999999,
          0.013099999999999001,
          0.012999999999999,
          0.011699999999999001,
          0.019699999999999003,
          0.014,
          0.0037,
          0.14650000000000002,
          0.0845,
          0.0334,
          0.016,
          0.0347,
          0.020499999999999,
          0.018600000000000002,
          0.0025,
          0.025999999999999003,
          0.0194,
          0.014700000000000001,
          0.022799999999999,
          0.143399999999999,
          0.0971,
          0.594299999999999,
          0.015499999999999,
          0.042499999999999004,
          0.006899999999999001,
          0.017400000000000002,
          0.010900000000000002,
          0.010499999999999001,
          0.004699999999999,
          0.012199999999999002,
          0.06860000000000001,
          0.0117,
          0.021499999999999003,
          0.012099999999999,
          0.0171,
          0.016800000000000002,
          0.0022999999999990003,
          0.016399999999999002,
          0.020799999999999003,
          0.009600000000000001,
          0.023899999999999002,
          0.007200000000000001,
          0.0041999999999990005,
          0.011800000000000001,
          0.0057,
          0.0047,
          0.0091,
          0.044999999999999006,
          0.0033000000000000004,
          0.0022999999999990003,
          0.004099999999999,
          0.011800000000000001,
          0.005099999999999,
          0.002699999999999,
          0.0117,
          0.027199999999999003,
          0.0199,
          0.051800000000000006,
          0.0045000000000000005,
          0.013399999999999001,
          0.016399999999999002,
          0.0114,
          0.044000000000000004,
          0.0068000000000000005,
          0.0041,
          0.005200000000000001,
          0.004900000000000001,
          0.004299999999999,
          0.005600000000000001,
          0.003,
          0.014100000000000001,
          0.0117,
          0.0019000000000000002,
          0.07939999999999901,
          0.13520000000000001,
          0.012299999999999001,
          0.026399999999999,
          0.022399999999999,
          0.011000000000000001,
          0.012599999999999001,
          0.0108,
          0.009099999999999001,
          0.015399999999999001,
          0.0009000000000000001,
          0.007099999999999,
          0.013599999999999002,
          0.007300000000000001,
          0.0011,
          0.0057,
          0.004999999999999,
          0.0034000000000000002,
          0.10599999999999901,
          0.6516000000000001,
          0.858599999999999,
          0.026499999999999004,
          0.012599999999999001,
          0.024100000000000003,
          0.056400000000000006,
          0.014499999999999002,
          0.10310000000000001,
          0.0085,
          0.0188,
          0.006999999999999001,
          0.0047,
          0.17089999999999902,
          0.006399999999999,
          0.011800000000000001,
          0.012999999999999,
          0.013099999999999001,
          0.034899999999999,
          0.034999999999999004,
          0.0165,
          0.0027,
          0.007,
          0.016299999999999003,
          0.010900000000000002,
          0.035599999999999,
          0.0078000000000000005,
          0.040699999999999,
          0.038200000000000005,
          0.05740000000000001,
          0.048299999999999,
          0.080999999999999,
          0.039799999999999,
          0.06519999999999901,
          0.071899999999999,
          0.149199999999999,
          0.15479999999999902,
          0.113999999999999,
          0.019599999999999,
          0.040099999999999004,
          0.020299999999999003,
          0.004,
          0.005099999999999,
          0.0285,
          0.9878999999999991,
          1.2408000000000001,
          0.001099999999999,
          1.6325,
          0.7614999999999991,
          0.634599999999999,
          0.043300000000000005,
          0.05550000000000001,
          0.0034999999999990004,
          0.6222999999999991,
          0.027099999999999003,
          0.09759999999999901,
          0.019099999999999003,
          0.029300000000000003,
          0.13060000000000002,
          0.8156999999999991,
          0.090599999999999,
          0.060599999999999,
          0.0644,
          0.1282,
          0.0413,
          0.16260000000000002,
          0.013500000000000002,
          0.028099999999999,
          0.0014999999999990002,
          0.004799999999999,
          0.1429,
          0.11140000000000001,
          0.06960000000000001,
          0.040900000000000006,
          0.09290000000000001,
          0.0792,
          0.0176,
          0.008399999999999,
          0.011399999999999001,
          0.16890000000000002,
          0.008,
          0.0868,
          0.002899999999999,
          0.066899999999999,
          0.008,
          0.019200000000000002,
          0.007300000000000001,
          0.0038000000000000004,
          0.020300000000000002,
          0.1915,
          0.016799999999999,
          0.005299999999999001,
          0.035099999999999,
          0.10639999999999901,
          0.0665,
          0.057100000000000005,
          0.09100000000000001,
          0.030299999999999,
          0.009499999999999,
          0.018899999999999,
          0.17470000000000002,
          0.006699999999999,
          0.004299999999999,
          0.0239,
          0.07679999999999901,
          0.0463,
          0.6425000000000001,
          0.023199999999999003,
          0.021599999999999002,
          0.0102,
          0.061900000000000004,
          0.0068000000000000005,
          0.019200000000000002,
          0.044399999999999,
          0.012599999999999001,
          0.012599999999999001,
          0.013900000000000001,
          0.0412,
          0.0041,
          0.041799999999999005,
          0.0106,
          0.30760000000000004,
          0.019700000000000002,
          0.27939999999999904,
          0.29760000000000003,
          0.029199999999999,
          0.13689999999999902,
          0.10510000000000001,
          0.1965,
          0.134,
          0.25260000000000005,
          0.46530000000000005,
          0.43650000000000005,
          0.2174,
          0.2353,
          0,
          0,
          0,
          0,
          0.4011,
          0,
          0,
          0,
          0,
          1.0164,
          0,
          0,
          0.7149000000000001,
          0.633799999999999,
          0.3498,
          0.043300000000000005,
          0,
          0,
          0.446499999999999,
          0,
          0.046699999999999006,
          0.06570000000000001,
          0,
          0.0055000000000000005,
          0.0167,
          0.0176,
          0.008799999999999001,
          0,
          0.0543,
          0.45219999999999905,
          0.23289999999999902,
          0,
          0.0478,
          0.8954999999999991,
          0.30310000000000004,
          0,
          0,
          0,
          0,
          0.3773,
          0,
          0,
          0.046400000000000004,
          0,
          0,
          0.15580000000000002,
          0,
          0,
          0.23550000000000001,
          0.1082,
          0.09350000000000001,
          0.0625,
          0,
          0.6786000000000001,
          0,
          0.41140000000000004,
          0.6699,
          0.10829999999999901,
          0.8971999999999991,
          0,
          0,
          0.041,
          0,
          0,
          0.129199999999999,
          0.38379999999999903,
          0,
          0,
          0,
          0,
          0.06659999999999901,
          0.068899999999999,
          0,
          0,
          0.44560000000000005,
          0,
          0,
          0,
          0,
          0.00009999999999976696,
          0.1368,
          0.08569999999999901,
          0.30649999999999905,
          0,
          0,
          0.18780000000000002,
          0.684999999999999,
          0.6774,
          0,
          0.1552,
          0,
          0.12389999999999901,
          0.34379999999999905,
          0.9281,
          0.168099999999999,
          0,
          0.439899999999999,
          0,
          0,
          0,
          0,
          0,
          0,
          0,
          0.206599999999999,
          0,
          0,
          0.174599999999999,
          0,
          0,
          0,
          0.18199999999999902,
          0,
          0,
          0,
          0,
          0,
          0,
          0,
          0,
          0.44450000000000006,
          1.2418,
          0,
          0,
          0.7010000000000001,
          0.0068000000000000005,
          0.15989999999999902,
          0,
          0.43169999999999903,
          0,
          0,
          0.11730000000000002,
          0.0695,
          0.35189999999999905,
          0.9927999999999991,
          0.039899999999999006,
          0,
          0,
          0,
          0,
          0,
          0,
          0,
          0.009500000000000001,
          0.1545,
          0,
          0,
          0,
          0,
          0,
          0,
          0,
          0.30670000000000003,
          0,
          0.08569999999999901,
          0,
          0,
          0.033599999999999006,
          0,
          0.0039000000000000003,
          0,
          0.254899999999999,
          1.344799999999999,
          0.21749999999999903,
          0,
          0.5144000000000001,
          0,
          0,
          0.0009000000000000001,
          0,
          0,
          0.2023,
          0,
          0,
          0.0345,
          0,
          0,
          0,
          1.1635,
          0.23649999999999902,
          0.639099999999999,
          0,
          0.168799999999999,
          0.2923,
          0,
          0,
          0.21730000000000002,
          0.211899999999999,
          0,
          0,
          0,
          0.107599999999999,
          0.2126,
          0.31659999999999905,
          0.7874000000000001,
          0.19839999999999902,
          0.2451,
          0.17819999999999903,
          0.37620000000000003,
          0.1534,
          0.3603,
          0
         ],
         "xaxis": "x",
         "y": [
          0.0097,
          0.060200000000000004,
          0.0175,
          0.0114,
          0.004,
          0,
          0.049400000000000006,
          0.033599999999999006,
          0.039200000000000006,
          0.8216999999999991,
          0.34890000000000004,
          0.0188,
          1.267799999999999,
          0.063,
          0.09230000000000001,
          0.020499999999999,
          0.48290000000000005,
          0.595699999999999,
          0.7791,
          0.07159999999999901,
          0.049400000000000006,
          0.6568,
          0.6078,
          0.8896000000000001,
          0.7791,
          0.6039999999999991,
          0.15879999999999903,
          0.8138999999999991,
          0.570399999999999,
          0.875,
          0.658799999999999,
          1.5671,
          0.007300000000000001,
          0.0053,
          0.0028000000000000004,
          0.027700000000000002,
          0.034300000000000004,
          1.066599999999999,
          0.0131,
          0.024999999999999002,
          0.038599999999999,
          0.11119999999999901,
          1.2699999999999991,
          0.046000000000000006,
          0.5386999999999991,
          0.7914000000000001,
          0.038000000000000006,
          0.6122000000000001,
          0.6911,
          0.6745999999999991,
          1.5325000000000002,
          1.888399999999999,
          1.8559,
          0.0102,
          0.073199999999999,
          0.7634999999999991,
          1.0015,
          0.9638000000000001,
          0.7982,
          0.6254999999999991,
          0.0723,
          0.019700000000000002,
          0.074099999999999,
          1.4421,
          0.07149999999999901,
          0.2801,
          0.0175,
          0.547099999999999,
          0.1575,
          0.1577,
          0.0273,
          1.9879000000000002,
          1.8982,
          0.005999999999999,
          1.0277,
          0.056299999999999004,
          0.010899999999999,
          0.019699999999998,
          0.7844999999999991,
          0.7032,
          1.0406,
          0.004699999999999,
          1.5059,
          1.6531,
          0.9496999999999991,
          0.047900000000000005,
          0.004099999999999,
          1.5430000000000001,
          0.0391,
          0.015199999999999,
          0.007299999999999001,
          1.182699999999999,
          0.06319999999999901,
          1.4484,
          0.046699999999999006,
          0.5817999999999991,
          0.0553,
          0.038200000000000005,
          0.095,
          0.018000000000000002,
          0.5884,
          0.013799999999999,
          0.051599999999999,
          0.05380000000000001,
          0.09489999999999901,
          0.044800000000000006,
          0.0234,
          0.44480000000000003,
          0.010899999999999,
          0.08179999999999901,
          0.1081,
          0.010700000000000001,
          0.054599999999999003,
          0.013500000000000002,
          0.009000000000000001,
          0.006099999999999,
          0.21760000000000002,
          0.028200000000000003,
          0.0137,
          0.036399999999999,
          0.11730000000000002,
          0.021,
          0.034799999999999005,
          0.018600000000000002,
          0.034399999999999,
          0.021599999999999002,
          0.037799999999999,
          0.0291,
          0.013199999999999,
          0.030699999999999002,
          0.0158,
          0.010499999999999001,
          0.014100000000000001,
          1.184699999999999,
          0.07980000000000001,
          0.292699999999999,
          0.070899999999999,
          0.0318,
          0.069699999999999,
          0.039299999999999,
          0.0106,
          0.016099999999999,
          0.1874,
          0.034600000000000006,
          0.0417,
          1.0217,
          1.7881,
          1.5769000000000002,
          0.0274,
          0.17070000000000002,
          0.146099999999999,
          0.0037999999999990004,
          0.9437000000000001,
          0.021199999999999,
          2.8630999999999993,
          0.066099999999999,
          0.9367000000000001,
          0.0154,
          1.0014,
          0.024,
          1.1298,
          0.0051999999999980005,
          0.0064,
          0.009000000000000001,
          1.9620000000000002,
          0.008799999999999001,
          1.6014,
          0.04939999999999901,
          0.017400000000000002,
          2.2312,
          1.531899999999999,
          0.008999999999999,
          1.7229,
          0.025699999999996,
          0.050799999999999006,
          0.009899999999999002,
          0.851399999999999,
          2.0829,
          0.007099999999999,
          0.032099999999999004,
          0.022599999999999003,
          0.8372,
          2.134,
          1.3062,
          0.6494,
          0.023699999999999003,
          0.017600000000001,
          0.025000000000002003,
          0.015600000000000001,
          1.5725,
          0.0041,
          0.0041999999999990005,
          0.0125,
          0.36139999999999906,
          0.005900000000000001,
          0.0221,
          0.018499999999999,
          0.004699999999999,
          0.0036000000000000003,
          0.014100000000000001,
          0.0442,
          0.0335,
          0.011000000000000001,
          0.024699999999999,
          0.0194,
          1.2770000000000001,
          0.028699999999999,
          0.081099999999999,
          0.0441,
          0.0154,
          0.036799999999999,
          0.006699999999999,
          0.019199999999999003,
          0.028499999999999002,
          1.359,
          0.0645,
          0.11460000000000001,
          0.034100000000000005,
          0.0108,
          0.015199999999999,
          0.028599999999999,
          0.121299999999999,
          0.047400000000000005,
          0.036500000000000005,
          0.0726,
          0.0611,
          0.11179999999999901,
          1.1219000000000001,
          0.9032999999999991,
          1.312,
          0.0337,
          0.0037,
          0.008499999999999001,
          0.020899999999999003,
          0.0178,
          0.087699999999999,
          1.5315999999999992,
          0.07549999999999901,
          0.09190000000000001,
          0.039899999999999006,
          0.0027999999999990003,
          0.028599999999999,
          0.068999999999999,
          0.077599999999999,
          0.010399999999999,
          0.049300000000000004,
          0.0024000000000000002,
          0.002199999999999,
          0.028700000000000003,
          0.017400000000000002,
          0.007,
          0.024599999999999,
          0.009599999999999,
          0.033199999999999,
          0.025400000000000002,
          0.0028000000000000004,
          1.4893,
          0.013900000000000001,
          0.05809999999999901,
          1.124599999999999,
          0.2202,
          0.1554,
          0.530799999999999,
          0.16239999999999902,
          0.149699999999999,
          0.016799999999999,
          0.0117,
          0.0206,
          0.04429999999999901,
          0.06719999999999901,
          0.0044999999999990005,
          0.43370000000000003,
          0.9049,
          0.006500000000000001,
          0.010699999999999,
          0.021499999999999003,
          0.039400000000000004,
          0.035399999999999,
          0.0257,
          0.021099999999999,
          0.0030999999999990003,
          0.05569999999999901,
          0.1101,
          0.0363,
          0.015000000000000001,
          0.34140000000000004,
          0.029399999999999003,
          0.045700000000000005,
          0.0722,
          0.023899999999999002,
          0.006699999999999,
          0.089799999999999,
          0.009799999999999,
          0.0297,
          0.0159,
          0.00019999999999900002,
          0.041799999999999005,
          0.030299999999999,
          0.0178,
          0.019899999999999002,
          0.11699999999999701,
          0.0165,
          0.043499999999999005,
          0.07550000000000001,
          0.0359,
          0.0182,
          0.033100000000000004,
          0.10260000000000001,
          0.6025,
          0.1097,
          0.0471,
          0.086299999999999,
          0.048799999999999004,
          0.24549999999999902,
          0.009800000000000001,
          0.083499999999999,
          0.019999999999999,
          0.26119999999999904,
          0.051899999999999,
          0.16790000000000002,
          0.0166,
          0.0032,
          1.2011,
          0.022899999999999,
          0.2358,
          0.018299999999999,
          0.0273,
          0.015499999999999,
          0.067499999999999,
          0.014700000000000001,
          0.014499999999999002,
          0.9903000000000001,
          0.7756999999999991,
          0.7685000000000001,
          0.433899999999999,
          0.12339999999999901,
          0.2399,
          0.024799999999999003,
          0.0198,
          0.038799999999999,
          0.133199999999999,
          0.073199999999999,
          0.039899999999999006,
          0.012599999999999001,
          0.1499,
          0.07779999999999901,
          0.025800000000000003,
          0.04429999999999901,
          0.29460000000000003,
          0.0432,
          0.036000000000000004,
          0.050399999999999,
          0.758999999999999,
          0.9729999999999991,
          1.2353,
          0.6847999999999991,
          1.247499999999999,
          1.012399999999999,
          0.8362,
          0.016200000000000003,
          0.7941,
          1.4806,
          0.8220000000000001,
          0.6337,
          0.048299999999999,
          0.040999999999999,
          0.002699999999999,
          1.126999999999999,
          0.011600000000000001,
          0.033299999999999004,
          0.010699999999999,
          1.556,
          0.9553,
          0.25779999999999903,
          0.036499999999999005,
          0.0434,
          0.0335,
          0.005600000000000001,
          0.014599999999999001,
          0.061799999999999,
          0.0234,
          0.0068000000000000005,
          0.006199999999999001,
          1.200299999999999,
          0.0181,
          0.10010000000000001,
          0.025800000000000003,
          0.07440000000000001,
          0.023500000000000004,
          0.7372000000000001,
          0.0041999999999990005,
          0.8582000000000001,
          0.029599999999999002,
          0.009800000000000001,
          0.10200000000000001,
          0.037199999999999005,
          0.002199999999999,
          0.017900000000000003,
          0.024499999999999002,
          0.0134,
          0.015000000000000001,
          0.016899999999999003,
          0.09809999999999801,
          0.0051999999999980005,
          0.092199999999998,
          0.042799999999999006,
          0.13039999999999902,
          0.04889999999999901,
          0.0134,
          0.19740000000000002,
          0.061900000000001,
          0.030000000000000002,
          0.023499999999999,
          0.00009999999999976696,
          0.010100000000000001,
          0.049800000000000004,
          0.30750000000000005,
          0.38409999999999905,
          0.035599999999999,
          0.013499999999999,
          0.013399999999999001,
          0.0296,
          0.016799999999999,
          0.6368,
          0.0512,
          0.36059999999999903,
          0.0261,
          0.6343999999999991,
          0.10439999999999901,
          0.031100000000000003,
          0.0217,
          0.028699999999999,
          0.014999999999999002,
          0.08999999999999901,
          0.17829999999999901,
          0.050699999999999,
          0.011299999999999,
          0.019599999999999,
          0.024099999999999,
          0.079,
          0.8607999999999991,
          0.24930000000000002,
          0.008999999999999,
          0.09379999999999901,
          0.056099999999999005,
          0.05790000000000001,
          0.004599999999999001,
          0.0609,
          0.020199999999999,
          0,
          0.012900000000000002,
          0.0029000000000000002,
          0.8005999999999991,
          0.7160000000000001,
          0.050099999999999006,
          0.010499999999999001,
          0.07010000000000001,
          0.009300000000000001,
          0.12429999999999901,
          0.2923,
          0.005799999999999,
          0.009800000000000001,
          0.5716,
          0.022399999999999,
          0.0077999999999990004,
          0.028899999999999003,
          0.5213,
          0.0227,
          0.0067,
          0.013300000000000001,
          0.031199999999999003,
          0.07410000000000101,
          0.10600000000000001,
          0.031699999999999,
          0.029500000000000002,
          0.010499999999999001,
          0.0257,
          0.022499999999999003,
          0.032400000000000005,
          0.041899999999999,
          0.022199999999999002,
          0.013600000000000001,
          0.031899999999999006,
          0.06199999999999901,
          0.610599999999999,
          0.038299999999999,
          0.057600000000000005,
          0.022000000000005,
          0.025800000000000003,
          0.012900000000000002,
          0.073499999999995,
          0.41100000000000003,
          0.7429999999999991,
          0.027699999999999003,
          0.014699999999999,
          0.008799999999999001,
          0.010700000000000001,
          0.09930000000000001,
          0.010499999999999001,
          0.2363,
          0.1154,
          0.0335,
          0.0627,
          0.0616,
          0.024300000000000002,
          0.0151,
          0.551299999999999,
          0.0335,
          0.031400000000000004,
          0.0175,
          0.020299999999999003,
          0.016599999999998002,
          0.046499999999999,
          0.0022,
          0.047499999999999,
          0.0415,
          0.024300000000000002,
          0.0221,
          0.024,
          0.8223,
          0.027700000000001,
          0.009399999999999001,
          0.05569999999999901,
          0.031000000000000003,
          0.004999999999999,
          0.023700000000000002,
          0.014400000000000001,
          0.018000000000000002,
          0.034300000000000004,
          0.021900000000000003,
          0.0033000000000000004,
          0.0038000000000000004,
          0.038199999999999006,
          0.0429,
          0.0119,
          0.001299999999999,
          0.036000000000000004,
          0.008799999999999001,
          0.024,
          0.017999999999999003,
          0.022299999999999,
          0.036499999999999005,
          0.041100000000000005,
          0.0027999999999990003,
          0.1106,
          0.028799999999999003,
          0.0297,
          0.020800000000000003,
          0.010499999999999001,
          0.014599999999999001,
          0.025000000000002003,
          0.008600000000001001,
          0.0164,
          0.016399999999999002,
          0.6004,
          0.052499999999999006,
          0.0718,
          0.0178,
          0.0034000000000000002,
          0.016900000000000002,
          0.012199999999999002,
          0.008700000000000001,
          0.021800000000000003,
          0.019200000000000002,
          0.0048000000000000004,
          0.7673999999999991,
          0.4053,
          0.9639000000000001,
          1.1046,
          1.0874,
          1.082299999999999,
          0.37169999999999903,
          0.0030999999999990003,
          0.0134,
          0.011300000000000001,
          0.053700000000000005,
          0.5427000000000001,
          0.010399999999999,
          0.0151,
          0.020900000000000002,
          0.012699999999999,
          0.026799999999999,
          0.0142,
          1.0217,
          1.2816,
          1.5590000000000002,
          0.011699999999999001,
          0.032399999999999006,
          0.033100000000000004,
          0.0204,
          0.009800000000000001,
          1.014199999999999,
          0.020900000000000002,
          0.0182,
          0.022600000000000002,
          0.024300000000000002,
          0.7061000000000001,
          0.0181,
          0.029799999999999,
          0.055200000000000006,
          0.06479999999999901,
          0.030699999999999002,
          0.051599999999999,
          0.033199999999999,
          0.006099999999999,
          0.021599999999999002,
          0.017,
          0.0373,
          0.0444,
          0.0354,
          0.019599999999999,
          0.017300000000000003,
          0.136099999999999,
          0.0354,
          0.069299999999999,
          0.053399999999999004,
          0.0892,
          0.6806999999999991,
          0.685299999999999,
          0.7464000000000001,
          0.704399999999999,
          0.018799999999999,
          0.061700000000000005,
          0.11270000000000001,
          0.140799999999999,
          0.10790000000000001,
          0.214599999999999,
          1.668699999999999,
          1.8993000000000002,
          1.3319,
          2.5451,
          1.5744,
          1.3871,
          0.802199999999999,
          0.029500000000000002,
          0.8517,
          1.2878,
          0.574099999999999,
          0.016099999999999,
          0.067899999999999,
          0.0609,
          1.132399999999999,
          1.4255,
          0.1078,
          0.0403,
          0.029499999999999003,
          0.2338,
          0.5802,
          0.14369999999999902,
          0.0238,
          0.06230000000000001,
          0.08659999999999901,
          0.093199999999999,
          0.183099999999999,
          0.729699999999999,
          0.7277,
          0.043500000000000004,
          0.11289999999999902,
          0.5759000000000001,
          0.008299999999999001,
          0.6956000000000001,
          0.016799999999999,
          0.001999999999999,
          0.8259999999999991,
          0.781999999999999,
          0.060699999999999005,
          0.09429999999999901,
          0.06619999999999901,
          0.0094,
          0.0322,
          0.714699999999999,
          0.027700000000000002,
          0.8544,
          0.032900000000000006,
          0.008799999999999001,
          0.8538999999999991,
          0.9388000000000001,
          0.131499999999999,
          0.780899999999999,
          0.0181,
          0.0171,
          0.0649,
          0.004799999999999,
          0.030999999999999004,
          0.0034999999999980004,
          0.0025,
          0.04939999999999901,
          0.071299999999999,
          0.36959999999999904,
          0.0413,
          0.0041,
          0.022399999999999,
          0.0053,
          0.8870000000000001,
          0.007899999999999,
          0.027000000000000003,
          0.011800000000000001,
          0.006399999999999,
          0.9106000000000001,
          0.021399999999999003,
          0.0175,
          0.011499999999999,
          0.016499999999999,
          0.0068000000000000005,
          0.29099999999999904,
          0.015700000000000002,
          0.871799999999999,
          0.8548999999999991,
          0.11229999999999901,
          0.513899999999999,
          0.34600000000000003,
          0.824099999999999,
          0.46769999999999906,
          0.9602,
          1.1776,
          1.1132,
          0.8235,
          0.7813999999999991,
          0.030100000000000002,
          0,
          0,
          0.0439,
          0.9918,
          0,
          0,
          0.0792,
          0.12279999999999901,
          1.7440000000000002,
          0,
          0,
          1.267299999999999,
          1.139299999999999,
          0.7666000000000001,
          0.0344,
          0.12259999999999902,
          0,
          1.038499999999999,
          0.1449,
          0.07689999999999901,
          0.7079999999999991,
          0,
          0,
          0.229,
          0.022299999999999,
          0,
          0,
          0.28889999999999905,
          1.0884,
          0.7997000000000001,
          0,
          0.1288,
          1.6185,
          0.8346,
          0.35389999999999905,
          0.022499999999999003,
          0,
          0,
          0.796199999999999,
          0,
          0,
          0.292199999999999,
          0.029200000000000004,
          0,
          0,
          0,
          0,
          0.921899999999999,
          0.340199999999999,
          0.47839999999999905,
          0.9062000000000001,
          0,
          1.4732999999999992,
          0.0316,
          0.9325999999999991,
          1.2083,
          0.32419999999999904,
          1.567699999999999,
          0.3885,
          0,
          0.10169999999999901,
          0,
          0.061700000000000005,
          0.47280000000000005,
          0.9821000000000001,
          0.16760000000000003,
          0,
          0.13919999999999902,
          0,
          0.35950000000000004,
          0.0546,
          0,
          0,
          1.1104,
          0,
          0,
          0,
          0,
          0.23509999999999903,
          0.5679000000000001,
          0.24120000000000003,
          0.8696,
          0.47549999999999903,
          0,
          0.7310999999999991,
          1.4515,
          1.5216,
          0,
          0.507899999999999,
          0,
          0.314499999999999,
          0.956399999999999,
          1.6706,
          0.5757,
          0.11670000000000001,
          0.8841000000000001,
          0,
          0,
          0,
          0,
          0,
          0,
          0,
          0,
          0,
          0.0669,
          0.7189000000000001,
          0.0308,
          0,
          0,
          0.7006999999999991,
          0,
          0,
          0.304299999999999,
          0,
          0.013500000000000002,
          0,
          0.37870000000000004,
          0,
          0.9657000000000001,
          1.9938999999999991,
          0,
          0.019099999999999003,
          1.3657,
          0.036699999999999004,
          0.8228999999999991,
          0.17199999999999901,
          0.43169999999999903,
          0,
          0,
          0.11390000000000002,
          0.0362,
          0.8303,
          1.6238000000000001,
          0.38630000000000003,
          0,
          0,
          0.20589999999999903,
          0,
          0,
          0,
          0,
          0.126999999999999,
          0.5735,
          0,
          0.13620000000000002,
          0,
          0,
          0,
          0,
          0,
          0.7384000000000001,
          0,
          0.115499999999999,
          0.14900000000000002,
          0,
          0.304899999999999,
          0.1009,
          0,
          0.024799999999999003,
          0.562599999999999,
          1.9031000000000002,
          0.640099999999999,
          0,
          1.4126,
          0,
          0,
          0.055400000000000005,
          0,
          0.24399999999999902,
          0.025599999999999002,
          0,
          0,
          0,
          0,
          0,
          0,
          1.902699999999999,
          0.796899999999999,
          1.074,
          0.1665,
          0.1572,
          0.9556000000000001,
          0,
          0,
          0.40740000000000004,
          0.7094,
          0.0239,
          0.41480000000000006,
          0,
          0.5185999999999991,
          0.6272000000000001,
          0.9957,
          1.359099999999999,
          0.8416999999999991,
          0.7622,
          0.5571,
          0.9213999999999991,
          0.45709999999999906,
          0.9872000000000001,
          0
         ],
         "yaxis": "y"
        },
        {
         "line": {
          "color": "black",
          "dash": "dot"
         },
         "mode": "lines",
         "showlegend": false,
         "type": "scatter",
         "x": [
          0,
          2.5
         ],
         "y": [
          0,
          2.5
         ]
        }
       ],
       "layout": {
        "font": {
         "color": "black",
         "family": "Courier New"
        },
        "height": 800,
        "legend": {
         "title": {
          "font": {
           "color": "green"
          }
         },
         "tracegroupgap": 0
        },
        "plot_bgcolor": "white",
        "template": {
         "data": {
          "bar": [
           {
            "error_x": {
             "color": "rgb(36,36,36)"
            },
            "error_y": {
             "color": "rgb(36,36,36)"
            },
            "marker": {
             "line": {
              "color": "white",
              "width": 0.5
             },
             "pattern": {
              "fillmode": "overlay",
              "size": 10,
              "solidity": 0.2
             }
            },
            "type": "bar"
           }
          ],
          "barpolar": [
           {
            "marker": {
             "line": {
              "color": "white",
              "width": 0.5
             },
             "pattern": {
              "fillmode": "overlay",
              "size": 10,
              "solidity": 0.2
             }
            },
            "type": "barpolar"
           }
          ],
          "carpet": [
           {
            "aaxis": {
             "endlinecolor": "rgb(36,36,36)",
             "gridcolor": "white",
             "linecolor": "white",
             "minorgridcolor": "white",
             "startlinecolor": "rgb(36,36,36)"
            },
            "baxis": {
             "endlinecolor": "rgb(36,36,36)",
             "gridcolor": "white",
             "linecolor": "white",
             "minorgridcolor": "white",
             "startlinecolor": "rgb(36,36,36)"
            },
            "type": "carpet"
           }
          ],
          "choropleth": [
           {
            "colorbar": {
             "outlinewidth": 1,
             "tickcolor": "rgb(36,36,36)",
             "ticks": "outside"
            },
            "type": "choropleth"
           }
          ],
          "contour": [
           {
            "colorbar": {
             "outlinewidth": 1,
             "tickcolor": "rgb(36,36,36)",
             "ticks": "outside"
            },
            "colorscale": [
             [
              0,
              "#440154"
             ],
             [
              0.1111111111111111,
              "#482878"
             ],
             [
              0.2222222222222222,
              "#3e4989"
             ],
             [
              0.3333333333333333,
              "#31688e"
             ],
             [
              0.4444444444444444,
              "#26828e"
             ],
             [
              0.5555555555555556,
              "#1f9e89"
             ],
             [
              0.6666666666666666,
              "#35b779"
             ],
             [
              0.7777777777777778,
              "#6ece58"
             ],
             [
              0.8888888888888888,
              "#b5de2b"
             ],
             [
              1,
              "#fde725"
             ]
            ],
            "type": "contour"
           }
          ],
          "contourcarpet": [
           {
            "colorbar": {
             "outlinewidth": 1,
             "tickcolor": "rgb(36,36,36)",
             "ticks": "outside"
            },
            "type": "contourcarpet"
           }
          ],
          "heatmap": [
           {
            "colorbar": {
             "outlinewidth": 1,
             "tickcolor": "rgb(36,36,36)",
             "ticks": "outside"
            },
            "colorscale": [
             [
              0,
              "#440154"
             ],
             [
              0.1111111111111111,
              "#482878"
             ],
             [
              0.2222222222222222,
              "#3e4989"
             ],
             [
              0.3333333333333333,
              "#31688e"
             ],
             [
              0.4444444444444444,
              "#26828e"
             ],
             [
              0.5555555555555556,
              "#1f9e89"
             ],
             [
              0.6666666666666666,
              "#35b779"
             ],
             [
              0.7777777777777778,
              "#6ece58"
             ],
             [
              0.8888888888888888,
              "#b5de2b"
             ],
             [
              1,
              "#fde725"
             ]
            ],
            "type": "heatmap"
           }
          ],
          "heatmapgl": [
           {
            "colorbar": {
             "outlinewidth": 1,
             "tickcolor": "rgb(36,36,36)",
             "ticks": "outside"
            },
            "colorscale": [
             [
              0,
              "#440154"
             ],
             [
              0.1111111111111111,
              "#482878"
             ],
             [
              0.2222222222222222,
              "#3e4989"
             ],
             [
              0.3333333333333333,
              "#31688e"
             ],
             [
              0.4444444444444444,
              "#26828e"
             ],
             [
              0.5555555555555556,
              "#1f9e89"
             ],
             [
              0.6666666666666666,
              "#35b779"
             ],
             [
              0.7777777777777778,
              "#6ece58"
             ],
             [
              0.8888888888888888,
              "#b5de2b"
             ],
             [
              1,
              "#fde725"
             ]
            ],
            "type": "heatmapgl"
           }
          ],
          "histogram": [
           {
            "marker": {
             "line": {
              "color": "white",
              "width": 0.6
             }
            },
            "type": "histogram"
           }
          ],
          "histogram2d": [
           {
            "colorbar": {
             "outlinewidth": 1,
             "tickcolor": "rgb(36,36,36)",
             "ticks": "outside"
            },
            "colorscale": [
             [
              0,
              "#440154"
             ],
             [
              0.1111111111111111,
              "#482878"
             ],
             [
              0.2222222222222222,
              "#3e4989"
             ],
             [
              0.3333333333333333,
              "#31688e"
             ],
             [
              0.4444444444444444,
              "#26828e"
             ],
             [
              0.5555555555555556,
              "#1f9e89"
             ],
             [
              0.6666666666666666,
              "#35b779"
             ],
             [
              0.7777777777777778,
              "#6ece58"
             ],
             [
              0.8888888888888888,
              "#b5de2b"
             ],
             [
              1,
              "#fde725"
             ]
            ],
            "type": "histogram2d"
           }
          ],
          "histogram2dcontour": [
           {
            "colorbar": {
             "outlinewidth": 1,
             "tickcolor": "rgb(36,36,36)",
             "ticks": "outside"
            },
            "colorscale": [
             [
              0,
              "#440154"
             ],
             [
              0.1111111111111111,
              "#482878"
             ],
             [
              0.2222222222222222,
              "#3e4989"
             ],
             [
              0.3333333333333333,
              "#31688e"
             ],
             [
              0.4444444444444444,
              "#26828e"
             ],
             [
              0.5555555555555556,
              "#1f9e89"
             ],
             [
              0.6666666666666666,
              "#35b779"
             ],
             [
              0.7777777777777778,
              "#6ece58"
             ],
             [
              0.8888888888888888,
              "#b5de2b"
             ],
             [
              1,
              "#fde725"
             ]
            ],
            "type": "histogram2dcontour"
           }
          ],
          "mesh3d": [
           {
            "colorbar": {
             "outlinewidth": 1,
             "tickcolor": "rgb(36,36,36)",
             "ticks": "outside"
            },
            "type": "mesh3d"
           }
          ],
          "parcoords": [
           {
            "line": {
             "colorbar": {
              "outlinewidth": 1,
              "tickcolor": "rgb(36,36,36)",
              "ticks": "outside"
             }
            },
            "type": "parcoords"
           }
          ],
          "pie": [
           {
            "automargin": true,
            "type": "pie"
           }
          ],
          "scatter": [
           {
            "fillpattern": {
             "fillmode": "overlay",
             "size": 10,
             "solidity": 0.2
            },
            "type": "scatter"
           }
          ],
          "scatter3d": [
           {
            "line": {
             "colorbar": {
              "outlinewidth": 1,
              "tickcolor": "rgb(36,36,36)",
              "ticks": "outside"
             }
            },
            "marker": {
             "colorbar": {
              "outlinewidth": 1,
              "tickcolor": "rgb(36,36,36)",
              "ticks": "outside"
             }
            },
            "type": "scatter3d"
           }
          ],
          "scattercarpet": [
           {
            "marker": {
             "colorbar": {
              "outlinewidth": 1,
              "tickcolor": "rgb(36,36,36)",
              "ticks": "outside"
             }
            },
            "type": "scattercarpet"
           }
          ],
          "scattergeo": [
           {
            "marker": {
             "colorbar": {
              "outlinewidth": 1,
              "tickcolor": "rgb(36,36,36)",
              "ticks": "outside"
             }
            },
            "type": "scattergeo"
           }
          ],
          "scattergl": [
           {
            "marker": {
             "colorbar": {
              "outlinewidth": 1,
              "tickcolor": "rgb(36,36,36)",
              "ticks": "outside"
             }
            },
            "type": "scattergl"
           }
          ],
          "scattermapbox": [
           {
            "marker": {
             "colorbar": {
              "outlinewidth": 1,
              "tickcolor": "rgb(36,36,36)",
              "ticks": "outside"
             }
            },
            "type": "scattermapbox"
           }
          ],
          "scatterpolar": [
           {
            "marker": {
             "colorbar": {
              "outlinewidth": 1,
              "tickcolor": "rgb(36,36,36)",
              "ticks": "outside"
             }
            },
            "type": "scatterpolar"
           }
          ],
          "scatterpolargl": [
           {
            "marker": {
             "colorbar": {
              "outlinewidth": 1,
              "tickcolor": "rgb(36,36,36)",
              "ticks": "outside"
             }
            },
            "type": "scatterpolargl"
           }
          ],
          "scatterternary": [
           {
            "marker": {
             "colorbar": {
              "outlinewidth": 1,
              "tickcolor": "rgb(36,36,36)",
              "ticks": "outside"
             }
            },
            "type": "scatterternary"
           }
          ],
          "surface": [
           {
            "colorbar": {
             "outlinewidth": 1,
             "tickcolor": "rgb(36,36,36)",
             "ticks": "outside"
            },
            "colorscale": [
             [
              0,
              "#440154"
             ],
             [
              0.1111111111111111,
              "#482878"
             ],
             [
              0.2222222222222222,
              "#3e4989"
             ],
             [
              0.3333333333333333,
              "#31688e"
             ],
             [
              0.4444444444444444,
              "#26828e"
             ],
             [
              0.5555555555555556,
              "#1f9e89"
             ],
             [
              0.6666666666666666,
              "#35b779"
             ],
             [
              0.7777777777777778,
              "#6ece58"
             ],
             [
              0.8888888888888888,
              "#b5de2b"
             ],
             [
              1,
              "#fde725"
             ]
            ],
            "type": "surface"
           }
          ],
          "table": [
           {
            "cells": {
             "fill": {
              "color": "rgb(237,237,237)"
             },
             "line": {
              "color": "white"
             }
            },
            "header": {
             "fill": {
              "color": "rgb(217,217,217)"
             },
             "line": {
              "color": "white"
             }
            },
            "type": "table"
           }
          ]
         },
         "layout": {
          "annotationdefaults": {
           "arrowhead": 0,
           "arrowwidth": 1
          },
          "autotypenumbers": "strict",
          "coloraxis": {
           "colorbar": {
            "outlinewidth": 1,
            "tickcolor": "rgb(36,36,36)",
            "ticks": "outside"
           }
          },
          "colorscale": {
           "diverging": [
            [
             0,
             "rgb(103,0,31)"
            ],
            [
             0.1,
             "rgb(178,24,43)"
            ],
            [
             0.2,
             "rgb(214,96,77)"
            ],
            [
             0.3,
             "rgb(244,165,130)"
            ],
            [
             0.4,
             "rgb(253,219,199)"
            ],
            [
             0.5,
             "rgb(247,247,247)"
            ],
            [
             0.6,
             "rgb(209,229,240)"
            ],
            [
             0.7,
             "rgb(146,197,222)"
            ],
            [
             0.8,
             "rgb(67,147,195)"
            ],
            [
             0.9,
             "rgb(33,102,172)"
            ],
            [
             1,
             "rgb(5,48,97)"
            ]
           ],
           "sequential": [
            [
             0,
             "#440154"
            ],
            [
             0.1111111111111111,
             "#482878"
            ],
            [
             0.2222222222222222,
             "#3e4989"
            ],
            [
             0.3333333333333333,
             "#31688e"
            ],
            [
             0.4444444444444444,
             "#26828e"
            ],
            [
             0.5555555555555556,
             "#1f9e89"
            ],
            [
             0.6666666666666666,
             "#35b779"
            ],
            [
             0.7777777777777778,
             "#6ece58"
            ],
            [
             0.8888888888888888,
             "#b5de2b"
            ],
            [
             1,
             "#fde725"
            ]
           ],
           "sequentialminus": [
            [
             0,
             "#440154"
            ],
            [
             0.1111111111111111,
             "#482878"
            ],
            [
             0.2222222222222222,
             "#3e4989"
            ],
            [
             0.3333333333333333,
             "#31688e"
            ],
            [
             0.4444444444444444,
             "#26828e"
            ],
            [
             0.5555555555555556,
             "#1f9e89"
            ],
            [
             0.6666666666666666,
             "#35b779"
            ],
            [
             0.7777777777777778,
             "#6ece58"
            ],
            [
             0.8888888888888888,
             "#b5de2b"
            ],
            [
             1,
             "#fde725"
            ]
           ]
          },
          "colorway": [
           "#1F77B4",
           "#FF7F0E",
           "#2CA02C",
           "#D62728",
           "#9467BD",
           "#8C564B",
           "#E377C2",
           "#7F7F7F",
           "#BCBD22",
           "#17BECF"
          ],
          "font": {
           "color": "rgb(36,36,36)"
          },
          "geo": {
           "bgcolor": "white",
           "lakecolor": "white",
           "landcolor": "white",
           "showlakes": true,
           "showland": true,
           "subunitcolor": "white"
          },
          "hoverlabel": {
           "align": "left"
          },
          "hovermode": "closest",
          "mapbox": {
           "style": "light"
          },
          "paper_bgcolor": "white",
          "plot_bgcolor": "white",
          "polar": {
           "angularaxis": {
            "gridcolor": "rgb(232,232,232)",
            "linecolor": "rgb(36,36,36)",
            "showgrid": false,
            "showline": true,
            "ticks": "outside"
           },
           "bgcolor": "white",
           "radialaxis": {
            "gridcolor": "rgb(232,232,232)",
            "linecolor": "rgb(36,36,36)",
            "showgrid": false,
            "showline": true,
            "ticks": "outside"
           }
          },
          "scene": {
           "xaxis": {
            "backgroundcolor": "white",
            "gridcolor": "rgb(232,232,232)",
            "gridwidth": 2,
            "linecolor": "rgb(36,36,36)",
            "showbackground": true,
            "showgrid": false,
            "showline": true,
            "ticks": "outside",
            "zeroline": false,
            "zerolinecolor": "rgb(36,36,36)"
           },
           "yaxis": {
            "backgroundcolor": "white",
            "gridcolor": "rgb(232,232,232)",
            "gridwidth": 2,
            "linecolor": "rgb(36,36,36)",
            "showbackground": true,
            "showgrid": false,
            "showline": true,
            "ticks": "outside",
            "zeroline": false,
            "zerolinecolor": "rgb(36,36,36)"
           },
           "zaxis": {
            "backgroundcolor": "white",
            "gridcolor": "rgb(232,232,232)",
            "gridwidth": 2,
            "linecolor": "rgb(36,36,36)",
            "showbackground": true,
            "showgrid": false,
            "showline": true,
            "ticks": "outside",
            "zeroline": false,
            "zerolinecolor": "rgb(36,36,36)"
           }
          },
          "shapedefaults": {
           "fillcolor": "black",
           "line": {
            "width": 0
           },
           "opacity": 0.3
          },
          "ternary": {
           "aaxis": {
            "gridcolor": "rgb(232,232,232)",
            "linecolor": "rgb(36,36,36)",
            "showgrid": false,
            "showline": true,
            "ticks": "outside"
           },
           "baxis": {
            "gridcolor": "rgb(232,232,232)",
            "linecolor": "rgb(36,36,36)",
            "showgrid": false,
            "showline": true,
            "ticks": "outside"
           },
           "bgcolor": "white",
           "caxis": {
            "gridcolor": "rgb(232,232,232)",
            "linecolor": "rgb(36,36,36)",
            "showgrid": false,
            "showline": true,
            "ticks": "outside"
           }
          },
          "title": {
           "x": 0.05
          },
          "xaxis": {
           "automargin": true,
           "gridcolor": "rgb(232,232,232)",
           "linecolor": "rgb(36,36,36)",
           "showgrid": false,
           "showline": true,
           "ticks": "outside",
           "title": {
            "standoff": 15
           },
           "zeroline": false,
           "zerolinecolor": "rgb(36,36,36)"
          },
          "yaxis": {
           "automargin": true,
           "gridcolor": "rgb(232,232,232)",
           "linecolor": "rgb(36,36,36)",
           "showgrid": false,
           "showline": true,
           "ticks": "outside",
           "title": {
            "standoff": 15
           },
           "zeroline": false,
           "zerolinecolor": "rgb(36,36,36)"
          }
         }
        },
        "title": {
         "font": {
          "color": "black",
          "family": "Arial",
          "size": 24
         },
         "text": "Scatter Plot of PBE band gap vs HSE band gap",
         "x": 0.5
        },
        "width": 1000,
        "xaxis": {
         "anchor": "y",
         "domain": [
          0,
          1
         ],
         "tickfont": {
          "color": "black",
          "size": 20
         },
         "title": {
          "font": {
           "family": "Arial",
           "size": 18
          },
          "text": "PBE Band Gap"
         }
        },
        "yaxis": {
         "anchor": "x",
         "domain": [
          0,
          1
         ],
         "tickfont": {
          "color": "black",
          "size": 20
         },
         "title": {
          "font": {
           "family": "Arial",
           "size": 18
          },
          "text": "HSE Band Gap"
         }
        }
       }
      }
     },
     "metadata": {},
     "output_type": "display_data"
    }
   ],
   "source": [
    "import plotly.express as px\n",
    "import plotly.graph_objects as go\n",
    "\n",
    "# Assuming df is your DataFrame\n",
    "fig = px.scatter(df, x='PBE_band_gap', y='HSE_band_gap', \n",
    "                 title='Scatter Plot of PBE band gap vs HSE band gap',\n",
    "                 width=1000, height=800,\n",
    "                 color_discrete_sequence=['royalblue'],\n",
    "                 labels={'PBE_band_gap': 'PBE Band Gap', 'HSE_band_gap': 'HSE Band Gap'})\n",
    "\n",
    "# Adding x=y dashed line\n",
    "fig.add_trace(go.Scatter(\n",
    "    x=[df['PBE_band_gap'].min(), 2.5],\n",
    "    y=[df['PBE_band_gap'].min(), 2.5],\n",
    "    mode='lines',\n",
    "    line=dict(dash='dot', color='black'),\n",
    "    showlegend=False\n",
    "))\n",
    "\n",
    "fig.layout.template = 'simple_white'\n",
    "\n",
    "fig.update_layout(\n",
    "    font_family=\"Courier New\",\n",
    "    font_color=\"black\",\n",
    "    title_font_family=\"Arial\",\n",
    "    title_font_color=\"black\",\n",
    "    legend_title_font_color=\"green\",\n",
    "    title_font_size = 24,\n",
    "    title_x=0.5,\n",
    "    plot_bgcolor='white'\n",
    "\n",
    ")\n",
    "\n",
    "fig.update_xaxes(title_font_family=\"Arial\",tickfont=dict(color='black'), tickfont_size = 20, title_font_size = 18)\n",
    "fig.update_yaxes(title_font_family=\"Arial\",tickfont=dict(color='black'), tickfont_size = 20, title_font_size = 18)\n",
    "\n",
    "config = {\n",
    "    'toImageButtonOptions': {\n",
    "        'format': 'png',  # one of png, svg, jpeg, webp\n",
    "        'filename': 'custom_image',\n",
    "        'height': 500,\n",
    "        'width': 700,\n",
    "        'scale': 6  # Multiply title/legend/axis/canvas sizes by this factor\n",
    "    }\n",
    "}\n",
    "\n",
    "fig.show(config=config)\n"
   ]
  },
  {
   "cell_type": "markdown",
   "metadata": {},
   "source": [
    "## Making stability values with own parameters\n"
   ]
  },
  {
   "cell_type": "code",
   "execution_count": 91,
   "metadata": {},
   "outputs": [],
   "source": [
    "df['stable2'] = (df['e_above_hull'] <= 0.05).astype(int)"
   ]
  },
  {
   "cell_type": "code",
   "execution_count": 92,
   "metadata": {},
   "outputs": [
    {
     "name": "stdout",
     "output_type": "stream",
     "text": [
      "Number of 1's in column 'stable': 59\n"
     ]
    }
   ],
   "source": [
    "count_of_ones = df['stable2'].sum()\n",
    "print(\"Number of 1's in column 'stable':\", count_of_ones)"
   ]
  },
  {
   "cell_type": "markdown",
   "metadata": {},
   "source": [
    "## Preparing X,y "
   ]
  },
  {
   "cell_type": "markdown",
   "metadata": {},
   "source": [
    "### For prediciting PBE bandgap energy\n"
   ]
  },
  {
   "cell_type": "code",
   "execution_count": 103,
   "metadata": {},
   "outputs": [
    {
     "name": "stdout",
     "output_type": "stream",
     "text": [
      "There are 34 possible descriptors:\n",
      "\n",
      "['A_HOMO' 'A_IE' 'A_IR' 'A_LUMO' 'A_OS' 'A_X' 'A_Z_radii' 'A_e_affin'\n",
      " 'B_HOMO' 'B_IE' 'B_IR' 'B_LUMO' 'B_OS' 'B_X' 'B_Z_radii' 'B_e_affin' 'mu'\n",
      " 'tau' 'PBE_vbm' 'PBE_cbm' 'HSE_vbm' 'HSE_cbm' 'total_energy'\n",
      " 'e_above_hull' 'stable' 'efermi' 'density' 'volume' 'HSE_band_gap'\n",
      " 'PBE_insulator' 'HSE_insulator' 'a' 'b' 'c']\n",
      "There are 31 possible descriptors:\n",
      "\n",
      "['A_HOMO' 'A_IE' 'A_IR' 'A_LUMO' 'A_OS' 'A_X' 'A_Z_radii' 'A_e_affin'\n",
      " 'B_HOMO' 'B_IE' 'B_IR' 'B_LUMO' 'B_OS' 'B_X' 'B_Z_radii' 'B_e_affin' 'mu'\n",
      " 'tau' 'PBE_vbm' 'PBE_cbm' 'total_energy' 'e_above_hull' 'stable' 'efermi'\n",
      " 'density' 'volume' 'PBE_insulator' 'HSE_insulator' 'a' 'b' 'c']\n"
     ]
    }
   ],
   "source": [
    "excluded_incHSE = [\"A\", \"B\", \"functional_group\", \"training_type\", \"PBE_band_gap\", \"composition\", \"PBE_direct\", \"stable2\", \"HSE_direct\"] #, \"total_energy\"] #, \"stable\"] #, \"volume\", \"c\"]\n",
    "excluded_excHSE = [\"A\", \"B\", \"functional_group\", \"training_type\", \"PBE_band_gap\", \"composition\", \"HSE_direct\", \"PBE_direct\", \"stable2\", \"HSE_band_gap\", \"HSE_cbm\", \"HSE_vbm\"] #, \"total_energy\"] #, \"stable\"] #, \"volume\", \"c\"]\n",
    "y_PBE = df['PBE_band_gap'].values\n",
    "X_PBE = df.drop(excluded_incHSE, axis=1)\n",
    "X2_PBE = df.drop(excluded_excHSE, axis=1)\n",
    "print(\"There are {} possible descriptors:\\n\\n{}\".format(X_PBE.shape[1], X_PBE.columns.values))\n",
    "print(\"There are {} possible descriptors:\\n\\n{}\".format(X2_PBE.shape[1], X2_PBE.columns.values))"
   ]
  },
  {
   "cell_type": "markdown",
   "metadata": {},
   "source": [
    "### For prediciting HSE bandgap energy\n"
   ]
  },
  {
   "cell_type": "code",
   "execution_count": 45,
   "metadata": {},
   "outputs": [
    {
     "name": "stdout",
     "output_type": "stream",
     "text": [
      "There are 32 possible descriptors:\n",
      "\n",
      "['A_HOMO' 'A_IE' 'A_IR' 'A_LUMO' 'A_OS' 'A_X' 'A_Z_radii' 'A_e_affin'\n",
      " 'B_HOMO' 'B_IE' 'B_IR' 'B_LUMO' 'B_OS' 'B_X' 'B_Z_radii' 'B_e_affin' 'mu'\n",
      " 'tau' 'PBE_vbm' 'PBE_cbm' 'PBE_band_gap' 'total_energy' 'e_above_hull'\n",
      " 'stable' 'efermi' 'density' 'volume' 'PBE_insulator' 'HSE_insulator' 'a'\n",
      " 'b' 'c']\n",
      "There are 31 possible descriptors:\n",
      "\n",
      "['A_HOMO' 'A_IE' 'A_IR' 'A_LUMO' 'A_OS' 'A_X' 'A_Z_radii' 'A_e_affin'\n",
      " 'B_HOMO' 'B_IE' 'B_IR' 'B_LUMO' 'B_OS' 'B_X' 'B_Z_radii' 'B_e_affin' 'mu'\n",
      " 'tau' 'PBE_vbm' 'PBE_cbm' 'PBE_band_gap' 'total_energy' 'e_above_hull'\n",
      " 'stable' 'efermi' 'density' 'volume' 'PBE_insulator' 'a' 'b' 'c']\n"
     ]
    }
   ],
   "source": [
    "excluded_incHSEIN = [\"A\", \"B\", \"functional_group\", \"training_type\", \"HSE_band_gap\", \"composition\", \"HSE_direct\", \"PBE_direct\", \"stable2\", 'HSE_vbm', 'HSE_cbm'] #, \"total_energy\"] #, \"stable\"] #, \"volume\", \"c\"]\n",
    "excluded_excHSEIN = [\"A\", \"B\", \"functional_group\", \"training_type\", \"HSE_band_gap\", \"composition\", \"HSE_direct\", \"PBE_direct\", \"stable2\", 'HSE_vbm', 'HSE_cbm', 'HSE_insulator'] #, \"total_energy\"] #, \"stable\"] #, \"volume\", \"c\"]\n",
    "y_HSE = df['HSE_band_gap'].values\n",
    "X_HSE = df.drop(excluded_incHSEIN, axis=1)\n",
    "X2_HSE = df.drop(excluded_excHSEIN, axis=1)\n",
    "print(\"There are {} possible descriptors:\\n\\n{}\".format(X_HSE.shape[1], X_HSE.columns.values))\n",
    "print(\"There are {} possible descriptors:\\n\\n{}\".format(X2_HSE.shape[1], X2_HSE.columns.values))"
   ]
  },
  {
   "cell_type": "markdown",
   "metadata": {},
   "source": [
    "## Choosing model based on 10-fold crossvalidation scores"
   ]
  },
  {
   "cell_type": "code",
   "execution_count": 46,
   "metadata": {},
   "outputs": [
    {
     "name": "stdout",
     "output_type": "stream",
     "text": [
      "Model: XGBRegressor\n",
      "Cross-validation results:\n",
      "Folds: 10, mean R2: 0.916\n",
      "Folds: 10, mean RMSE: 0.069\n",
      "\n",
      "Model: RandomForestRegressor\n",
      "Cross-validation results:\n",
      "Folds: 10, mean R2: 0.910\n",
      "Folds: 10, mean RMSE: 0.071\n",
      "\n",
      "Model: LinearRegression\n",
      "Cross-validation results:\n",
      "Folds: 10, mean R2: 5.811\n",
      "Folds: 10, mean RMSE: 0.193\n",
      "\n"
     ]
    }
   ],
   "source": [
    "from xgboost import XGBRegressor\n",
    "from sklearn.ensemble import RandomForestRegressor\n",
    "from sklearn.linear_model import LinearRegression\n",
    "from sklearn.model_selection import KFold, cross_val_score\n",
    "import numpy as np\n",
    "\n",
    "# Assuming X_PBE and y_PBE are your features and target variables\n",
    "\n",
    "# XGBoost Regressor\n",
    "xgb_reg = XGBRegressor(n_estimators=200, random_state=22, learning_rate=0.5)\n",
    "\n",
    "# Random Forest Regressor\n",
    "rf_reg = RandomForestRegressor(n_estimators=200, random_state=21)\n",
    "\n",
    "# Linear Regression\n",
    "lr_reg = LinearRegression()\n",
    "\n",
    "# Models\n",
    "models = [xgb_reg, rf_reg, lr_reg]\n",
    "\n",
    "for model in models:\n",
    "    # Use 10-fold cross-validation (90% training, 10% test)\n",
    "    crossvalidation = KFold(n_splits=10, shuffle=True, random_state=8)\n",
    "    scores_mse = cross_val_score(model, X_PBE, y_PBE, scoring='neg_mean_squared_error', cv=crossvalidation, n_jobs=1)\n",
    "    scores_r2 = cross_val_score(model, X_PBE, y_PBE, scoring='r2', cv=crossvalidation, n_jobs=1)\n",
    "\n",
    "    rmse_scores = [np.sqrt(abs(s)) for s in scores_mse]\n",
    "\n",
    "    print(f'Model: {type(model).__name__}')\n",
    "    print('Cross-validation results:')\n",
    "    print(f'Folds: {len(scores_mse)}, mean R2: {np.mean(np.abs(scores_r2)):.3f}')\n",
    "    print(f'Folds: {len(scores_mse)}, mean RMSE: {np.mean(np.abs(rmse_scores)):.3f}\\n')\n"
   ]
  },
  {
   "cell_type": "markdown",
   "metadata": {},
   "source": [
    "## XGBoost"
   ]
  },
  {
   "cell_type": "markdown",
   "metadata": {},
   "source": [
    "## Only to check optimum values for the XGBoost model\n"
   ]
  },
  {
   "cell_type": "code",
   "execution_count": 36,
   "metadata": {},
   "outputs": [
    {
     "name": "stdout",
     "output_type": "stream",
     "text": [
      "Best RMSE: 0.031 obtained with random seed: 6\n"
     ]
    }
   ],
   "source": [
    "'''from xgboost import XGBRegressor\n",
    "from sklearn.metrics import mean_squared_error\n",
    "\n",
    "best_rmse = float('inf')\n",
    "best_seed = None\n",
    "\n",
    "for seed in range(1, 43):\n",
    "    # Split the data into train and test sets using the current seed\n",
    "    X_train, X_test, y_train, y_test = train_test_split(X, y, test_size=0.09, random_state=seed)\n",
    "\n",
    "    # Extract and drop the 'functional_group' column\n",
    "    train_formula = X_train[('functional_group', 'stable')]\n",
    "    X_train = X_train.drop(['functional_group', 'stable'], axis=1)\n",
    "    test_formula = X_test['functional_group']\n",
    "    X_test = X_test.drop(['functional_group', 'stable'], axis=1)\n",
    "\n",
    "    # Create an XGBoost regressor\n",
    "    xgb_reg = XGBRegressor(n_estimators=100, random_state=5)\n",
    "    xgb_reg.fit(X_train, y_train)\n",
    "\n",
    "    # Calculate RMSE on the test set\n",
    "    current_rmse = np.sqrt(mean_squared_error(y_true=y_test, y_pred=xgb_reg.predict(X_test)))\n",
    "\n",
    "    # Update best RMSE and seed if the current RMSE is better\n",
    "    if current_rmse < best_rmse:\n",
    "        best_rmse = current_rmse\n",
    "        best_seed = seed\n",
    "\n",
    "print(f'Best RMSE: {best_rmse:.3f} obtained with random seed: {best_seed}')'''\n"
   ]
  },
  {
   "cell_type": "markdown",
   "metadata": {},
   "source": [
    "## For prediciting PBE bandgap"
   ]
  },
  {
   "cell_type": "markdown",
   "metadata": {},
   "source": [
    "### Predicting PBE Bandgap including HSE features"
   ]
  },
  {
   "cell_type": "code",
   "execution_count": 104,
   "metadata": {},
   "outputs": [
    {
     "name": "stdout",
     "output_type": "stream",
     "text": [
      "Training R2 = 1.0\n",
      "Training RMSE = 0.001\n",
      "Test R2 = 0.94\n",
      "Test RMSE = 0.057\n"
     ]
    }
   ],
   "source": [
    "from xgboost import XGBRegressor\n",
    "from sklearn.metrics import mean_squared_error\n",
    "from sklearn.model_selection import train_test_split\n",
    "\n",
    "# Assuming X, y, and df are already defined\n",
    "\n",
    "# Add 'functional_group' to X\n",
    "X_PBE['functional_group'] = df['functional_group']\n",
    "\n",
    "# Add 'stable' to X\n",
    "X_PBE['stable'] = df['stable']\n",
    "\n",
    "# Specify the test size\n",
    "test_size = 0.2\n",
    "\n",
    "# Split the data into train and test sets while maintaining the proportion of 'stable'\n",
    "X_train, X_test, y_train, y_test = train_test_split(X_PBE, y_PBE, test_size=test_size, random_state=21, stratify=X_PBE['stable'])\n",
    "\n",
    "# Extract and drop the 'functional_group' and 'stable' columns\n",
    "train_formula = X_train[['functional_group', 'stable']]\n",
    "X_train = X_train.drop(['functional_group', 'stable'], axis=1)\n",
    "test_formula = X_test[['functional_group', 'stable']]\n",
    "X_test = X_test.drop(['functional_group', 'stable'], axis=1)\n",
    "\n",
    "# Create an XGBoost regressor\n",
    "xgb_reg = XGBRegressor(n_estimators=200, random_state=9, learning_rate=0.5)\n",
    "xgb_reg.fit(X_train, y_train)\n",
    "\n",
    "# Get fit statistics\n",
    "print('Training R2 = ' + str(round(xgb_reg.score(X_train, y_train), 3)))\n",
    "print('Training RMSE = %.3f' % np.sqrt(mean_squared_error(y_true=y_train, y_pred=xgb_reg.predict(X_train))))\n",
    "print('Test R2 = ' + str(round(xgb_reg.score(X_test, y_test), 3)))\n",
    "print('Test RMSE = %.3f' % np.sqrt(mean_squared_error(y_true=y_test, y_pred=xgb_reg.predict(X_test))))\n"
   ]
  },
  {
   "cell_type": "markdown",
   "metadata": {},
   "source": [
    "### Graph for predicting PBE Bandgap including HSE features"
   ]
  },
  {
   "cell_type": "code",
   "execution_count": 114,
   "metadata": {},
   "outputs": [
    {
     "data": {
      "application/vnd.plotly.v1+json": {
       "config": {
        "plotlyServerURL": "https://plot.ly",
        "toImageButtonOptions": {
         "filename": "custom_image",
         "format": "png",
         "height": 500,
         "scale": 6,
         "width": 700
        }
       },
       "data": [
        {
         "marker": {
          "color": [
           "black",
           "black",
           "black",
           "black",
           "black",
           "black",
           "black",
           "green",
           "black",
           "black",
           "black",
           "black",
           "green",
           "black",
           "black",
           "black",
           "black",
           "black",
           "black",
           "black",
           "black",
           "black",
           "black",
           "black",
           "black",
           "black",
           "black",
           "green",
           "green",
           "black",
           "black",
           "black",
           "black",
           "black",
           "black",
           "black",
           "black",
           "black",
           "black",
           "black",
           "black",
           "black",
           "black",
           "black",
           "black",
           "green",
           "black",
           "black",
           "green",
           "black",
           "black",
           "black",
           "black",
           "black",
           "black",
           "black",
           "black",
           "black",
           "black",
           "black",
           "black",
           "black",
           "black",
           "black",
           "black",
           "green",
           "black",
           "black",
           "black",
           "black",
           "black",
           "black",
           "black",
           "black",
           "black",
           "black",
           "black",
           "black",
           "black",
           "black",
           "black",
           "black",
           "black",
           "black",
           "black",
           "black",
           "black",
           "black",
           "black",
           "black",
           "black",
           "black",
           "black",
           "black",
           "black",
           "black",
           "black",
           "black",
           "black",
           "black",
           "black",
           "black",
           "black",
           "black",
           "black",
           "black",
           "black",
           "black",
           "black",
           "black",
           "black",
           "black",
           "black",
           "black",
           "black",
           "black",
           "black",
           "black",
           "black",
           "black",
           "black",
           "black",
           "black",
           "black",
           "black",
           "black",
           "black",
           "black",
           "black",
           "black",
           "black",
           "black",
           "black",
           "black",
           "black",
           "black",
           "black",
           "green",
           "black",
           "black",
           "green",
           "black",
           "black",
           "black",
           "black",
           "black",
           "green",
           "green",
           "black",
           "black",
           "black",
           "black",
           "black",
           "black",
           "green",
           "black",
           "black",
           "black",
           "black",
           "black",
           "black",
           "black",
           "black",
           "black",
           "black",
           "black",
           "black",
           "black",
           "green",
           "black",
           "black",
           "black",
           "black",
           "black",
           "black",
           "black",
           "black",
           "black",
           "black",
           "black",
           "black",
           "black",
           "black",
           "black"
          ],
          "size": 6
         },
         "mode": "markers",
         "name": "Test Set",
         "type": "scatter",
         "x": [
          0.068799999999999,
          0,
          0.008499999999999001,
          0.005099999999999,
          0.0117,
          0.004699999999999,
          0.43650000000000005,
          0.006899999999999001,
          0,
          0.003699999999999,
          0.6562,
          0,
          0.08569999999999901,
          0.068899999999999,
          0.18700000000000003,
          0,
          0.014699999999999,
          0,
          0,
          0.0198,
          0,
          0.005999999999999,
          0.024100000000000003,
          0.23019999999999902,
          0.022000000000000002,
          0.007699999999999,
          0,
          0.019699999999999003,
          0.0068000000000000005,
          0.21730000000000002,
          0,
          0.035099999999999,
          0,
          0.005600000000000001,
          0.022699999999999002,
          0.081599999999999,
          0.040999999999999,
          0,
          0.0071,
          0.915899999999999,
          0.211899999999999,
          0.011399999999999001,
          0.8954999999999991,
          0.034899999999999,
          0,
          0.0187,
          0.096,
          0.004,
          0,
          0.0041999999999990005,
          0.030499999999999004,
          0.446499999999999,
          0.061700000000000005,
          0.007200000000000001,
          0.2669,
          0,
          0.0239,
          0.107599999999999,
          0.0034999999999990004,
          0.007500000000000001,
          0.1368,
          0.023699999999999003,
          0.10829999999999901,
          0.1082,
          0.0034000000000000002,
          0.09100000000000001,
          0.27939999999999904,
          0.024999999999999002,
          0.002899999999999,
          0.028799999999999003,
          0,
          0.004799999999999,
          0.05670000000000001,
          0.9927999999999991,
          0,
          0.010599999999999,
          0.042699999999999,
          0.0665,
          0.0114,
          0,
          0,
          0,
          0.17750000000000002,
          0.10510000000000001,
          0.2353,
          0.012199999999999002,
          0.0025,
          0.2023,
          0.008,
          0.038200000000000005,
          0.373899999999999,
          0.051800000000000006,
          0.0034999999999990004,
          0.9256000000000001,
          0.011000000000000001,
          0.0649,
          0,
          0.0036000000000000003,
          0.016,
          0.023000000000000003,
          0.1164,
          0.013399999999999001,
          0,
          0.30649999999999905,
          0.002699999999999,
          0.8980999999999991,
          0.858599999999999,
          0,
          0.0067,
          0.042499999999999004,
          0.035299999999999006,
          0.0014999999999990002,
          0.039799999999999,
          0.12529999999999902,
          1.200799999999999,
          0.0181,
          0.05670000000000001,
          0.113999999999999,
          0.010900000000000002,
          0.7234,
          0.058100000000000006,
          0.030499999999999004,
          0.0625,
          0,
          0.041299999999999004,
          0.45219999999999905,
          0.059800000000000006,
          0.5227,
          0.05330000000000001,
          0.8607999999999991,
          0.6557000000000001,
          0.013500000000000002,
          0.011800000000000001,
          0.024700000000000003,
          0.7323000000000001,
          0.0094,
          0.11799999999999901,
          0.030199999999999002,
          0.0463,
          0.9878999999999991,
          0.013900000000000001,
          0,
          0.047099999999999004,
          0.0106,
          0.0758,
          0.0211,
          0.44560000000000005,
          0.5697000000000001,
          0.3498,
          0.30670000000000003,
          0.028099999999999,
          0.0064999999999990005,
          0.008199999999999001,
          0.025999999999999003,
          0.129199999999999,
          0.0020999999999990002,
          0.013800000000000002,
          0.051800000000000006,
          0,
          0.0074,
          0.07939999999999901,
          0.027199999999999003,
          0.0971,
          0.0035999999999990003,
          0,
          0.07149999999999901,
          0.026999999999999,
          0.0083,
          0,
          0.032599999999999005,
          0.0039000000000000003,
          0.0297,
          0.021900000000000003,
          0.020699999999999,
          0.090599999999999,
          0.28450000000000003,
          0.29289999999999905,
          0.0009000000000000001,
          0.0045000000000000005,
          0.28450000000000003,
          0.074799999999999,
          0.034100000000000005,
          0.0884,
          0.008799999999999001
         ],
         "y": [
          0.05031898245215416,
          0.014080684632062912,
          0.0030664450023323298,
          0.032791852951049805,
          0.017503315582871437,
          0.051582224667072296,
          0.4973016381263733,
          0.01680268533527851,
          0.006738273426890373,
          0.001269252854399383,
          0.6573798060417175,
          0.03941883146762848,
          0.06470497697591782,
          0.035734809935092926,
          0.20136266946792603,
          0.03399881348013878,
          0.0012552478583529592,
          0.006762923672795296,
          -0.0008307644166052341,
          0.03339175507426262,
          0.03681347519159317,
          0.02373797632753849,
          0.01583191193640232,
          0.1854640245437622,
          0.028739124536514282,
          0.006028138566762209,
          0.0011488512391224504,
          0.042263954877853394,
          0.004321996588259935,
          0.2460697740316391,
          0.06557764112949371,
          0.08975259214639664,
          0.013365106657147408,
          0.013729257509112358,
          0.005605893209576607,
          0.04629211500287056,
          0.027723856270313263,
          0.02468383125960827,
          0.021638669073581696,
          0.7473429441452026,
          0.19180108606815338,
          0.010807960294187069,
          0.8155718445777893,
          0.009122267365455627,
          -0.0070318179205060005,
          0.010480079799890518,
          0.05673279985785484,
          0.018419139087200165,
          0.02210479974746704,
          0.05110609531402588,
          0.08801184594631195,
          0.3614053428173065,
          0.016723046079277992,
          0.032257746905088425,
          0.19629406929016113,
          0.05662303790450096,
          0.032816626131534576,
          0.1866535097360611,
          0.028760185465216637,
          0.010751243680715561,
          0.2657931447029114,
          0.015816286206245422,
          0.2580001950263977,
          0.17752380669116974,
          0.014764831401407719,
          0.04850408434867859,
          0.34363192319869995,
          0.01666279323399067,
          0.03855283558368683,
          0.012292122468352318,
          0.009320888668298721,
          0.05358085781335831,
          0.011663977988064289,
          0.9034234285354614,
          0.012997196055948734,
          0.03501568362116814,
          0.050468940287828445,
          0.026200830936431885,
          0.007560225203633308,
          0.005057672969996929,
          -0.0056801531463861465,
          0.06870191544294357,
          0.20566785335540771,
          0.1790321320295334,
          0.14938358962535858,
          0.014200178906321526,
          0.013825605623424053,
          0.2113301008939743,
          0.015762681141495705,
          0.02203333005309105,
          0.22074665129184723,
          0.00907157827168703,
          0.06023779883980751,
          0.9178162813186646,
          0.022856181487441063,
          0.01880802772939205,
          0.008014513179659843,
          0.019512183964252472,
          0.007322919555008411,
          0.02389432303607464,
          0.23258408904075623,
          0.017167432233691216,
          0.014928610064089298,
          0.1941634863615036,
          0.011580752208828926,
          0.8699055314064026,
          0.7583878636360168,
          -0.0013402450131252408,
          0.0013278936967253685,
          0.01325453631579876,
          0.05333894491195679,
          0.02401675656437874,
          0.06255656480789185,
          0.21410156786441803,
          1.2926865816116333,
          -0.005261996295303106,
          0.03161139041185379,
          0.29124656319618225,
          0.025454333052039146,
          0.683069109916687,
          0.03932509571313858,
          0.02648119069635868,
          0.03661327809095383,
          -0.004749393090605736,
          0.010558191686868668,
          0.38668960332870483,
          0.008197997696697712,
          0.3647499084472656,
          0.01611485332250595,
          0.7259522676467896,
          0.5971329808235168,
          0.02632703073322773,
          0.0051599000580608845,
          0.018194446340203285,
          0.6667822599411011,
          0.006839999463409185,
          0.23030951619148254,
          0.024720733985304832,
          0.09489284455776215,
          0.8697364926338196,
          0.01774507202208042,
          0.007371572311967611,
          0.01427975669503212,
          0.011010882444679737,
          0.047534745186567307,
          0.017188528552651405,
          0.2688380479812622,
          0.23922140896320343,
          0.20826461911201477,
          0.2221570760011673,
          0.01367745641618967,
          0.00886062253266573,
          0.02911939099431038,
          0.03746785968542099,
          0.1867341697216034,
          0.025943778455257416,
          0.011710469610989094,
          0.027056720107793808,
          0.046986132860183716,
          0.012463703751564026,
          0.026461485773324966,
          0.026527704671025276,
          0.03543640673160553,
          0.008236461319029331,
          0.011011159978806973,
          0.02504417859017849,
          0.026524417102336884,
          0.013697881251573563,
          0.036011409014463425,
          0.0005107762990519404,
          0.06183994188904762,
          0.01790529116988182,
          0.018795041367411613,
          0.018017929047346115,
          0.04126344993710518,
          0.2633393704891205,
          0.2283911257982254,
          0.008731172420084476,
          0.011299493722617626,
          0.19752611219882965,
          0.10270999372005463,
          0.017343221232295036,
          0.015765059739351273,
          0.023793218657374382
         ]
        },
        {
         "line": {
          "color": "red",
          "dash": "dash",
          "width": 1.5
         },
         "mode": "lines",
         "name": "Ideal Prediction",
         "type": "scatter",
         "x": [
          0,
          1.200799999999999
         ],
         "y": [
          0,
          1.200799999999999
         ]
        },
        {
         "marker": {
          "color": "green",
          "size": 10
         },
         "mode": "markers",
         "name": "PBE direct",
         "type": "scatter",
         "x": [],
         "y": []
        },
        {
         "marker": {
          "color": "black",
          "size": 10
         },
         "mode": "markers",
         "name": "PBE indirect",
         "type": "scatter",
         "x": [],
         "y": []
        }
       ],
       "layout": {
        "annotations": [
         {
          "bgcolor": "rgba(255, 255, 255, 0.7)",
          "bordercolor": "black",
          "borderwidth": 1,
          "font": {
           "color": "black",
           "family": "Arial",
           "size": 12
          },
          "showarrow": false,
          "text": "Black points represent PBE bandgap is indirect<br>Green points represent PBE bandgap is direct",
          "x": 1,
          "xref": "paper",
          "y": 0.05,
          "yref": "paper"
         }
        ],
        "font": {
         "color": "black",
         "family": "Courier New"
        },
        "height": 800,
        "legend": {
         "title": {
          "font": {
           "color": "green"
          }
         }
        },
        "showlegend": false,
        "template": {
         "data": {
          "bar": [
           {
            "error_x": {
             "color": "rgb(36,36,36)"
            },
            "error_y": {
             "color": "rgb(36,36,36)"
            },
            "marker": {
             "line": {
              "color": "white",
              "width": 0.5
             },
             "pattern": {
              "fillmode": "overlay",
              "size": 10,
              "solidity": 0.2
             }
            },
            "type": "bar"
           }
          ],
          "barpolar": [
           {
            "marker": {
             "line": {
              "color": "white",
              "width": 0.5
             },
             "pattern": {
              "fillmode": "overlay",
              "size": 10,
              "solidity": 0.2
             }
            },
            "type": "barpolar"
           }
          ],
          "carpet": [
           {
            "aaxis": {
             "endlinecolor": "rgb(36,36,36)",
             "gridcolor": "white",
             "linecolor": "white",
             "minorgridcolor": "white",
             "startlinecolor": "rgb(36,36,36)"
            },
            "baxis": {
             "endlinecolor": "rgb(36,36,36)",
             "gridcolor": "white",
             "linecolor": "white",
             "minorgridcolor": "white",
             "startlinecolor": "rgb(36,36,36)"
            },
            "type": "carpet"
           }
          ],
          "choropleth": [
           {
            "colorbar": {
             "outlinewidth": 1,
             "tickcolor": "rgb(36,36,36)",
             "ticks": "outside"
            },
            "type": "choropleth"
           }
          ],
          "contour": [
           {
            "colorbar": {
             "outlinewidth": 1,
             "tickcolor": "rgb(36,36,36)",
             "ticks": "outside"
            },
            "colorscale": [
             [
              0,
              "#440154"
             ],
             [
              0.1111111111111111,
              "#482878"
             ],
             [
              0.2222222222222222,
              "#3e4989"
             ],
             [
              0.3333333333333333,
              "#31688e"
             ],
             [
              0.4444444444444444,
              "#26828e"
             ],
             [
              0.5555555555555556,
              "#1f9e89"
             ],
             [
              0.6666666666666666,
              "#35b779"
             ],
             [
              0.7777777777777778,
              "#6ece58"
             ],
             [
              0.8888888888888888,
              "#b5de2b"
             ],
             [
              1,
              "#fde725"
             ]
            ],
            "type": "contour"
           }
          ],
          "contourcarpet": [
           {
            "colorbar": {
             "outlinewidth": 1,
             "tickcolor": "rgb(36,36,36)",
             "ticks": "outside"
            },
            "type": "contourcarpet"
           }
          ],
          "heatmap": [
           {
            "colorbar": {
             "outlinewidth": 1,
             "tickcolor": "rgb(36,36,36)",
             "ticks": "outside"
            },
            "colorscale": [
             [
              0,
              "#440154"
             ],
             [
              0.1111111111111111,
              "#482878"
             ],
             [
              0.2222222222222222,
              "#3e4989"
             ],
             [
              0.3333333333333333,
              "#31688e"
             ],
             [
              0.4444444444444444,
              "#26828e"
             ],
             [
              0.5555555555555556,
              "#1f9e89"
             ],
             [
              0.6666666666666666,
              "#35b779"
             ],
             [
              0.7777777777777778,
              "#6ece58"
             ],
             [
              0.8888888888888888,
              "#b5de2b"
             ],
             [
              1,
              "#fde725"
             ]
            ],
            "type": "heatmap"
           }
          ],
          "heatmapgl": [
           {
            "colorbar": {
             "outlinewidth": 1,
             "tickcolor": "rgb(36,36,36)",
             "ticks": "outside"
            },
            "colorscale": [
             [
              0,
              "#440154"
             ],
             [
              0.1111111111111111,
              "#482878"
             ],
             [
              0.2222222222222222,
              "#3e4989"
             ],
             [
              0.3333333333333333,
              "#31688e"
             ],
             [
              0.4444444444444444,
              "#26828e"
             ],
             [
              0.5555555555555556,
              "#1f9e89"
             ],
             [
              0.6666666666666666,
              "#35b779"
             ],
             [
              0.7777777777777778,
              "#6ece58"
             ],
             [
              0.8888888888888888,
              "#b5de2b"
             ],
             [
              1,
              "#fde725"
             ]
            ],
            "type": "heatmapgl"
           }
          ],
          "histogram": [
           {
            "marker": {
             "line": {
              "color": "white",
              "width": 0.6
             }
            },
            "type": "histogram"
           }
          ],
          "histogram2d": [
           {
            "colorbar": {
             "outlinewidth": 1,
             "tickcolor": "rgb(36,36,36)",
             "ticks": "outside"
            },
            "colorscale": [
             [
              0,
              "#440154"
             ],
             [
              0.1111111111111111,
              "#482878"
             ],
             [
              0.2222222222222222,
              "#3e4989"
             ],
             [
              0.3333333333333333,
              "#31688e"
             ],
             [
              0.4444444444444444,
              "#26828e"
             ],
             [
              0.5555555555555556,
              "#1f9e89"
             ],
             [
              0.6666666666666666,
              "#35b779"
             ],
             [
              0.7777777777777778,
              "#6ece58"
             ],
             [
              0.8888888888888888,
              "#b5de2b"
             ],
             [
              1,
              "#fde725"
             ]
            ],
            "type": "histogram2d"
           }
          ],
          "histogram2dcontour": [
           {
            "colorbar": {
             "outlinewidth": 1,
             "tickcolor": "rgb(36,36,36)",
             "ticks": "outside"
            },
            "colorscale": [
             [
              0,
              "#440154"
             ],
             [
              0.1111111111111111,
              "#482878"
             ],
             [
              0.2222222222222222,
              "#3e4989"
             ],
             [
              0.3333333333333333,
              "#31688e"
             ],
             [
              0.4444444444444444,
              "#26828e"
             ],
             [
              0.5555555555555556,
              "#1f9e89"
             ],
             [
              0.6666666666666666,
              "#35b779"
             ],
             [
              0.7777777777777778,
              "#6ece58"
             ],
             [
              0.8888888888888888,
              "#b5de2b"
             ],
             [
              1,
              "#fde725"
             ]
            ],
            "type": "histogram2dcontour"
           }
          ],
          "mesh3d": [
           {
            "colorbar": {
             "outlinewidth": 1,
             "tickcolor": "rgb(36,36,36)",
             "ticks": "outside"
            },
            "type": "mesh3d"
           }
          ],
          "parcoords": [
           {
            "line": {
             "colorbar": {
              "outlinewidth": 1,
              "tickcolor": "rgb(36,36,36)",
              "ticks": "outside"
             }
            },
            "type": "parcoords"
           }
          ],
          "pie": [
           {
            "automargin": true,
            "type": "pie"
           }
          ],
          "scatter": [
           {
            "fillpattern": {
             "fillmode": "overlay",
             "size": 10,
             "solidity": 0.2
            },
            "type": "scatter"
           }
          ],
          "scatter3d": [
           {
            "line": {
             "colorbar": {
              "outlinewidth": 1,
              "tickcolor": "rgb(36,36,36)",
              "ticks": "outside"
             }
            },
            "marker": {
             "colorbar": {
              "outlinewidth": 1,
              "tickcolor": "rgb(36,36,36)",
              "ticks": "outside"
             }
            },
            "type": "scatter3d"
           }
          ],
          "scattercarpet": [
           {
            "marker": {
             "colorbar": {
              "outlinewidth": 1,
              "tickcolor": "rgb(36,36,36)",
              "ticks": "outside"
             }
            },
            "type": "scattercarpet"
           }
          ],
          "scattergeo": [
           {
            "marker": {
             "colorbar": {
              "outlinewidth": 1,
              "tickcolor": "rgb(36,36,36)",
              "ticks": "outside"
             }
            },
            "type": "scattergeo"
           }
          ],
          "scattergl": [
           {
            "marker": {
             "colorbar": {
              "outlinewidth": 1,
              "tickcolor": "rgb(36,36,36)",
              "ticks": "outside"
             }
            },
            "type": "scattergl"
           }
          ],
          "scattermapbox": [
           {
            "marker": {
             "colorbar": {
              "outlinewidth": 1,
              "tickcolor": "rgb(36,36,36)",
              "ticks": "outside"
             }
            },
            "type": "scattermapbox"
           }
          ],
          "scatterpolar": [
           {
            "marker": {
             "colorbar": {
              "outlinewidth": 1,
              "tickcolor": "rgb(36,36,36)",
              "ticks": "outside"
             }
            },
            "type": "scatterpolar"
           }
          ],
          "scatterpolargl": [
           {
            "marker": {
             "colorbar": {
              "outlinewidth": 1,
              "tickcolor": "rgb(36,36,36)",
              "ticks": "outside"
             }
            },
            "type": "scatterpolargl"
           }
          ],
          "scatterternary": [
           {
            "marker": {
             "colorbar": {
              "outlinewidth": 1,
              "tickcolor": "rgb(36,36,36)",
              "ticks": "outside"
             }
            },
            "type": "scatterternary"
           }
          ],
          "surface": [
           {
            "colorbar": {
             "outlinewidth": 1,
             "tickcolor": "rgb(36,36,36)",
             "ticks": "outside"
            },
            "colorscale": [
             [
              0,
              "#440154"
             ],
             [
              0.1111111111111111,
              "#482878"
             ],
             [
              0.2222222222222222,
              "#3e4989"
             ],
             [
              0.3333333333333333,
              "#31688e"
             ],
             [
              0.4444444444444444,
              "#26828e"
             ],
             [
              0.5555555555555556,
              "#1f9e89"
             ],
             [
              0.6666666666666666,
              "#35b779"
             ],
             [
              0.7777777777777778,
              "#6ece58"
             ],
             [
              0.8888888888888888,
              "#b5de2b"
             ],
             [
              1,
              "#fde725"
             ]
            ],
            "type": "surface"
           }
          ],
          "table": [
           {
            "cells": {
             "fill": {
              "color": "rgb(237,237,237)"
             },
             "line": {
              "color": "white"
             }
            },
            "header": {
             "fill": {
              "color": "rgb(217,217,217)"
             },
             "line": {
              "color": "white"
             }
            },
            "type": "table"
           }
          ]
         },
         "layout": {
          "annotationdefaults": {
           "arrowhead": 0,
           "arrowwidth": 1
          },
          "autotypenumbers": "strict",
          "coloraxis": {
           "colorbar": {
            "outlinewidth": 1,
            "tickcolor": "rgb(36,36,36)",
            "ticks": "outside"
           }
          },
          "colorscale": {
           "diverging": [
            [
             0,
             "rgb(103,0,31)"
            ],
            [
             0.1,
             "rgb(178,24,43)"
            ],
            [
             0.2,
             "rgb(214,96,77)"
            ],
            [
             0.3,
             "rgb(244,165,130)"
            ],
            [
             0.4,
             "rgb(253,219,199)"
            ],
            [
             0.5,
             "rgb(247,247,247)"
            ],
            [
             0.6,
             "rgb(209,229,240)"
            ],
            [
             0.7,
             "rgb(146,197,222)"
            ],
            [
             0.8,
             "rgb(67,147,195)"
            ],
            [
             0.9,
             "rgb(33,102,172)"
            ],
            [
             1,
             "rgb(5,48,97)"
            ]
           ],
           "sequential": [
            [
             0,
             "#440154"
            ],
            [
             0.1111111111111111,
             "#482878"
            ],
            [
             0.2222222222222222,
             "#3e4989"
            ],
            [
             0.3333333333333333,
             "#31688e"
            ],
            [
             0.4444444444444444,
             "#26828e"
            ],
            [
             0.5555555555555556,
             "#1f9e89"
            ],
            [
             0.6666666666666666,
             "#35b779"
            ],
            [
             0.7777777777777778,
             "#6ece58"
            ],
            [
             0.8888888888888888,
             "#b5de2b"
            ],
            [
             1,
             "#fde725"
            ]
           ],
           "sequentialminus": [
            [
             0,
             "#440154"
            ],
            [
             0.1111111111111111,
             "#482878"
            ],
            [
             0.2222222222222222,
             "#3e4989"
            ],
            [
             0.3333333333333333,
             "#31688e"
            ],
            [
             0.4444444444444444,
             "#26828e"
            ],
            [
             0.5555555555555556,
             "#1f9e89"
            ],
            [
             0.6666666666666666,
             "#35b779"
            ],
            [
             0.7777777777777778,
             "#6ece58"
            ],
            [
             0.8888888888888888,
             "#b5de2b"
            ],
            [
             1,
             "#fde725"
            ]
           ]
          },
          "colorway": [
           "#1F77B4",
           "#FF7F0E",
           "#2CA02C",
           "#D62728",
           "#9467BD",
           "#8C564B",
           "#E377C2",
           "#7F7F7F",
           "#BCBD22",
           "#17BECF"
          ],
          "font": {
           "color": "rgb(36,36,36)"
          },
          "geo": {
           "bgcolor": "white",
           "lakecolor": "white",
           "landcolor": "white",
           "showlakes": true,
           "showland": true,
           "subunitcolor": "white"
          },
          "hoverlabel": {
           "align": "left"
          },
          "hovermode": "closest",
          "mapbox": {
           "style": "light"
          },
          "paper_bgcolor": "white",
          "plot_bgcolor": "white",
          "polar": {
           "angularaxis": {
            "gridcolor": "rgb(232,232,232)",
            "linecolor": "rgb(36,36,36)",
            "showgrid": false,
            "showline": true,
            "ticks": "outside"
           },
           "bgcolor": "white",
           "radialaxis": {
            "gridcolor": "rgb(232,232,232)",
            "linecolor": "rgb(36,36,36)",
            "showgrid": false,
            "showline": true,
            "ticks": "outside"
           }
          },
          "scene": {
           "xaxis": {
            "backgroundcolor": "white",
            "gridcolor": "rgb(232,232,232)",
            "gridwidth": 2,
            "linecolor": "rgb(36,36,36)",
            "showbackground": true,
            "showgrid": false,
            "showline": true,
            "ticks": "outside",
            "zeroline": false,
            "zerolinecolor": "rgb(36,36,36)"
           },
           "yaxis": {
            "backgroundcolor": "white",
            "gridcolor": "rgb(232,232,232)",
            "gridwidth": 2,
            "linecolor": "rgb(36,36,36)",
            "showbackground": true,
            "showgrid": false,
            "showline": true,
            "ticks": "outside",
            "zeroline": false,
            "zerolinecolor": "rgb(36,36,36)"
           },
           "zaxis": {
            "backgroundcolor": "white",
            "gridcolor": "rgb(232,232,232)",
            "gridwidth": 2,
            "linecolor": "rgb(36,36,36)",
            "showbackground": true,
            "showgrid": false,
            "showline": true,
            "ticks": "outside",
            "zeroline": false,
            "zerolinecolor": "rgb(36,36,36)"
           }
          },
          "shapedefaults": {
           "fillcolor": "black",
           "line": {
            "width": 0
           },
           "opacity": 0.3
          },
          "ternary": {
           "aaxis": {
            "gridcolor": "rgb(232,232,232)",
            "linecolor": "rgb(36,36,36)",
            "showgrid": false,
            "showline": true,
            "ticks": "outside"
           },
           "baxis": {
            "gridcolor": "rgb(232,232,232)",
            "linecolor": "rgb(36,36,36)",
            "showgrid": false,
            "showline": true,
            "ticks": "outside"
           },
           "bgcolor": "white",
           "caxis": {
            "gridcolor": "rgb(232,232,232)",
            "linecolor": "rgb(36,36,36)",
            "showgrid": false,
            "showline": true,
            "ticks": "outside"
           }
          },
          "title": {
           "x": 0.05
          },
          "xaxis": {
           "automargin": true,
           "gridcolor": "rgb(232,232,232)",
           "linecolor": "rgb(36,36,36)",
           "showgrid": false,
           "showline": true,
           "ticks": "outside",
           "title": {
            "standoff": 15
           },
           "zeroline": false,
           "zerolinecolor": "rgb(36,36,36)"
          },
          "yaxis": {
           "automargin": true,
           "gridcolor": "rgb(232,232,232)",
           "linecolor": "rgb(36,36,36)",
           "showgrid": false,
           "showline": true,
           "ticks": "outside",
           "title": {
            "standoff": 15
           },
           "zeroline": false,
           "zerolinecolor": "rgb(36,36,36)"
          }
         }
        },
        "title": {
         "font": {
          "color": "black",
          "family": "Arial",
          "size": 24
         },
         "text": "Parity Plot for predicting PBE Bandgap including HSE features",
         "x": 0.5
        },
        "width": 1000,
        "xaxis": {
         "title": {
          "font": {
           "family": "arial",
           "size": 18
          },
          "text": "Actual Values"
         }
        },
        "yaxis": {
         "title": {
          "font": {
           "family": "arial",
           "size": 18
          },
          "text": "Predicted Values"
         }
        }
       }
      }
     },
     "metadata": {},
     "output_type": "display_data"
    }
   ],
   "source": [
    "import plotly.graph_objects as go\n",
    "\n",
    "# Predict on training and test sets\n",
    "y_train_pred = xgb_reg.predict(X_train)\n",
    "y_test_pred = xgb_reg.predict(X_test)\n",
    "\n",
    "\n",
    "# Create a parity plot for test set\n",
    "test_set_df_ = pd.DataFrame({'y_test': y_test, 'y_test_pred': y_test_pred})\n",
    "\n",
    "# Merge the DataFrame with the main DataFrame 'df' to get 'hse_direct' values\n",
    "test_set_df_ = pd.merge(test_set_df_, df[['PBE_direct']], left_index=True, right_index=True, how='left')\n",
    "\n",
    "parity_test_fig = go.Figure()\n",
    "\n",
    "# Create a color list based on pbe_direct values\n",
    "colors = []\n",
    "\n",
    "for index, row in test_set_df_.iterrows():\n",
    "    pbe_direct_val = row['PBE_direct']\n",
    "    if pd.isna(pbe_direct_val):\n",
    "        colors.append('red')\n",
    "    elif pbe_direct_val == 1:\n",
    "        colors.append('green')\n",
    "    else:\n",
    "        colors.append('black')\n",
    "\n",
    "parity_test_fig.add_trace(go.Scatter(\n",
    "    x=test_set_df_['y_test'],\n",
    "    y=test_set_df_['y_test_pred'],\n",
    "    mode='markers',\n",
    "    name='Test Set',\n",
    "    marker=dict(size=6, color=colors)\n",
    "))\n",
    "\n",
    "parity_test_fig.add_trace(go.Scatter(\n",
    "    x=[min(test_set_df_['y_test']), max(test_set_df_['y_test'])],\n",
    "    y=[min(test_set_df_['y_test']), max(test_set_df_['y_test'])],\n",
    "    mode='lines',\n",
    "    name='Ideal Prediction',\n",
    "    line=dict(dash='dash', color='red', width=1.5)\n",
    "))\n",
    "\n",
    "# Add custom legend entry\n",
    "parity_test_fig.add_trace(go.Scatter(\n",
    "    x=[],\n",
    "    y=[],\n",
    "    mode='markers',\n",
    "    marker=dict(size=10, color='green'),\n",
    "    name='PBE direct'\n",
    "))\n",
    "\n",
    "parity_test_fig.add_trace(go.Scatter(\n",
    "    x=[],\n",
    "    y=[],\n",
    "    mode='markers',\n",
    "    marker=dict(size=10, color='black'),\n",
    "    name='PBE indirect'\n",
    "))\n",
    "\n",
    "parity_test_fig.update_layout(\n",
    "    template='simple_white',  # set template to white background\n",
    "    title='Parity Plot for predicting PBE Bandgap including HSE features',\n",
    "    xaxis_title='Actual Values',\n",
    "    yaxis_title='Predicted Values',\n",
    "    font_family=\"Courier New\",\n",
    "    font_color=\"black\",\n",
    "    title_font_family=\"Arial\",\n",
    "    title_font_color=\"black\",\n",
    "    title_font_size = 24,\n",
    "    xaxis_title_font_size=18,\n",
    "    yaxis_title_font_size=18,\n",
    "    legend_title_font_color=\"green\",\n",
    "    xaxis_title_font_family = \"arial\",\n",
    "    yaxis_title_font_family = \"arial\",\n",
    "    title_x = 0.5,\n",
    "    showlegend=False,  # hide legend\n",
    "    width=1000,  # Set the width of the plot\n",
    "    height=800,\n",
    ")\n",
    "\n",
    "#fig.update_xaxes(title_font_family=\"Arial\",tickfont=dict(color='black'), tickfont_size = 16, title_font_size = 20)\n",
    "#fig.update_yaxes(title_font_family=\"Arial\",tickfont=dict(color='black'), tickfont_size = 16, title_font_size = 20)\n",
    "\n",
    "textt = \"Black points represent PBE bandgap is indirect<br>Green points represent PBE bandgap is direct\"\n",
    "\n",
    "parity_test_fig.add_annotation(\n",
    "    text=textt,  # Replace with your desired text\n",
    "    x= 1,  # X-coordinate position (0 to 1, where 0 is left and 1 is right)\n",
    "    y= 0.05,  # Y-coordinate position (1 is top of the plot, increase to move downward)\n",
    "    xref=\"paper\",  # Use \"paper\" for relative x-coordinates\n",
    "    yref=\"paper\",  # Use \"paper\" for relative y-coordinates\n",
    "    showarrow=False,  # Do not show an arrow\n",
    "    font=dict(family=\"Arial\", size=12, color=\"black\"),  # Customize font properties\n",
    "    bgcolor=\"rgba(255, 255, 255, 0.7)\",  # Set background color\n",
    "    bordercolor=\"black\",  # Set border color\n",
    "    borderwidth=1,  # Set border width\n",
    ")\n",
    "\n",
    "#fig.update_xaxes(title_font_family=\"Arial\",tickfont=dict(color='black'))\n",
    "#fig.update_yaxes(title_font_family=\"Arial\",tickfont=dict(color='black'))\n",
    "\n",
    "config = {\n",
    "    'toImageButtonOptions': {\n",
    "        'format': 'png',  # one of png, svg, jpeg, webp\n",
    "        'filename': 'custom_image',\n",
    "        'height': 500,\n",
    "        'width': 700,\n",
    "        'scale': 6  # Multiply title/legend/axis/canvas sizes by this factor\n",
    "    }\n",
    "}\n",
    "\n",
    "parity_test_fig.show(config=config)\n",
    "\n",
    "\n",
    "\n"
   ]
  },
  {
   "cell_type": "markdown",
   "metadata": {},
   "source": [
    "### Plotting Importances by features of the PBE prediction model including HSE features"
   ]
  },
  {
   "cell_type": "code",
   "execution_count": 124,
   "metadata": {},
   "outputs": [
    {
     "data": {
      "application/vnd.plotly.v1+json": {
       "config": {
        "plotlyServerURL": "https://plot.ly",
        "toImageButtonOptions": {
         "filename": "custom_image",
         "format": "png",
         "height": 500,
         "scale": 6,
         "width": 700
        }
       },
       "data": [
        {
         "marker": {
          "color": "royalblue"
         },
         "type": "bar",
         "x": [
          "HSE_band_gap",
          "volume",
          "PBE_vbm",
          "PBE_cbm",
          "B_LUMO",
          "A_LUMO",
          "density",
          "A_IE",
          "B_IE",
          "e_above_hull"
         ],
         "y": [
          0.5226536989212036,
          0.3879782259464264,
          0.026478340849280357,
          0.016844386234879494,
          0.005417679902166128,
          0.005031356122344732,
          0.0031215844210237265,
          0.003030049381777644,
          0.002636256627738476,
          0.002533563645556569
         ]
        }
       ],
       "layout": {
        "font": {
         "color": "black",
         "family": "Arial",
         "size": 14
        },
        "height": 800,
        "showlegend": false,
        "template": {
         "data": {
          "bar": [
           {
            "error_x": {
             "color": "#2a3f5f"
            },
            "error_y": {
             "color": "#2a3f5f"
            },
            "marker": {
             "line": {
              "color": "#E5ECF6",
              "width": 0.5
             },
             "pattern": {
              "fillmode": "overlay",
              "size": 10,
              "solidity": 0.2
             }
            },
            "type": "bar"
           }
          ],
          "barpolar": [
           {
            "marker": {
             "line": {
              "color": "#E5ECF6",
              "width": 0.5
             },
             "pattern": {
              "fillmode": "overlay",
              "size": 10,
              "solidity": 0.2
             }
            },
            "type": "barpolar"
           }
          ],
          "carpet": [
           {
            "aaxis": {
             "endlinecolor": "#2a3f5f",
             "gridcolor": "white",
             "linecolor": "white",
             "minorgridcolor": "white",
             "startlinecolor": "#2a3f5f"
            },
            "baxis": {
             "endlinecolor": "#2a3f5f",
             "gridcolor": "white",
             "linecolor": "white",
             "minorgridcolor": "white",
             "startlinecolor": "#2a3f5f"
            },
            "type": "carpet"
           }
          ],
          "choropleth": [
           {
            "colorbar": {
             "outlinewidth": 0,
             "ticks": ""
            },
            "type": "choropleth"
           }
          ],
          "contour": [
           {
            "colorbar": {
             "outlinewidth": 0,
             "ticks": ""
            },
            "colorscale": [
             [
              0,
              "#0d0887"
             ],
             [
              0.1111111111111111,
              "#46039f"
             ],
             [
              0.2222222222222222,
              "#7201a8"
             ],
             [
              0.3333333333333333,
              "#9c179e"
             ],
             [
              0.4444444444444444,
              "#bd3786"
             ],
             [
              0.5555555555555556,
              "#d8576b"
             ],
             [
              0.6666666666666666,
              "#ed7953"
             ],
             [
              0.7777777777777778,
              "#fb9f3a"
             ],
             [
              0.8888888888888888,
              "#fdca26"
             ],
             [
              1,
              "#f0f921"
             ]
            ],
            "type": "contour"
           }
          ],
          "contourcarpet": [
           {
            "colorbar": {
             "outlinewidth": 0,
             "ticks": ""
            },
            "type": "contourcarpet"
           }
          ],
          "heatmap": [
           {
            "colorbar": {
             "outlinewidth": 0,
             "ticks": ""
            },
            "colorscale": [
             [
              0,
              "#0d0887"
             ],
             [
              0.1111111111111111,
              "#46039f"
             ],
             [
              0.2222222222222222,
              "#7201a8"
             ],
             [
              0.3333333333333333,
              "#9c179e"
             ],
             [
              0.4444444444444444,
              "#bd3786"
             ],
             [
              0.5555555555555556,
              "#d8576b"
             ],
             [
              0.6666666666666666,
              "#ed7953"
             ],
             [
              0.7777777777777778,
              "#fb9f3a"
             ],
             [
              0.8888888888888888,
              "#fdca26"
             ],
             [
              1,
              "#f0f921"
             ]
            ],
            "type": "heatmap"
           }
          ],
          "heatmapgl": [
           {
            "colorbar": {
             "outlinewidth": 0,
             "ticks": ""
            },
            "colorscale": [
             [
              0,
              "#0d0887"
             ],
             [
              0.1111111111111111,
              "#46039f"
             ],
             [
              0.2222222222222222,
              "#7201a8"
             ],
             [
              0.3333333333333333,
              "#9c179e"
             ],
             [
              0.4444444444444444,
              "#bd3786"
             ],
             [
              0.5555555555555556,
              "#d8576b"
             ],
             [
              0.6666666666666666,
              "#ed7953"
             ],
             [
              0.7777777777777778,
              "#fb9f3a"
             ],
             [
              0.8888888888888888,
              "#fdca26"
             ],
             [
              1,
              "#f0f921"
             ]
            ],
            "type": "heatmapgl"
           }
          ],
          "histogram": [
           {
            "marker": {
             "pattern": {
              "fillmode": "overlay",
              "size": 10,
              "solidity": 0.2
             }
            },
            "type": "histogram"
           }
          ],
          "histogram2d": [
           {
            "colorbar": {
             "outlinewidth": 0,
             "ticks": ""
            },
            "colorscale": [
             [
              0,
              "#0d0887"
             ],
             [
              0.1111111111111111,
              "#46039f"
             ],
             [
              0.2222222222222222,
              "#7201a8"
             ],
             [
              0.3333333333333333,
              "#9c179e"
             ],
             [
              0.4444444444444444,
              "#bd3786"
             ],
             [
              0.5555555555555556,
              "#d8576b"
             ],
             [
              0.6666666666666666,
              "#ed7953"
             ],
             [
              0.7777777777777778,
              "#fb9f3a"
             ],
             [
              0.8888888888888888,
              "#fdca26"
             ],
             [
              1,
              "#f0f921"
             ]
            ],
            "type": "histogram2d"
           }
          ],
          "histogram2dcontour": [
           {
            "colorbar": {
             "outlinewidth": 0,
             "ticks": ""
            },
            "colorscale": [
             [
              0,
              "#0d0887"
             ],
             [
              0.1111111111111111,
              "#46039f"
             ],
             [
              0.2222222222222222,
              "#7201a8"
             ],
             [
              0.3333333333333333,
              "#9c179e"
             ],
             [
              0.4444444444444444,
              "#bd3786"
             ],
             [
              0.5555555555555556,
              "#d8576b"
             ],
             [
              0.6666666666666666,
              "#ed7953"
             ],
             [
              0.7777777777777778,
              "#fb9f3a"
             ],
             [
              0.8888888888888888,
              "#fdca26"
             ],
             [
              1,
              "#f0f921"
             ]
            ],
            "type": "histogram2dcontour"
           }
          ],
          "mesh3d": [
           {
            "colorbar": {
             "outlinewidth": 0,
             "ticks": ""
            },
            "type": "mesh3d"
           }
          ],
          "parcoords": [
           {
            "line": {
             "colorbar": {
              "outlinewidth": 0,
              "ticks": ""
             }
            },
            "type": "parcoords"
           }
          ],
          "pie": [
           {
            "automargin": true,
            "type": "pie"
           }
          ],
          "scatter": [
           {
            "fillpattern": {
             "fillmode": "overlay",
             "size": 10,
             "solidity": 0.2
            },
            "type": "scatter"
           }
          ],
          "scatter3d": [
           {
            "line": {
             "colorbar": {
              "outlinewidth": 0,
              "ticks": ""
             }
            },
            "marker": {
             "colorbar": {
              "outlinewidth": 0,
              "ticks": ""
             }
            },
            "type": "scatter3d"
           }
          ],
          "scattercarpet": [
           {
            "marker": {
             "colorbar": {
              "outlinewidth": 0,
              "ticks": ""
             }
            },
            "type": "scattercarpet"
           }
          ],
          "scattergeo": [
           {
            "marker": {
             "colorbar": {
              "outlinewidth": 0,
              "ticks": ""
             }
            },
            "type": "scattergeo"
           }
          ],
          "scattergl": [
           {
            "marker": {
             "colorbar": {
              "outlinewidth": 0,
              "ticks": ""
             }
            },
            "type": "scattergl"
           }
          ],
          "scattermapbox": [
           {
            "marker": {
             "colorbar": {
              "outlinewidth": 0,
              "ticks": ""
             }
            },
            "type": "scattermapbox"
           }
          ],
          "scatterpolar": [
           {
            "marker": {
             "colorbar": {
              "outlinewidth": 0,
              "ticks": ""
             }
            },
            "type": "scatterpolar"
           }
          ],
          "scatterpolargl": [
           {
            "marker": {
             "colorbar": {
              "outlinewidth": 0,
              "ticks": ""
             }
            },
            "type": "scatterpolargl"
           }
          ],
          "scatterternary": [
           {
            "marker": {
             "colorbar": {
              "outlinewidth": 0,
              "ticks": ""
             }
            },
            "type": "scatterternary"
           }
          ],
          "surface": [
           {
            "colorbar": {
             "outlinewidth": 0,
             "ticks": ""
            },
            "colorscale": [
             [
              0,
              "#0d0887"
             ],
             [
              0.1111111111111111,
              "#46039f"
             ],
             [
              0.2222222222222222,
              "#7201a8"
             ],
             [
              0.3333333333333333,
              "#9c179e"
             ],
             [
              0.4444444444444444,
              "#bd3786"
             ],
             [
              0.5555555555555556,
              "#d8576b"
             ],
             [
              0.6666666666666666,
              "#ed7953"
             ],
             [
              0.7777777777777778,
              "#fb9f3a"
             ],
             [
              0.8888888888888888,
              "#fdca26"
             ],
             [
              1,
              "#f0f921"
             ]
            ],
            "type": "surface"
           }
          ],
          "table": [
           {
            "cells": {
             "fill": {
              "color": "#EBF0F8"
             },
             "line": {
              "color": "white"
             }
            },
            "header": {
             "fill": {
              "color": "#C8D4E3"
             },
             "line": {
              "color": "white"
             }
            },
            "type": "table"
           }
          ]
         },
         "layout": {
          "annotationdefaults": {
           "arrowcolor": "#2a3f5f",
           "arrowhead": 0,
           "arrowwidth": 1
          },
          "autotypenumbers": "strict",
          "coloraxis": {
           "colorbar": {
            "outlinewidth": 0,
            "ticks": ""
           }
          },
          "colorscale": {
           "diverging": [
            [
             0,
             "#8e0152"
            ],
            [
             0.1,
             "#c51b7d"
            ],
            [
             0.2,
             "#de77ae"
            ],
            [
             0.3,
             "#f1b6da"
            ],
            [
             0.4,
             "#fde0ef"
            ],
            [
             0.5,
             "#f7f7f7"
            ],
            [
             0.6,
             "#e6f5d0"
            ],
            [
             0.7,
             "#b8e186"
            ],
            [
             0.8,
             "#7fbc41"
            ],
            [
             0.9,
             "#4d9221"
            ],
            [
             1,
             "#276419"
            ]
           ],
           "sequential": [
            [
             0,
             "#0d0887"
            ],
            [
             0.1111111111111111,
             "#46039f"
            ],
            [
             0.2222222222222222,
             "#7201a8"
            ],
            [
             0.3333333333333333,
             "#9c179e"
            ],
            [
             0.4444444444444444,
             "#bd3786"
            ],
            [
             0.5555555555555556,
             "#d8576b"
            ],
            [
             0.6666666666666666,
             "#ed7953"
            ],
            [
             0.7777777777777778,
             "#fb9f3a"
            ],
            [
             0.8888888888888888,
             "#fdca26"
            ],
            [
             1,
             "#f0f921"
            ]
           ],
           "sequentialminus": [
            [
             0,
             "#0d0887"
            ],
            [
             0.1111111111111111,
             "#46039f"
            ],
            [
             0.2222222222222222,
             "#7201a8"
            ],
            [
             0.3333333333333333,
             "#9c179e"
            ],
            [
             0.4444444444444444,
             "#bd3786"
            ],
            [
             0.5555555555555556,
             "#d8576b"
            ],
            [
             0.6666666666666666,
             "#ed7953"
            ],
            [
             0.7777777777777778,
             "#fb9f3a"
            ],
            [
             0.8888888888888888,
             "#fdca26"
            ],
            [
             1,
             "#f0f921"
            ]
           ]
          },
          "colorway": [
           "#636efa",
           "#EF553B",
           "#00cc96",
           "#ab63fa",
           "#FFA15A",
           "#19d3f3",
           "#FF6692",
           "#B6E880",
           "#FF97FF",
           "#FECB52"
          ],
          "font": {
           "color": "#2a3f5f"
          },
          "geo": {
           "bgcolor": "white",
           "lakecolor": "white",
           "landcolor": "#E5ECF6",
           "showlakes": true,
           "showland": true,
           "subunitcolor": "white"
          },
          "hoverlabel": {
           "align": "left"
          },
          "hovermode": "closest",
          "mapbox": {
           "style": "light"
          },
          "paper_bgcolor": "white",
          "plot_bgcolor": "#E5ECF6",
          "polar": {
           "angularaxis": {
            "gridcolor": "white",
            "linecolor": "white",
            "ticks": ""
           },
           "bgcolor": "#E5ECF6",
           "radialaxis": {
            "gridcolor": "white",
            "linecolor": "white",
            "ticks": ""
           }
          },
          "scene": {
           "xaxis": {
            "backgroundcolor": "#E5ECF6",
            "gridcolor": "white",
            "gridwidth": 2,
            "linecolor": "white",
            "showbackground": true,
            "ticks": "",
            "zerolinecolor": "white"
           },
           "yaxis": {
            "backgroundcolor": "#E5ECF6",
            "gridcolor": "white",
            "gridwidth": 2,
            "linecolor": "white",
            "showbackground": true,
            "ticks": "",
            "zerolinecolor": "white"
           },
           "zaxis": {
            "backgroundcolor": "#E5ECF6",
            "gridcolor": "white",
            "gridwidth": 2,
            "linecolor": "white",
            "showbackground": true,
            "ticks": "",
            "zerolinecolor": "white"
           }
          },
          "shapedefaults": {
           "line": {
            "color": "#2a3f5f"
           }
          },
          "ternary": {
           "aaxis": {
            "gridcolor": "white",
            "linecolor": "white",
            "ticks": ""
           },
           "baxis": {
            "gridcolor": "white",
            "linecolor": "white",
            "ticks": ""
           },
           "bgcolor": "#E5ECF6",
           "caxis": {
            "gridcolor": "white",
            "linecolor": "white",
            "ticks": ""
           }
          },
          "title": {
           "x": 0.05
          },
          "xaxis": {
           "automargin": true,
           "gridcolor": "white",
           "linecolor": "white",
           "ticks": "",
           "title": {
            "standoff": 15
           },
           "zerolinecolor": "white",
           "zerolinewidth": 2
          },
          "yaxis": {
           "automargin": true,
           "gridcolor": "white",
           "linecolor": "white",
           "ticks": "",
           "title": {
            "standoff": 15
           },
           "zerolinecolor": "white",
           "zerolinewidth": 2
          }
         }
        },
        "title": {
         "text": "Feature Importances for Predicting PBE Features including HSE parameters",
         "x": 0.5
        },
        "width": 1000,
        "xaxis": {
         "tickangle": 45,
         "tickfont": {
          "size": 14
         },
         "title": {
          "text": "Features"
         }
        },
        "yaxis": {
         "title": {
          "text": "Importance (%)"
         }
        }
       }
      }
     },
     "metadata": {},
     "output_type": "display_data"
    }
   ],
   "source": [
    "import plotly.graph_objects as go\n",
    "\n",
    "feature_importances = xgb_reg.feature_importances_\n",
    "included = X_PBE.columns.values\n",
    "indices = np.argsort(feature_importances)[::-1]\n",
    "\n",
    "fig = go.Figure()\n",
    "\n",
    "fig.add_trace(go.Bar(\n",
    "    x=included[indices][:10],\n",
    "    y=feature_importances[indices][:10],\n",
    "    marker=dict(color='royalblue'),\n",
    "    #text=feature_importances[indices][:10],\n",
    "    #textposition='auto',\n",
    "))\n",
    "\n",
    "fig.update_layout(\n",
    "    xaxis=dict(\n",
    "        title='Features',\n",
    "        tickfont=dict(size=14),\n",
    "        tickangle=45  \n",
    "    ),\n",
    "    yaxis_title='Importance (%)',\n",
    "    title='Feature Importances for Predicting PBE Features including HSE parameters',\n",
    "    font=dict(family=\"Arial\", size=14, color=\"black\"),\n",
    "    title_x = 0.5,\n",
    "    width=1000,\n",
    "    height=800,\n",
    "    showlegend=False,\n",
    ")\n",
    "\n",
    "config = {\n",
    "    'toImageButtonOptions': {\n",
    "        'format': 'png',  # one of png, svg, jpeg, webp\n",
    "        'filename': 'custom_image',\n",
    "        'height': 500,\n",
    "        'width': 700,\n",
    "        'scale': 6  # Multiply title/legend/axis/canvas sizes by this factor\n",
    "    }\n",
    "}\n",
    "\n",
    "fig.show(config=config)\n"
   ]
  },
  {
   "cell_type": "markdown",
   "metadata": {},
   "source": [
    "### Predicting PBE Bandgap excluding HSE features"
   ]
  },
  {
   "cell_type": "code",
   "execution_count": 125,
   "metadata": {},
   "outputs": [
    {
     "name": "stdout",
     "output_type": "stream",
     "text": [
      "Training R2 = 0.987\n",
      "Training RMSE = 0.027\n",
      "Test R2 = 0.901\n",
      "Test RMSE = 0.094\n"
     ]
    }
   ],
   "source": [
    "from xgboost import XGBRegressor\n",
    "from sklearn.metrics import mean_squared_error\n",
    "from sklearn.model_selection import train_test_split\n",
    "\n",
    "# Assuming X, y, and df are already defined\n",
    "\n",
    "# Add 'functional_group' to X\n",
    "X2_PBE['functional_group'] = df['functional_group']\n",
    "\n",
    "# Add 'stable' to X\n",
    "X2_PBE['stable'] = df['stable']\n",
    "\n",
    "# Specify the test size\n",
    "test_size = 0.2\n",
    "\n",
    "# Split the data into train and test sets while maintaining the proportion of 'stable'\n",
    "X_train, X_test, y_train, y_test = train_test_split(X2_PBE, y_PBE, test_size=test_size, random_state=20, stratify=X2_PBE['stable'])\n",
    "\n",
    "# Extract and drop the 'functional_group' and 'stable' columns\n",
    "train_formula = X_train[['functional_group', 'stable']]\n",
    "X_train = X_train.drop(['functional_group', 'stable'], axis=1)\n",
    "test_formula = X_test[['functional_group', 'stable']]\n",
    "X_test = X_test.drop(['functional_group', 'stable'], axis=1)\n",
    "\n",
    "# Create an XGBoost regressor\n",
    "xgb_reg = XGBRegressor(n_estimators=200, random_state=9, learning_rate=0.1, max_depth= 3)\n",
    "xgb_reg.fit(X_train, y_train)\n",
    "\n",
    "# Get fit statistics\n",
    "print('Training R2 = ' + str(round(xgb_reg.score(X_train, y_train), 3)))\n",
    "print('Training RMSE = %.3f' % np.sqrt(mean_squared_error(y_true=y_train, y_pred=xgb_reg.predict(X_train))))\n",
    "print('Test R2 = ' + str(round(xgb_reg.score(X_test, y_test), 3)))\n",
    "print('Test RMSE = %.3f' % np.sqrt(mean_squared_error(y_true=y_test, y_pred=xgb_reg.predict(X_test))))\n"
   ]
  },
  {
   "cell_type": "markdown",
   "metadata": {},
   "source": [
    "### Graph for predicting PBE Bandgap excluding HSE features"
   ]
  },
  {
   "cell_type": "code",
   "execution_count": 132,
   "metadata": {},
   "outputs": [
    {
     "data": {
      "application/vnd.plotly.v1+json": {
       "config": {
        "plotlyServerURL": "https://plot.ly",
        "toImageButtonOptions": {
         "filename": "custom_image",
         "format": "png",
         "height": 500,
         "scale": 6,
         "width": 700
        }
       },
       "data": [
        {
         "marker": {
          "color": [
           "black",
           "black",
           "black",
           "black",
           "black",
           "black",
           "black",
           "green",
           "black",
           "black",
           "black",
           "black",
           "green",
           "black",
           "black",
           "black",
           "black",
           "black",
           "black",
           "black",
           "black",
           "black",
           "black",
           "black",
           "black",
           "black",
           "black",
           "green",
           "green",
           "black",
           "black",
           "black",
           "black",
           "black",
           "black",
           "black",
           "black",
           "black",
           "black",
           "black",
           "black",
           "black",
           "black",
           "black",
           "black",
           "green",
           "black",
           "black",
           "green",
           "black",
           "black",
           "black",
           "black",
           "black",
           "black",
           "black",
           "black",
           "black",
           "black",
           "black",
           "black",
           "black",
           "black",
           "black",
           "black",
           "green",
           "black",
           "black",
           "black",
           "black",
           "black",
           "black",
           "black",
           "black",
           "black",
           "black",
           "black",
           "black",
           "black",
           "black",
           "black",
           "black",
           "black",
           "black",
           "black",
           "black",
           "black",
           "black",
           "black",
           "black",
           "black",
           "black",
           "black",
           "black",
           "black",
           "black",
           "black",
           "black",
           "black",
           "black",
           "black",
           "black",
           "black",
           "black",
           "black",
           "black",
           "black",
           "black",
           "black",
           "black",
           "black",
           "black",
           "black",
           "black",
           "black",
           "black",
           "black",
           "black",
           "black",
           "black",
           "black",
           "black",
           "black",
           "black",
           "black",
           "black",
           "black",
           "black",
           "black",
           "black",
           "black",
           "black",
           "black",
           "black",
           "black",
           "black",
           "black",
           "green",
           "black",
           "black",
           "green",
           "black",
           "black",
           "black",
           "black",
           "black",
           "green",
           "green",
           "black",
           "black",
           "black",
           "black",
           "black",
           "black",
           "green",
           "black",
           "black",
           "black",
           "black",
           "black",
           "black",
           "black",
           "black",
           "black",
           "black",
           "black",
           "black",
           "black",
           "green",
           "black",
           "black",
           "black",
           "black",
           "black",
           "black",
           "black",
           "black",
           "black",
           "black",
           "black",
           "black",
           "black",
           "black",
           "black"
          ],
          "size": 6
         },
         "mode": "markers",
         "name": "Test Set",
         "type": "scatter",
         "x": [
          0.008399999999999,
          0.004900000000000001,
          0.025799999999999,
          0.040099999999999004,
          0.008100000000000001,
          0.1429,
          0.016599999999999,
          0.015399999999999001,
          0.0154,
          0.18780000000000002,
          0.012100000000000001,
          0.020899999999999003,
          0.894899999999999,
          0.005099999999999,
          0,
          0.058100000000000006,
          0,
          0.041599999999999006,
          0.006500000000000001,
          0.003699999999999,
          0.008599999999999,
          0.019700000000000002,
          0.010099999999999,
          0.004799999999999,
          0.016399999999999002,
          0,
          0,
          0.0108,
          0.27939999999999904,
          0,
          0.925999999999999,
          0.129199999999999,
          0.015499999999999,
          0.0091,
          0,
          0.044000000000000004,
          0.33939999999999904,
          0.0102,
          0.012199999999999002,
          0.012900000000000002,
          0.011800000000000001,
          0.025799999999999,
          0.31659999999999905,
          0,
          1.255599999999999,
          0.684999999999999,
          0,
          0.002,
          0.7155,
          0.034499999999999004,
          0.007,
          0.090599999999999,
          0,
          0,
          0.012599999999999001,
          0.6774,
          0.013800000000000002,
          0,
          0.7323000000000001,
          0.028999999999999002,
          0.021199999999999,
          0.0792,
          0.2669,
          0.19839999999999902,
          0.0094,
          0.639099999999999,
          0.11140000000000001,
          0.096,
          0.021799999999999,
          0.6664999999999991,
          0.024100000000000003,
          1.2408000000000001,
          0.044999999999999006,
          1.993399999999999,
          0.0167,
          0.023199999999999003,
          0.031299999999999,
          0.0718,
          0.0432,
          0.019200000000000002,
          0,
          0.0117,
          0,
          0,
          0,
          0.012599999999999001,
          0.0864,
          0.004699999999999,
          0.010900000000000002,
          0.915899999999999,
          0,
          0.026799999999999,
          0.044000000000000004,
          0.1915,
          0.006199999999999001,
          0.016999999999999002,
          0.022399999999999,
          0,
          0.005200000000000001,
          0,
          0.019200000000000002,
          0.040900000000000006,
          0.004099999999999,
          0.022699999999999002,
          0.024699999999999,
          0.013000000000000001,
          0,
          0,
          0.014299999999999001,
          0,
          0.8954999999999991,
          0.015099999999999001,
          0,
          0.8954999999999991,
          0.0216,
          0.014699999999999,
          0.06659999999999901,
          1.3011,
          0.05790000000000001,
          0.015099999999999001,
          0.7614999999999991,
          0.006,
          0.021399999999999003,
          0.42599999999999905,
          0.7149000000000001,
          0.006199999999999001,
          0.008,
          0.0726,
          0.0041999999999990005,
          0.026499999999999004,
          0.011499999999999,
          0.052499999999999006,
          0.005900000000000001,
          0.016,
          0.35189999999999905,
          0.1081,
          0.013900000000000001,
          0.036399999999999,
          0.0020999999999990002,
          0,
          0.34379999999999905,
          0.0227,
          0.7581000000000001,
          0.0176,
          0.1874,
          0.46530000000000005,
          0.051999999999999005,
          0.0158,
          0,
          0.0034000000000000002,
          0.066399999999999,
          0.0085,
          0,
          0.043300000000000005,
          0.07730000000000001,
          0.012599999999999001,
          0.30649999999999905,
          0.003899999999999,
          0.060599999999999,
          0.0297,
          0.010299999999999001,
          0.0158,
          0.0364,
          0.054899999999999005,
          0.026599999999999003,
          0.014,
          0.024099999999999,
          0.5144000000000001,
          0.022399999999999,
          0.5227,
          0.0014999999999990002,
          0.451899999999999,
          0.8971999999999991,
          0,
          0.042699999999999,
          0.12529999999999902,
          0.071899999999999,
          0.027700000000000002,
          0.020999999999999002,
          0.0315,
          0.0158,
          0.0022999999999990003,
          0.024999999999999002,
          0.206599999999999
         ],
         "y": [
          0.00780295766890049,
          0.013320221565663815,
          0.026597298681735992,
          0.01748845912516117,
          0.018361367285251617,
          0.19465003907680511,
          0.024486709386110306,
          0.010700980201363564,
          0.02276907116174698,
          0.30485498905181885,
          0.017148878425359726,
          0.021154331043362617,
          0.8779485821723938,
          0.026252567768096924,
          0.016095150262117386,
          0.02864909917116165,
          0.01687118411064148,
          0.03313051909208298,
          0.010982955805957317,
          0.0191104207187891,
          0.0254933200776577,
          0.015310208313167095,
          0.018496794626116753,
          0.21351583302021027,
          0.026706509292125702,
          0.0017810292774811387,
          0.03433897718787193,
          0.007966498844325542,
          0.36766040325164795,
          0.003352217376232147,
          0.8069170117378235,
          0.39586469531059265,
          0.020268062129616737,
          0.012536678463220596,
          0.012946141883730888,
          0.009718280285596848,
          0.25364136695861816,
          0.021280596032738686,
          0.03909890726208687,
          0.08597875386476517,
          0.011524563655257225,
          0.01901194266974926,
          0.5003688335418701,
          0.0033013075590133667,
          1.1709989309310913,
          0.7378504276275635,
          0.019965777173638344,
          0.020704269409179688,
          0.6704311966896057,
          0.025914229452610016,
          0.012829633429646492,
          0.041816167533397675,
          0.018465302884578705,
          0.00017404803656972945,
          0.0200798399746418,
          0.5298580527305603,
          0.0037570311687886715,
          0.10238917171955109,
          0.6437300443649292,
          0.023477815091609955,
          0.019770508632063866,
          0.09849369525909424,
          0.28879356384277344,
          0.49872326850891113,
          0.015281137079000473,
          0.5298518538475037,
          0.23146310448646545,
          0.14845293760299683,
          0.01732671819627285,
          0.672024130821228,
          0.012471863999962807,
          0.8943891525268555,
          0.020287558436393738,
          1.352561116218567,
          0.0562501959502697,
          0.023435017094016075,
          0.021638168022036552,
          0.04150049760937691,
          0.07427757233381271,
          0.12421716749668121,
          0.15758764743804932,
          0.041224557906389236,
          0.01195379626005888,
          0.039378490298986435,
          0.031143084168434143,
          0.002438047667965293,
          0.03890473395586014,
          0.01965433359146118,
          0.0161703210324049,
          0.7662944793701172,
          0.025375550612807274,
          0.018726594746112823,
          0.01589188724756241,
          0.23492707312107086,
          0.019623123109340668,
          0.012071968987584114,
          0.03611888736486435,
          0.018251579254865646,
          0.002874326892197132,
          0.01636546663939953,
          -0.0012010197388008237,
          0.06572864949703217,
          0.013979258015751839,
          0.030384425073862076,
          0.019487587735056877,
          0.012531590647995472,
          0.12145506590604782,
          0.013323451392352581,
          0.029452871531248093,
          0.004208817612379789,
          0.5769136548042297,
          0.020099224522709846,
          0.02754865027964115,
          0.5682418346405029,
          0.01727643795311451,
          0.05399563908576965,
          -0.003688975004479289,
          1.2349658012390137,
          0.03269423171877861,
          0.022796716541051865,
          0.7662428617477417,
          0.01630025915801525,
          0.05157678574323654,
          0.5479264855384827,
          0.3894434869289398,
          0.006874155253171921,
          0.003495080629363656,
          0.025665421038866043,
          0.034081120043992996,
          0.0160304456949234,
          0.024662703275680542,
          0.050565287470817566,
          0.028023874387145042,
          0.027213986963033676,
          0.42495468258857727,
          0.2589177191257477,
          0.01853986270725727,
          0.0261007621884346,
          0.057443227618932724,
          0.013644224032759666,
          0.23534028232097626,
          0.01879093423485756,
          0.8198897242546082,
          0.004247444216161966,
          0.2736009657382965,
          0.5201103091239929,
          0.07299128919839859,
          0.018099498003721237,
          0.009302973747253418,
          0.010193138383328915,
          0.029093315824866295,
          0.03461889177560806,
          -0.0004018960171379149,
          0.12841683626174927,
          0.07567150890827179,
          0.01574132964015007,
          0.1548977792263031,
          0.00958922691643238,
          0.029648421332240105,
          0.04803619906306267,
          0.02034449763596058,
          0.015797697007656097,
          0.03357198089361191,
          0.03317870572209358,
          0.02430349960923195,
          0.016383463516831398,
          0.019378187134861946,
          0.4687107801437378,
          0.10848649591207504,
          0.44262823462486267,
          0.02341942861676216,
          0.6025540232658386,
          0.5519490242004395,
          0.028723184019327164,
          0.023331811651587486,
          0.26243874430656433,
          -0.012744886800646782,
          0.03263377025723457,
          0.035016223788261414,
          -0.014830153435468674,
          0.01802186295390129,
          0.004586359485983849,
          -0.017737723886966705,
          0.1812809556722641
         ]
        },
        {
         "line": {
          "color": "red",
          "dash": "dash",
          "width": 1.5
         },
         "mode": "lines",
         "name": "Ideal Prediction",
         "type": "scatter",
         "x": [
          0,
          1.993399999999999
         ],
         "y": [
          0,
          1.993399999999999
         ]
        },
        {
         "marker": {
          "color": "green",
          "size": 10
         },
         "mode": "markers",
         "name": "PBE direct",
         "type": "scatter",
         "x": [],
         "y": []
        },
        {
         "marker": {
          "color": "black",
          "size": 10
         },
         "mode": "markers",
         "name": "PBE indirect",
         "type": "scatter",
         "x": [],
         "y": []
        }
       ],
       "layout": {
        "annotations": [
         {
          "bgcolor": "rgba(255, 255, 255, 0.7)",
          "bordercolor": "black",
          "borderwidth": 1,
          "font": {
           "color": "black",
           "family": "Arial",
           "size": 12
          },
          "showarrow": false,
          "text": "Black points represent PBE bandgap is indirect<br>Green points represent PBE bandgap is direct",
          "x": 1,
          "xref": "paper",
          "y": 0.05,
          "yref": "paper"
         }
        ],
        "font": {
         "color": "black",
         "family": "Courier New"
        },
        "height": 800,
        "legend": {
         "title": {
          "font": {
           "color": "green"
          }
         }
        },
        "showlegend": false,
        "template": {
         "data": {
          "bar": [
           {
            "error_x": {
             "color": "rgb(36,36,36)"
            },
            "error_y": {
             "color": "rgb(36,36,36)"
            },
            "marker": {
             "line": {
              "color": "white",
              "width": 0.5
             },
             "pattern": {
              "fillmode": "overlay",
              "size": 10,
              "solidity": 0.2
             }
            },
            "type": "bar"
           }
          ],
          "barpolar": [
           {
            "marker": {
             "line": {
              "color": "white",
              "width": 0.5
             },
             "pattern": {
              "fillmode": "overlay",
              "size": 10,
              "solidity": 0.2
             }
            },
            "type": "barpolar"
           }
          ],
          "carpet": [
           {
            "aaxis": {
             "endlinecolor": "rgb(36,36,36)",
             "gridcolor": "white",
             "linecolor": "white",
             "minorgridcolor": "white",
             "startlinecolor": "rgb(36,36,36)"
            },
            "baxis": {
             "endlinecolor": "rgb(36,36,36)",
             "gridcolor": "white",
             "linecolor": "white",
             "minorgridcolor": "white",
             "startlinecolor": "rgb(36,36,36)"
            },
            "type": "carpet"
           }
          ],
          "choropleth": [
           {
            "colorbar": {
             "outlinewidth": 1,
             "tickcolor": "rgb(36,36,36)",
             "ticks": "outside"
            },
            "type": "choropleth"
           }
          ],
          "contour": [
           {
            "colorbar": {
             "outlinewidth": 1,
             "tickcolor": "rgb(36,36,36)",
             "ticks": "outside"
            },
            "colorscale": [
             [
              0,
              "#440154"
             ],
             [
              0.1111111111111111,
              "#482878"
             ],
             [
              0.2222222222222222,
              "#3e4989"
             ],
             [
              0.3333333333333333,
              "#31688e"
             ],
             [
              0.4444444444444444,
              "#26828e"
             ],
             [
              0.5555555555555556,
              "#1f9e89"
             ],
             [
              0.6666666666666666,
              "#35b779"
             ],
             [
              0.7777777777777778,
              "#6ece58"
             ],
             [
              0.8888888888888888,
              "#b5de2b"
             ],
             [
              1,
              "#fde725"
             ]
            ],
            "type": "contour"
           }
          ],
          "contourcarpet": [
           {
            "colorbar": {
             "outlinewidth": 1,
             "tickcolor": "rgb(36,36,36)",
             "ticks": "outside"
            },
            "type": "contourcarpet"
           }
          ],
          "heatmap": [
           {
            "colorbar": {
             "outlinewidth": 1,
             "tickcolor": "rgb(36,36,36)",
             "ticks": "outside"
            },
            "colorscale": [
             [
              0,
              "#440154"
             ],
             [
              0.1111111111111111,
              "#482878"
             ],
             [
              0.2222222222222222,
              "#3e4989"
             ],
             [
              0.3333333333333333,
              "#31688e"
             ],
             [
              0.4444444444444444,
              "#26828e"
             ],
             [
              0.5555555555555556,
              "#1f9e89"
             ],
             [
              0.6666666666666666,
              "#35b779"
             ],
             [
              0.7777777777777778,
              "#6ece58"
             ],
             [
              0.8888888888888888,
              "#b5de2b"
             ],
             [
              1,
              "#fde725"
             ]
            ],
            "type": "heatmap"
           }
          ],
          "heatmapgl": [
           {
            "colorbar": {
             "outlinewidth": 1,
             "tickcolor": "rgb(36,36,36)",
             "ticks": "outside"
            },
            "colorscale": [
             [
              0,
              "#440154"
             ],
             [
              0.1111111111111111,
              "#482878"
             ],
             [
              0.2222222222222222,
              "#3e4989"
             ],
             [
              0.3333333333333333,
              "#31688e"
             ],
             [
              0.4444444444444444,
              "#26828e"
             ],
             [
              0.5555555555555556,
              "#1f9e89"
             ],
             [
              0.6666666666666666,
              "#35b779"
             ],
             [
              0.7777777777777778,
              "#6ece58"
             ],
             [
              0.8888888888888888,
              "#b5de2b"
             ],
             [
              1,
              "#fde725"
             ]
            ],
            "type": "heatmapgl"
           }
          ],
          "histogram": [
           {
            "marker": {
             "line": {
              "color": "white",
              "width": 0.6
             }
            },
            "type": "histogram"
           }
          ],
          "histogram2d": [
           {
            "colorbar": {
             "outlinewidth": 1,
             "tickcolor": "rgb(36,36,36)",
             "ticks": "outside"
            },
            "colorscale": [
             [
              0,
              "#440154"
             ],
             [
              0.1111111111111111,
              "#482878"
             ],
             [
              0.2222222222222222,
              "#3e4989"
             ],
             [
              0.3333333333333333,
              "#31688e"
             ],
             [
              0.4444444444444444,
              "#26828e"
             ],
             [
              0.5555555555555556,
              "#1f9e89"
             ],
             [
              0.6666666666666666,
              "#35b779"
             ],
             [
              0.7777777777777778,
              "#6ece58"
             ],
             [
              0.8888888888888888,
              "#b5de2b"
             ],
             [
              1,
              "#fde725"
             ]
            ],
            "type": "histogram2d"
           }
          ],
          "histogram2dcontour": [
           {
            "colorbar": {
             "outlinewidth": 1,
             "tickcolor": "rgb(36,36,36)",
             "ticks": "outside"
            },
            "colorscale": [
             [
              0,
              "#440154"
             ],
             [
              0.1111111111111111,
              "#482878"
             ],
             [
              0.2222222222222222,
              "#3e4989"
             ],
             [
              0.3333333333333333,
              "#31688e"
             ],
             [
              0.4444444444444444,
              "#26828e"
             ],
             [
              0.5555555555555556,
              "#1f9e89"
             ],
             [
              0.6666666666666666,
              "#35b779"
             ],
             [
              0.7777777777777778,
              "#6ece58"
             ],
             [
              0.8888888888888888,
              "#b5de2b"
             ],
             [
              1,
              "#fde725"
             ]
            ],
            "type": "histogram2dcontour"
           }
          ],
          "mesh3d": [
           {
            "colorbar": {
             "outlinewidth": 1,
             "tickcolor": "rgb(36,36,36)",
             "ticks": "outside"
            },
            "type": "mesh3d"
           }
          ],
          "parcoords": [
           {
            "line": {
             "colorbar": {
              "outlinewidth": 1,
              "tickcolor": "rgb(36,36,36)",
              "ticks": "outside"
             }
            },
            "type": "parcoords"
           }
          ],
          "pie": [
           {
            "automargin": true,
            "type": "pie"
           }
          ],
          "scatter": [
           {
            "fillpattern": {
             "fillmode": "overlay",
             "size": 10,
             "solidity": 0.2
            },
            "type": "scatter"
           }
          ],
          "scatter3d": [
           {
            "line": {
             "colorbar": {
              "outlinewidth": 1,
              "tickcolor": "rgb(36,36,36)",
              "ticks": "outside"
             }
            },
            "marker": {
             "colorbar": {
              "outlinewidth": 1,
              "tickcolor": "rgb(36,36,36)",
              "ticks": "outside"
             }
            },
            "type": "scatter3d"
           }
          ],
          "scattercarpet": [
           {
            "marker": {
             "colorbar": {
              "outlinewidth": 1,
              "tickcolor": "rgb(36,36,36)",
              "ticks": "outside"
             }
            },
            "type": "scattercarpet"
           }
          ],
          "scattergeo": [
           {
            "marker": {
             "colorbar": {
              "outlinewidth": 1,
              "tickcolor": "rgb(36,36,36)",
              "ticks": "outside"
             }
            },
            "type": "scattergeo"
           }
          ],
          "scattergl": [
           {
            "marker": {
             "colorbar": {
              "outlinewidth": 1,
              "tickcolor": "rgb(36,36,36)",
              "ticks": "outside"
             }
            },
            "type": "scattergl"
           }
          ],
          "scattermapbox": [
           {
            "marker": {
             "colorbar": {
              "outlinewidth": 1,
              "tickcolor": "rgb(36,36,36)",
              "ticks": "outside"
             }
            },
            "type": "scattermapbox"
           }
          ],
          "scatterpolar": [
           {
            "marker": {
             "colorbar": {
              "outlinewidth": 1,
              "tickcolor": "rgb(36,36,36)",
              "ticks": "outside"
             }
            },
            "type": "scatterpolar"
           }
          ],
          "scatterpolargl": [
           {
            "marker": {
             "colorbar": {
              "outlinewidth": 1,
              "tickcolor": "rgb(36,36,36)",
              "ticks": "outside"
             }
            },
            "type": "scatterpolargl"
           }
          ],
          "scatterternary": [
           {
            "marker": {
             "colorbar": {
              "outlinewidth": 1,
              "tickcolor": "rgb(36,36,36)",
              "ticks": "outside"
             }
            },
            "type": "scatterternary"
           }
          ],
          "surface": [
           {
            "colorbar": {
             "outlinewidth": 1,
             "tickcolor": "rgb(36,36,36)",
             "ticks": "outside"
            },
            "colorscale": [
             [
              0,
              "#440154"
             ],
             [
              0.1111111111111111,
              "#482878"
             ],
             [
              0.2222222222222222,
              "#3e4989"
             ],
             [
              0.3333333333333333,
              "#31688e"
             ],
             [
              0.4444444444444444,
              "#26828e"
             ],
             [
              0.5555555555555556,
              "#1f9e89"
             ],
             [
              0.6666666666666666,
              "#35b779"
             ],
             [
              0.7777777777777778,
              "#6ece58"
             ],
             [
              0.8888888888888888,
              "#b5de2b"
             ],
             [
              1,
              "#fde725"
             ]
            ],
            "type": "surface"
           }
          ],
          "table": [
           {
            "cells": {
             "fill": {
              "color": "rgb(237,237,237)"
             },
             "line": {
              "color": "white"
             }
            },
            "header": {
             "fill": {
              "color": "rgb(217,217,217)"
             },
             "line": {
              "color": "white"
             }
            },
            "type": "table"
           }
          ]
         },
         "layout": {
          "annotationdefaults": {
           "arrowhead": 0,
           "arrowwidth": 1
          },
          "autotypenumbers": "strict",
          "coloraxis": {
           "colorbar": {
            "outlinewidth": 1,
            "tickcolor": "rgb(36,36,36)",
            "ticks": "outside"
           }
          },
          "colorscale": {
           "diverging": [
            [
             0,
             "rgb(103,0,31)"
            ],
            [
             0.1,
             "rgb(178,24,43)"
            ],
            [
             0.2,
             "rgb(214,96,77)"
            ],
            [
             0.3,
             "rgb(244,165,130)"
            ],
            [
             0.4,
             "rgb(253,219,199)"
            ],
            [
             0.5,
             "rgb(247,247,247)"
            ],
            [
             0.6,
             "rgb(209,229,240)"
            ],
            [
             0.7,
             "rgb(146,197,222)"
            ],
            [
             0.8,
             "rgb(67,147,195)"
            ],
            [
             0.9,
             "rgb(33,102,172)"
            ],
            [
             1,
             "rgb(5,48,97)"
            ]
           ],
           "sequential": [
            [
             0,
             "#440154"
            ],
            [
             0.1111111111111111,
             "#482878"
            ],
            [
             0.2222222222222222,
             "#3e4989"
            ],
            [
             0.3333333333333333,
             "#31688e"
            ],
            [
             0.4444444444444444,
             "#26828e"
            ],
            [
             0.5555555555555556,
             "#1f9e89"
            ],
            [
             0.6666666666666666,
             "#35b779"
            ],
            [
             0.7777777777777778,
             "#6ece58"
            ],
            [
             0.8888888888888888,
             "#b5de2b"
            ],
            [
             1,
             "#fde725"
            ]
           ],
           "sequentialminus": [
            [
             0,
             "#440154"
            ],
            [
             0.1111111111111111,
             "#482878"
            ],
            [
             0.2222222222222222,
             "#3e4989"
            ],
            [
             0.3333333333333333,
             "#31688e"
            ],
            [
             0.4444444444444444,
             "#26828e"
            ],
            [
             0.5555555555555556,
             "#1f9e89"
            ],
            [
             0.6666666666666666,
             "#35b779"
            ],
            [
             0.7777777777777778,
             "#6ece58"
            ],
            [
             0.8888888888888888,
             "#b5de2b"
            ],
            [
             1,
             "#fde725"
            ]
           ]
          },
          "colorway": [
           "#1F77B4",
           "#FF7F0E",
           "#2CA02C",
           "#D62728",
           "#9467BD",
           "#8C564B",
           "#E377C2",
           "#7F7F7F",
           "#BCBD22",
           "#17BECF"
          ],
          "font": {
           "color": "rgb(36,36,36)"
          },
          "geo": {
           "bgcolor": "white",
           "lakecolor": "white",
           "landcolor": "white",
           "showlakes": true,
           "showland": true,
           "subunitcolor": "white"
          },
          "hoverlabel": {
           "align": "left"
          },
          "hovermode": "closest",
          "mapbox": {
           "style": "light"
          },
          "paper_bgcolor": "white",
          "plot_bgcolor": "white",
          "polar": {
           "angularaxis": {
            "gridcolor": "rgb(232,232,232)",
            "linecolor": "rgb(36,36,36)",
            "showgrid": false,
            "showline": true,
            "ticks": "outside"
           },
           "bgcolor": "white",
           "radialaxis": {
            "gridcolor": "rgb(232,232,232)",
            "linecolor": "rgb(36,36,36)",
            "showgrid": false,
            "showline": true,
            "ticks": "outside"
           }
          },
          "scene": {
           "xaxis": {
            "backgroundcolor": "white",
            "gridcolor": "rgb(232,232,232)",
            "gridwidth": 2,
            "linecolor": "rgb(36,36,36)",
            "showbackground": true,
            "showgrid": false,
            "showline": true,
            "ticks": "outside",
            "zeroline": false,
            "zerolinecolor": "rgb(36,36,36)"
           },
           "yaxis": {
            "backgroundcolor": "white",
            "gridcolor": "rgb(232,232,232)",
            "gridwidth": 2,
            "linecolor": "rgb(36,36,36)",
            "showbackground": true,
            "showgrid": false,
            "showline": true,
            "ticks": "outside",
            "zeroline": false,
            "zerolinecolor": "rgb(36,36,36)"
           },
           "zaxis": {
            "backgroundcolor": "white",
            "gridcolor": "rgb(232,232,232)",
            "gridwidth": 2,
            "linecolor": "rgb(36,36,36)",
            "showbackground": true,
            "showgrid": false,
            "showline": true,
            "ticks": "outside",
            "zeroline": false,
            "zerolinecolor": "rgb(36,36,36)"
           }
          },
          "shapedefaults": {
           "fillcolor": "black",
           "line": {
            "width": 0
           },
           "opacity": 0.3
          },
          "ternary": {
           "aaxis": {
            "gridcolor": "rgb(232,232,232)",
            "linecolor": "rgb(36,36,36)",
            "showgrid": false,
            "showline": true,
            "ticks": "outside"
           },
           "baxis": {
            "gridcolor": "rgb(232,232,232)",
            "linecolor": "rgb(36,36,36)",
            "showgrid": false,
            "showline": true,
            "ticks": "outside"
           },
           "bgcolor": "white",
           "caxis": {
            "gridcolor": "rgb(232,232,232)",
            "linecolor": "rgb(36,36,36)",
            "showgrid": false,
            "showline": true,
            "ticks": "outside"
           }
          },
          "title": {
           "x": 0.05
          },
          "xaxis": {
           "automargin": true,
           "gridcolor": "rgb(232,232,232)",
           "linecolor": "rgb(36,36,36)",
           "showgrid": false,
           "showline": true,
           "ticks": "outside",
           "title": {
            "standoff": 15
           },
           "zeroline": false,
           "zerolinecolor": "rgb(36,36,36)"
          },
          "yaxis": {
           "automargin": true,
           "gridcolor": "rgb(232,232,232)",
           "linecolor": "rgb(36,36,36)",
           "showgrid": false,
           "showline": true,
           "ticks": "outside",
           "title": {
            "standoff": 15
           },
           "zeroline": false,
           "zerolinecolor": "rgb(36,36,36)"
          }
         }
        },
        "title": {
         "font": {
          "color": "black",
          "family": "Arial",
          "size": 20
         },
         "text": "Parity Plot for predicting PBE Bandgap excluding HSE features",
         "x": 0.5
        },
        "width": 1000,
        "xaxis": {
         "title": {
          "font": {
           "family": "arial",
           "size": 18
          },
          "text": "Actual Values"
         }
        },
        "yaxis": {
         "title": {
          "font": {
           "family": "arial",
           "size": 18
          },
          "text": "Predicted Values"
         }
        }
       }
      }
     },
     "metadata": {},
     "output_type": "display_data"
    }
   ],
   "source": [
    "import plotly.graph_objects as go\n",
    "\n",
    "# Predict on training and test sets\n",
    "y_train_pred = xgb_reg.predict(X_train)\n",
    "y_test_pred = xgb_reg.predict(X_test)\n",
    "\n",
    "\n",
    "# Create a parity plot for test set\n",
    "test_set_df_ = pd.DataFrame({'y_test': y_test, 'y_test_pred': y_test_pred})\n",
    "\n",
    "# Merge the DataFrame with the main DataFrame 'df' to get 'hse_direct' values\n",
    "test_set_df_ = pd.merge(test_set_df_, df[['PBE_direct']], left_index=True, right_index=True, how='left')\n",
    "\n",
    "parity_test_fig = go.Figure()\n",
    "\n",
    "# Create a color list based on pbe_direct values\n",
    "colors = []\n",
    "\n",
    "for index, row in test_set_df_.iterrows():\n",
    "    pbe_direct_val = row['PBE_direct']\n",
    "    if pd.isna(pbe_direct_val):\n",
    "        colors.append('red')\n",
    "    elif pbe_direct_val == 1:\n",
    "        colors.append('green')\n",
    "    else:\n",
    "        colors.append('black')\n",
    "\n",
    "parity_test_fig.add_trace(go.Scatter(\n",
    "    x=test_set_df_['y_test'],\n",
    "    y=test_set_df_['y_test_pred'],\n",
    "    mode='markers',\n",
    "    name='Test Set',\n",
    "    marker=dict(size=6, color=colors)\n",
    "))\n",
    "\n",
    "parity_test_fig.add_trace(go.Scatter(\n",
    "    x=[min(test_set_df_['y_test']), max(test_set_df_['y_test'])],\n",
    "    y=[min(test_set_df_['y_test']), max(test_set_df_['y_test'])],\n",
    "    mode='lines',\n",
    "    name='Ideal Prediction',\n",
    "    line=dict(dash='dash', color='red', width=1.5)\n",
    "))\n",
    "\n",
    "# Add custom legend entry\n",
    "parity_test_fig.add_trace(go.Scatter(\n",
    "    x=[],\n",
    "    y=[],\n",
    "    mode='markers',\n",
    "    marker=dict(size=10, color='green'),\n",
    "    name='PBE direct'\n",
    "))\n",
    "\n",
    "parity_test_fig.add_trace(go.Scatter(\n",
    "    x=[],\n",
    "    y=[],\n",
    "    mode='markers',\n",
    "    marker=dict(size=10, color='black'),\n",
    "    name='PBE indirect'\n",
    "))\n",
    "\n",
    "parity_test_fig.update_layout(\n",
    "    template='simple_white',  \n",
    "    title='Parity Plot for predicting PBE Bandgap excluding HSE features',\n",
    "    xaxis_title='Actual Values',\n",
    "    yaxis_title='Predicted Values',\n",
    "    font_family=\"Courier New\",\n",
    "    font_color=\"black\",\n",
    "    title_font_family=\"Arial\",\n",
    "    title_font_size = 20,\n",
    "    title_font_color=\"black\",\n",
    "    title_x = 0.5,\n",
    "    xaxis_title_font_size = 18,\n",
    "    yaxis_title_font_size = 18,\n",
    "    legend_title_font_color=\"green\",\n",
    "    xaxis_title_font_family = \"arial\",\n",
    "    yaxis_title_font_family = \"arial\",\n",
    "    showlegend=False,  \n",
    "    width=1000,  \n",
    "    height=800,\n",
    ")\n",
    "\n",
    "textt = \"Black points represent PBE bandgap is indirect<br>Green points represent PBE bandgap is direct\"\n",
    "\n",
    "parity_test_fig.add_annotation(\n",
    "    text=textt,  \n",
    "    x= 1,  \n",
    "    y= 0.05,  \n",
    "    xref=\"paper\",  \n",
    "    yref=\"paper\",  \n",
    "    showarrow=False, \n",
    "    font=dict(family=\"Arial\", size=12, color=\"black\"),  \n",
    "    bgcolor=\"rgba(255, 255, 255, 0.7)\",  \n",
    "    bordercolor=\"black\",  \n",
    "    borderwidth=1,  \n",
    ")\n",
    "\n",
    "config = {\n",
    "    'toImageButtonOptions': {\n",
    "        'format': 'png',  # one of png, svg, jpeg, webp\n",
    "        'filename': 'custom_image',\n",
    "        'height': 500,\n",
    "        'width': 700,\n",
    "        'scale': 6  # Multiply title/legend/axis/canvas sizes by this factor\n",
    "    }\n",
    "}\n",
    "\n",
    "parity_test_fig.show(config=config)\n",
    "\n",
    "\n",
    "\n"
   ]
  },
  {
   "cell_type": "markdown",
   "metadata": {},
   "source": [
    "### Plotting Importances by features of the PBE prediction model excluding HSE features"
   ]
  },
  {
   "cell_type": "code",
   "execution_count": 135,
   "metadata": {},
   "outputs": [
    {
     "data": {
      "application/vnd.plotly.v1+json": {
       "config": {
        "plotlyServerURL": "https://plot.ly",
        "toImageButtonOptions": {
         "filename": "custom_image",
         "format": "png",
         "height": 500,
         "scale": 6,
         "width": 700
        }
       },
       "data": [
        {
         "marker": {
          "color": "royalblue"
         },
         "type": "bar",
         "x": [
          "volume",
          "B_HOMO",
          "PBE_vbm",
          "e_above_hull",
          "A_IE",
          "A_LUMO",
          "total_energy",
          "a",
          "A_Z_radii",
          "density"
         ],
         "y": [
          0.3567917048931122,
          0.10771731287240982,
          0.07114870101213455,
          0.055938150733709335,
          0.05515125021338463,
          0.03671088442206383,
          0.02787621319293976,
          0.02684413455426693,
          0.02653505466878414,
          0.022770361974835396
         ]
        }
       ],
       "layout": {
        "font": {
         "color": "black",
         "family": "Arial",
         "size": 14
        },
        "height": 800,
        "showlegend": false,
        "template": {
         "data": {
          "bar": [
           {
            "error_x": {
             "color": "#2a3f5f"
            },
            "error_y": {
             "color": "#2a3f5f"
            },
            "marker": {
             "line": {
              "color": "#E5ECF6",
              "width": 0.5
             },
             "pattern": {
              "fillmode": "overlay",
              "size": 10,
              "solidity": 0.2
             }
            },
            "type": "bar"
           }
          ],
          "barpolar": [
           {
            "marker": {
             "line": {
              "color": "#E5ECF6",
              "width": 0.5
             },
             "pattern": {
              "fillmode": "overlay",
              "size": 10,
              "solidity": 0.2
             }
            },
            "type": "barpolar"
           }
          ],
          "carpet": [
           {
            "aaxis": {
             "endlinecolor": "#2a3f5f",
             "gridcolor": "white",
             "linecolor": "white",
             "minorgridcolor": "white",
             "startlinecolor": "#2a3f5f"
            },
            "baxis": {
             "endlinecolor": "#2a3f5f",
             "gridcolor": "white",
             "linecolor": "white",
             "minorgridcolor": "white",
             "startlinecolor": "#2a3f5f"
            },
            "type": "carpet"
           }
          ],
          "choropleth": [
           {
            "colorbar": {
             "outlinewidth": 0,
             "ticks": ""
            },
            "type": "choropleth"
           }
          ],
          "contour": [
           {
            "colorbar": {
             "outlinewidth": 0,
             "ticks": ""
            },
            "colorscale": [
             [
              0,
              "#0d0887"
             ],
             [
              0.1111111111111111,
              "#46039f"
             ],
             [
              0.2222222222222222,
              "#7201a8"
             ],
             [
              0.3333333333333333,
              "#9c179e"
             ],
             [
              0.4444444444444444,
              "#bd3786"
             ],
             [
              0.5555555555555556,
              "#d8576b"
             ],
             [
              0.6666666666666666,
              "#ed7953"
             ],
             [
              0.7777777777777778,
              "#fb9f3a"
             ],
             [
              0.8888888888888888,
              "#fdca26"
             ],
             [
              1,
              "#f0f921"
             ]
            ],
            "type": "contour"
           }
          ],
          "contourcarpet": [
           {
            "colorbar": {
             "outlinewidth": 0,
             "ticks": ""
            },
            "type": "contourcarpet"
           }
          ],
          "heatmap": [
           {
            "colorbar": {
             "outlinewidth": 0,
             "ticks": ""
            },
            "colorscale": [
             [
              0,
              "#0d0887"
             ],
             [
              0.1111111111111111,
              "#46039f"
             ],
             [
              0.2222222222222222,
              "#7201a8"
             ],
             [
              0.3333333333333333,
              "#9c179e"
             ],
             [
              0.4444444444444444,
              "#bd3786"
             ],
             [
              0.5555555555555556,
              "#d8576b"
             ],
             [
              0.6666666666666666,
              "#ed7953"
             ],
             [
              0.7777777777777778,
              "#fb9f3a"
             ],
             [
              0.8888888888888888,
              "#fdca26"
             ],
             [
              1,
              "#f0f921"
             ]
            ],
            "type": "heatmap"
           }
          ],
          "heatmapgl": [
           {
            "colorbar": {
             "outlinewidth": 0,
             "ticks": ""
            },
            "colorscale": [
             [
              0,
              "#0d0887"
             ],
             [
              0.1111111111111111,
              "#46039f"
             ],
             [
              0.2222222222222222,
              "#7201a8"
             ],
             [
              0.3333333333333333,
              "#9c179e"
             ],
             [
              0.4444444444444444,
              "#bd3786"
             ],
             [
              0.5555555555555556,
              "#d8576b"
             ],
             [
              0.6666666666666666,
              "#ed7953"
             ],
             [
              0.7777777777777778,
              "#fb9f3a"
             ],
             [
              0.8888888888888888,
              "#fdca26"
             ],
             [
              1,
              "#f0f921"
             ]
            ],
            "type": "heatmapgl"
           }
          ],
          "histogram": [
           {
            "marker": {
             "pattern": {
              "fillmode": "overlay",
              "size": 10,
              "solidity": 0.2
             }
            },
            "type": "histogram"
           }
          ],
          "histogram2d": [
           {
            "colorbar": {
             "outlinewidth": 0,
             "ticks": ""
            },
            "colorscale": [
             [
              0,
              "#0d0887"
             ],
             [
              0.1111111111111111,
              "#46039f"
             ],
             [
              0.2222222222222222,
              "#7201a8"
             ],
             [
              0.3333333333333333,
              "#9c179e"
             ],
             [
              0.4444444444444444,
              "#bd3786"
             ],
             [
              0.5555555555555556,
              "#d8576b"
             ],
             [
              0.6666666666666666,
              "#ed7953"
             ],
             [
              0.7777777777777778,
              "#fb9f3a"
             ],
             [
              0.8888888888888888,
              "#fdca26"
             ],
             [
              1,
              "#f0f921"
             ]
            ],
            "type": "histogram2d"
           }
          ],
          "histogram2dcontour": [
           {
            "colorbar": {
             "outlinewidth": 0,
             "ticks": ""
            },
            "colorscale": [
             [
              0,
              "#0d0887"
             ],
             [
              0.1111111111111111,
              "#46039f"
             ],
             [
              0.2222222222222222,
              "#7201a8"
             ],
             [
              0.3333333333333333,
              "#9c179e"
             ],
             [
              0.4444444444444444,
              "#bd3786"
             ],
             [
              0.5555555555555556,
              "#d8576b"
             ],
             [
              0.6666666666666666,
              "#ed7953"
             ],
             [
              0.7777777777777778,
              "#fb9f3a"
             ],
             [
              0.8888888888888888,
              "#fdca26"
             ],
             [
              1,
              "#f0f921"
             ]
            ],
            "type": "histogram2dcontour"
           }
          ],
          "mesh3d": [
           {
            "colorbar": {
             "outlinewidth": 0,
             "ticks": ""
            },
            "type": "mesh3d"
           }
          ],
          "parcoords": [
           {
            "line": {
             "colorbar": {
              "outlinewidth": 0,
              "ticks": ""
             }
            },
            "type": "parcoords"
           }
          ],
          "pie": [
           {
            "automargin": true,
            "type": "pie"
           }
          ],
          "scatter": [
           {
            "fillpattern": {
             "fillmode": "overlay",
             "size": 10,
             "solidity": 0.2
            },
            "type": "scatter"
           }
          ],
          "scatter3d": [
           {
            "line": {
             "colorbar": {
              "outlinewidth": 0,
              "ticks": ""
             }
            },
            "marker": {
             "colorbar": {
              "outlinewidth": 0,
              "ticks": ""
             }
            },
            "type": "scatter3d"
           }
          ],
          "scattercarpet": [
           {
            "marker": {
             "colorbar": {
              "outlinewidth": 0,
              "ticks": ""
             }
            },
            "type": "scattercarpet"
           }
          ],
          "scattergeo": [
           {
            "marker": {
             "colorbar": {
              "outlinewidth": 0,
              "ticks": ""
             }
            },
            "type": "scattergeo"
           }
          ],
          "scattergl": [
           {
            "marker": {
             "colorbar": {
              "outlinewidth": 0,
              "ticks": ""
             }
            },
            "type": "scattergl"
           }
          ],
          "scattermapbox": [
           {
            "marker": {
             "colorbar": {
              "outlinewidth": 0,
              "ticks": ""
             }
            },
            "type": "scattermapbox"
           }
          ],
          "scatterpolar": [
           {
            "marker": {
             "colorbar": {
              "outlinewidth": 0,
              "ticks": ""
             }
            },
            "type": "scatterpolar"
           }
          ],
          "scatterpolargl": [
           {
            "marker": {
             "colorbar": {
              "outlinewidth": 0,
              "ticks": ""
             }
            },
            "type": "scatterpolargl"
           }
          ],
          "scatterternary": [
           {
            "marker": {
             "colorbar": {
              "outlinewidth": 0,
              "ticks": ""
             }
            },
            "type": "scatterternary"
           }
          ],
          "surface": [
           {
            "colorbar": {
             "outlinewidth": 0,
             "ticks": ""
            },
            "colorscale": [
             [
              0,
              "#0d0887"
             ],
             [
              0.1111111111111111,
              "#46039f"
             ],
             [
              0.2222222222222222,
              "#7201a8"
             ],
             [
              0.3333333333333333,
              "#9c179e"
             ],
             [
              0.4444444444444444,
              "#bd3786"
             ],
             [
              0.5555555555555556,
              "#d8576b"
             ],
             [
              0.6666666666666666,
              "#ed7953"
             ],
             [
              0.7777777777777778,
              "#fb9f3a"
             ],
             [
              0.8888888888888888,
              "#fdca26"
             ],
             [
              1,
              "#f0f921"
             ]
            ],
            "type": "surface"
           }
          ],
          "table": [
           {
            "cells": {
             "fill": {
              "color": "#EBF0F8"
             },
             "line": {
              "color": "white"
             }
            },
            "header": {
             "fill": {
              "color": "#C8D4E3"
             },
             "line": {
              "color": "white"
             }
            },
            "type": "table"
           }
          ]
         },
         "layout": {
          "annotationdefaults": {
           "arrowcolor": "#2a3f5f",
           "arrowhead": 0,
           "arrowwidth": 1
          },
          "autotypenumbers": "strict",
          "coloraxis": {
           "colorbar": {
            "outlinewidth": 0,
            "ticks": ""
           }
          },
          "colorscale": {
           "diverging": [
            [
             0,
             "#8e0152"
            ],
            [
             0.1,
             "#c51b7d"
            ],
            [
             0.2,
             "#de77ae"
            ],
            [
             0.3,
             "#f1b6da"
            ],
            [
             0.4,
             "#fde0ef"
            ],
            [
             0.5,
             "#f7f7f7"
            ],
            [
             0.6,
             "#e6f5d0"
            ],
            [
             0.7,
             "#b8e186"
            ],
            [
             0.8,
             "#7fbc41"
            ],
            [
             0.9,
             "#4d9221"
            ],
            [
             1,
             "#276419"
            ]
           ],
           "sequential": [
            [
             0,
             "#0d0887"
            ],
            [
             0.1111111111111111,
             "#46039f"
            ],
            [
             0.2222222222222222,
             "#7201a8"
            ],
            [
             0.3333333333333333,
             "#9c179e"
            ],
            [
             0.4444444444444444,
             "#bd3786"
            ],
            [
             0.5555555555555556,
             "#d8576b"
            ],
            [
             0.6666666666666666,
             "#ed7953"
            ],
            [
             0.7777777777777778,
             "#fb9f3a"
            ],
            [
             0.8888888888888888,
             "#fdca26"
            ],
            [
             1,
             "#f0f921"
            ]
           ],
           "sequentialminus": [
            [
             0,
             "#0d0887"
            ],
            [
             0.1111111111111111,
             "#46039f"
            ],
            [
             0.2222222222222222,
             "#7201a8"
            ],
            [
             0.3333333333333333,
             "#9c179e"
            ],
            [
             0.4444444444444444,
             "#bd3786"
            ],
            [
             0.5555555555555556,
             "#d8576b"
            ],
            [
             0.6666666666666666,
             "#ed7953"
            ],
            [
             0.7777777777777778,
             "#fb9f3a"
            ],
            [
             0.8888888888888888,
             "#fdca26"
            ],
            [
             1,
             "#f0f921"
            ]
           ]
          },
          "colorway": [
           "#636efa",
           "#EF553B",
           "#00cc96",
           "#ab63fa",
           "#FFA15A",
           "#19d3f3",
           "#FF6692",
           "#B6E880",
           "#FF97FF",
           "#FECB52"
          ],
          "font": {
           "color": "#2a3f5f"
          },
          "geo": {
           "bgcolor": "white",
           "lakecolor": "white",
           "landcolor": "#E5ECF6",
           "showlakes": true,
           "showland": true,
           "subunitcolor": "white"
          },
          "hoverlabel": {
           "align": "left"
          },
          "hovermode": "closest",
          "mapbox": {
           "style": "light"
          },
          "paper_bgcolor": "white",
          "plot_bgcolor": "#E5ECF6",
          "polar": {
           "angularaxis": {
            "gridcolor": "white",
            "linecolor": "white",
            "ticks": ""
           },
           "bgcolor": "#E5ECF6",
           "radialaxis": {
            "gridcolor": "white",
            "linecolor": "white",
            "ticks": ""
           }
          },
          "scene": {
           "xaxis": {
            "backgroundcolor": "#E5ECF6",
            "gridcolor": "white",
            "gridwidth": 2,
            "linecolor": "white",
            "showbackground": true,
            "ticks": "",
            "zerolinecolor": "white"
           },
           "yaxis": {
            "backgroundcolor": "#E5ECF6",
            "gridcolor": "white",
            "gridwidth": 2,
            "linecolor": "white",
            "showbackground": true,
            "ticks": "",
            "zerolinecolor": "white"
           },
           "zaxis": {
            "backgroundcolor": "#E5ECF6",
            "gridcolor": "white",
            "gridwidth": 2,
            "linecolor": "white",
            "showbackground": true,
            "ticks": "",
            "zerolinecolor": "white"
           }
          },
          "shapedefaults": {
           "line": {
            "color": "#2a3f5f"
           }
          },
          "ternary": {
           "aaxis": {
            "gridcolor": "white",
            "linecolor": "white",
            "ticks": ""
           },
           "baxis": {
            "gridcolor": "white",
            "linecolor": "white",
            "ticks": ""
           },
           "bgcolor": "#E5ECF6",
           "caxis": {
            "gridcolor": "white",
            "linecolor": "white",
            "ticks": ""
           }
          },
          "title": {
           "x": 0.05
          },
          "xaxis": {
           "automargin": true,
           "gridcolor": "white",
           "linecolor": "white",
           "ticks": "",
           "title": {
            "standoff": 15
           },
           "zerolinecolor": "white",
           "zerolinewidth": 2
          },
          "yaxis": {
           "automargin": true,
           "gridcolor": "white",
           "linecolor": "white",
           "ticks": "",
           "title": {
            "standoff": 15
           },
           "zerolinecolor": "white",
           "zerolinewidth": 2
          }
         }
        },
        "title": {
         "text": "Feature Importances for Predicting PBE Features excluding HSE parameters",
         "x": 0.5
        },
        "width": 1000,
        "xaxis": {
         "tickangle": 45,
         "tickfont": {
          "size": 13
         },
         "title": {
          "text": "Features"
         }
        },
        "yaxis": {
         "title": {
          "text": "Importance (%)"
         }
        }
       }
      }
     },
     "metadata": {},
     "output_type": "display_data"
    }
   ],
   "source": [
    "import plotly.graph_objects as go\n",
    "\n",
    "feature_importances = xgb_reg.feature_importances_\n",
    "included = X2_PBE.columns.values\n",
    "indices = np.argsort(feature_importances)[::-1]\n",
    "\n",
    "fig = go.Figure()\n",
    "\n",
    "fig.add_trace(go.Bar(\n",
    "    x=included[indices][:10],\n",
    "    y=feature_importances[indices][:10],\n",
    "    marker=dict(color='royalblue'),\n",
    "    #text=feature_importances[indices][:10],\n",
    "    #textposition='auto',\n",
    "))\n",
    "\n",
    "fig.update_layout(\n",
    "    xaxis=dict(\n",
    "        title='Features',\n",
    "        tickfont=dict(size=13),\n",
    "        tickangle=45  \n",
    "    ),\n",
    "    yaxis_title='Importance (%)',\n",
    "    title='Feature Importances for Predicting PBE Features excluding HSE parameters',\n",
    "    font=dict(family=\"Arial\", size=14, color=\"black\"),\n",
    "    title_x = 0.5,\n",
    "    width=1000,\n",
    "    height=800,\n",
    "    showlegend=False,\n",
    ")\n",
    "\n",
    "config = {\n",
    "    'toImageButtonOptions': {\n",
    "        'format': 'png',  # one of png, svg, jpeg, webp\n",
    "        'filename': 'custom_image',\n",
    "        'height': 500,\n",
    "        'width': 700,\n",
    "        'scale': 6  # Multiply title/legend/axis/canvas sizes by this factor\n",
    "    }\n",
    "}\n",
    "\n",
    "fig.show(config=config)\n"
   ]
  },
  {
   "cell_type": "markdown",
   "metadata": {},
   "source": [
    "## For prediciting HSE bandgap"
   ]
  },
  {
   "cell_type": "markdown",
   "metadata": {},
   "source": [
    "### Predicting HSE bandgap including HSE insulator"
   ]
  },
  {
   "cell_type": "code",
   "execution_count": 136,
   "metadata": {},
   "outputs": [
    {
     "name": "stdout",
     "output_type": "stream",
     "text": [
      "Training R2 = 1.0\n",
      "Training RMSE = 0.004\n",
      "Test R2 = 0.945\n",
      "Test RMSE = 0.104\n"
     ]
    }
   ],
   "source": [
    "from xgboost import XGBRegressor\n",
    "from sklearn.metrics import mean_squared_error\n",
    "from sklearn.model_selection import train_test_split\n",
    "\n",
    "# Assuming X, y, and df are already defined\n",
    "\n",
    "X_HSE['functional_group'] = df['functional_group']\n",
    "\n",
    "# Add 'stable' to X\n",
    "X_HSE['stable'] = df['stable']\n",
    "\n",
    "# Specify the test size\n",
    "test_size = 0.1\n",
    "\n",
    "# Split the data into train and test sets\n",
    "X__train, X__test, y__train, y__test = train_test_split(X_HSE, y_HSE, test_size=test_size, random_state=2, stratify= X_HSE['stable'])\n",
    "\n",
    "# Extract and drop the 'functional_group' column\n",
    "train_formula = X__train['functional_group']\n",
    "X__train = X__train.drop('functional_group', axis=1)\n",
    "test__formula = X__test['functional_group']\n",
    "X__test = X__test.drop('functional_group', axis=1)\n",
    "\n",
    "# Create an XGBoost regressor\n",
    "xgb__reg = XGBRegressor(n_estimators=250, random_state=6, learning_rate = 0.1)\n",
    "xgb__reg.fit(X__train, y__train)\n",
    "\n",
    "# Get fit statistics\n",
    "print('Training R2 = ' + str(round(xgb__reg.score(X__train, y__train), 3)))\n",
    "print('Training RMSE = %.3f' % np.sqrt(mean_squared_error(y_true=y__train, y_pred=xgb__reg.predict(X__train))))\n",
    "print('Test R2 = ' + str(round(xgb__reg.score(X__test, y__test), 3)))\n",
    "print('Test RMSE = %.3f' % np.sqrt(mean_squared_error(y_true=y__test, y_pred=xgb__reg.predict(X__test))))\n",
    "\n"
   ]
  },
  {
   "cell_type": "markdown",
   "metadata": {},
   "source": [
    "### Parity plot for HSE Bandgap including HSE insulator"
   ]
  },
  {
   "cell_type": "code",
   "execution_count": 141,
   "metadata": {},
   "outputs": [
    {
     "data": {
      "application/vnd.plotly.v1+json": {
       "config": {
        "plotlyServerURL": "https://plot.ly",
        "toImageButtonOptions": {
         "filename": "custom_image",
         "format": "png",
         "height": 500,
         "scale": 6,
         "width": 700
        }
       },
       "data": [
        {
         "marker": {
          "color": [
           "black",
           "black",
           "black",
           "black",
           "black",
           "black",
           "black",
           "black",
           "black",
           "green",
           "black",
           "black",
           "green",
           "black",
           "black",
           "black",
           "black",
           "black",
           "green",
           "black",
           "black",
           "black",
           "black",
           "green",
           "green",
           "green",
           "black",
           "black",
           "black",
           "black",
           "black",
           "black",
           "black",
           "black",
           "black",
           "green",
           "black",
           "black",
           "green",
           "black",
           "black",
           "black",
           "black",
           "black",
           "black",
           "green",
           "black",
           "black",
           "black",
           "black",
           "black",
           "black",
           "black",
           "black",
           "black",
           "black",
           "black",
           "black",
           "black",
           "black",
           "black",
           "black",
           "black",
           "black",
           "black",
           "black",
           "green",
           "black",
           "black",
           "black",
           "black",
           "black",
           "black",
           "black",
           "black",
           "green",
           "black",
           "black",
           "black",
           "black",
           "black",
           "black",
           "black",
           "black",
           "black",
           "black",
           "black",
           "green",
           "black",
           "black",
           "black",
           "black"
          ],
          "size": 6
         },
         "mode": "markers",
         "name": "Test Set",
         "type": "scatter",
         "x": [
          0.025000000000002003,
          0.032400000000000005,
          1.5325000000000002,
          0,
          0,
          0.0291,
          0.053700000000000005,
          0.729699999999999,
          0.0181,
          0.016599999999998002,
          0.0181,
          0.07159999999999901,
          0.017999999999999003,
          0.0028000000000000004,
          0.0134,
          0.7844999999999991,
          0,
          1.1104,
          0.015199999999999,
          0.043499999999999005,
          0.031199999999999003,
          0.12429999999999901,
          0.7189000000000001,
          0.6847999999999991,
          0.038199999999999006,
          0.044800000000000006,
          0.0036000000000000003,
          0.019599999999999,
          0.048299999999999,
          0.0182,
          0.802199999999999,
          0.0546,
          0.47280000000000005,
          0,
          1.5671,
          0.16760000000000003,
          0,
          1.3657,
          0.016099999999999,
          0.0182,
          1.888399999999999,
          0.0034999999999980004,
          0.020900000000000002,
          0.0027999999999990003,
          0.41480000000000006,
          0.010699999999999,
          0.042799999999999006,
          0.008999999999999,
          0.004099999999999,
          0.136099999999999,
          0,
          1.359,
          0.010499999999999001,
          0.034399999999999,
          0.0273,
          0.7813999999999991,
          0.183099999999999,
          0.006699999999999,
          0.0117,
          0.4053,
          0.16790000000000002,
          0.024099999999999,
          0.002199999999999,
          0.6122000000000001,
          0.0204,
          0.0616,
          1.2011,
          0,
          0.229,
          1.0884,
          0.009800000000000001,
          0.6337,
          0.036799999999999,
          0.050099999999999006,
          0.028599999999999,
          0.012199999999999002,
          0.010699999999999,
          0.5679000000000001,
          0.012900000000000002,
          0.018000000000000002,
          0.9821000000000001,
          0.05809999999999901,
          0.37870000000000004,
          1.0874,
          0.052499999999999006,
          0.292699999999999,
          1.182699999999999,
          0.019099999999999003,
          0.013500000000000002,
          0,
          0.0068000000000000005,
          0.067499999999999
         ],
         "y": [
          0.021850403398275375,
          0.032410819083452225,
          1.4959790706634521,
          0.024529611691832542,
          -0.021656524389982224,
          0.027307989075779915,
          0.007058719173073769,
          0.6497843265533447,
          0.03000124916434288,
          0.05306036397814751,
          0.02021922916173935,
          0.01339313667267561,
          0.03380531072616577,
          0.08166037499904633,
          0.033284906297922134,
          0.5906343460083008,
          -0.006435678340494633,
          0.921030580997467,
          0.022029612213373184,
          0.020414063706994057,
          0.031432267278432846,
          0.27864545583724976,
          0.5353339314460754,
          0.921742856502533,
          0.016226105391979218,
          0.07371991872787476,
          0.012412769719958305,
          0.03380145505070686,
          0.02079218067228794,
          0.013503802940249443,
          0.796204149723053,
          0.04332079365849495,
          0.4218488037586212,
          -0.01223598700016737,
          1.5203996896743774,
          0.5639758110046387,
          0.021830033510923386,
          1.5400434732437134,
          0.01943492516875267,
          0.04836535453796387,
          1.9332261085510254,
          0.033403217792510986,
          0.02618131972849369,
          0.022565027698874474,
          0.44035711884498596,
          0.04377210512757301,
          0.06161016598343849,
          0.014125291258096695,
          -0.0005674726562574506,
          0.37586846947669983,
          0.00669855484738946,
          1.2824629545211792,
          0.03482115641236305,
          0.04055657610297203,
          0.007219708990305662,
          0.8828224539756775,
          0.38523438572883606,
          0.030278416350483894,
          -0.00016275765665341169,
          0.6640743017196655,
          0.39968714118003845,
          0.03657879680395126,
          0.01917712390422821,
          0.6173698902130127,
          0.017570631578564644,
          0.02336980029940605,
          1.0199339389801025,
          0.0003208272100891918,
          0.24536144733428955,
          1.0520625114440918,
          0.020204100757837296,
          0.7743052840232849,
          0.044916026294231415,
          0.0308687724173069,
          0.053335025906562805,
          0.017304105684161186,
          0.013571145944297314,
          0.5222435593605042,
          0.0412784218788147,
          0.13301371037960052,
          0.7785944938659668,
          0.035701390355825424,
          0.17425809800624847,
          1.1304949522018433,
          0.021265773102641106,
          0.32500743865966797,
          0.7587090134620667,
          0.04951159283518791,
          0.010324640199542046,
          0.001978835090994835,
          0.02856128104031086,
          0.013307434506714344
         ]
        },
        {
         "line": {
          "color": "red",
          "dash": "dash",
          "width": 1.5
         },
         "mode": "lines",
         "name": "Ideal Prediction",
         "type": "scatter",
         "x": [
          0,
          1.888399999999999
         ],
         "y": [
          0,
          1.888399999999999
         ]
        },
        {
         "marker": {
          "color": "green",
          "size": 10
         },
         "mode": "markers",
         "name": "HSE direct",
         "type": "scatter",
         "x": [],
         "y": []
        },
        {
         "marker": {
          "color": "black",
          "size": 10
         },
         "mode": "markers",
         "name": "HSE indirect",
         "type": "scatter",
         "x": [],
         "y": []
        }
       ],
       "layout": {
        "annotations": [
         {
          "bgcolor": "rgba(255, 255, 255, 0.7)",
          "bordercolor": "black",
          "borderwidth": 1,
          "font": {
           "color": "black",
           "family": "Arial",
           "size": 12
          },
          "showarrow": false,
          "text": "Black points represent HSE bandgap is indirect<br>Green points represent HSE bandgap is direct",
          "x": 1,
          "xref": "paper",
          "y": 0.05,
          "yref": "paper"
         }
        ],
        "font": {
         "color": "black",
         "family": "Courier New"
        },
        "height": 800,
        "legend": {
         "title": {
          "font": {
           "color": "green"
          }
         }
        },
        "showlegend": false,
        "template": {
         "data": {
          "bar": [
           {
            "error_x": {
             "color": "rgb(36,36,36)"
            },
            "error_y": {
             "color": "rgb(36,36,36)"
            },
            "marker": {
             "line": {
              "color": "white",
              "width": 0.5
             },
             "pattern": {
              "fillmode": "overlay",
              "size": 10,
              "solidity": 0.2
             }
            },
            "type": "bar"
           }
          ],
          "barpolar": [
           {
            "marker": {
             "line": {
              "color": "white",
              "width": 0.5
             },
             "pattern": {
              "fillmode": "overlay",
              "size": 10,
              "solidity": 0.2
             }
            },
            "type": "barpolar"
           }
          ],
          "carpet": [
           {
            "aaxis": {
             "endlinecolor": "rgb(36,36,36)",
             "gridcolor": "white",
             "linecolor": "white",
             "minorgridcolor": "white",
             "startlinecolor": "rgb(36,36,36)"
            },
            "baxis": {
             "endlinecolor": "rgb(36,36,36)",
             "gridcolor": "white",
             "linecolor": "white",
             "minorgridcolor": "white",
             "startlinecolor": "rgb(36,36,36)"
            },
            "type": "carpet"
           }
          ],
          "choropleth": [
           {
            "colorbar": {
             "outlinewidth": 1,
             "tickcolor": "rgb(36,36,36)",
             "ticks": "outside"
            },
            "type": "choropleth"
           }
          ],
          "contour": [
           {
            "colorbar": {
             "outlinewidth": 1,
             "tickcolor": "rgb(36,36,36)",
             "ticks": "outside"
            },
            "colorscale": [
             [
              0,
              "#440154"
             ],
             [
              0.1111111111111111,
              "#482878"
             ],
             [
              0.2222222222222222,
              "#3e4989"
             ],
             [
              0.3333333333333333,
              "#31688e"
             ],
             [
              0.4444444444444444,
              "#26828e"
             ],
             [
              0.5555555555555556,
              "#1f9e89"
             ],
             [
              0.6666666666666666,
              "#35b779"
             ],
             [
              0.7777777777777778,
              "#6ece58"
             ],
             [
              0.8888888888888888,
              "#b5de2b"
             ],
             [
              1,
              "#fde725"
             ]
            ],
            "type": "contour"
           }
          ],
          "contourcarpet": [
           {
            "colorbar": {
             "outlinewidth": 1,
             "tickcolor": "rgb(36,36,36)",
             "ticks": "outside"
            },
            "type": "contourcarpet"
           }
          ],
          "heatmap": [
           {
            "colorbar": {
             "outlinewidth": 1,
             "tickcolor": "rgb(36,36,36)",
             "ticks": "outside"
            },
            "colorscale": [
             [
              0,
              "#440154"
             ],
             [
              0.1111111111111111,
              "#482878"
             ],
             [
              0.2222222222222222,
              "#3e4989"
             ],
             [
              0.3333333333333333,
              "#31688e"
             ],
             [
              0.4444444444444444,
              "#26828e"
             ],
             [
              0.5555555555555556,
              "#1f9e89"
             ],
             [
              0.6666666666666666,
              "#35b779"
             ],
             [
              0.7777777777777778,
              "#6ece58"
             ],
             [
              0.8888888888888888,
              "#b5de2b"
             ],
             [
              1,
              "#fde725"
             ]
            ],
            "type": "heatmap"
           }
          ],
          "heatmapgl": [
           {
            "colorbar": {
             "outlinewidth": 1,
             "tickcolor": "rgb(36,36,36)",
             "ticks": "outside"
            },
            "colorscale": [
             [
              0,
              "#440154"
             ],
             [
              0.1111111111111111,
              "#482878"
             ],
             [
              0.2222222222222222,
              "#3e4989"
             ],
             [
              0.3333333333333333,
              "#31688e"
             ],
             [
              0.4444444444444444,
              "#26828e"
             ],
             [
              0.5555555555555556,
              "#1f9e89"
             ],
             [
              0.6666666666666666,
              "#35b779"
             ],
             [
              0.7777777777777778,
              "#6ece58"
             ],
             [
              0.8888888888888888,
              "#b5de2b"
             ],
             [
              1,
              "#fde725"
             ]
            ],
            "type": "heatmapgl"
           }
          ],
          "histogram": [
           {
            "marker": {
             "line": {
              "color": "white",
              "width": 0.6
             }
            },
            "type": "histogram"
           }
          ],
          "histogram2d": [
           {
            "colorbar": {
             "outlinewidth": 1,
             "tickcolor": "rgb(36,36,36)",
             "ticks": "outside"
            },
            "colorscale": [
             [
              0,
              "#440154"
             ],
             [
              0.1111111111111111,
              "#482878"
             ],
             [
              0.2222222222222222,
              "#3e4989"
             ],
             [
              0.3333333333333333,
              "#31688e"
             ],
             [
              0.4444444444444444,
              "#26828e"
             ],
             [
              0.5555555555555556,
              "#1f9e89"
             ],
             [
              0.6666666666666666,
              "#35b779"
             ],
             [
              0.7777777777777778,
              "#6ece58"
             ],
             [
              0.8888888888888888,
              "#b5de2b"
             ],
             [
              1,
              "#fde725"
             ]
            ],
            "type": "histogram2d"
           }
          ],
          "histogram2dcontour": [
           {
            "colorbar": {
             "outlinewidth": 1,
             "tickcolor": "rgb(36,36,36)",
             "ticks": "outside"
            },
            "colorscale": [
             [
              0,
              "#440154"
             ],
             [
              0.1111111111111111,
              "#482878"
             ],
             [
              0.2222222222222222,
              "#3e4989"
             ],
             [
              0.3333333333333333,
              "#31688e"
             ],
             [
              0.4444444444444444,
              "#26828e"
             ],
             [
              0.5555555555555556,
              "#1f9e89"
             ],
             [
              0.6666666666666666,
              "#35b779"
             ],
             [
              0.7777777777777778,
              "#6ece58"
             ],
             [
              0.8888888888888888,
              "#b5de2b"
             ],
             [
              1,
              "#fde725"
             ]
            ],
            "type": "histogram2dcontour"
           }
          ],
          "mesh3d": [
           {
            "colorbar": {
             "outlinewidth": 1,
             "tickcolor": "rgb(36,36,36)",
             "ticks": "outside"
            },
            "type": "mesh3d"
           }
          ],
          "parcoords": [
           {
            "line": {
             "colorbar": {
              "outlinewidth": 1,
              "tickcolor": "rgb(36,36,36)",
              "ticks": "outside"
             }
            },
            "type": "parcoords"
           }
          ],
          "pie": [
           {
            "automargin": true,
            "type": "pie"
           }
          ],
          "scatter": [
           {
            "fillpattern": {
             "fillmode": "overlay",
             "size": 10,
             "solidity": 0.2
            },
            "type": "scatter"
           }
          ],
          "scatter3d": [
           {
            "line": {
             "colorbar": {
              "outlinewidth": 1,
              "tickcolor": "rgb(36,36,36)",
              "ticks": "outside"
             }
            },
            "marker": {
             "colorbar": {
              "outlinewidth": 1,
              "tickcolor": "rgb(36,36,36)",
              "ticks": "outside"
             }
            },
            "type": "scatter3d"
           }
          ],
          "scattercarpet": [
           {
            "marker": {
             "colorbar": {
              "outlinewidth": 1,
              "tickcolor": "rgb(36,36,36)",
              "ticks": "outside"
             }
            },
            "type": "scattercarpet"
           }
          ],
          "scattergeo": [
           {
            "marker": {
             "colorbar": {
              "outlinewidth": 1,
              "tickcolor": "rgb(36,36,36)",
              "ticks": "outside"
             }
            },
            "type": "scattergeo"
           }
          ],
          "scattergl": [
           {
            "marker": {
             "colorbar": {
              "outlinewidth": 1,
              "tickcolor": "rgb(36,36,36)",
              "ticks": "outside"
             }
            },
            "type": "scattergl"
           }
          ],
          "scattermapbox": [
           {
            "marker": {
             "colorbar": {
              "outlinewidth": 1,
              "tickcolor": "rgb(36,36,36)",
              "ticks": "outside"
             }
            },
            "type": "scattermapbox"
           }
          ],
          "scatterpolar": [
           {
            "marker": {
             "colorbar": {
              "outlinewidth": 1,
              "tickcolor": "rgb(36,36,36)",
              "ticks": "outside"
             }
            },
            "type": "scatterpolar"
           }
          ],
          "scatterpolargl": [
           {
            "marker": {
             "colorbar": {
              "outlinewidth": 1,
              "tickcolor": "rgb(36,36,36)",
              "ticks": "outside"
             }
            },
            "type": "scatterpolargl"
           }
          ],
          "scatterternary": [
           {
            "marker": {
             "colorbar": {
              "outlinewidth": 1,
              "tickcolor": "rgb(36,36,36)",
              "ticks": "outside"
             }
            },
            "type": "scatterternary"
           }
          ],
          "surface": [
           {
            "colorbar": {
             "outlinewidth": 1,
             "tickcolor": "rgb(36,36,36)",
             "ticks": "outside"
            },
            "colorscale": [
             [
              0,
              "#440154"
             ],
             [
              0.1111111111111111,
              "#482878"
             ],
             [
              0.2222222222222222,
              "#3e4989"
             ],
             [
              0.3333333333333333,
              "#31688e"
             ],
             [
              0.4444444444444444,
              "#26828e"
             ],
             [
              0.5555555555555556,
              "#1f9e89"
             ],
             [
              0.6666666666666666,
              "#35b779"
             ],
             [
              0.7777777777777778,
              "#6ece58"
             ],
             [
              0.8888888888888888,
              "#b5de2b"
             ],
             [
              1,
              "#fde725"
             ]
            ],
            "type": "surface"
           }
          ],
          "table": [
           {
            "cells": {
             "fill": {
              "color": "rgb(237,237,237)"
             },
             "line": {
              "color": "white"
             }
            },
            "header": {
             "fill": {
              "color": "rgb(217,217,217)"
             },
             "line": {
              "color": "white"
             }
            },
            "type": "table"
           }
          ]
         },
         "layout": {
          "annotationdefaults": {
           "arrowhead": 0,
           "arrowwidth": 1
          },
          "autotypenumbers": "strict",
          "coloraxis": {
           "colorbar": {
            "outlinewidth": 1,
            "tickcolor": "rgb(36,36,36)",
            "ticks": "outside"
           }
          },
          "colorscale": {
           "diverging": [
            [
             0,
             "rgb(103,0,31)"
            ],
            [
             0.1,
             "rgb(178,24,43)"
            ],
            [
             0.2,
             "rgb(214,96,77)"
            ],
            [
             0.3,
             "rgb(244,165,130)"
            ],
            [
             0.4,
             "rgb(253,219,199)"
            ],
            [
             0.5,
             "rgb(247,247,247)"
            ],
            [
             0.6,
             "rgb(209,229,240)"
            ],
            [
             0.7,
             "rgb(146,197,222)"
            ],
            [
             0.8,
             "rgb(67,147,195)"
            ],
            [
             0.9,
             "rgb(33,102,172)"
            ],
            [
             1,
             "rgb(5,48,97)"
            ]
           ],
           "sequential": [
            [
             0,
             "#440154"
            ],
            [
             0.1111111111111111,
             "#482878"
            ],
            [
             0.2222222222222222,
             "#3e4989"
            ],
            [
             0.3333333333333333,
             "#31688e"
            ],
            [
             0.4444444444444444,
             "#26828e"
            ],
            [
             0.5555555555555556,
             "#1f9e89"
            ],
            [
             0.6666666666666666,
             "#35b779"
            ],
            [
             0.7777777777777778,
             "#6ece58"
            ],
            [
             0.8888888888888888,
             "#b5de2b"
            ],
            [
             1,
             "#fde725"
            ]
           ],
           "sequentialminus": [
            [
             0,
             "#440154"
            ],
            [
             0.1111111111111111,
             "#482878"
            ],
            [
             0.2222222222222222,
             "#3e4989"
            ],
            [
             0.3333333333333333,
             "#31688e"
            ],
            [
             0.4444444444444444,
             "#26828e"
            ],
            [
             0.5555555555555556,
             "#1f9e89"
            ],
            [
             0.6666666666666666,
             "#35b779"
            ],
            [
             0.7777777777777778,
             "#6ece58"
            ],
            [
             0.8888888888888888,
             "#b5de2b"
            ],
            [
             1,
             "#fde725"
            ]
           ]
          },
          "colorway": [
           "#1F77B4",
           "#FF7F0E",
           "#2CA02C",
           "#D62728",
           "#9467BD",
           "#8C564B",
           "#E377C2",
           "#7F7F7F",
           "#BCBD22",
           "#17BECF"
          ],
          "font": {
           "color": "rgb(36,36,36)"
          },
          "geo": {
           "bgcolor": "white",
           "lakecolor": "white",
           "landcolor": "white",
           "showlakes": true,
           "showland": true,
           "subunitcolor": "white"
          },
          "hoverlabel": {
           "align": "left"
          },
          "hovermode": "closest",
          "mapbox": {
           "style": "light"
          },
          "paper_bgcolor": "white",
          "plot_bgcolor": "white",
          "polar": {
           "angularaxis": {
            "gridcolor": "rgb(232,232,232)",
            "linecolor": "rgb(36,36,36)",
            "showgrid": false,
            "showline": true,
            "ticks": "outside"
           },
           "bgcolor": "white",
           "radialaxis": {
            "gridcolor": "rgb(232,232,232)",
            "linecolor": "rgb(36,36,36)",
            "showgrid": false,
            "showline": true,
            "ticks": "outside"
           }
          },
          "scene": {
           "xaxis": {
            "backgroundcolor": "white",
            "gridcolor": "rgb(232,232,232)",
            "gridwidth": 2,
            "linecolor": "rgb(36,36,36)",
            "showbackground": true,
            "showgrid": false,
            "showline": true,
            "ticks": "outside",
            "zeroline": false,
            "zerolinecolor": "rgb(36,36,36)"
           },
           "yaxis": {
            "backgroundcolor": "white",
            "gridcolor": "rgb(232,232,232)",
            "gridwidth": 2,
            "linecolor": "rgb(36,36,36)",
            "showbackground": true,
            "showgrid": false,
            "showline": true,
            "ticks": "outside",
            "zeroline": false,
            "zerolinecolor": "rgb(36,36,36)"
           },
           "zaxis": {
            "backgroundcolor": "white",
            "gridcolor": "rgb(232,232,232)",
            "gridwidth": 2,
            "linecolor": "rgb(36,36,36)",
            "showbackground": true,
            "showgrid": false,
            "showline": true,
            "ticks": "outside",
            "zeroline": false,
            "zerolinecolor": "rgb(36,36,36)"
           }
          },
          "shapedefaults": {
           "fillcolor": "black",
           "line": {
            "width": 0
           },
           "opacity": 0.3
          },
          "ternary": {
           "aaxis": {
            "gridcolor": "rgb(232,232,232)",
            "linecolor": "rgb(36,36,36)",
            "showgrid": false,
            "showline": true,
            "ticks": "outside"
           },
           "baxis": {
            "gridcolor": "rgb(232,232,232)",
            "linecolor": "rgb(36,36,36)",
            "showgrid": false,
            "showline": true,
            "ticks": "outside"
           },
           "bgcolor": "white",
           "caxis": {
            "gridcolor": "rgb(232,232,232)",
            "linecolor": "rgb(36,36,36)",
            "showgrid": false,
            "showline": true,
            "ticks": "outside"
           }
          },
          "title": {
           "x": 0.05
          },
          "xaxis": {
           "automargin": true,
           "gridcolor": "rgb(232,232,232)",
           "linecolor": "rgb(36,36,36)",
           "showgrid": false,
           "showline": true,
           "ticks": "outside",
           "title": {
            "standoff": 15
           },
           "zeroline": false,
           "zerolinecolor": "rgb(36,36,36)"
          },
          "yaxis": {
           "automargin": true,
           "gridcolor": "rgb(232,232,232)",
           "linecolor": "rgb(36,36,36)",
           "showgrid": false,
           "showline": true,
           "ticks": "outside",
           "title": {
            "standoff": 15
           },
           "zeroline": false,
           "zerolinecolor": "rgb(36,36,36)"
          }
         }
        },
        "title": {
         "font": {
          "color": "black",
          "family": "Arial",
          "size": 20
         },
         "text": "Parity plot for HSE Bandgap including HSE insulator",
         "x": 0.5
        },
        "width": 1000,
        "xaxis": {
         "title": {
          "font": {
           "family": "arial",
           "size": 18
          },
          "text": "Actual Values"
         }
        },
        "yaxis": {
         "title": {
          "font": {
           "family": "arial",
           "size": 18
          },
          "text": "Predicted Values"
         }
        }
       }
      }
     },
     "metadata": {},
     "output_type": "display_data"
    }
   ],
   "source": [
    "import plotly.graph_objects as go\n",
    "\n",
    "# Predict on training and test sets\n",
    "y__train_pred = xgb__reg.predict(X__train)\n",
    "y__test_pred = xgb__reg.predict(X__test)\n",
    "\n",
    "\n",
    "# Create a parity plot for test set\n",
    "test_set_df = pd.DataFrame({'y_test': y__test, 'y_test_pred': y__test_pred})\n",
    "\n",
    "# Merge the DataFrame with the main DataFrame 'df' to get 'hse_direct' values\n",
    "test_set_df = pd.merge(test_set_df, df[['HSE_direct']], left_index=True, right_index=True, how='left')\n",
    "\n",
    "parity_test_fig = go.Figure()\n",
    "\n",
    "# Create a color list based on pbe_direct values\n",
    "colors = []\n",
    "\n",
    "for index, row in test_set_df.iterrows():\n",
    "    hse_direct_val = row['HSE_direct']\n",
    "    if pd.isna(hse_direct_val):\n",
    "        colors.append('red')\n",
    "    elif hse_direct_val == 1:\n",
    "        colors.append('green')\n",
    "    else:\n",
    "        colors.append('black')\n",
    "\n",
    "parity_test_fig.add_trace(go.Scatter(\n",
    "    x=test_set_df['y_test'],\n",
    "    y=test_set_df['y_test_pred'],\n",
    "    mode='markers',\n",
    "    name='Test Set',\n",
    "    marker=dict(size=6, color=colors)\n",
    "))\n",
    "\n",
    "parity_test_fig.add_trace(go.Scatter(\n",
    "    x=[min(test_set_df['y_test']), max(test_set_df['y_test'])],\n",
    "    y=[min(test_set_df['y_test']), max(test_set_df['y_test'])],\n",
    "    mode='lines',\n",
    "    name='Ideal Prediction',\n",
    "    line=dict(dash='dash', color='red', width=1.5)\n",
    "))\n",
    "\n",
    "# Add custom legend entry\n",
    "parity_test_fig.add_trace(go.Scatter(\n",
    "    x=[],\n",
    "    y=[],\n",
    "    mode='markers',\n",
    "    marker=dict(size=10, color='green'),\n",
    "    name='HSE direct'\n",
    "))\n",
    "\n",
    "parity_test_fig.add_trace(go.Scatter(\n",
    "    x=[],\n",
    "    y=[],\n",
    "    mode='markers',\n",
    "    marker=dict(size=10, color='black'),\n",
    "    name='HSE indirect'\n",
    "))\n",
    "\n",
    "parity_test_fig.update_layout(\n",
    "    template='simple_white',  \n",
    "    title='Parity plot for HSE Bandgap including HSE insulator',\n",
    "    xaxis_title='Actual Values',\n",
    "    yaxis_title='Predicted Values',\n",
    "    font_family=\"Courier New\",\n",
    "    font_color=\"black\",\n",
    "    title_font_family=\"Arial\",\n",
    "    title_font_color=\"black\",\n",
    "    title_font_size = 20,\n",
    "    xaxis_title_font_size = 18,\n",
    "    yaxis_title_font_size = 18,\n",
    "    title_x = 0.5,\n",
    "    legend_title_font_color=\"green\",\n",
    "    xaxis_title_font_family = \"arial\",\n",
    "    yaxis_title_font_family = \"arial\",\n",
    "    showlegend=False,  \n",
    "    width=1000,  \n",
    "    height=800,\n",
    ")\n",
    "\n",
    "textt = \"Black points represent HSE bandgap is indirect<br>Green points represent HSE bandgap is direct\"\n",
    "\n",
    "parity_test_fig.add_annotation(\n",
    "    text=textt,  \n",
    "    x= 1,  \n",
    "    y= 0.05,  \n",
    "    xref=\"paper\",  \n",
    "    yref=\"paper\",  \n",
    "    showarrow=False, \n",
    "    font=dict(family=\"Arial\", size=12, color=\"black\"),  \n",
    "    bgcolor=\"rgba(255, 255, 255, 0.7)\",  \n",
    "    bordercolor=\"black\",  \n",
    "    borderwidth=1,  \n",
    ")\n",
    "\n",
    "config = {\n",
    "    'toImageButtonOptions': {\n",
    "        'format': 'png',  # one of png, svg, jpeg, webp\n",
    "        'filename': 'custom_image',\n",
    "        'height': 500,\n",
    "        'width': 700,\n",
    "        'scale': 6  # Multiply title/legend/axis/canvas sizes by this factor\n",
    "    }\n",
    "}\n",
    "\n",
    "parity_test_fig.show(config=config)"
   ]
  },
  {
   "cell_type": "markdown",
   "metadata": {},
   "source": [
    "### Feature importances for HSE bandgap prediction including HSE insulator"
   ]
  },
  {
   "cell_type": "code",
   "execution_count": 150,
   "metadata": {},
   "outputs": [
    {
     "data": {
      "application/vnd.plotly.v1+json": {
       "config": {
        "plotlyServerURL": "https://plot.ly",
        "toImageButtonOptions": {
         "filename": "custom_image",
         "format": "png",
         "height": 500,
         "scale": 6,
         "width": 700
        }
       },
       "data": [
        {
         "marker": {
          "color": "royalblue"
         },
         "type": "bar",
         "x": [
          "HSE_insulator",
          "PBE_band_gap",
          "e_above_hull",
          "A_OS",
          "b",
          "c",
          "A_IR",
          "stable",
          "a",
          "A_X"
         ],
         "y": [
          0.6276820302009583,
          0.17741551995277405,
          0.027933653444051743,
          0.0189801212400198,
          0.015261830762028694,
          0.014934984967112541,
          0.013170980848371983,
          0.0110672228038311,
          0.008182710036635399,
          0.0079502509906888
         ]
        }
       ],
       "layout": {
        "font": {
         "color": "black",
         "family": "Arial",
         "size": 14
        },
        "height": 800,
        "showlegend": false,
        "template": {
         "data": {
          "bar": [
           {
            "error_x": {
             "color": "#2a3f5f"
            },
            "error_y": {
             "color": "#2a3f5f"
            },
            "marker": {
             "line": {
              "color": "#E5ECF6",
              "width": 0.5
             },
             "pattern": {
              "fillmode": "overlay",
              "size": 10,
              "solidity": 0.2
             }
            },
            "type": "bar"
           }
          ],
          "barpolar": [
           {
            "marker": {
             "line": {
              "color": "#E5ECF6",
              "width": 0.5
             },
             "pattern": {
              "fillmode": "overlay",
              "size": 10,
              "solidity": 0.2
             }
            },
            "type": "barpolar"
           }
          ],
          "carpet": [
           {
            "aaxis": {
             "endlinecolor": "#2a3f5f",
             "gridcolor": "white",
             "linecolor": "white",
             "minorgridcolor": "white",
             "startlinecolor": "#2a3f5f"
            },
            "baxis": {
             "endlinecolor": "#2a3f5f",
             "gridcolor": "white",
             "linecolor": "white",
             "minorgridcolor": "white",
             "startlinecolor": "#2a3f5f"
            },
            "type": "carpet"
           }
          ],
          "choropleth": [
           {
            "colorbar": {
             "outlinewidth": 0,
             "ticks": ""
            },
            "type": "choropleth"
           }
          ],
          "contour": [
           {
            "colorbar": {
             "outlinewidth": 0,
             "ticks": ""
            },
            "colorscale": [
             [
              0,
              "#0d0887"
             ],
             [
              0.1111111111111111,
              "#46039f"
             ],
             [
              0.2222222222222222,
              "#7201a8"
             ],
             [
              0.3333333333333333,
              "#9c179e"
             ],
             [
              0.4444444444444444,
              "#bd3786"
             ],
             [
              0.5555555555555556,
              "#d8576b"
             ],
             [
              0.6666666666666666,
              "#ed7953"
             ],
             [
              0.7777777777777778,
              "#fb9f3a"
             ],
             [
              0.8888888888888888,
              "#fdca26"
             ],
             [
              1,
              "#f0f921"
             ]
            ],
            "type": "contour"
           }
          ],
          "contourcarpet": [
           {
            "colorbar": {
             "outlinewidth": 0,
             "ticks": ""
            },
            "type": "contourcarpet"
           }
          ],
          "heatmap": [
           {
            "colorbar": {
             "outlinewidth": 0,
             "ticks": ""
            },
            "colorscale": [
             [
              0,
              "#0d0887"
             ],
             [
              0.1111111111111111,
              "#46039f"
             ],
             [
              0.2222222222222222,
              "#7201a8"
             ],
             [
              0.3333333333333333,
              "#9c179e"
             ],
             [
              0.4444444444444444,
              "#bd3786"
             ],
             [
              0.5555555555555556,
              "#d8576b"
             ],
             [
              0.6666666666666666,
              "#ed7953"
             ],
             [
              0.7777777777777778,
              "#fb9f3a"
             ],
             [
              0.8888888888888888,
              "#fdca26"
             ],
             [
              1,
              "#f0f921"
             ]
            ],
            "type": "heatmap"
           }
          ],
          "heatmapgl": [
           {
            "colorbar": {
             "outlinewidth": 0,
             "ticks": ""
            },
            "colorscale": [
             [
              0,
              "#0d0887"
             ],
             [
              0.1111111111111111,
              "#46039f"
             ],
             [
              0.2222222222222222,
              "#7201a8"
             ],
             [
              0.3333333333333333,
              "#9c179e"
             ],
             [
              0.4444444444444444,
              "#bd3786"
             ],
             [
              0.5555555555555556,
              "#d8576b"
             ],
             [
              0.6666666666666666,
              "#ed7953"
             ],
             [
              0.7777777777777778,
              "#fb9f3a"
             ],
             [
              0.8888888888888888,
              "#fdca26"
             ],
             [
              1,
              "#f0f921"
             ]
            ],
            "type": "heatmapgl"
           }
          ],
          "histogram": [
           {
            "marker": {
             "pattern": {
              "fillmode": "overlay",
              "size": 10,
              "solidity": 0.2
             }
            },
            "type": "histogram"
           }
          ],
          "histogram2d": [
           {
            "colorbar": {
             "outlinewidth": 0,
             "ticks": ""
            },
            "colorscale": [
             [
              0,
              "#0d0887"
             ],
             [
              0.1111111111111111,
              "#46039f"
             ],
             [
              0.2222222222222222,
              "#7201a8"
             ],
             [
              0.3333333333333333,
              "#9c179e"
             ],
             [
              0.4444444444444444,
              "#bd3786"
             ],
             [
              0.5555555555555556,
              "#d8576b"
             ],
             [
              0.6666666666666666,
              "#ed7953"
             ],
             [
              0.7777777777777778,
              "#fb9f3a"
             ],
             [
              0.8888888888888888,
              "#fdca26"
             ],
             [
              1,
              "#f0f921"
             ]
            ],
            "type": "histogram2d"
           }
          ],
          "histogram2dcontour": [
           {
            "colorbar": {
             "outlinewidth": 0,
             "ticks": ""
            },
            "colorscale": [
             [
              0,
              "#0d0887"
             ],
             [
              0.1111111111111111,
              "#46039f"
             ],
             [
              0.2222222222222222,
              "#7201a8"
             ],
             [
              0.3333333333333333,
              "#9c179e"
             ],
             [
              0.4444444444444444,
              "#bd3786"
             ],
             [
              0.5555555555555556,
              "#d8576b"
             ],
             [
              0.6666666666666666,
              "#ed7953"
             ],
             [
              0.7777777777777778,
              "#fb9f3a"
             ],
             [
              0.8888888888888888,
              "#fdca26"
             ],
             [
              1,
              "#f0f921"
             ]
            ],
            "type": "histogram2dcontour"
           }
          ],
          "mesh3d": [
           {
            "colorbar": {
             "outlinewidth": 0,
             "ticks": ""
            },
            "type": "mesh3d"
           }
          ],
          "parcoords": [
           {
            "line": {
             "colorbar": {
              "outlinewidth": 0,
              "ticks": ""
             }
            },
            "type": "parcoords"
           }
          ],
          "pie": [
           {
            "automargin": true,
            "type": "pie"
           }
          ],
          "scatter": [
           {
            "fillpattern": {
             "fillmode": "overlay",
             "size": 10,
             "solidity": 0.2
            },
            "type": "scatter"
           }
          ],
          "scatter3d": [
           {
            "line": {
             "colorbar": {
              "outlinewidth": 0,
              "ticks": ""
             }
            },
            "marker": {
             "colorbar": {
              "outlinewidth": 0,
              "ticks": ""
             }
            },
            "type": "scatter3d"
           }
          ],
          "scattercarpet": [
           {
            "marker": {
             "colorbar": {
              "outlinewidth": 0,
              "ticks": ""
             }
            },
            "type": "scattercarpet"
           }
          ],
          "scattergeo": [
           {
            "marker": {
             "colorbar": {
              "outlinewidth": 0,
              "ticks": ""
             }
            },
            "type": "scattergeo"
           }
          ],
          "scattergl": [
           {
            "marker": {
             "colorbar": {
              "outlinewidth": 0,
              "ticks": ""
             }
            },
            "type": "scattergl"
           }
          ],
          "scattermapbox": [
           {
            "marker": {
             "colorbar": {
              "outlinewidth": 0,
              "ticks": ""
             }
            },
            "type": "scattermapbox"
           }
          ],
          "scatterpolar": [
           {
            "marker": {
             "colorbar": {
              "outlinewidth": 0,
              "ticks": ""
             }
            },
            "type": "scatterpolar"
           }
          ],
          "scatterpolargl": [
           {
            "marker": {
             "colorbar": {
              "outlinewidth": 0,
              "ticks": ""
             }
            },
            "type": "scatterpolargl"
           }
          ],
          "scatterternary": [
           {
            "marker": {
             "colorbar": {
              "outlinewidth": 0,
              "ticks": ""
             }
            },
            "type": "scatterternary"
           }
          ],
          "surface": [
           {
            "colorbar": {
             "outlinewidth": 0,
             "ticks": ""
            },
            "colorscale": [
             [
              0,
              "#0d0887"
             ],
             [
              0.1111111111111111,
              "#46039f"
             ],
             [
              0.2222222222222222,
              "#7201a8"
             ],
             [
              0.3333333333333333,
              "#9c179e"
             ],
             [
              0.4444444444444444,
              "#bd3786"
             ],
             [
              0.5555555555555556,
              "#d8576b"
             ],
             [
              0.6666666666666666,
              "#ed7953"
             ],
             [
              0.7777777777777778,
              "#fb9f3a"
             ],
             [
              0.8888888888888888,
              "#fdca26"
             ],
             [
              1,
              "#f0f921"
             ]
            ],
            "type": "surface"
           }
          ],
          "table": [
           {
            "cells": {
             "fill": {
              "color": "#EBF0F8"
             },
             "line": {
              "color": "white"
             }
            },
            "header": {
             "fill": {
              "color": "#C8D4E3"
             },
             "line": {
              "color": "white"
             }
            },
            "type": "table"
           }
          ]
         },
         "layout": {
          "annotationdefaults": {
           "arrowcolor": "#2a3f5f",
           "arrowhead": 0,
           "arrowwidth": 1
          },
          "autotypenumbers": "strict",
          "coloraxis": {
           "colorbar": {
            "outlinewidth": 0,
            "ticks": ""
           }
          },
          "colorscale": {
           "diverging": [
            [
             0,
             "#8e0152"
            ],
            [
             0.1,
             "#c51b7d"
            ],
            [
             0.2,
             "#de77ae"
            ],
            [
             0.3,
             "#f1b6da"
            ],
            [
             0.4,
             "#fde0ef"
            ],
            [
             0.5,
             "#f7f7f7"
            ],
            [
             0.6,
             "#e6f5d0"
            ],
            [
             0.7,
             "#b8e186"
            ],
            [
             0.8,
             "#7fbc41"
            ],
            [
             0.9,
             "#4d9221"
            ],
            [
             1,
             "#276419"
            ]
           ],
           "sequential": [
            [
             0,
             "#0d0887"
            ],
            [
             0.1111111111111111,
             "#46039f"
            ],
            [
             0.2222222222222222,
             "#7201a8"
            ],
            [
             0.3333333333333333,
             "#9c179e"
            ],
            [
             0.4444444444444444,
             "#bd3786"
            ],
            [
             0.5555555555555556,
             "#d8576b"
            ],
            [
             0.6666666666666666,
             "#ed7953"
            ],
            [
             0.7777777777777778,
             "#fb9f3a"
            ],
            [
             0.8888888888888888,
             "#fdca26"
            ],
            [
             1,
             "#f0f921"
            ]
           ],
           "sequentialminus": [
            [
             0,
             "#0d0887"
            ],
            [
             0.1111111111111111,
             "#46039f"
            ],
            [
             0.2222222222222222,
             "#7201a8"
            ],
            [
             0.3333333333333333,
             "#9c179e"
            ],
            [
             0.4444444444444444,
             "#bd3786"
            ],
            [
             0.5555555555555556,
             "#d8576b"
            ],
            [
             0.6666666666666666,
             "#ed7953"
            ],
            [
             0.7777777777777778,
             "#fb9f3a"
            ],
            [
             0.8888888888888888,
             "#fdca26"
            ],
            [
             1,
             "#f0f921"
            ]
           ]
          },
          "colorway": [
           "#636efa",
           "#EF553B",
           "#00cc96",
           "#ab63fa",
           "#FFA15A",
           "#19d3f3",
           "#FF6692",
           "#B6E880",
           "#FF97FF",
           "#FECB52"
          ],
          "font": {
           "color": "#2a3f5f"
          },
          "geo": {
           "bgcolor": "white",
           "lakecolor": "white",
           "landcolor": "#E5ECF6",
           "showlakes": true,
           "showland": true,
           "subunitcolor": "white"
          },
          "hoverlabel": {
           "align": "left"
          },
          "hovermode": "closest",
          "mapbox": {
           "style": "light"
          },
          "paper_bgcolor": "white",
          "plot_bgcolor": "#E5ECF6",
          "polar": {
           "angularaxis": {
            "gridcolor": "white",
            "linecolor": "white",
            "ticks": ""
           },
           "bgcolor": "#E5ECF6",
           "radialaxis": {
            "gridcolor": "white",
            "linecolor": "white",
            "ticks": ""
           }
          },
          "scene": {
           "xaxis": {
            "backgroundcolor": "#E5ECF6",
            "gridcolor": "white",
            "gridwidth": 2,
            "linecolor": "white",
            "showbackground": true,
            "ticks": "",
            "zerolinecolor": "white"
           },
           "yaxis": {
            "backgroundcolor": "#E5ECF6",
            "gridcolor": "white",
            "gridwidth": 2,
            "linecolor": "white",
            "showbackground": true,
            "ticks": "",
            "zerolinecolor": "white"
           },
           "zaxis": {
            "backgroundcolor": "#E5ECF6",
            "gridcolor": "white",
            "gridwidth": 2,
            "linecolor": "white",
            "showbackground": true,
            "ticks": "",
            "zerolinecolor": "white"
           }
          },
          "shapedefaults": {
           "line": {
            "color": "#2a3f5f"
           }
          },
          "ternary": {
           "aaxis": {
            "gridcolor": "white",
            "linecolor": "white",
            "ticks": ""
           },
           "baxis": {
            "gridcolor": "white",
            "linecolor": "white",
            "ticks": ""
           },
           "bgcolor": "#E5ECF6",
           "caxis": {
            "gridcolor": "white",
            "linecolor": "white",
            "ticks": ""
           }
          },
          "title": {
           "x": 0.05
          },
          "xaxis": {
           "automargin": true,
           "gridcolor": "white",
           "linecolor": "white",
           "ticks": "",
           "title": {
            "standoff": 15
           },
           "zerolinecolor": "white",
           "zerolinewidth": 2
          },
          "yaxis": {
           "automargin": true,
           "gridcolor": "white",
           "linecolor": "white",
           "ticks": "",
           "title": {
            "standoff": 15
           },
           "zerolinecolor": "white",
           "zerolinewidth": 2
          }
         }
        },
        "title": {
         "text": "Feature Importances for Predicting HSE Features including HSE insulator",
         "x": 0.5
        },
        "width": 1000,
        "xaxis": {
         "tickangle": 45,
         "tickfont": {
          "size": 14
         },
         "title": {
          "text": "Features"
         }
        },
        "yaxis": {
         "title": {
          "text": "Importance (%)"
         }
        }
       }
      }
     },
     "metadata": {},
     "output_type": "display_data"
    }
   ],
   "source": [
    "import plotly.graph_objects as go\n",
    "\n",
    "feature_importances = xgb__reg.feature_importances_\n",
    "included = X_HSE.columns.values\n",
    "indices = np.argsort(feature_importances)[::-1]\n",
    "\n",
    "fig = go.Figure()\n",
    "\n",
    "fig.add_trace(go.Bar(\n",
    "    x=included[indices][:10],\n",
    "    y=feature_importances[indices][:10],\n",
    "    marker=dict(color='royalblue'),\n",
    "    #text=feature_importances[indices][:10],\n",
    "    #textposition='auto',\n",
    "))\n",
    "\n",
    "fig.update_layout(\n",
    "    xaxis=dict(\n",
    "        title='Features',\n",
    "        tickfont=dict(size=14),\n",
    "        tickangle = 45,  # Adjust the font size for tick labels as needed\n",
    "    ),\n",
    "    yaxis_title='Importance (%)',\n",
    "    title='Feature Importances for Predicting HSE Features including HSE insulator',\n",
    "    font=dict(family=\"Arial\", size=14, color=\"black\"),\n",
    "    title_x = 0.5,\n",
    "    width=1000,\n",
    "    height=800,\n",
    "    showlegend=False,\n",
    ")\n",
    "\n",
    "config = {\n",
    "    'toImageButtonOptions': {\n",
    "        'format': 'png',  # one of png, svg, jpeg, webp\n",
    "        'filename': 'custom_image',\n",
    "        'height': 500,\n",
    "        'width': 700,\n",
    "        'scale': 6  # Multiply title/legend/axis/canvas sizes by this factor\n",
    "    }\n",
    "}\n",
    "\n",
    "fig.show(config=config)\n"
   ]
  },
  {
   "cell_type": "markdown",
   "metadata": {},
   "source": [
    "### Predicting HSE bandgap excluding HSE insulator"
   ]
  },
  {
   "cell_type": "code",
   "execution_count": 151,
   "metadata": {},
   "outputs": [
    {
     "name": "stdout",
     "output_type": "stream",
     "text": [
      "Training R2 = 1.0\n",
      "Training RMSE = 0.008\n",
      "Test R2 = 0.893\n",
      "Test RMSE = 0.177\n"
     ]
    }
   ],
   "source": [
    "from xgboost import XGBRegressor\n",
    "from sklearn.metrics import mean_squared_error\n",
    "from sklearn.model_selection import train_test_split\n",
    "\n",
    "# Assuming X, y, and df are already defined\n",
    "\n",
    "X2_HSE['functional_group'] = df['functional_group']\n",
    "\n",
    "# Add 'stable' to X\n",
    "X2_HSE['stable'] = df['stable']\n",
    "\n",
    "# Specify the test size\n",
    "test_size = 0.1\n",
    "\n",
    "# Split the data into train and test sets\n",
    "X__train, X__test, y__train, y__test = train_test_split(X2_HSE, y_HSE, test_size=test_size, random_state=17, stratify= X2_HSE['stable'])\n",
    "\n",
    "# Extract and drop the 'functional_group' column\n",
    "train_formula = X__train['functional_group']\n",
    "X__train = X__train.drop('functional_group', axis=1)\n",
    "test__formula = X__test['functional_group']\n",
    "X__test = X__test.drop('functional_group', axis=1)\n",
    "\n",
    "# Create an XGBoost regressor\n",
    "xgb__reg = XGBRegressor(n_estimators=250, random_state=6, learning_rate = 0.1)\n",
    "xgb__reg.fit(X__train, y__train)\n",
    "\n",
    "# Get fit statistics\n",
    "print('Training R2 = ' + str(round(xgb__reg.score(X__train, y__train), 3)))\n",
    "print('Training RMSE = %.3f' % np.sqrt(mean_squared_error(y_true=y__train, y_pred=xgb__reg.predict(X__train))))\n",
    "print('Test R2 = ' + str(round(xgb__reg.score(X__test, y__test), 3)))\n",
    "print('Test RMSE = %.3f' % np.sqrt(mean_squared_error(y_true=y__test, y_pred=xgb__reg.predict(X__test))))\n",
    "\n"
   ]
  },
  {
   "cell_type": "markdown",
   "metadata": {},
   "source": [
    "### Optimizing parameters for prediction"
   ]
  },
  {
   "cell_type": "code",
   "execution_count": 71,
   "metadata": {},
   "outputs": [
    {
     "name": "stdout",
     "output_type": "stream",
     "text": [
      "Best Random Seed: 17\n",
      "Best Test R2 Score: 0.8927719442095472\n"
     ]
    }
   ],
   "source": [
    "'''from xgboost import XGBRegressor\n",
    "from sklearn.metrics import mean_squared_error\n",
    "from sklearn.model_selection import train_test_split\n",
    "import numpy as np\n",
    "\n",
    "# Assuming X, y, and df are already defined\n",
    "\n",
    "X2_HSE['functional_group'] = df['functional_group']\n",
    "\n",
    "# Add 'stable' to X\n",
    "X2_HSE['stable'] = df['stable']\n",
    "\n",
    "# Specify the test size\n",
    "test_size = 0.1\n",
    "\n",
    "best_r2_score = -float('inf')\n",
    "best_seed = None\n",
    "\n",
    "for seed in range(44):\n",
    "    # Split the data into train and test sets with different random seed\n",
    "    X__train, X__test, y__train, y__test = train_test_split(X2_HSE, y_HSE, test_size=test_size, random_state=seed, stratify=X2_HSE['stable'])\n",
    "\n",
    "    # Extract and drop the 'functional_group' column\n",
    "    train_formula = X__train['functional_group']\n",
    "    X__train = X__train.drop('functional_group', axis=1)\n",
    "    test__formula = X__test['functional_group']\n",
    "    X__test = X__test.drop('functional_group', axis=1)\n",
    "\n",
    "    # Create an XGBoost regressor\n",
    "    xgb__reg = XGBRegressor(n_estimators=250, random_state=6, learning_rate=0.1)\n",
    "    xgb__reg.fit(X__train, y__train)\n",
    "\n",
    "    # Get test R2 score\n",
    "    test_r2 = xgb__reg.score(X__test, y__test)\n",
    "    \n",
    "    # Update best score and seed if current score is better\n",
    "    if test_r2 > best_r2_score:\n",
    "        best_r2_score = test_r2\n",
    "        best_seed = seed\n",
    "\n",
    "# Print the best result\n",
    "print('Best Random Seed:', best_seed)\n",
    "print('Best Test R2 Score:', best_r2_score)'''\n"
   ]
  },
  {
   "cell_type": "markdown",
   "metadata": {},
   "source": [
    "### Parity plot for HSE Bandgap excluding HSE insulator"
   ]
  },
  {
   "cell_type": "code",
   "execution_count": 160,
   "metadata": {},
   "outputs": [
    {
     "data": {
      "application/vnd.plotly.v1+json": {
       "config": {
        "plotlyServerURL": "https://plot.ly",
        "toImageButtonOptions": {
         "filename": "custom_image",
         "format": "png",
         "height": 500,
         "scale": 6,
         "width": 700
        }
       },
       "data": [
        {
         "marker": {
          "color": [
           "black",
           "black",
           "black",
           "black",
           "black",
           "black",
           "black",
           "black",
           "black",
           "green",
           "black",
           "black",
           "green",
           "black",
           "black",
           "black",
           "black",
           "black",
           "green",
           "black",
           "black",
           "black",
           "black",
           "green",
           "green",
           "green",
           "black",
           "black",
           "black",
           "black",
           "black",
           "black",
           "black",
           "black",
           "black",
           "green",
           "black",
           "black",
           "green",
           "black",
           "black",
           "black",
           "black",
           "black",
           "black",
           "green",
           "black",
           "black",
           "black",
           "black",
           "black",
           "black",
           "black",
           "black",
           "black",
           "black",
           "black",
           "black",
           "black",
           "black",
           "black",
           "black",
           "black",
           "black",
           "black",
           "black",
           "green",
           "black",
           "black",
           "black",
           "black",
           "black",
           "black",
           "black",
           "black",
           "green",
           "black",
           "black",
           "black",
           "black",
           "black",
           "black",
           "black",
           "black",
           "black",
           "black",
           "black",
           "green",
           "black",
           "black",
           "black",
           "black"
          ],
          "size": 6
         },
         "mode": "markers",
         "name": "Test Set",
         "type": "scatter",
         "x": [
          0.010699999999999,
          0,
          1.038499999999999,
          0.021900000000000003,
          0.011800000000000001,
          0.022000000000005,
          0.019599999999999,
          0.0718,
          0.016799999999999,
          1.7881,
          0.10600000000000001,
          0.013500000000000002,
          0.061900000000001,
          2.2312,
          0.5759000000000001,
          0.15879999999999903,
          0.039200000000000006,
          0.0077999999999990004,
          1.668699999999999,
          0,
          1.267299999999999,
          0.10200000000000001,
          0.921899999999999,
          0.022599999999999003,
          0.8303,
          0.8223,
          0.039400000000000004,
          0.029399999999999003,
          0,
          0.017,
          0.0204,
          0.0068000000000000005,
          0,
          0.05569999999999901,
          0.051899999999999,
          0.0274,
          0.6025,
          0.016499999999999,
          0.8696,
          0.010899999999999,
          0.010399999999999,
          0.019999999999999,
          0.8548999999999991,
          0.021800000000000003,
          0.009800000000000001,
          1.4515,
          0.9657000000000001,
          1.2083,
          0,
          0.9213999999999991,
          0.079,
          1.5671,
          0.015499999999999,
          0.07980000000000001,
          0.0166,
          0.1106,
          0.0134,
          0,
          0.004999999999999,
          0.595699999999999,
          0,
          0.0175,
          1.1132,
          1.8993000000000002,
          0,
          0.0645,
          0.0417,
          0.046699999999999006,
          0.0027999999999990003,
          0.033100000000000004,
          0.5386999999999991,
          0.0068000000000000005,
          0.056099999999999005,
          1.4421,
          0.14369999999999902,
          0.0037,
          0,
          0.018799999999999,
          0.6745999999999991,
          0.11119999999999901,
          0,
          0.658799999999999,
          0.032400000000000005,
          0.007300000000000001,
          0.037199999999999005,
          0.008499999999999001,
          0.010399999999999,
          0,
          1.4732999999999992,
          0.034300000000000004,
          0.6568,
          0.031899999999999006
         ],
         "y": [
          0.6537573337554932,
          0.06593938916921616,
          1.0083098411560059,
          0.05941362306475639,
          0.07284179329872131,
          0.09359940141439438,
          0.03725405037403107,
          0.08400522917509079,
          0.040808942168951035,
          1.743295669555664,
          0.10002615302801132,
          0.12798088788986206,
          0.18305571377277374,
          2.1633076667785645,
          0.2668686807155609,
          0.31747952103614807,
          0.014189750887453556,
          0.21297213435173035,
          1.593859314918518,
          0.09459712356328964,
          1.3808948993682861,
          -0.017719032242894173,
          0.8402960896492004,
          -0.008992701768875122,
          0.7140704989433289,
          0.0716877356171608,
          0.05893857032060623,
          0.29827284812927246,
          0.15288642048835754,
          0.03610256314277649,
          0.18199986219406128,
          0.08064687997102737,
          0.0425775945186615,
          0.046591103076934814,
          0.27774444222450256,
          0.11507867276668549,
          0.09171519428491592,
          0.03870318457484245,
          0.7724935412406921,
          0.0689922347664833,
          0.06878288090229034,
          0.05799118056893349,
          0.7949950098991394,
          0.09437481313943863,
          0.01394258625805378,
          1.3162120580673218,
          1.0536876916885376,
          1.380584478378296,
          0.05848389491438866,
          0.8488233089447021,
          0.4362300634384155,
          1.5806081295013428,
          0.023378079757094383,
          0.4004833400249481,
          0.09157809615135193,
          0.09459177404642105,
          0.046879373490810394,
          -0.03876129165291786,
          0.046108417212963104,
          0.4394548237323761,
          0.03935017064213753,
          0.032162364572286606,
          1.1297688484191895,
          1.847985029220581,
          0.046806614845991135,
          0.06501886248588562,
          0.1846085488796234,
          0.02600863017141819,
          0.0687275379896164,
          0.05567070469260216,
          0.4108453691005707,
          0.014107725583016872,
          0.08648074418306351,
          1.3983800411224365,
          0.6259154677391052,
          0.0759814977645874,
          0.0047288211062550545,
          0.031081506982445717,
          0.7526851892471313,
          0.4750591814517975,
          0.006417799741029739,
          0.5434513688087463,
          0.10407906025648117,
          0.030034024268388748,
          0.07705359905958176,
          0.10336247086524963,
          -0.0028089992702007294,
          0.423838347196579,
          1.0933297872543335,
          0.04948567599058151,
          0.4888175129890442,
          0.1006619855761528
         ]
        },
        {
         "line": {
          "color": "red",
          "dash": "dash",
          "width": 1.5
         },
         "mode": "lines",
         "name": "Ideal Prediction",
         "type": "scatter",
         "x": [
          0,
          2.2312
         ],
         "y": [
          0,
          2.2312
         ]
        },
        {
         "marker": {
          "color": "green",
          "size": 10
         },
         "mode": "markers",
         "name": "PBE direct",
         "type": "scatter",
         "x": [],
         "y": []
        },
        {
         "marker": {
          "color": "black",
          "size": 10
         },
         "mode": "markers",
         "name": "PBE indirect",
         "type": "scatter",
         "x": [],
         "y": []
        }
       ],
       "layout": {
        "annotations": [
         {
          "bgcolor": "rgba(255, 255, 255, 0.7)",
          "bordercolor": "black",
          "borderwidth": 1,
          "font": {
           "color": "black",
           "family": "Arial",
           "size": 12
          },
          "showarrow": false,
          "text": "Black points represent HSE bandgap is indirect<br>Green points represent HSE bandgap is direct",
          "x": 1,
          "xref": "paper",
          "y": 0.05,
          "yref": "paper"
         }
        ],
        "font": {
         "color": "black",
         "family": "Courier New"
        },
        "height": 800,
        "legend": {
         "title": {
          "font": {
           "color": "green"
          }
         }
        },
        "showlegend": false,
        "template": {
         "data": {
          "bar": [
           {
            "error_x": {
             "color": "rgb(36,36,36)"
            },
            "error_y": {
             "color": "rgb(36,36,36)"
            },
            "marker": {
             "line": {
              "color": "white",
              "width": 0.5
             },
             "pattern": {
              "fillmode": "overlay",
              "size": 10,
              "solidity": 0.2
             }
            },
            "type": "bar"
           }
          ],
          "barpolar": [
           {
            "marker": {
             "line": {
              "color": "white",
              "width": 0.5
             },
             "pattern": {
              "fillmode": "overlay",
              "size": 10,
              "solidity": 0.2
             }
            },
            "type": "barpolar"
           }
          ],
          "carpet": [
           {
            "aaxis": {
             "endlinecolor": "rgb(36,36,36)",
             "gridcolor": "white",
             "linecolor": "white",
             "minorgridcolor": "white",
             "startlinecolor": "rgb(36,36,36)"
            },
            "baxis": {
             "endlinecolor": "rgb(36,36,36)",
             "gridcolor": "white",
             "linecolor": "white",
             "minorgridcolor": "white",
             "startlinecolor": "rgb(36,36,36)"
            },
            "type": "carpet"
           }
          ],
          "choropleth": [
           {
            "colorbar": {
             "outlinewidth": 1,
             "tickcolor": "rgb(36,36,36)",
             "ticks": "outside"
            },
            "type": "choropleth"
           }
          ],
          "contour": [
           {
            "colorbar": {
             "outlinewidth": 1,
             "tickcolor": "rgb(36,36,36)",
             "ticks": "outside"
            },
            "colorscale": [
             [
              0,
              "#440154"
             ],
             [
              0.1111111111111111,
              "#482878"
             ],
             [
              0.2222222222222222,
              "#3e4989"
             ],
             [
              0.3333333333333333,
              "#31688e"
             ],
             [
              0.4444444444444444,
              "#26828e"
             ],
             [
              0.5555555555555556,
              "#1f9e89"
             ],
             [
              0.6666666666666666,
              "#35b779"
             ],
             [
              0.7777777777777778,
              "#6ece58"
             ],
             [
              0.8888888888888888,
              "#b5de2b"
             ],
             [
              1,
              "#fde725"
             ]
            ],
            "type": "contour"
           }
          ],
          "contourcarpet": [
           {
            "colorbar": {
             "outlinewidth": 1,
             "tickcolor": "rgb(36,36,36)",
             "ticks": "outside"
            },
            "type": "contourcarpet"
           }
          ],
          "heatmap": [
           {
            "colorbar": {
             "outlinewidth": 1,
             "tickcolor": "rgb(36,36,36)",
             "ticks": "outside"
            },
            "colorscale": [
             [
              0,
              "#440154"
             ],
             [
              0.1111111111111111,
              "#482878"
             ],
             [
              0.2222222222222222,
              "#3e4989"
             ],
             [
              0.3333333333333333,
              "#31688e"
             ],
             [
              0.4444444444444444,
              "#26828e"
             ],
             [
              0.5555555555555556,
              "#1f9e89"
             ],
             [
              0.6666666666666666,
              "#35b779"
             ],
             [
              0.7777777777777778,
              "#6ece58"
             ],
             [
              0.8888888888888888,
              "#b5de2b"
             ],
             [
              1,
              "#fde725"
             ]
            ],
            "type": "heatmap"
           }
          ],
          "heatmapgl": [
           {
            "colorbar": {
             "outlinewidth": 1,
             "tickcolor": "rgb(36,36,36)",
             "ticks": "outside"
            },
            "colorscale": [
             [
              0,
              "#440154"
             ],
             [
              0.1111111111111111,
              "#482878"
             ],
             [
              0.2222222222222222,
              "#3e4989"
             ],
             [
              0.3333333333333333,
              "#31688e"
             ],
             [
              0.4444444444444444,
              "#26828e"
             ],
             [
              0.5555555555555556,
              "#1f9e89"
             ],
             [
              0.6666666666666666,
              "#35b779"
             ],
             [
              0.7777777777777778,
              "#6ece58"
             ],
             [
              0.8888888888888888,
              "#b5de2b"
             ],
             [
              1,
              "#fde725"
             ]
            ],
            "type": "heatmapgl"
           }
          ],
          "histogram": [
           {
            "marker": {
             "line": {
              "color": "white",
              "width": 0.6
             }
            },
            "type": "histogram"
           }
          ],
          "histogram2d": [
           {
            "colorbar": {
             "outlinewidth": 1,
             "tickcolor": "rgb(36,36,36)",
             "ticks": "outside"
            },
            "colorscale": [
             [
              0,
              "#440154"
             ],
             [
              0.1111111111111111,
              "#482878"
             ],
             [
              0.2222222222222222,
              "#3e4989"
             ],
             [
              0.3333333333333333,
              "#31688e"
             ],
             [
              0.4444444444444444,
              "#26828e"
             ],
             [
              0.5555555555555556,
              "#1f9e89"
             ],
             [
              0.6666666666666666,
              "#35b779"
             ],
             [
              0.7777777777777778,
              "#6ece58"
             ],
             [
              0.8888888888888888,
              "#b5de2b"
             ],
             [
              1,
              "#fde725"
             ]
            ],
            "type": "histogram2d"
           }
          ],
          "histogram2dcontour": [
           {
            "colorbar": {
             "outlinewidth": 1,
             "tickcolor": "rgb(36,36,36)",
             "ticks": "outside"
            },
            "colorscale": [
             [
              0,
              "#440154"
             ],
             [
              0.1111111111111111,
              "#482878"
             ],
             [
              0.2222222222222222,
              "#3e4989"
             ],
             [
              0.3333333333333333,
              "#31688e"
             ],
             [
              0.4444444444444444,
              "#26828e"
             ],
             [
              0.5555555555555556,
              "#1f9e89"
             ],
             [
              0.6666666666666666,
              "#35b779"
             ],
             [
              0.7777777777777778,
              "#6ece58"
             ],
             [
              0.8888888888888888,
              "#b5de2b"
             ],
             [
              1,
              "#fde725"
             ]
            ],
            "type": "histogram2dcontour"
           }
          ],
          "mesh3d": [
           {
            "colorbar": {
             "outlinewidth": 1,
             "tickcolor": "rgb(36,36,36)",
             "ticks": "outside"
            },
            "type": "mesh3d"
           }
          ],
          "parcoords": [
           {
            "line": {
             "colorbar": {
              "outlinewidth": 1,
              "tickcolor": "rgb(36,36,36)",
              "ticks": "outside"
             }
            },
            "type": "parcoords"
           }
          ],
          "pie": [
           {
            "automargin": true,
            "type": "pie"
           }
          ],
          "scatter": [
           {
            "fillpattern": {
             "fillmode": "overlay",
             "size": 10,
             "solidity": 0.2
            },
            "type": "scatter"
           }
          ],
          "scatter3d": [
           {
            "line": {
             "colorbar": {
              "outlinewidth": 1,
              "tickcolor": "rgb(36,36,36)",
              "ticks": "outside"
             }
            },
            "marker": {
             "colorbar": {
              "outlinewidth": 1,
              "tickcolor": "rgb(36,36,36)",
              "ticks": "outside"
             }
            },
            "type": "scatter3d"
           }
          ],
          "scattercarpet": [
           {
            "marker": {
             "colorbar": {
              "outlinewidth": 1,
              "tickcolor": "rgb(36,36,36)",
              "ticks": "outside"
             }
            },
            "type": "scattercarpet"
           }
          ],
          "scattergeo": [
           {
            "marker": {
             "colorbar": {
              "outlinewidth": 1,
              "tickcolor": "rgb(36,36,36)",
              "ticks": "outside"
             }
            },
            "type": "scattergeo"
           }
          ],
          "scattergl": [
           {
            "marker": {
             "colorbar": {
              "outlinewidth": 1,
              "tickcolor": "rgb(36,36,36)",
              "ticks": "outside"
             }
            },
            "type": "scattergl"
           }
          ],
          "scattermapbox": [
           {
            "marker": {
             "colorbar": {
              "outlinewidth": 1,
              "tickcolor": "rgb(36,36,36)",
              "ticks": "outside"
             }
            },
            "type": "scattermapbox"
           }
          ],
          "scatterpolar": [
           {
            "marker": {
             "colorbar": {
              "outlinewidth": 1,
              "tickcolor": "rgb(36,36,36)",
              "ticks": "outside"
             }
            },
            "type": "scatterpolar"
           }
          ],
          "scatterpolargl": [
           {
            "marker": {
             "colorbar": {
              "outlinewidth": 1,
              "tickcolor": "rgb(36,36,36)",
              "ticks": "outside"
             }
            },
            "type": "scatterpolargl"
           }
          ],
          "scatterternary": [
           {
            "marker": {
             "colorbar": {
              "outlinewidth": 1,
              "tickcolor": "rgb(36,36,36)",
              "ticks": "outside"
             }
            },
            "type": "scatterternary"
           }
          ],
          "surface": [
           {
            "colorbar": {
             "outlinewidth": 1,
             "tickcolor": "rgb(36,36,36)",
             "ticks": "outside"
            },
            "colorscale": [
             [
              0,
              "#440154"
             ],
             [
              0.1111111111111111,
              "#482878"
             ],
             [
              0.2222222222222222,
              "#3e4989"
             ],
             [
              0.3333333333333333,
              "#31688e"
             ],
             [
              0.4444444444444444,
              "#26828e"
             ],
             [
              0.5555555555555556,
              "#1f9e89"
             ],
             [
              0.6666666666666666,
              "#35b779"
             ],
             [
              0.7777777777777778,
              "#6ece58"
             ],
             [
              0.8888888888888888,
              "#b5de2b"
             ],
             [
              1,
              "#fde725"
             ]
            ],
            "type": "surface"
           }
          ],
          "table": [
           {
            "cells": {
             "fill": {
              "color": "rgb(237,237,237)"
             },
             "line": {
              "color": "white"
             }
            },
            "header": {
             "fill": {
              "color": "rgb(217,217,217)"
             },
             "line": {
              "color": "white"
             }
            },
            "type": "table"
           }
          ]
         },
         "layout": {
          "annotationdefaults": {
           "arrowhead": 0,
           "arrowwidth": 1
          },
          "autotypenumbers": "strict",
          "coloraxis": {
           "colorbar": {
            "outlinewidth": 1,
            "tickcolor": "rgb(36,36,36)",
            "ticks": "outside"
           }
          },
          "colorscale": {
           "diverging": [
            [
             0,
             "rgb(103,0,31)"
            ],
            [
             0.1,
             "rgb(178,24,43)"
            ],
            [
             0.2,
             "rgb(214,96,77)"
            ],
            [
             0.3,
             "rgb(244,165,130)"
            ],
            [
             0.4,
             "rgb(253,219,199)"
            ],
            [
             0.5,
             "rgb(247,247,247)"
            ],
            [
             0.6,
             "rgb(209,229,240)"
            ],
            [
             0.7,
             "rgb(146,197,222)"
            ],
            [
             0.8,
             "rgb(67,147,195)"
            ],
            [
             0.9,
             "rgb(33,102,172)"
            ],
            [
             1,
             "rgb(5,48,97)"
            ]
           ],
           "sequential": [
            [
             0,
             "#440154"
            ],
            [
             0.1111111111111111,
             "#482878"
            ],
            [
             0.2222222222222222,
             "#3e4989"
            ],
            [
             0.3333333333333333,
             "#31688e"
            ],
            [
             0.4444444444444444,
             "#26828e"
            ],
            [
             0.5555555555555556,
             "#1f9e89"
            ],
            [
             0.6666666666666666,
             "#35b779"
            ],
            [
             0.7777777777777778,
             "#6ece58"
            ],
            [
             0.8888888888888888,
             "#b5de2b"
            ],
            [
             1,
             "#fde725"
            ]
           ],
           "sequentialminus": [
            [
             0,
             "#440154"
            ],
            [
             0.1111111111111111,
             "#482878"
            ],
            [
             0.2222222222222222,
             "#3e4989"
            ],
            [
             0.3333333333333333,
             "#31688e"
            ],
            [
             0.4444444444444444,
             "#26828e"
            ],
            [
             0.5555555555555556,
             "#1f9e89"
            ],
            [
             0.6666666666666666,
             "#35b779"
            ],
            [
             0.7777777777777778,
             "#6ece58"
            ],
            [
             0.8888888888888888,
             "#b5de2b"
            ],
            [
             1,
             "#fde725"
            ]
           ]
          },
          "colorway": [
           "#1F77B4",
           "#FF7F0E",
           "#2CA02C",
           "#D62728",
           "#9467BD",
           "#8C564B",
           "#E377C2",
           "#7F7F7F",
           "#BCBD22",
           "#17BECF"
          ],
          "font": {
           "color": "rgb(36,36,36)"
          },
          "geo": {
           "bgcolor": "white",
           "lakecolor": "white",
           "landcolor": "white",
           "showlakes": true,
           "showland": true,
           "subunitcolor": "white"
          },
          "hoverlabel": {
           "align": "left"
          },
          "hovermode": "closest",
          "mapbox": {
           "style": "light"
          },
          "paper_bgcolor": "white",
          "plot_bgcolor": "white",
          "polar": {
           "angularaxis": {
            "gridcolor": "rgb(232,232,232)",
            "linecolor": "rgb(36,36,36)",
            "showgrid": false,
            "showline": true,
            "ticks": "outside"
           },
           "bgcolor": "white",
           "radialaxis": {
            "gridcolor": "rgb(232,232,232)",
            "linecolor": "rgb(36,36,36)",
            "showgrid": false,
            "showline": true,
            "ticks": "outside"
           }
          },
          "scene": {
           "xaxis": {
            "backgroundcolor": "white",
            "gridcolor": "rgb(232,232,232)",
            "gridwidth": 2,
            "linecolor": "rgb(36,36,36)",
            "showbackground": true,
            "showgrid": false,
            "showline": true,
            "ticks": "outside",
            "zeroline": false,
            "zerolinecolor": "rgb(36,36,36)"
           },
           "yaxis": {
            "backgroundcolor": "white",
            "gridcolor": "rgb(232,232,232)",
            "gridwidth": 2,
            "linecolor": "rgb(36,36,36)",
            "showbackground": true,
            "showgrid": false,
            "showline": true,
            "ticks": "outside",
            "zeroline": false,
            "zerolinecolor": "rgb(36,36,36)"
           },
           "zaxis": {
            "backgroundcolor": "white",
            "gridcolor": "rgb(232,232,232)",
            "gridwidth": 2,
            "linecolor": "rgb(36,36,36)",
            "showbackground": true,
            "showgrid": false,
            "showline": true,
            "ticks": "outside",
            "zeroline": false,
            "zerolinecolor": "rgb(36,36,36)"
           }
          },
          "shapedefaults": {
           "fillcolor": "black",
           "line": {
            "width": 0
           },
           "opacity": 0.3
          },
          "ternary": {
           "aaxis": {
            "gridcolor": "rgb(232,232,232)",
            "linecolor": "rgb(36,36,36)",
            "showgrid": false,
            "showline": true,
            "ticks": "outside"
           },
           "baxis": {
            "gridcolor": "rgb(232,232,232)",
            "linecolor": "rgb(36,36,36)",
            "showgrid": false,
            "showline": true,
            "ticks": "outside"
           },
           "bgcolor": "white",
           "caxis": {
            "gridcolor": "rgb(232,232,232)",
            "linecolor": "rgb(36,36,36)",
            "showgrid": false,
            "showline": true,
            "ticks": "outside"
           }
          },
          "title": {
           "x": 0.05
          },
          "xaxis": {
           "automargin": true,
           "gridcolor": "rgb(232,232,232)",
           "linecolor": "rgb(36,36,36)",
           "showgrid": false,
           "showline": true,
           "ticks": "outside",
           "title": {
            "standoff": 15
           },
           "zeroline": false,
           "zerolinecolor": "rgb(36,36,36)"
          },
          "yaxis": {
           "automargin": true,
           "gridcolor": "rgb(232,232,232)",
           "linecolor": "rgb(36,36,36)",
           "showgrid": false,
           "showline": true,
           "ticks": "outside",
           "title": {
            "standoff": 15
           },
           "zeroline": false,
           "zerolinecolor": "rgb(36,36,36)"
          }
         }
        },
        "title": {
         "font": {
          "color": "black",
          "family": "Arial",
          "size": 24
         },
         "text": "Parity plot for HSE Bandgap excluding HSE insulator",
         "x": 0.5
        },
        "width": 1000,
        "xaxis": {
         "title": {
          "font": {
           "family": "arial",
           "size": 16
          },
          "text": "Actual Values"
         }
        },
        "yaxis": {
         "title": {
          "font": {
           "family": "arial",
           "size": 16
          },
          "text": "Predicted Values"
         }
        }
       }
      }
     },
     "metadata": {},
     "output_type": "display_data"
    }
   ],
   "source": [
    "import plotly.graph_objects as go\n",
    "\n",
    "# Predict on training and test sets\n",
    "y__train_pred = xgb__reg.predict(X__train)\n",
    "y__test_pred = xgb__reg.predict(X__test)\n",
    "\n",
    "\n",
    "# Create a parity plot for test set\n",
    "test_set_df = pd.DataFrame({'y_test': y__test, 'y_test_pred': y__test_pred})\n",
    "\n",
    "# Merge the DataFrame with the main DataFrame 'df' to get 'hse_direct' values\n",
    "test_set_df = pd.merge(test_set_df, df[['HSE_direct']], left_index=True, right_index=True, how='left')\n",
    "\n",
    "parity_test_fig = go.Figure()\n",
    "\n",
    "# Create a color list based on pbe_direct values\n",
    "colors = []\n",
    "\n",
    "for index, row in test_set_df.iterrows():\n",
    "    hse_direct_val = row['HSE_direct']\n",
    "    if pd.isna(pbe_direct_val):\n",
    "        colors.append('red')\n",
    "    elif hse_direct_val == 1:\n",
    "        colors.append('green')\n",
    "    else:\n",
    "        colors.append('black')\n",
    "\n",
    "parity_test_fig.add_trace(go.Scatter(\n",
    "    x=test_set_df['y_test'],\n",
    "    y=test_set_df['y_test_pred'],\n",
    "    mode='markers',\n",
    "    name='Test Set',\n",
    "    marker=dict(size=6, color=colors)\n",
    "))\n",
    "\n",
    "parity_test_fig.add_trace(go.Scatter(\n",
    "    x=[min(test_set_df['y_test']), max(test_set_df['y_test'])],\n",
    "    y=[min(test_set_df['y_test']), max(test_set_df['y_test'])],\n",
    "    mode='lines',\n",
    "    name='Ideal Prediction',\n",
    "    line=dict(dash='dash', color='red', width=1.5)\n",
    "))\n",
    "\n",
    "# Add custom legend entry\n",
    "parity_test_fig.add_trace(go.Scatter(\n",
    "    x=[],\n",
    "    y=[],\n",
    "    mode='markers',\n",
    "    marker=dict(size=10, color='green'),\n",
    "    name='PBE direct'\n",
    "))\n",
    "\n",
    "parity_test_fig.add_trace(go.Scatter(\n",
    "    x=[],\n",
    "    y=[],\n",
    "    mode='markers',\n",
    "    marker=dict(size=10, color='black'),\n",
    "    name='PBE indirect'\n",
    "))\n",
    "\n",
    "parity_test_fig.update_layout(\n",
    "    template='simple_white',  \n",
    "    title='Parity plot for HSE Bandgap excluding HSE insulator',\n",
    "    xaxis_title='Actual Values',\n",
    "    yaxis_title='Predicted Values',\n",
    "    font_family=\"Courier New\",\n",
    "    font_color=\"black\",\n",
    "    title_font_family=\"Arial\",\n",
    "    title_font_color=\"black\",\n",
    "    title_x = 0.5,\n",
    "    title_font_size = 24,\n",
    "    legend_title_font_color=\"green\",\n",
    "    xaxis_title_font_family = \"arial\",\n",
    "    yaxis_title_font_family = \"arial\",\n",
    "    xaxis_title_font_size = 16,\n",
    "    yaxis_title_font_size = 16,\n",
    "    showlegend=False,  \n",
    "    width=1000,  \n",
    "    height=800,\n",
    ")\n",
    "\n",
    "textt = \"Black points represent HSE bandgap is indirect<br>Green points represent HSE bandgap is direct\"\n",
    "\n",
    "parity_test_fig.add_annotation(\n",
    "    text=textt,  \n",
    "    x= 1,  \n",
    "    y= 0.05,  \n",
    "    xref=\"paper\",  \n",
    "    yref=\"paper\",  \n",
    "    showarrow=False, \n",
    "    font=dict(family=\"Arial\", size=12, color=\"black\"),  \n",
    "    bgcolor=\"rgba(255, 255, 255, 0.7)\",  \n",
    "    bordercolor=\"black\",  \n",
    "    borderwidth=1,  \n",
    ")\n",
    "\n",
    "config = {\n",
    "    'toImageButtonOptions': {\n",
    "        'format': 'png',  # one of png, svg, jpeg, webp\n",
    "        'filename': 'custom_image',\n",
    "        'height': 500,\n",
    "        'width': 700,\n",
    "        'scale': 6  # Multiply title/legend/axis/canvas sizes by this factor\n",
    "    }\n",
    "}\n",
    "\n",
    "parity_test_fig.show(config=config)"
   ]
  },
  {
   "cell_type": "markdown",
   "metadata": {},
   "source": [
    "### Feature importances for HSE bandgap prediction excluding HSE insulator"
   ]
  },
  {
   "cell_type": "code",
   "execution_count": 163,
   "metadata": {},
   "outputs": [
    {
     "data": {
      "application/vnd.plotly.v1+json": {
       "config": {
        "plotlyServerURL": "https://plot.ly",
        "toImageButtonOptions": {
         "filename": "custom_image",
         "format": "png",
         "height": 500,
         "scale": 6,
         "width": 700
        }
       },
       "data": [
        {
         "marker": {
          "color": "royalblue"
         },
         "type": "bar",
         "x": [
          "PBE_band_gap",
          "e_above_hull",
          "c",
          "volume",
          "A_IR",
          "A_OS",
          "a",
          "A_LUMO",
          "A_Z_radii",
          "b"
         ],
         "y": [
          0.4961134195327759,
          0.05883054435253143,
          0.04552525654435158,
          0.04013950750231743,
          0.025804651901125908,
          0.02437368966639042,
          0.02357708290219307,
          0.022849472239613533,
          0.022329917177557945,
          0.01982133276760578
         ]
        }
       ],
       "layout": {
        "font": {
         "color": "black",
         "family": "Arial",
         "size": 14
        },
        "height": 800,
        "showlegend": false,
        "template": {
         "data": {
          "bar": [
           {
            "error_x": {
             "color": "#2a3f5f"
            },
            "error_y": {
             "color": "#2a3f5f"
            },
            "marker": {
             "line": {
              "color": "#E5ECF6",
              "width": 0.5
             },
             "pattern": {
              "fillmode": "overlay",
              "size": 10,
              "solidity": 0.2
             }
            },
            "type": "bar"
           }
          ],
          "barpolar": [
           {
            "marker": {
             "line": {
              "color": "#E5ECF6",
              "width": 0.5
             },
             "pattern": {
              "fillmode": "overlay",
              "size": 10,
              "solidity": 0.2
             }
            },
            "type": "barpolar"
           }
          ],
          "carpet": [
           {
            "aaxis": {
             "endlinecolor": "#2a3f5f",
             "gridcolor": "white",
             "linecolor": "white",
             "minorgridcolor": "white",
             "startlinecolor": "#2a3f5f"
            },
            "baxis": {
             "endlinecolor": "#2a3f5f",
             "gridcolor": "white",
             "linecolor": "white",
             "minorgridcolor": "white",
             "startlinecolor": "#2a3f5f"
            },
            "type": "carpet"
           }
          ],
          "choropleth": [
           {
            "colorbar": {
             "outlinewidth": 0,
             "ticks": ""
            },
            "type": "choropleth"
           }
          ],
          "contour": [
           {
            "colorbar": {
             "outlinewidth": 0,
             "ticks": ""
            },
            "colorscale": [
             [
              0,
              "#0d0887"
             ],
             [
              0.1111111111111111,
              "#46039f"
             ],
             [
              0.2222222222222222,
              "#7201a8"
             ],
             [
              0.3333333333333333,
              "#9c179e"
             ],
             [
              0.4444444444444444,
              "#bd3786"
             ],
             [
              0.5555555555555556,
              "#d8576b"
             ],
             [
              0.6666666666666666,
              "#ed7953"
             ],
             [
              0.7777777777777778,
              "#fb9f3a"
             ],
             [
              0.8888888888888888,
              "#fdca26"
             ],
             [
              1,
              "#f0f921"
             ]
            ],
            "type": "contour"
           }
          ],
          "contourcarpet": [
           {
            "colorbar": {
             "outlinewidth": 0,
             "ticks": ""
            },
            "type": "contourcarpet"
           }
          ],
          "heatmap": [
           {
            "colorbar": {
             "outlinewidth": 0,
             "ticks": ""
            },
            "colorscale": [
             [
              0,
              "#0d0887"
             ],
             [
              0.1111111111111111,
              "#46039f"
             ],
             [
              0.2222222222222222,
              "#7201a8"
             ],
             [
              0.3333333333333333,
              "#9c179e"
             ],
             [
              0.4444444444444444,
              "#bd3786"
             ],
             [
              0.5555555555555556,
              "#d8576b"
             ],
             [
              0.6666666666666666,
              "#ed7953"
             ],
             [
              0.7777777777777778,
              "#fb9f3a"
             ],
             [
              0.8888888888888888,
              "#fdca26"
             ],
             [
              1,
              "#f0f921"
             ]
            ],
            "type": "heatmap"
           }
          ],
          "heatmapgl": [
           {
            "colorbar": {
             "outlinewidth": 0,
             "ticks": ""
            },
            "colorscale": [
             [
              0,
              "#0d0887"
             ],
             [
              0.1111111111111111,
              "#46039f"
             ],
             [
              0.2222222222222222,
              "#7201a8"
             ],
             [
              0.3333333333333333,
              "#9c179e"
             ],
             [
              0.4444444444444444,
              "#bd3786"
             ],
             [
              0.5555555555555556,
              "#d8576b"
             ],
             [
              0.6666666666666666,
              "#ed7953"
             ],
             [
              0.7777777777777778,
              "#fb9f3a"
             ],
             [
              0.8888888888888888,
              "#fdca26"
             ],
             [
              1,
              "#f0f921"
             ]
            ],
            "type": "heatmapgl"
           }
          ],
          "histogram": [
           {
            "marker": {
             "pattern": {
              "fillmode": "overlay",
              "size": 10,
              "solidity": 0.2
             }
            },
            "type": "histogram"
           }
          ],
          "histogram2d": [
           {
            "colorbar": {
             "outlinewidth": 0,
             "ticks": ""
            },
            "colorscale": [
             [
              0,
              "#0d0887"
             ],
             [
              0.1111111111111111,
              "#46039f"
             ],
             [
              0.2222222222222222,
              "#7201a8"
             ],
             [
              0.3333333333333333,
              "#9c179e"
             ],
             [
              0.4444444444444444,
              "#bd3786"
             ],
             [
              0.5555555555555556,
              "#d8576b"
             ],
             [
              0.6666666666666666,
              "#ed7953"
             ],
             [
              0.7777777777777778,
              "#fb9f3a"
             ],
             [
              0.8888888888888888,
              "#fdca26"
             ],
             [
              1,
              "#f0f921"
             ]
            ],
            "type": "histogram2d"
           }
          ],
          "histogram2dcontour": [
           {
            "colorbar": {
             "outlinewidth": 0,
             "ticks": ""
            },
            "colorscale": [
             [
              0,
              "#0d0887"
             ],
             [
              0.1111111111111111,
              "#46039f"
             ],
             [
              0.2222222222222222,
              "#7201a8"
             ],
             [
              0.3333333333333333,
              "#9c179e"
             ],
             [
              0.4444444444444444,
              "#bd3786"
             ],
             [
              0.5555555555555556,
              "#d8576b"
             ],
             [
              0.6666666666666666,
              "#ed7953"
             ],
             [
              0.7777777777777778,
              "#fb9f3a"
             ],
             [
              0.8888888888888888,
              "#fdca26"
             ],
             [
              1,
              "#f0f921"
             ]
            ],
            "type": "histogram2dcontour"
           }
          ],
          "mesh3d": [
           {
            "colorbar": {
             "outlinewidth": 0,
             "ticks": ""
            },
            "type": "mesh3d"
           }
          ],
          "parcoords": [
           {
            "line": {
             "colorbar": {
              "outlinewidth": 0,
              "ticks": ""
             }
            },
            "type": "parcoords"
           }
          ],
          "pie": [
           {
            "automargin": true,
            "type": "pie"
           }
          ],
          "scatter": [
           {
            "fillpattern": {
             "fillmode": "overlay",
             "size": 10,
             "solidity": 0.2
            },
            "type": "scatter"
           }
          ],
          "scatter3d": [
           {
            "line": {
             "colorbar": {
              "outlinewidth": 0,
              "ticks": ""
             }
            },
            "marker": {
             "colorbar": {
              "outlinewidth": 0,
              "ticks": ""
             }
            },
            "type": "scatter3d"
           }
          ],
          "scattercarpet": [
           {
            "marker": {
             "colorbar": {
              "outlinewidth": 0,
              "ticks": ""
             }
            },
            "type": "scattercarpet"
           }
          ],
          "scattergeo": [
           {
            "marker": {
             "colorbar": {
              "outlinewidth": 0,
              "ticks": ""
             }
            },
            "type": "scattergeo"
           }
          ],
          "scattergl": [
           {
            "marker": {
             "colorbar": {
              "outlinewidth": 0,
              "ticks": ""
             }
            },
            "type": "scattergl"
           }
          ],
          "scattermapbox": [
           {
            "marker": {
             "colorbar": {
              "outlinewidth": 0,
              "ticks": ""
             }
            },
            "type": "scattermapbox"
           }
          ],
          "scatterpolar": [
           {
            "marker": {
             "colorbar": {
              "outlinewidth": 0,
              "ticks": ""
             }
            },
            "type": "scatterpolar"
           }
          ],
          "scatterpolargl": [
           {
            "marker": {
             "colorbar": {
              "outlinewidth": 0,
              "ticks": ""
             }
            },
            "type": "scatterpolargl"
           }
          ],
          "scatterternary": [
           {
            "marker": {
             "colorbar": {
              "outlinewidth": 0,
              "ticks": ""
             }
            },
            "type": "scatterternary"
           }
          ],
          "surface": [
           {
            "colorbar": {
             "outlinewidth": 0,
             "ticks": ""
            },
            "colorscale": [
             [
              0,
              "#0d0887"
             ],
             [
              0.1111111111111111,
              "#46039f"
             ],
             [
              0.2222222222222222,
              "#7201a8"
             ],
             [
              0.3333333333333333,
              "#9c179e"
             ],
             [
              0.4444444444444444,
              "#bd3786"
             ],
             [
              0.5555555555555556,
              "#d8576b"
             ],
             [
              0.6666666666666666,
              "#ed7953"
             ],
             [
              0.7777777777777778,
              "#fb9f3a"
             ],
             [
              0.8888888888888888,
              "#fdca26"
             ],
             [
              1,
              "#f0f921"
             ]
            ],
            "type": "surface"
           }
          ],
          "table": [
           {
            "cells": {
             "fill": {
              "color": "#EBF0F8"
             },
             "line": {
              "color": "white"
             }
            },
            "header": {
             "fill": {
              "color": "#C8D4E3"
             },
             "line": {
              "color": "white"
             }
            },
            "type": "table"
           }
          ]
         },
         "layout": {
          "annotationdefaults": {
           "arrowcolor": "#2a3f5f",
           "arrowhead": 0,
           "arrowwidth": 1
          },
          "autotypenumbers": "strict",
          "coloraxis": {
           "colorbar": {
            "outlinewidth": 0,
            "ticks": ""
           }
          },
          "colorscale": {
           "diverging": [
            [
             0,
             "#8e0152"
            ],
            [
             0.1,
             "#c51b7d"
            ],
            [
             0.2,
             "#de77ae"
            ],
            [
             0.3,
             "#f1b6da"
            ],
            [
             0.4,
             "#fde0ef"
            ],
            [
             0.5,
             "#f7f7f7"
            ],
            [
             0.6,
             "#e6f5d0"
            ],
            [
             0.7,
             "#b8e186"
            ],
            [
             0.8,
             "#7fbc41"
            ],
            [
             0.9,
             "#4d9221"
            ],
            [
             1,
             "#276419"
            ]
           ],
           "sequential": [
            [
             0,
             "#0d0887"
            ],
            [
             0.1111111111111111,
             "#46039f"
            ],
            [
             0.2222222222222222,
             "#7201a8"
            ],
            [
             0.3333333333333333,
             "#9c179e"
            ],
            [
             0.4444444444444444,
             "#bd3786"
            ],
            [
             0.5555555555555556,
             "#d8576b"
            ],
            [
             0.6666666666666666,
             "#ed7953"
            ],
            [
             0.7777777777777778,
             "#fb9f3a"
            ],
            [
             0.8888888888888888,
             "#fdca26"
            ],
            [
             1,
             "#f0f921"
            ]
           ],
           "sequentialminus": [
            [
             0,
             "#0d0887"
            ],
            [
             0.1111111111111111,
             "#46039f"
            ],
            [
             0.2222222222222222,
             "#7201a8"
            ],
            [
             0.3333333333333333,
             "#9c179e"
            ],
            [
             0.4444444444444444,
             "#bd3786"
            ],
            [
             0.5555555555555556,
             "#d8576b"
            ],
            [
             0.6666666666666666,
             "#ed7953"
            ],
            [
             0.7777777777777778,
             "#fb9f3a"
            ],
            [
             0.8888888888888888,
             "#fdca26"
            ],
            [
             1,
             "#f0f921"
            ]
           ]
          },
          "colorway": [
           "#636efa",
           "#EF553B",
           "#00cc96",
           "#ab63fa",
           "#FFA15A",
           "#19d3f3",
           "#FF6692",
           "#B6E880",
           "#FF97FF",
           "#FECB52"
          ],
          "font": {
           "color": "#2a3f5f"
          },
          "geo": {
           "bgcolor": "white",
           "lakecolor": "white",
           "landcolor": "#E5ECF6",
           "showlakes": true,
           "showland": true,
           "subunitcolor": "white"
          },
          "hoverlabel": {
           "align": "left"
          },
          "hovermode": "closest",
          "mapbox": {
           "style": "light"
          },
          "paper_bgcolor": "white",
          "plot_bgcolor": "#E5ECF6",
          "polar": {
           "angularaxis": {
            "gridcolor": "white",
            "linecolor": "white",
            "ticks": ""
           },
           "bgcolor": "#E5ECF6",
           "radialaxis": {
            "gridcolor": "white",
            "linecolor": "white",
            "ticks": ""
           }
          },
          "scene": {
           "xaxis": {
            "backgroundcolor": "#E5ECF6",
            "gridcolor": "white",
            "gridwidth": 2,
            "linecolor": "white",
            "showbackground": true,
            "ticks": "",
            "zerolinecolor": "white"
           },
           "yaxis": {
            "backgroundcolor": "#E5ECF6",
            "gridcolor": "white",
            "gridwidth": 2,
            "linecolor": "white",
            "showbackground": true,
            "ticks": "",
            "zerolinecolor": "white"
           },
           "zaxis": {
            "backgroundcolor": "#E5ECF6",
            "gridcolor": "white",
            "gridwidth": 2,
            "linecolor": "white",
            "showbackground": true,
            "ticks": "",
            "zerolinecolor": "white"
           }
          },
          "shapedefaults": {
           "line": {
            "color": "#2a3f5f"
           }
          },
          "ternary": {
           "aaxis": {
            "gridcolor": "white",
            "linecolor": "white",
            "ticks": ""
           },
           "baxis": {
            "gridcolor": "white",
            "linecolor": "white",
            "ticks": ""
           },
           "bgcolor": "#E5ECF6",
           "caxis": {
            "gridcolor": "white",
            "linecolor": "white",
            "ticks": ""
           }
          },
          "title": {
           "x": 0.05
          },
          "xaxis": {
           "automargin": true,
           "gridcolor": "white",
           "linecolor": "white",
           "ticks": "",
           "title": {
            "standoff": 15
           },
           "zerolinecolor": "white",
           "zerolinewidth": 2
          },
          "yaxis": {
           "automargin": true,
           "gridcolor": "white",
           "linecolor": "white",
           "ticks": "",
           "title": {
            "standoff": 15
           },
           "zerolinecolor": "white",
           "zerolinewidth": 2
          }
         }
        },
        "title": {
         "text": "Feature importances for HSE bandgap prediction excluding HSE insulator",
         "x": 0.5
        },
        "width": 1000,
        "xaxis": {
         "tickangle": 45,
         "tickfont": {
          "size": 14
         },
         "title": {
          "text": "Features"
         }
        },
        "yaxis": {
         "title": {
          "text": "Importance (%)"
         }
        }
       }
      }
     },
     "metadata": {},
     "output_type": "display_data"
    }
   ],
   "source": [
    "import plotly.graph_objects as go\n",
    "\n",
    "feature_importances = xgb__reg.feature_importances_\n",
    "included = X2_HSE.columns.values\n",
    "indices = np.argsort(feature_importances)[::-1]\n",
    "\n",
    "fig = go.Figure()\n",
    "\n",
    "fig.add_trace(go.Bar(\n",
    "    x=included[indices][:10],\n",
    "    y=feature_importances[indices][:10],\n",
    "    marker=dict(color='royalblue'),\n",
    "    #text=feature_importances[indices][:10],\n",
    "    #textposition='auto',\n",
    "))\n",
    "\n",
    "fig.update_layout(\n",
    "    xaxis=dict(\n",
    "        title='Features',\n",
    "        tickfont=dict(size=14),\n",
    "        tickangle=45\n",
    "    ),\n",
    "    yaxis_title='Importance (%)',\n",
    "    title='Feature importances for HSE bandgap prediction excluding HSE insulator',\n",
    "    font=dict(family=\"Arial\", size=14, color=\"black\"),\n",
    "    title_x = 0.5,\n",
    "    width=1000,\n",
    "    height=800,\n",
    "    showlegend=False,\n",
    ")\n",
    "\n",
    "config = {\n",
    "    'toImageButtonOptions': {\n",
    "        'format': 'png',  # one of png, svg, jpeg, webp\n",
    "        'filename': 'custom_image',\n",
    "        'height': 500,\n",
    "        'width': 700,\n",
    "        'scale': 6  # Multiply title/legend/axis/canvas sizes by this factor\n",
    "    }\n",
    "}\n",
    "\n",
    "fig.show(config=config)"
   ]
  },
  {
   "cell_type": "markdown",
   "metadata": {},
   "source": [
    "# For predicting energy above hull distance"
   ]
  },
  {
   "cell_type": "markdown",
   "metadata": {},
   "source": [
    "### Preparing X,y"
   ]
  },
  {
   "cell_type": "code",
   "execution_count": 164,
   "metadata": {},
   "outputs": [
    {
     "name": "stdout",
     "output_type": "stream",
     "text": [
      "There are 26 possible descriptors:\n",
      "\n",
      "['A_HOMO' 'A_IE' 'A_IR' 'A_LUMO' 'A_OS' 'A_X' 'A_Z_radii' 'A_e_affin'\n",
      " 'B_HOMO' 'B_IE' 'B_IR' 'B_LUMO' 'B_OS' 'B_X' 'B_Z_radii' 'B_e_affin' 'mu'\n",
      " 'tau' 'total_energy' 'efermi' 'density' 'volume' 'PBE_insulator' 'a' 'b'\n",
      " 'c']\n"
     ]
    }
   ],
   "source": [
    "excluded_hull = [\"A\", \"B\", \"functional_group\", \"training_type\", \"e_above_hull\", \"composition\", \"stable2\", \"stable\", 'HSE_vbm', 'HSE_cbm', 'HSE_direct', \"HSE_band_gap\", \"HSE_insulator\", 'PBE_vbm', 'PBE_cbm', 'PBE_direct', 'PBE_band_gap'] #, \"total_energy\"] #, \"stable\"] #, \"volume\", \"c\"] \"HSE_direct\", \"PBE_direct\", \n",
    "y = df['e_above_hull'].values\n",
    "X = df.drop(excluded_hull, axis=1)\n",
    "print(\"There are {} possible descriptors:\\n\\n{}\".format(X.shape[1], X.columns.values))"
   ]
  },
  {
   "cell_type": "markdown",
   "metadata": {},
   "source": [
    "### Model for predicting energy above hull distance"
   ]
  },
  {
   "cell_type": "code",
   "execution_count": 165,
   "metadata": {},
   "outputs": [
    {
     "name": "stdout",
     "output_type": "stream",
     "text": [
      "Training R2 = 1.0\n",
      "Training RMSE = 0.014\n",
      "Test R2 = 0.947\n",
      "Test RMSE = 0.107\n"
     ]
    }
   ],
   "source": [
    "from xgboost import XGBRegressor\n",
    "from sklearn.metrics import mean_squared_error\n",
    "from sklearn.model_selection import train_test_split\n",
    "\n",
    "# Assuming X, y, and df are already defined\n",
    "\n",
    "# Add 'functional_group' to X\n",
    "X['functional_group'] = df['functional_group']\n",
    "\n",
    "# Add 'stable' to X\n",
    "#X['stable'] = df['stable']\n",
    "\n",
    "# Specify the test size\n",
    "test_size = 0.1\n",
    "\n",
    "# Split the data into train and test sets while maintaining the proportion of 'stable'\n",
    "X_train, X_test, y_train, y_test = train_test_split(X, y, test_size=test_size, random_state=30) # stratify=X['stable'])\n",
    "\n",
    "# Extract and drop the 'functional_group' and 'stable' columns\n",
    "train_formula = X_train[['functional_group']]\n",
    "X_train = X_train.drop(['functional_group'], axis=1)\n",
    "test_formula = X_test[['functional_group']]\n",
    "X_test = X_test.drop(['functional_group'], axis=1)\n",
    "\n",
    "# Create an XGBoost regressor\n",
    "xgb_reg2 = XGBRegressor(n_estimators=200, random_state=9, learning_rate=0.1)\n",
    "xgb_reg2.fit(X_train, y_train)\n",
    "\n",
    "# Get fit statistics\n",
    "print('Training R2 = ' + str(round(xgb_reg2.score(X_train, y_train), 3)))\n",
    "print('Training RMSE = %.3f' % np.sqrt(mean_squared_error(y_true=y_train, y_pred=xgb_reg2.predict(X_train))))\n",
    "print('Test R2 = ' + str(round(xgb_reg2.score(X_test, y_test), 3)))\n",
    "print('Test RMSE = %.3f' % np.sqrt(mean_squared_error(y_true=y_test, y_pred=xgb_reg2.predict(X_test))))\n"
   ]
  },
  {
   "cell_type": "markdown",
   "metadata": {},
   "source": [
    "### To optimize the model"
   ]
  },
  {
   "cell_type": "code",
   "execution_count": 72,
   "metadata": {},
   "outputs": [
    {
     "name": "stdout",
     "output_type": "stream",
     "text": [
      "Best Random Seed: 30\n",
      "Best Test R2 Score: 0.9471818483556952\n"
     ]
    }
   ],
   "source": [
    "from xgboost import XGBRegressor\n",
    "from sklearn.metrics import mean_squared_error\n",
    "from sklearn.model_selection import train_test_split\n",
    "import numpy as np\n",
    "\n",
    "# Assuming X, y, and df are already defined\n",
    "\n",
    "# Add 'functional_group' to X\n",
    "X['functional_group'] = df['functional_group']\n",
    "\n",
    "# Add 'stable' to X\n",
    "#X['stable'] = df['stable']\n",
    "\n",
    "# Specify the test size\n",
    "test_size = 0.1\n",
    "\n",
    "best_r2_score = -float('inf')\n",
    "best_seed = None\n",
    "\n",
    "for seed in range(44):\n",
    "    # Split the data into train and test sets with different random seed\n",
    "    X_train, X_test, y_train, y_test = train_test_split(X, y, test_size=test_size, random_state=seed) # stratify=X['stable'])\n",
    "\n",
    "    # Extract and drop the 'functional_group' and 'stable' columns\n",
    "    train_formula = X_train[['functional_group']]\n",
    "    X_train = X_train.drop(['functional_group'], axis=1)\n",
    "    test_formula = X_test[['functional_group']]\n",
    "    X_test = X_test.drop(['functional_group'], axis=1)\n",
    "\n",
    "    # Create an XGBoost regressor\n",
    "    xgb_reg2 = XGBRegressor(n_estimators=200, random_state=9, learning_rate=0.1)\n",
    "    xgb_reg2.fit(X_train, y_train)\n",
    "\n",
    "    # Get test R2 score\n",
    "    test_r2 = xgb_reg2.score(X_test, y_test)\n",
    "    \n",
    "    # Update best score and seed if current score is better\n",
    "    if test_r2 > best_r2_score:\n",
    "        best_r2_score = test_r2\n",
    "        best_seed = seed\n",
    "\n",
    "# Print the best result\n",
    "print('Best Random Seed:', best_seed)\n",
    "print('Best Test R2 Score:', best_r2_score)\n"
   ]
  },
  {
   "cell_type": "markdown",
   "metadata": {},
   "source": [
    "### Parity plot for energy above hull - actual vs predicted values"
   ]
  },
  {
   "cell_type": "code",
   "execution_count": 168,
   "metadata": {},
   "outputs": [
    {
     "data": {
      "application/vnd.plotly.v1+json": {
       "config": {
        "plotlyServerURL": "https://plot.ly",
        "toImageButtonOptions": {
         "filename": "custom_image",
         "format": "png",
         "height": 500,
         "scale": 6,
         "width": 700
        }
       },
       "data": [
        {
         "marker": {
          "color": "royalblue",
          "size": 6
         },
         "mode": "markers",
         "name": "Test Set",
         "type": "scatter",
         "x": [
          0.223210890515624,
          1.269363663750003,
          1.281076928000001,
          0.138283485499998,
          2.384534593999997,
          0.15469134249999902,
          0.13538093050000602,
          0.21939067066667503,
          0.14793925999999902,
          0.202072153083333,
          1.440953976666667,
          1.041779087499998,
          0.039531442300000004,
          0.084436082099998,
          0.096758141999999,
          1.099326468499999,
          0.23952713999999603,
          0.17868157816666702,
          0.45486851850000004,
          0.11649276149999901,
          0.218227807500002,
          1.859307188833335,
          0.1337909583,
          0.45534745883333305,
          0.17483387575,
          0.06643360741667101,
          0.139295424000001,
          0.44981173550000103,
          0.592125722999997,
          1.387601104599997,
          0.579487932749999,
          0.9547787934999971,
          0.35785357899999604,
          0.8062675099999971,
          0.42996773000000205,
          0.13354825753125002,
          0.14808690703124802,
          0.17321994603124902,
          0.286866792531249,
          0.7032573389499991,
          0.011354316350000001,
          0.34788907950000003,
          0.028643237166666002,
          0.155418551166667,
          0.7399088150312491,
          0.22887271716666502,
          0.25629542574999803,
          0.19467479149999903,
          0.14090270400000002,
          0.13236808926562502,
          0.46954004549999606,
          0.43474298849999704,
          0.1812614885,
          0.773124383499999,
          0.473028800499998,
          0.166966204999998,
          0.11071890003124901,
          0.11283804599999901,
          1.3321439439999971,
          0.09432149449999801,
          0.30173404800000103,
          0.548602262531249,
          0.025980480999999,
          0.48930597000000003,
          0.873508144499997,
          0.1835446735,
          0.18694344450000203,
          0.7282252283571401,
          0.7042632945,
          0.053881714750000004,
          0.803963237132812,
          0.15160044350000002,
          1.1834311303333371,
          0,
          0.243341671,
          0.14844549,
          0.22634498899999703,
          0.234317904500001,
          0.567675564999998,
          0.28622667633333604,
          0.34615530649999904,
          0.376816532437501,
          0.051487548765625,
          0.266166267765624,
          0.37378043649999704,
          0.192190784999999,
          1.460026905833332,
          1.690689323583336,
          0.38680274550000104,
          0.1246928265,
          0.004722128132812,
          0.064912976642856
         ],
         "y": [
          0.18334758281707764,
          1.0553245544433594,
          1.634175419807434,
          0.1565885841846466,
          2.03572416305542,
          0.16211381554603577,
          0.13110466301441193,
          0.1883227676153183,
          0.28448984026908875,
          0.2865210771560669,
          1.3238449096679688,
          0.9887115955352783,
          0.16818101704120636,
          0.12565231323242188,
          0.21573849022388458,
          0.8619534969329834,
          0.24703118205070496,
          0.23315297067165375,
          0.4028754234313965,
          0.23472774028778076,
          0.20656879246234894,
          1.649275302886963,
          0.09452304989099503,
          0.5050525069236755,
          0.27850523591041565,
          0.13349662721157074,
          0.2948584258556366,
          0.3235859274864197,
          0.618743896484375,
          1.3311675786972046,
          0.5254755616188049,
          1.0384107828140259,
          0.38953298330307007,
          0.6847378611564636,
          0.39373311400413513,
          0.1638399213552475,
          0.08861611038446426,
          0.13846035301685333,
          0.5894259214401245,
          0.861993670463562,
          0.08587323874235153,
          0.27544671297073364,
          0.22725725173950195,
          0.22225099802017212,
          0.8186535835266113,
          0.21566173434257507,
          0.2665663957595825,
          0.08087828755378723,
          0.129247784614563,
          0.2268906682729721,
          0.3273402154445648,
          0.3184857666492462,
          0.24560648202896118,
          0.7535910606384277,
          0.47338998317718506,
          0.09360478818416595,
          0.039840131998062134,
          0.15758216381072998,
          1.4074089527130127,
          0.06579961627721786,
          0.2871584892272949,
          0.5639560222625732,
          0.09001689404249191,
          0.6669453978538513,
          0.891788125038147,
          0.1814226359128952,
          0.19260191917419434,
          0.8553401827812195,
          0.7808056473731995,
          0.12259401381015778,
          0.7008922696113586,
          0.18725551664829254,
          1.293483018875122,
          0.039139602333307266,
          0.1561724990606308,
          0.1800825446844101,
          0.24830259382724762,
          0.2544595003128052,
          0.498338907957077,
          0.3621133863925934,
          0.380741149187088,
          0.3068578541278839,
          0.10913348942995071,
          0.2213175743818283,
          0.5086657404899597,
          0.22366012632846832,
          1.3028203248977661,
          1.5729562044143677,
          0.2371545433998108,
          0.15593601763248444,
          0.04811618849635124,
          0.046358294785022736
         ]
        },
        {
         "line": {
          "color": "red",
          "dash": "dash",
          "width": 1.5
         },
         "mode": "lines",
         "name": "Ideal Prediction",
         "type": "scatter",
         "x": [
          0,
          2.384534593999997
         ],
         "y": [
          0,
          2.384534593999997
         ]
        },
        {
         "marker": {
          "color": "green",
          "size": 10
         },
         "mode": "markers",
         "name": "PBE direct",
         "type": "scatter",
         "x": [],
         "y": []
        },
        {
         "marker": {
          "color": "black",
          "size": 10
         },
         "mode": "markers",
         "name": "PBE indirect",
         "type": "scatter",
         "x": [],
         "y": []
        }
       ],
       "layout": {
        "font": {
         "color": "black",
         "family": "Courier New"
        },
        "height": 800,
        "legend": {
         "title": {
          "font": {
           "color": "green"
          }
         }
        },
        "showlegend": false,
        "template": {
         "data": {
          "bar": [
           {
            "error_x": {
             "color": "rgb(36,36,36)"
            },
            "error_y": {
             "color": "rgb(36,36,36)"
            },
            "marker": {
             "line": {
              "color": "white",
              "width": 0.5
             },
             "pattern": {
              "fillmode": "overlay",
              "size": 10,
              "solidity": 0.2
             }
            },
            "type": "bar"
           }
          ],
          "barpolar": [
           {
            "marker": {
             "line": {
              "color": "white",
              "width": 0.5
             },
             "pattern": {
              "fillmode": "overlay",
              "size": 10,
              "solidity": 0.2
             }
            },
            "type": "barpolar"
           }
          ],
          "carpet": [
           {
            "aaxis": {
             "endlinecolor": "rgb(36,36,36)",
             "gridcolor": "white",
             "linecolor": "white",
             "minorgridcolor": "white",
             "startlinecolor": "rgb(36,36,36)"
            },
            "baxis": {
             "endlinecolor": "rgb(36,36,36)",
             "gridcolor": "white",
             "linecolor": "white",
             "minorgridcolor": "white",
             "startlinecolor": "rgb(36,36,36)"
            },
            "type": "carpet"
           }
          ],
          "choropleth": [
           {
            "colorbar": {
             "outlinewidth": 1,
             "tickcolor": "rgb(36,36,36)",
             "ticks": "outside"
            },
            "type": "choropleth"
           }
          ],
          "contour": [
           {
            "colorbar": {
             "outlinewidth": 1,
             "tickcolor": "rgb(36,36,36)",
             "ticks": "outside"
            },
            "colorscale": [
             [
              0,
              "#440154"
             ],
             [
              0.1111111111111111,
              "#482878"
             ],
             [
              0.2222222222222222,
              "#3e4989"
             ],
             [
              0.3333333333333333,
              "#31688e"
             ],
             [
              0.4444444444444444,
              "#26828e"
             ],
             [
              0.5555555555555556,
              "#1f9e89"
             ],
             [
              0.6666666666666666,
              "#35b779"
             ],
             [
              0.7777777777777778,
              "#6ece58"
             ],
             [
              0.8888888888888888,
              "#b5de2b"
             ],
             [
              1,
              "#fde725"
             ]
            ],
            "type": "contour"
           }
          ],
          "contourcarpet": [
           {
            "colorbar": {
             "outlinewidth": 1,
             "tickcolor": "rgb(36,36,36)",
             "ticks": "outside"
            },
            "type": "contourcarpet"
           }
          ],
          "heatmap": [
           {
            "colorbar": {
             "outlinewidth": 1,
             "tickcolor": "rgb(36,36,36)",
             "ticks": "outside"
            },
            "colorscale": [
             [
              0,
              "#440154"
             ],
             [
              0.1111111111111111,
              "#482878"
             ],
             [
              0.2222222222222222,
              "#3e4989"
             ],
             [
              0.3333333333333333,
              "#31688e"
             ],
             [
              0.4444444444444444,
              "#26828e"
             ],
             [
              0.5555555555555556,
              "#1f9e89"
             ],
             [
              0.6666666666666666,
              "#35b779"
             ],
             [
              0.7777777777777778,
              "#6ece58"
             ],
             [
              0.8888888888888888,
              "#b5de2b"
             ],
             [
              1,
              "#fde725"
             ]
            ],
            "type": "heatmap"
           }
          ],
          "heatmapgl": [
           {
            "colorbar": {
             "outlinewidth": 1,
             "tickcolor": "rgb(36,36,36)",
             "ticks": "outside"
            },
            "colorscale": [
             [
              0,
              "#440154"
             ],
             [
              0.1111111111111111,
              "#482878"
             ],
             [
              0.2222222222222222,
              "#3e4989"
             ],
             [
              0.3333333333333333,
              "#31688e"
             ],
             [
              0.4444444444444444,
              "#26828e"
             ],
             [
              0.5555555555555556,
              "#1f9e89"
             ],
             [
              0.6666666666666666,
              "#35b779"
             ],
             [
              0.7777777777777778,
              "#6ece58"
             ],
             [
              0.8888888888888888,
              "#b5de2b"
             ],
             [
              1,
              "#fde725"
             ]
            ],
            "type": "heatmapgl"
           }
          ],
          "histogram": [
           {
            "marker": {
             "line": {
              "color": "white",
              "width": 0.6
             }
            },
            "type": "histogram"
           }
          ],
          "histogram2d": [
           {
            "colorbar": {
             "outlinewidth": 1,
             "tickcolor": "rgb(36,36,36)",
             "ticks": "outside"
            },
            "colorscale": [
             [
              0,
              "#440154"
             ],
             [
              0.1111111111111111,
              "#482878"
             ],
             [
              0.2222222222222222,
              "#3e4989"
             ],
             [
              0.3333333333333333,
              "#31688e"
             ],
             [
              0.4444444444444444,
              "#26828e"
             ],
             [
              0.5555555555555556,
              "#1f9e89"
             ],
             [
              0.6666666666666666,
              "#35b779"
             ],
             [
              0.7777777777777778,
              "#6ece58"
             ],
             [
              0.8888888888888888,
              "#b5de2b"
             ],
             [
              1,
              "#fde725"
             ]
            ],
            "type": "histogram2d"
           }
          ],
          "histogram2dcontour": [
           {
            "colorbar": {
             "outlinewidth": 1,
             "tickcolor": "rgb(36,36,36)",
             "ticks": "outside"
            },
            "colorscale": [
             [
              0,
              "#440154"
             ],
             [
              0.1111111111111111,
              "#482878"
             ],
             [
              0.2222222222222222,
              "#3e4989"
             ],
             [
              0.3333333333333333,
              "#31688e"
             ],
             [
              0.4444444444444444,
              "#26828e"
             ],
             [
              0.5555555555555556,
              "#1f9e89"
             ],
             [
              0.6666666666666666,
              "#35b779"
             ],
             [
              0.7777777777777778,
              "#6ece58"
             ],
             [
              0.8888888888888888,
              "#b5de2b"
             ],
             [
              1,
              "#fde725"
             ]
            ],
            "type": "histogram2dcontour"
           }
          ],
          "mesh3d": [
           {
            "colorbar": {
             "outlinewidth": 1,
             "tickcolor": "rgb(36,36,36)",
             "ticks": "outside"
            },
            "type": "mesh3d"
           }
          ],
          "parcoords": [
           {
            "line": {
             "colorbar": {
              "outlinewidth": 1,
              "tickcolor": "rgb(36,36,36)",
              "ticks": "outside"
             }
            },
            "type": "parcoords"
           }
          ],
          "pie": [
           {
            "automargin": true,
            "type": "pie"
           }
          ],
          "scatter": [
           {
            "fillpattern": {
             "fillmode": "overlay",
             "size": 10,
             "solidity": 0.2
            },
            "type": "scatter"
           }
          ],
          "scatter3d": [
           {
            "line": {
             "colorbar": {
              "outlinewidth": 1,
              "tickcolor": "rgb(36,36,36)",
              "ticks": "outside"
             }
            },
            "marker": {
             "colorbar": {
              "outlinewidth": 1,
              "tickcolor": "rgb(36,36,36)",
              "ticks": "outside"
             }
            },
            "type": "scatter3d"
           }
          ],
          "scattercarpet": [
           {
            "marker": {
             "colorbar": {
              "outlinewidth": 1,
              "tickcolor": "rgb(36,36,36)",
              "ticks": "outside"
             }
            },
            "type": "scattercarpet"
           }
          ],
          "scattergeo": [
           {
            "marker": {
             "colorbar": {
              "outlinewidth": 1,
              "tickcolor": "rgb(36,36,36)",
              "ticks": "outside"
             }
            },
            "type": "scattergeo"
           }
          ],
          "scattergl": [
           {
            "marker": {
             "colorbar": {
              "outlinewidth": 1,
              "tickcolor": "rgb(36,36,36)",
              "ticks": "outside"
             }
            },
            "type": "scattergl"
           }
          ],
          "scattermapbox": [
           {
            "marker": {
             "colorbar": {
              "outlinewidth": 1,
              "tickcolor": "rgb(36,36,36)",
              "ticks": "outside"
             }
            },
            "type": "scattermapbox"
           }
          ],
          "scatterpolar": [
           {
            "marker": {
             "colorbar": {
              "outlinewidth": 1,
              "tickcolor": "rgb(36,36,36)",
              "ticks": "outside"
             }
            },
            "type": "scatterpolar"
           }
          ],
          "scatterpolargl": [
           {
            "marker": {
             "colorbar": {
              "outlinewidth": 1,
              "tickcolor": "rgb(36,36,36)",
              "ticks": "outside"
             }
            },
            "type": "scatterpolargl"
           }
          ],
          "scatterternary": [
           {
            "marker": {
             "colorbar": {
              "outlinewidth": 1,
              "tickcolor": "rgb(36,36,36)",
              "ticks": "outside"
             }
            },
            "type": "scatterternary"
           }
          ],
          "surface": [
           {
            "colorbar": {
             "outlinewidth": 1,
             "tickcolor": "rgb(36,36,36)",
             "ticks": "outside"
            },
            "colorscale": [
             [
              0,
              "#440154"
             ],
             [
              0.1111111111111111,
              "#482878"
             ],
             [
              0.2222222222222222,
              "#3e4989"
             ],
             [
              0.3333333333333333,
              "#31688e"
             ],
             [
              0.4444444444444444,
              "#26828e"
             ],
             [
              0.5555555555555556,
              "#1f9e89"
             ],
             [
              0.6666666666666666,
              "#35b779"
             ],
             [
              0.7777777777777778,
              "#6ece58"
             ],
             [
              0.8888888888888888,
              "#b5de2b"
             ],
             [
              1,
              "#fde725"
             ]
            ],
            "type": "surface"
           }
          ],
          "table": [
           {
            "cells": {
             "fill": {
              "color": "rgb(237,237,237)"
             },
             "line": {
              "color": "white"
             }
            },
            "header": {
             "fill": {
              "color": "rgb(217,217,217)"
             },
             "line": {
              "color": "white"
             }
            },
            "type": "table"
           }
          ]
         },
         "layout": {
          "annotationdefaults": {
           "arrowhead": 0,
           "arrowwidth": 1
          },
          "autotypenumbers": "strict",
          "coloraxis": {
           "colorbar": {
            "outlinewidth": 1,
            "tickcolor": "rgb(36,36,36)",
            "ticks": "outside"
           }
          },
          "colorscale": {
           "diverging": [
            [
             0,
             "rgb(103,0,31)"
            ],
            [
             0.1,
             "rgb(178,24,43)"
            ],
            [
             0.2,
             "rgb(214,96,77)"
            ],
            [
             0.3,
             "rgb(244,165,130)"
            ],
            [
             0.4,
             "rgb(253,219,199)"
            ],
            [
             0.5,
             "rgb(247,247,247)"
            ],
            [
             0.6,
             "rgb(209,229,240)"
            ],
            [
             0.7,
             "rgb(146,197,222)"
            ],
            [
             0.8,
             "rgb(67,147,195)"
            ],
            [
             0.9,
             "rgb(33,102,172)"
            ],
            [
             1,
             "rgb(5,48,97)"
            ]
           ],
           "sequential": [
            [
             0,
             "#440154"
            ],
            [
             0.1111111111111111,
             "#482878"
            ],
            [
             0.2222222222222222,
             "#3e4989"
            ],
            [
             0.3333333333333333,
             "#31688e"
            ],
            [
             0.4444444444444444,
             "#26828e"
            ],
            [
             0.5555555555555556,
             "#1f9e89"
            ],
            [
             0.6666666666666666,
             "#35b779"
            ],
            [
             0.7777777777777778,
             "#6ece58"
            ],
            [
             0.8888888888888888,
             "#b5de2b"
            ],
            [
             1,
             "#fde725"
            ]
           ],
           "sequentialminus": [
            [
             0,
             "#440154"
            ],
            [
             0.1111111111111111,
             "#482878"
            ],
            [
             0.2222222222222222,
             "#3e4989"
            ],
            [
             0.3333333333333333,
             "#31688e"
            ],
            [
             0.4444444444444444,
             "#26828e"
            ],
            [
             0.5555555555555556,
             "#1f9e89"
            ],
            [
             0.6666666666666666,
             "#35b779"
            ],
            [
             0.7777777777777778,
             "#6ece58"
            ],
            [
             0.8888888888888888,
             "#b5de2b"
            ],
            [
             1,
             "#fde725"
            ]
           ]
          },
          "colorway": [
           "#1F77B4",
           "#FF7F0E",
           "#2CA02C",
           "#D62728",
           "#9467BD",
           "#8C564B",
           "#E377C2",
           "#7F7F7F",
           "#BCBD22",
           "#17BECF"
          ],
          "font": {
           "color": "rgb(36,36,36)"
          },
          "geo": {
           "bgcolor": "white",
           "lakecolor": "white",
           "landcolor": "white",
           "showlakes": true,
           "showland": true,
           "subunitcolor": "white"
          },
          "hoverlabel": {
           "align": "left"
          },
          "hovermode": "closest",
          "mapbox": {
           "style": "light"
          },
          "paper_bgcolor": "white",
          "plot_bgcolor": "white",
          "polar": {
           "angularaxis": {
            "gridcolor": "rgb(232,232,232)",
            "linecolor": "rgb(36,36,36)",
            "showgrid": false,
            "showline": true,
            "ticks": "outside"
           },
           "bgcolor": "white",
           "radialaxis": {
            "gridcolor": "rgb(232,232,232)",
            "linecolor": "rgb(36,36,36)",
            "showgrid": false,
            "showline": true,
            "ticks": "outside"
           }
          },
          "scene": {
           "xaxis": {
            "backgroundcolor": "white",
            "gridcolor": "rgb(232,232,232)",
            "gridwidth": 2,
            "linecolor": "rgb(36,36,36)",
            "showbackground": true,
            "showgrid": false,
            "showline": true,
            "ticks": "outside",
            "zeroline": false,
            "zerolinecolor": "rgb(36,36,36)"
           },
           "yaxis": {
            "backgroundcolor": "white",
            "gridcolor": "rgb(232,232,232)",
            "gridwidth": 2,
            "linecolor": "rgb(36,36,36)",
            "showbackground": true,
            "showgrid": false,
            "showline": true,
            "ticks": "outside",
            "zeroline": false,
            "zerolinecolor": "rgb(36,36,36)"
           },
           "zaxis": {
            "backgroundcolor": "white",
            "gridcolor": "rgb(232,232,232)",
            "gridwidth": 2,
            "linecolor": "rgb(36,36,36)",
            "showbackground": true,
            "showgrid": false,
            "showline": true,
            "ticks": "outside",
            "zeroline": false,
            "zerolinecolor": "rgb(36,36,36)"
           }
          },
          "shapedefaults": {
           "fillcolor": "black",
           "line": {
            "width": 0
           },
           "opacity": 0.3
          },
          "ternary": {
           "aaxis": {
            "gridcolor": "rgb(232,232,232)",
            "linecolor": "rgb(36,36,36)",
            "showgrid": false,
            "showline": true,
            "ticks": "outside"
           },
           "baxis": {
            "gridcolor": "rgb(232,232,232)",
            "linecolor": "rgb(36,36,36)",
            "showgrid": false,
            "showline": true,
            "ticks": "outside"
           },
           "bgcolor": "white",
           "caxis": {
            "gridcolor": "rgb(232,232,232)",
            "linecolor": "rgb(36,36,36)",
            "showgrid": false,
            "showline": true,
            "ticks": "outside"
           }
          },
          "title": {
           "x": 0.05
          },
          "xaxis": {
           "automargin": true,
           "gridcolor": "rgb(232,232,232)",
           "linecolor": "rgb(36,36,36)",
           "showgrid": false,
           "showline": true,
           "ticks": "outside",
           "title": {
            "standoff": 15
           },
           "zeroline": false,
           "zerolinecolor": "rgb(36,36,36)"
          },
          "yaxis": {
           "automargin": true,
           "gridcolor": "rgb(232,232,232)",
           "linecolor": "rgb(36,36,36)",
           "showgrid": false,
           "showline": true,
           "ticks": "outside",
           "title": {
            "standoff": 15
           },
           "zeroline": false,
           "zerolinecolor": "rgb(36,36,36)"
          }
         }
        },
        "title": {
         "font": {
          "color": "black",
          "family": "Arial",
          "size": 24
         },
         "text": "Parity plot for energy above hull - actual vs predicted values",
         "x": 0.5
        },
        "width": 1000,
        "xaxis": {
         "title": {
          "font": {
           "family": "arial",
           "size": 16
          },
          "text": "Actual Values"
         }
        },
        "yaxis": {
         "title": {
          "font": {
           "family": "arial",
           "size": 16
          },
          "text": "Predicted Values"
         }
        }
       }
      }
     },
     "metadata": {},
     "output_type": "display_data"
    }
   ],
   "source": [
    "import plotly.graph_objects as go\n",
    "\n",
    "# Predict on training and test sets\n",
    "y_train_pred = xgb_reg2.predict(X_train)\n",
    "y_test_pred = xgb_reg2.predict(X_test)\n",
    "\n",
    "\n",
    "# Create a parity plot for test set\n",
    "test_set_df_ = pd.DataFrame({'y_test': y_test, 'y_test_pred': y_test_pred})\n",
    "\n",
    "# Merge the DataFrame with the main DataFrame 'df' to get 'hse_direct' values\n",
    "test_set_df_ = pd.merge(test_set_df_, df[['PBE_direct']], left_index=True, right_index=True, how='left')\n",
    "\n",
    "parity_test_fig = go.Figure()\n",
    "\n",
    "# Create a color list based on pbe_direct values\n",
    "colors = \"royalblue\"\n",
    "\n",
    "parity_test_fig.add_trace(go.Scatter(\n",
    "    x=test_set_df_['y_test'],\n",
    "    y=test_set_df_['y_test_pred'],\n",
    "    mode='markers',\n",
    "    name='Test Set',\n",
    "    marker=dict(size=6, color=colors)\n",
    "))\n",
    "\n",
    "parity_test_fig.add_trace(go.Scatter(\n",
    "    x=[min(test_set_df_['y_test']), max(test_set_df_['y_test'])],\n",
    "    y=[min(test_set_df_['y_test']), max(test_set_df_['y_test'])],\n",
    "    mode='lines',\n",
    "    name='Ideal Prediction',\n",
    "    line=dict(dash='dash', color='red', width=1.5)\n",
    "))\n",
    "\n",
    "# Add custom legend entry\n",
    "parity_test_fig.add_trace(go.Scatter(\n",
    "    x=[],\n",
    "    y=[],\n",
    "    mode='markers',\n",
    "    marker=dict(size=10, color='green'),\n",
    "    name='PBE direct'\n",
    "))\n",
    "\n",
    "parity_test_fig.add_trace(go.Scatter(\n",
    "    x=[],\n",
    "    y=[],\n",
    "    mode='markers',\n",
    "    marker=dict(size=10, color='black'),\n",
    "    name='PBE indirect'\n",
    "))\n",
    "\n",
    "parity_test_fig.update_layout(\n",
    "    template='simple_white',  # set template to white background\n",
    "    title='Parity plot for energy above hull - actual vs predicted values',\n",
    "    xaxis_title='Actual Values',\n",
    "    yaxis_title='Predicted Values',\n",
    "    font_family=\"Courier New\",\n",
    "    font_color=\"black\",\n",
    "    title_font_family=\"Arial\",\n",
    "    title_font_color=\"black\",\n",
    "    title_x = 0.5,\n",
    "    title_font_size = 24,\n",
    "    legend_title_font_color=\"green\",\n",
    "    xaxis_title_font_family = \"arial\",\n",
    "    yaxis_title_font_family = \"arial\",\n",
    "    yaxis_title_font_size = 16,\n",
    "    xaxis_title_font_size = 16,\n",
    "    showlegend=False,  # hide legend\n",
    "    width=1000,  # Set the width of the plot\n",
    "    height=800,\n",
    ")\n",
    "\n",
    "textt = \"Black points represent PBE bandgap is indirect<br>Green points represent PBE bandgap is direct\"\n",
    "\n",
    "#fig.update_xaxes(title_font_family=\"Arial\",tickfont=dict(color='black'))\n",
    "#fig.update_yaxes(title_font_family=\"Arial\",tickfont=dict(color='black'))\n",
    "\n",
    "config = {\n",
    "    'toImageButtonOptions': {\n",
    "        'format': 'png',  # one of png, svg, jpeg, webp\n",
    "        'filename': 'custom_image',\n",
    "        'height': 500,\n",
    "        'width': 700,\n",
    "        'scale': 6  # Multiply title/legend/axis/canvas sizes by this factor\n",
    "    }\n",
    "}\n",
    "\n",
    "parity_test_fig.show(config=config)\n",
    "\n",
    "\n",
    "\n"
   ]
  },
  {
   "cell_type": "markdown",
   "metadata": {},
   "source": [
    "### Feature importances for energy above hull prediction model"
   ]
  },
  {
   "cell_type": "code",
   "execution_count": 174,
   "metadata": {},
   "outputs": [
    {
     "data": {
      "application/vnd.plotly.v1+json": {
       "config": {
        "plotlyServerURL": "https://plot.ly",
        "toImageButtonOptions": {
         "filename": "custom_image",
         "format": "png",
         "height": 500,
         "scale": 6,
         "width": 700
        }
       },
       "data": [
        {
         "marker": {
          "color": "royalblue"
         },
         "type": "bar",
         "x": [
          "B_IR",
          "total_energy",
          "a",
          "efermi",
          "A_HOMO",
          "A_LUMO",
          "A_OS",
          "A_IE",
          "A_IR",
          "volume"
         ],
         "y": [
          0.7569875717163086,
          0.24004966020584106,
          0.0010361174354329705,
          0.00031845891498960555,
          0.00031150522409006953,
          0.00028376036789268255,
          0.0001998735824599862,
          0.0001256922842003405,
          0.00011806322436314076,
          0.00010993234172929078
         ]
        }
       ],
       "layout": {
        "font": {
         "color": "black",
         "family": "Arial",
         "size": 12
        },
        "height": 800,
        "showlegend": false,
        "template": {
         "data": {
          "bar": [
           {
            "error_x": {
             "color": "#2a3f5f"
            },
            "error_y": {
             "color": "#2a3f5f"
            },
            "marker": {
             "line": {
              "color": "#E5ECF6",
              "width": 0.5
             },
             "pattern": {
              "fillmode": "overlay",
              "size": 10,
              "solidity": 0.2
             }
            },
            "type": "bar"
           }
          ],
          "barpolar": [
           {
            "marker": {
             "line": {
              "color": "#E5ECF6",
              "width": 0.5
             },
             "pattern": {
              "fillmode": "overlay",
              "size": 10,
              "solidity": 0.2
             }
            },
            "type": "barpolar"
           }
          ],
          "carpet": [
           {
            "aaxis": {
             "endlinecolor": "#2a3f5f",
             "gridcolor": "white",
             "linecolor": "white",
             "minorgridcolor": "white",
             "startlinecolor": "#2a3f5f"
            },
            "baxis": {
             "endlinecolor": "#2a3f5f",
             "gridcolor": "white",
             "linecolor": "white",
             "minorgridcolor": "white",
             "startlinecolor": "#2a3f5f"
            },
            "type": "carpet"
           }
          ],
          "choropleth": [
           {
            "colorbar": {
             "outlinewidth": 0,
             "ticks": ""
            },
            "type": "choropleth"
           }
          ],
          "contour": [
           {
            "colorbar": {
             "outlinewidth": 0,
             "ticks": ""
            },
            "colorscale": [
             [
              0,
              "#0d0887"
             ],
             [
              0.1111111111111111,
              "#46039f"
             ],
             [
              0.2222222222222222,
              "#7201a8"
             ],
             [
              0.3333333333333333,
              "#9c179e"
             ],
             [
              0.4444444444444444,
              "#bd3786"
             ],
             [
              0.5555555555555556,
              "#d8576b"
             ],
             [
              0.6666666666666666,
              "#ed7953"
             ],
             [
              0.7777777777777778,
              "#fb9f3a"
             ],
             [
              0.8888888888888888,
              "#fdca26"
             ],
             [
              1,
              "#f0f921"
             ]
            ],
            "type": "contour"
           }
          ],
          "contourcarpet": [
           {
            "colorbar": {
             "outlinewidth": 0,
             "ticks": ""
            },
            "type": "contourcarpet"
           }
          ],
          "heatmap": [
           {
            "colorbar": {
             "outlinewidth": 0,
             "ticks": ""
            },
            "colorscale": [
             [
              0,
              "#0d0887"
             ],
             [
              0.1111111111111111,
              "#46039f"
             ],
             [
              0.2222222222222222,
              "#7201a8"
             ],
             [
              0.3333333333333333,
              "#9c179e"
             ],
             [
              0.4444444444444444,
              "#bd3786"
             ],
             [
              0.5555555555555556,
              "#d8576b"
             ],
             [
              0.6666666666666666,
              "#ed7953"
             ],
             [
              0.7777777777777778,
              "#fb9f3a"
             ],
             [
              0.8888888888888888,
              "#fdca26"
             ],
             [
              1,
              "#f0f921"
             ]
            ],
            "type": "heatmap"
           }
          ],
          "heatmapgl": [
           {
            "colorbar": {
             "outlinewidth": 0,
             "ticks": ""
            },
            "colorscale": [
             [
              0,
              "#0d0887"
             ],
             [
              0.1111111111111111,
              "#46039f"
             ],
             [
              0.2222222222222222,
              "#7201a8"
             ],
             [
              0.3333333333333333,
              "#9c179e"
             ],
             [
              0.4444444444444444,
              "#bd3786"
             ],
             [
              0.5555555555555556,
              "#d8576b"
             ],
             [
              0.6666666666666666,
              "#ed7953"
             ],
             [
              0.7777777777777778,
              "#fb9f3a"
             ],
             [
              0.8888888888888888,
              "#fdca26"
             ],
             [
              1,
              "#f0f921"
             ]
            ],
            "type": "heatmapgl"
           }
          ],
          "histogram": [
           {
            "marker": {
             "pattern": {
              "fillmode": "overlay",
              "size": 10,
              "solidity": 0.2
             }
            },
            "type": "histogram"
           }
          ],
          "histogram2d": [
           {
            "colorbar": {
             "outlinewidth": 0,
             "ticks": ""
            },
            "colorscale": [
             [
              0,
              "#0d0887"
             ],
             [
              0.1111111111111111,
              "#46039f"
             ],
             [
              0.2222222222222222,
              "#7201a8"
             ],
             [
              0.3333333333333333,
              "#9c179e"
             ],
             [
              0.4444444444444444,
              "#bd3786"
             ],
             [
              0.5555555555555556,
              "#d8576b"
             ],
             [
              0.6666666666666666,
              "#ed7953"
             ],
             [
              0.7777777777777778,
              "#fb9f3a"
             ],
             [
              0.8888888888888888,
              "#fdca26"
             ],
             [
              1,
              "#f0f921"
             ]
            ],
            "type": "histogram2d"
           }
          ],
          "histogram2dcontour": [
           {
            "colorbar": {
             "outlinewidth": 0,
             "ticks": ""
            },
            "colorscale": [
             [
              0,
              "#0d0887"
             ],
             [
              0.1111111111111111,
              "#46039f"
             ],
             [
              0.2222222222222222,
              "#7201a8"
             ],
             [
              0.3333333333333333,
              "#9c179e"
             ],
             [
              0.4444444444444444,
              "#bd3786"
             ],
             [
              0.5555555555555556,
              "#d8576b"
             ],
             [
              0.6666666666666666,
              "#ed7953"
             ],
             [
              0.7777777777777778,
              "#fb9f3a"
             ],
             [
              0.8888888888888888,
              "#fdca26"
             ],
             [
              1,
              "#f0f921"
             ]
            ],
            "type": "histogram2dcontour"
           }
          ],
          "mesh3d": [
           {
            "colorbar": {
             "outlinewidth": 0,
             "ticks": ""
            },
            "type": "mesh3d"
           }
          ],
          "parcoords": [
           {
            "line": {
             "colorbar": {
              "outlinewidth": 0,
              "ticks": ""
             }
            },
            "type": "parcoords"
           }
          ],
          "pie": [
           {
            "automargin": true,
            "type": "pie"
           }
          ],
          "scatter": [
           {
            "fillpattern": {
             "fillmode": "overlay",
             "size": 10,
             "solidity": 0.2
            },
            "type": "scatter"
           }
          ],
          "scatter3d": [
           {
            "line": {
             "colorbar": {
              "outlinewidth": 0,
              "ticks": ""
             }
            },
            "marker": {
             "colorbar": {
              "outlinewidth": 0,
              "ticks": ""
             }
            },
            "type": "scatter3d"
           }
          ],
          "scattercarpet": [
           {
            "marker": {
             "colorbar": {
              "outlinewidth": 0,
              "ticks": ""
             }
            },
            "type": "scattercarpet"
           }
          ],
          "scattergeo": [
           {
            "marker": {
             "colorbar": {
              "outlinewidth": 0,
              "ticks": ""
             }
            },
            "type": "scattergeo"
           }
          ],
          "scattergl": [
           {
            "marker": {
             "colorbar": {
              "outlinewidth": 0,
              "ticks": ""
             }
            },
            "type": "scattergl"
           }
          ],
          "scattermapbox": [
           {
            "marker": {
             "colorbar": {
              "outlinewidth": 0,
              "ticks": ""
             }
            },
            "type": "scattermapbox"
           }
          ],
          "scatterpolar": [
           {
            "marker": {
             "colorbar": {
              "outlinewidth": 0,
              "ticks": ""
             }
            },
            "type": "scatterpolar"
           }
          ],
          "scatterpolargl": [
           {
            "marker": {
             "colorbar": {
              "outlinewidth": 0,
              "ticks": ""
             }
            },
            "type": "scatterpolargl"
           }
          ],
          "scatterternary": [
           {
            "marker": {
             "colorbar": {
              "outlinewidth": 0,
              "ticks": ""
             }
            },
            "type": "scatterternary"
           }
          ],
          "surface": [
           {
            "colorbar": {
             "outlinewidth": 0,
             "ticks": ""
            },
            "colorscale": [
             [
              0,
              "#0d0887"
             ],
             [
              0.1111111111111111,
              "#46039f"
             ],
             [
              0.2222222222222222,
              "#7201a8"
             ],
             [
              0.3333333333333333,
              "#9c179e"
             ],
             [
              0.4444444444444444,
              "#bd3786"
             ],
             [
              0.5555555555555556,
              "#d8576b"
             ],
             [
              0.6666666666666666,
              "#ed7953"
             ],
             [
              0.7777777777777778,
              "#fb9f3a"
             ],
             [
              0.8888888888888888,
              "#fdca26"
             ],
             [
              1,
              "#f0f921"
             ]
            ],
            "type": "surface"
           }
          ],
          "table": [
           {
            "cells": {
             "fill": {
              "color": "#EBF0F8"
             },
             "line": {
              "color": "white"
             }
            },
            "header": {
             "fill": {
              "color": "#C8D4E3"
             },
             "line": {
              "color": "white"
             }
            },
            "type": "table"
           }
          ]
         },
         "layout": {
          "annotationdefaults": {
           "arrowcolor": "#2a3f5f",
           "arrowhead": 0,
           "arrowwidth": 1
          },
          "autotypenumbers": "strict",
          "coloraxis": {
           "colorbar": {
            "outlinewidth": 0,
            "ticks": ""
           }
          },
          "colorscale": {
           "diverging": [
            [
             0,
             "#8e0152"
            ],
            [
             0.1,
             "#c51b7d"
            ],
            [
             0.2,
             "#de77ae"
            ],
            [
             0.3,
             "#f1b6da"
            ],
            [
             0.4,
             "#fde0ef"
            ],
            [
             0.5,
             "#f7f7f7"
            ],
            [
             0.6,
             "#e6f5d0"
            ],
            [
             0.7,
             "#b8e186"
            ],
            [
             0.8,
             "#7fbc41"
            ],
            [
             0.9,
             "#4d9221"
            ],
            [
             1,
             "#276419"
            ]
           ],
           "sequential": [
            [
             0,
             "#0d0887"
            ],
            [
             0.1111111111111111,
             "#46039f"
            ],
            [
             0.2222222222222222,
             "#7201a8"
            ],
            [
             0.3333333333333333,
             "#9c179e"
            ],
            [
             0.4444444444444444,
             "#bd3786"
            ],
            [
             0.5555555555555556,
             "#d8576b"
            ],
            [
             0.6666666666666666,
             "#ed7953"
            ],
            [
             0.7777777777777778,
             "#fb9f3a"
            ],
            [
             0.8888888888888888,
             "#fdca26"
            ],
            [
             1,
             "#f0f921"
            ]
           ],
           "sequentialminus": [
            [
             0,
             "#0d0887"
            ],
            [
             0.1111111111111111,
             "#46039f"
            ],
            [
             0.2222222222222222,
             "#7201a8"
            ],
            [
             0.3333333333333333,
             "#9c179e"
            ],
            [
             0.4444444444444444,
             "#bd3786"
            ],
            [
             0.5555555555555556,
             "#d8576b"
            ],
            [
             0.6666666666666666,
             "#ed7953"
            ],
            [
             0.7777777777777778,
             "#fb9f3a"
            ],
            [
             0.8888888888888888,
             "#fdca26"
            ],
            [
             1,
             "#f0f921"
            ]
           ]
          },
          "colorway": [
           "#636efa",
           "#EF553B",
           "#00cc96",
           "#ab63fa",
           "#FFA15A",
           "#19d3f3",
           "#FF6692",
           "#B6E880",
           "#FF97FF",
           "#FECB52"
          ],
          "font": {
           "color": "#2a3f5f"
          },
          "geo": {
           "bgcolor": "white",
           "lakecolor": "white",
           "landcolor": "#E5ECF6",
           "showlakes": true,
           "showland": true,
           "subunitcolor": "white"
          },
          "hoverlabel": {
           "align": "left"
          },
          "hovermode": "closest",
          "mapbox": {
           "style": "light"
          },
          "paper_bgcolor": "white",
          "plot_bgcolor": "#E5ECF6",
          "polar": {
           "angularaxis": {
            "gridcolor": "white",
            "linecolor": "white",
            "ticks": ""
           },
           "bgcolor": "#E5ECF6",
           "radialaxis": {
            "gridcolor": "white",
            "linecolor": "white",
            "ticks": ""
           }
          },
          "scene": {
           "xaxis": {
            "backgroundcolor": "#E5ECF6",
            "gridcolor": "white",
            "gridwidth": 2,
            "linecolor": "white",
            "showbackground": true,
            "ticks": "",
            "zerolinecolor": "white"
           },
           "yaxis": {
            "backgroundcolor": "#E5ECF6",
            "gridcolor": "white",
            "gridwidth": 2,
            "linecolor": "white",
            "showbackground": true,
            "ticks": "",
            "zerolinecolor": "white"
           },
           "zaxis": {
            "backgroundcolor": "#E5ECF6",
            "gridcolor": "white",
            "gridwidth": 2,
            "linecolor": "white",
            "showbackground": true,
            "ticks": "",
            "zerolinecolor": "white"
           }
          },
          "shapedefaults": {
           "line": {
            "color": "#2a3f5f"
           }
          },
          "ternary": {
           "aaxis": {
            "gridcolor": "white",
            "linecolor": "white",
            "ticks": ""
           },
           "baxis": {
            "gridcolor": "white",
            "linecolor": "white",
            "ticks": ""
           },
           "bgcolor": "#E5ECF6",
           "caxis": {
            "gridcolor": "white",
            "linecolor": "white",
            "ticks": ""
           }
          },
          "title": {
           "x": 0.05
          },
          "xaxis": {
           "automargin": true,
           "gridcolor": "white",
           "linecolor": "white",
           "ticks": "",
           "title": {
            "standoff": 15
           },
           "zerolinecolor": "white",
           "zerolinewidth": 2
          },
          "yaxis": {
           "automargin": true,
           "gridcolor": "white",
           "linecolor": "white",
           "ticks": "",
           "title": {
            "standoff": 15
           },
           "zerolinecolor": "white",
           "zerolinewidth": 2
          }
         }
        },
        "title": {
         "text": "Feature importances for energy above hull prediction model",
         "x": 0.5
        },
        "width": 1000,
        "xaxis": {
         "tickangle": 45,
         "tickfont": {
          "size": 12
         },
         "title": {
          "text": "Features"
         }
        },
        "yaxis": {
         "title": {
          "text": "Importance (%)"
         }
        }
       }
      }
     },
     "metadata": {},
     "output_type": "display_data"
    }
   ],
   "source": [
    "import plotly.graph_objects as go\n",
    "\n",
    "feature_importances = xgb_reg2.feature_importances_\n",
    "included = X.columns.values\n",
    "indices = np.argsort(feature_importances)[::-1]\n",
    "\n",
    "fig = go.Figure()\n",
    "\n",
    "fig.add_trace(go.Bar(\n",
    "    x=included[indices][:10],\n",
    "    y=feature_importances[indices][:10],\n",
    "    marker=dict(color='royalblue'),\n",
    "))\n",
    "\n",
    "fig.update_layout(\n",
    "    xaxis=dict(\n",
    "        title='Features',\n",
    "        tickfont=dict(size=12),\n",
    "        tickangle = 45\n",
    "    ),\n",
    "    yaxis_title='Importance (%)',\n",
    "    title='Feature importances for energy above hull prediction model',\n",
    "    font=dict(family=\"Arial\", size=12, color=\"black\"),\n",
    "    width=1000,\n",
    "    height=800,\n",
    "    title_x = 0.5,\n",
    "    showlegend=False,\n",
    ")\n",
    "\n",
    "config = {\n",
    "    'toImageButtonOptions': {\n",
    "        'format': 'png',  # one of png, svg, jpeg, webp\n",
    "        'filename': 'custom_image',\n",
    "        'height': 500,\n",
    "        'width': 700,\n",
    "        'scale': 6  # Multiply title/legend/axis/canvas sizes by this factor\n",
    "    }\n",
    "}\n",
    "\n",
    "fig.show(config=config)\n"
   ]
  },
  {
   "cell_type": "markdown",
   "metadata": {},
   "source": [
    "## Predicting PBE Bandgap direct or indirect using SVM"
   ]
  },
  {
   "cell_type": "code",
   "execution_count": 191,
   "metadata": {},
   "outputs": [
    {
     "name": "stdout",
     "output_type": "stream",
     "text": [
      "Accuracy: 0.9021739130434783\n"
     ]
    }
   ],
   "source": [
    "import pandas as pd\n",
    "from sklearn.model_selection import train_test_split\n",
    "from sklearn.svm import SVC\n",
    "from sklearn.metrics import accuracy_score\n",
    "\n",
    "to_drop = [\"A\", \"B\", \"functional_group\", \"training_type\", \"PBE_direct\", \"stable2\", \"composition\", \"stable\"] #\"stable2\", \"composition\"] #, \"total_energy\"] #, \"stable\"] #, \"volume\", \"c\"]\n",
    "df_pr = df.dropna()\n",
    "\n",
    "X_class = df_pr.drop(to_drop, axis=1)\n",
    "y_class = df_pr['PBE_direct']\n",
    "\n",
    "X_train, X_test, y_train, y_test = train_test_split(X_class, y_class, test_size=0.2, random_state=16)\n",
    "\n",
    "# Initialize the SVM classifier\n",
    "svm_classifier = SVC(kernel='linear')  \n",
    "svm_classifier.fit(X_train, y_train)\n",
    "y_pred = svm_classifier.predict(X_test)\n",
    "\n",
    "# Evaluating the model\n",
    "accuracy = accuracy_score(y_test, y_pred)\n",
    "print(\"Accuracy:\", accuracy)\n"
   ]
  },
  {
   "cell_type": "markdown",
   "metadata": {},
   "source": [
    "### Feature importances for model predicting direct/indirect bandgap"
   ]
  },
  {
   "cell_type": "code",
   "execution_count": 192,
   "metadata": {},
   "outputs": [
    {
     "data": {
      "application/vnd.plotly.v1+json": {
       "config": {
        "plotlyServerURL": "https://plot.ly",
        "toImageButtonOptions": {
         "filename": "custom_image",
         "format": "png",
         "height": 500,
         "scale": 6,
         "width": 700
        }
       },
       "data": [
        {
         "marker": {
          "color": "royalblue"
         },
         "type": "bar",
         "x": [
          "a",
          "B_X",
          "HSE_direct",
          "b",
          "A_X",
          "c",
          "A_Z_radii",
          "e_above_hull",
          "PBE_cbm",
          "B_Z_radii"
         ],
         "y": [
          0.16359345659504354,
          0.12417709554529416,
          0.11602573271788384,
          0.08739433919291481,
          0.07009905205851542,
          0.05768713051492565,
          0.034570250248721346,
          0.033995802716969885,
          0.033616061155314646,
          0.031896801760120774
         ]
        }
       ],
       "layout": {
        "font": {
         "color": "black",
         "family": "Arial",
         "size": 14
        },
        "height": 800,
        "showlegend": false,
        "template": {
         "data": {
          "bar": [
           {
            "error_x": {
             "color": "#2a3f5f"
            },
            "error_y": {
             "color": "#2a3f5f"
            },
            "marker": {
             "line": {
              "color": "#E5ECF6",
              "width": 0.5
             },
             "pattern": {
              "fillmode": "overlay",
              "size": 10,
              "solidity": 0.2
             }
            },
            "type": "bar"
           }
          ],
          "barpolar": [
           {
            "marker": {
             "line": {
              "color": "#E5ECF6",
              "width": 0.5
             },
             "pattern": {
              "fillmode": "overlay",
              "size": 10,
              "solidity": 0.2
             }
            },
            "type": "barpolar"
           }
          ],
          "carpet": [
           {
            "aaxis": {
             "endlinecolor": "#2a3f5f",
             "gridcolor": "white",
             "linecolor": "white",
             "minorgridcolor": "white",
             "startlinecolor": "#2a3f5f"
            },
            "baxis": {
             "endlinecolor": "#2a3f5f",
             "gridcolor": "white",
             "linecolor": "white",
             "minorgridcolor": "white",
             "startlinecolor": "#2a3f5f"
            },
            "type": "carpet"
           }
          ],
          "choropleth": [
           {
            "colorbar": {
             "outlinewidth": 0,
             "ticks": ""
            },
            "type": "choropleth"
           }
          ],
          "contour": [
           {
            "colorbar": {
             "outlinewidth": 0,
             "ticks": ""
            },
            "colorscale": [
             [
              0,
              "#0d0887"
             ],
             [
              0.1111111111111111,
              "#46039f"
             ],
             [
              0.2222222222222222,
              "#7201a8"
             ],
             [
              0.3333333333333333,
              "#9c179e"
             ],
             [
              0.4444444444444444,
              "#bd3786"
             ],
             [
              0.5555555555555556,
              "#d8576b"
             ],
             [
              0.6666666666666666,
              "#ed7953"
             ],
             [
              0.7777777777777778,
              "#fb9f3a"
             ],
             [
              0.8888888888888888,
              "#fdca26"
             ],
             [
              1,
              "#f0f921"
             ]
            ],
            "type": "contour"
           }
          ],
          "contourcarpet": [
           {
            "colorbar": {
             "outlinewidth": 0,
             "ticks": ""
            },
            "type": "contourcarpet"
           }
          ],
          "heatmap": [
           {
            "colorbar": {
             "outlinewidth": 0,
             "ticks": ""
            },
            "colorscale": [
             [
              0,
              "#0d0887"
             ],
             [
              0.1111111111111111,
              "#46039f"
             ],
             [
              0.2222222222222222,
              "#7201a8"
             ],
             [
              0.3333333333333333,
              "#9c179e"
             ],
             [
              0.4444444444444444,
              "#bd3786"
             ],
             [
              0.5555555555555556,
              "#d8576b"
             ],
             [
              0.6666666666666666,
              "#ed7953"
             ],
             [
              0.7777777777777778,
              "#fb9f3a"
             ],
             [
              0.8888888888888888,
              "#fdca26"
             ],
             [
              1,
              "#f0f921"
             ]
            ],
            "type": "heatmap"
           }
          ],
          "heatmapgl": [
           {
            "colorbar": {
             "outlinewidth": 0,
             "ticks": ""
            },
            "colorscale": [
             [
              0,
              "#0d0887"
             ],
             [
              0.1111111111111111,
              "#46039f"
             ],
             [
              0.2222222222222222,
              "#7201a8"
             ],
             [
              0.3333333333333333,
              "#9c179e"
             ],
             [
              0.4444444444444444,
              "#bd3786"
             ],
             [
              0.5555555555555556,
              "#d8576b"
             ],
             [
              0.6666666666666666,
              "#ed7953"
             ],
             [
              0.7777777777777778,
              "#fb9f3a"
             ],
             [
              0.8888888888888888,
              "#fdca26"
             ],
             [
              1,
              "#f0f921"
             ]
            ],
            "type": "heatmapgl"
           }
          ],
          "histogram": [
           {
            "marker": {
             "pattern": {
              "fillmode": "overlay",
              "size": 10,
              "solidity": 0.2
             }
            },
            "type": "histogram"
           }
          ],
          "histogram2d": [
           {
            "colorbar": {
             "outlinewidth": 0,
             "ticks": ""
            },
            "colorscale": [
             [
              0,
              "#0d0887"
             ],
             [
              0.1111111111111111,
              "#46039f"
             ],
             [
              0.2222222222222222,
              "#7201a8"
             ],
             [
              0.3333333333333333,
              "#9c179e"
             ],
             [
              0.4444444444444444,
              "#bd3786"
             ],
             [
              0.5555555555555556,
              "#d8576b"
             ],
             [
              0.6666666666666666,
              "#ed7953"
             ],
             [
              0.7777777777777778,
              "#fb9f3a"
             ],
             [
              0.8888888888888888,
              "#fdca26"
             ],
             [
              1,
              "#f0f921"
             ]
            ],
            "type": "histogram2d"
           }
          ],
          "histogram2dcontour": [
           {
            "colorbar": {
             "outlinewidth": 0,
             "ticks": ""
            },
            "colorscale": [
             [
              0,
              "#0d0887"
             ],
             [
              0.1111111111111111,
              "#46039f"
             ],
             [
              0.2222222222222222,
              "#7201a8"
             ],
             [
              0.3333333333333333,
              "#9c179e"
             ],
             [
              0.4444444444444444,
              "#bd3786"
             ],
             [
              0.5555555555555556,
              "#d8576b"
             ],
             [
              0.6666666666666666,
              "#ed7953"
             ],
             [
              0.7777777777777778,
              "#fb9f3a"
             ],
             [
              0.8888888888888888,
              "#fdca26"
             ],
             [
              1,
              "#f0f921"
             ]
            ],
            "type": "histogram2dcontour"
           }
          ],
          "mesh3d": [
           {
            "colorbar": {
             "outlinewidth": 0,
             "ticks": ""
            },
            "type": "mesh3d"
           }
          ],
          "parcoords": [
           {
            "line": {
             "colorbar": {
              "outlinewidth": 0,
              "ticks": ""
             }
            },
            "type": "parcoords"
           }
          ],
          "pie": [
           {
            "automargin": true,
            "type": "pie"
           }
          ],
          "scatter": [
           {
            "fillpattern": {
             "fillmode": "overlay",
             "size": 10,
             "solidity": 0.2
            },
            "type": "scatter"
           }
          ],
          "scatter3d": [
           {
            "line": {
             "colorbar": {
              "outlinewidth": 0,
              "ticks": ""
             }
            },
            "marker": {
             "colorbar": {
              "outlinewidth": 0,
              "ticks": ""
             }
            },
            "type": "scatter3d"
           }
          ],
          "scattercarpet": [
           {
            "marker": {
             "colorbar": {
              "outlinewidth": 0,
              "ticks": ""
             }
            },
            "type": "scattercarpet"
           }
          ],
          "scattergeo": [
           {
            "marker": {
             "colorbar": {
              "outlinewidth": 0,
              "ticks": ""
             }
            },
            "type": "scattergeo"
           }
          ],
          "scattergl": [
           {
            "marker": {
             "colorbar": {
              "outlinewidth": 0,
              "ticks": ""
             }
            },
            "type": "scattergl"
           }
          ],
          "scattermapbox": [
           {
            "marker": {
             "colorbar": {
              "outlinewidth": 0,
              "ticks": ""
             }
            },
            "type": "scattermapbox"
           }
          ],
          "scatterpolar": [
           {
            "marker": {
             "colorbar": {
              "outlinewidth": 0,
              "ticks": ""
             }
            },
            "type": "scatterpolar"
           }
          ],
          "scatterpolargl": [
           {
            "marker": {
             "colorbar": {
              "outlinewidth": 0,
              "ticks": ""
             }
            },
            "type": "scatterpolargl"
           }
          ],
          "scatterternary": [
           {
            "marker": {
             "colorbar": {
              "outlinewidth": 0,
              "ticks": ""
             }
            },
            "type": "scatterternary"
           }
          ],
          "surface": [
           {
            "colorbar": {
             "outlinewidth": 0,
             "ticks": ""
            },
            "colorscale": [
             [
              0,
              "#0d0887"
             ],
             [
              0.1111111111111111,
              "#46039f"
             ],
             [
              0.2222222222222222,
              "#7201a8"
             ],
             [
              0.3333333333333333,
              "#9c179e"
             ],
             [
              0.4444444444444444,
              "#bd3786"
             ],
             [
              0.5555555555555556,
              "#d8576b"
             ],
             [
              0.6666666666666666,
              "#ed7953"
             ],
             [
              0.7777777777777778,
              "#fb9f3a"
             ],
             [
              0.8888888888888888,
              "#fdca26"
             ],
             [
              1,
              "#f0f921"
             ]
            ],
            "type": "surface"
           }
          ],
          "table": [
           {
            "cells": {
             "fill": {
              "color": "#EBF0F8"
             },
             "line": {
              "color": "white"
             }
            },
            "header": {
             "fill": {
              "color": "#C8D4E3"
             },
             "line": {
              "color": "white"
             }
            },
            "type": "table"
           }
          ]
         },
         "layout": {
          "annotationdefaults": {
           "arrowcolor": "#2a3f5f",
           "arrowhead": 0,
           "arrowwidth": 1
          },
          "autotypenumbers": "strict",
          "coloraxis": {
           "colorbar": {
            "outlinewidth": 0,
            "ticks": ""
           }
          },
          "colorscale": {
           "diverging": [
            [
             0,
             "#8e0152"
            ],
            [
             0.1,
             "#c51b7d"
            ],
            [
             0.2,
             "#de77ae"
            ],
            [
             0.3,
             "#f1b6da"
            ],
            [
             0.4,
             "#fde0ef"
            ],
            [
             0.5,
             "#f7f7f7"
            ],
            [
             0.6,
             "#e6f5d0"
            ],
            [
             0.7,
             "#b8e186"
            ],
            [
             0.8,
             "#7fbc41"
            ],
            [
             0.9,
             "#4d9221"
            ],
            [
             1,
             "#276419"
            ]
           ],
           "sequential": [
            [
             0,
             "#0d0887"
            ],
            [
             0.1111111111111111,
             "#46039f"
            ],
            [
             0.2222222222222222,
             "#7201a8"
            ],
            [
             0.3333333333333333,
             "#9c179e"
            ],
            [
             0.4444444444444444,
             "#bd3786"
            ],
            [
             0.5555555555555556,
             "#d8576b"
            ],
            [
             0.6666666666666666,
             "#ed7953"
            ],
            [
             0.7777777777777778,
             "#fb9f3a"
            ],
            [
             0.8888888888888888,
             "#fdca26"
            ],
            [
             1,
             "#f0f921"
            ]
           ],
           "sequentialminus": [
            [
             0,
             "#0d0887"
            ],
            [
             0.1111111111111111,
             "#46039f"
            ],
            [
             0.2222222222222222,
             "#7201a8"
            ],
            [
             0.3333333333333333,
             "#9c179e"
            ],
            [
             0.4444444444444444,
             "#bd3786"
            ],
            [
             0.5555555555555556,
             "#d8576b"
            ],
            [
             0.6666666666666666,
             "#ed7953"
            ],
            [
             0.7777777777777778,
             "#fb9f3a"
            ],
            [
             0.8888888888888888,
             "#fdca26"
            ],
            [
             1,
             "#f0f921"
            ]
           ]
          },
          "colorway": [
           "#636efa",
           "#EF553B",
           "#00cc96",
           "#ab63fa",
           "#FFA15A",
           "#19d3f3",
           "#FF6692",
           "#B6E880",
           "#FF97FF",
           "#FECB52"
          ],
          "font": {
           "color": "#2a3f5f"
          },
          "geo": {
           "bgcolor": "white",
           "lakecolor": "white",
           "landcolor": "#E5ECF6",
           "showlakes": true,
           "showland": true,
           "subunitcolor": "white"
          },
          "hoverlabel": {
           "align": "left"
          },
          "hovermode": "closest",
          "mapbox": {
           "style": "light"
          },
          "paper_bgcolor": "white",
          "plot_bgcolor": "#E5ECF6",
          "polar": {
           "angularaxis": {
            "gridcolor": "white",
            "linecolor": "white",
            "ticks": ""
           },
           "bgcolor": "#E5ECF6",
           "radialaxis": {
            "gridcolor": "white",
            "linecolor": "white",
            "ticks": ""
           }
          },
          "scene": {
           "xaxis": {
            "backgroundcolor": "#E5ECF6",
            "gridcolor": "white",
            "gridwidth": 2,
            "linecolor": "white",
            "showbackground": true,
            "ticks": "",
            "zerolinecolor": "white"
           },
           "yaxis": {
            "backgroundcolor": "#E5ECF6",
            "gridcolor": "white",
            "gridwidth": 2,
            "linecolor": "white",
            "showbackground": true,
            "ticks": "",
            "zerolinecolor": "white"
           },
           "zaxis": {
            "backgroundcolor": "#E5ECF6",
            "gridcolor": "white",
            "gridwidth": 2,
            "linecolor": "white",
            "showbackground": true,
            "ticks": "",
            "zerolinecolor": "white"
           }
          },
          "shapedefaults": {
           "line": {
            "color": "#2a3f5f"
           }
          },
          "ternary": {
           "aaxis": {
            "gridcolor": "white",
            "linecolor": "white",
            "ticks": ""
           },
           "baxis": {
            "gridcolor": "white",
            "linecolor": "white",
            "ticks": ""
           },
           "bgcolor": "#E5ECF6",
           "caxis": {
            "gridcolor": "white",
            "linecolor": "white",
            "ticks": ""
           }
          },
          "title": {
           "x": 0.05
          },
          "xaxis": {
           "automargin": true,
           "gridcolor": "white",
           "linecolor": "white",
           "ticks": "",
           "title": {
            "standoff": 15
           },
           "zerolinecolor": "white",
           "zerolinewidth": 2
          },
          "yaxis": {
           "automargin": true,
           "gridcolor": "white",
           "linecolor": "white",
           "ticks": "",
           "title": {
            "standoff": 15
           },
           "zerolinecolor": "white",
           "zerolinewidth": 2
          }
         }
        },
        "title": {
         "text": "Feature importances for model predicting PBE direct/indirect bandgap",
         "x": 0.5
        },
        "width": 1000,
        "xaxis": {
         "tickangle": 45,
         "tickfont": {
          "size": 12
         },
         "title": {
          "text": "Features"
         }
        },
        "yaxis": {
         "title": {
          "text": "Importance"
         }
        }
       }
      }
     },
     "metadata": {},
     "output_type": "display_data"
    }
   ],
   "source": [
    "import numpy as np\n",
    "import plotly.graph_objects as go\n",
    "\n",
    "# Assuming svm_classifier is a trained SVM classifier\n",
    "# Assuming X_class is your feature matrix\n",
    "\n",
    "# Get coefficients if SVM is linear\n",
    "if hasattr(svm_classifier, 'coef_'):\n",
    "    feature_importances = np.abs(svm_classifier.coef_.flatten())\n",
    "    included = X_class.columns.values\n",
    "    indices = np.argsort(feature_importances)[::-1]\n",
    "\n",
    "    total_importance = np.sum(feature_importances)\n",
    "    normalized_importances = feature_importances / total_importance\n",
    "    \n",
    "    fig = go.Figure()\n",
    "\n",
    "    fig.add_trace(go.Bar(\n",
    "        x=included[indices][:10],\n",
    "        y=normalized_importances[indices][:10],\n",
    "        marker=dict(color='royalblue'),\n",
    "    ))\n",
    "\n",
    "    fig.update_layout(\n",
    "        xaxis=dict(\n",
    "            title='Features',\n",
    "            tickfont=dict(size=12),\n",
    "            tickangle = 45 \n",
    "        ),\n",
    "        yaxis_title='Importance',\n",
    "        title='Feature importances for model predicting PBE direct/indirect bandgap',\n",
    "        font=dict(family=\"Arial\", size=14, color=\"black\"),\n",
    "        title_x = 0.5,\n",
    "        width=1000,\n",
    "        height=800,\n",
    "        showlegend=False,\n",
    "    )\n",
    "\n",
    "    config = {\n",
    "        'toImageButtonOptions': {\n",
    "            'format': 'png',  # one of png, svg, jpeg, webp\n",
    "            'filename': 'custom_image',\n",
    "            'height': 500,\n",
    "            'width': 700,\n",
    "            'scale': 6  # Multiply title/legend/axis/canvas sizes by this factor\n",
    "        }\n",
    "    }\n",
    "\n",
    "    fig.show(config=config)\n",
    "\n",
    "else:\n",
    "    print(\"SVM classifier does not have coefficients to determine feature importances.\")\n"
   ]
  },
  {
   "cell_type": "markdown",
   "metadata": {},
   "source": [
    "## Predicting HSE Bandgap direct or indirect using SVM"
   ]
  },
  {
   "cell_type": "code",
   "execution_count": 188,
   "metadata": {},
   "outputs": [
    {
     "name": "stdout",
     "output_type": "stream",
     "text": [
      "Accuracy: 0.9239130434782609\n"
     ]
    }
   ],
   "source": [
    "import pandas as pd\n",
    "from sklearn.model_selection import train_test_split\n",
    "from sklearn.svm import SVC\n",
    "from sklearn.metrics import accuracy_score\n",
    "\n",
    "to_drop2 = [\"A\", \"B\", \"functional_group\", \"training_type\", \"HSE_direct\", \"stable2\", \"composition\"] #, \"total_energy\"] #, \"stable\"] #, \"volume\", \"c\"]\n",
    "df_pr = df.dropna()\n",
    "\n",
    "X_class2 = df_pr.drop(to_drop2, axis=1)\n",
    "y_class2 = df_pr['HSE_direct']\n",
    "\n",
    "X_train, X_test, y_train, y_test = train_test_split(X_class2, y_class2, test_size=0.2, random_state=104)\n",
    "\n",
    "# Initialize the SVM classifier\n",
    "svm_classifier = SVC(kernel='linear')  \n",
    "svm_classifier.fit(X_train, y_train)\n",
    "y_pred = svm_classifier.predict(X_test)\n",
    "\n",
    "# Evaluating the model\n",
    "accuracy = accuracy_score(y_test, y_pred)\n",
    "print(\"Accuracy:\", accuracy)\n"
   ]
  },
  {
   "cell_type": "markdown",
   "metadata": {},
   "source": [
    "### Feature importances for model predicting direct/indirect bandgap"
   ]
  },
  {
   "cell_type": "code",
   "execution_count": 190,
   "metadata": {},
   "outputs": [
    {
     "data": {
      "application/vnd.plotly.v1+json": {
       "config": {
        "plotlyServerURL": "https://plot.ly",
        "toImageButtonOptions": {
         "filename": "custom_image",
         "format": "png",
         "height": 500,
         "scale": 6,
         "width": 700
        }
       },
       "data": [
        {
         "marker": {
          "color": "royalblue"
         },
         "type": "bar",
         "x": [
          "PBE_direct",
          "A_Z_radii",
          "HSE_band_gap",
          "PBE_band_gap",
          "stable",
          "A_X",
          "PBE_vbm",
          "A_IR",
          "B_IR",
          "PBE_cbm"
         ],
         "y": [
          0.11669326366740854,
          0.09307812263177904,
          0.0899329336050073,
          0.07538706438219425,
          0.07428947314385295,
          0.07243460244036146,
          0.05283863818403825,
          0.0493438115424596,
          0.04451573988576801,
          0.03523654979612354
         ]
        }
       ],
       "layout": {
        "font": {
         "color": "black",
         "family": "Arial",
         "size": 14
        },
        "height": 800,
        "showlegend": false,
        "template": {
         "data": {
          "bar": [
           {
            "error_x": {
             "color": "#2a3f5f"
            },
            "error_y": {
             "color": "#2a3f5f"
            },
            "marker": {
             "line": {
              "color": "#E5ECF6",
              "width": 0.5
             },
             "pattern": {
              "fillmode": "overlay",
              "size": 10,
              "solidity": 0.2
             }
            },
            "type": "bar"
           }
          ],
          "barpolar": [
           {
            "marker": {
             "line": {
              "color": "#E5ECF6",
              "width": 0.5
             },
             "pattern": {
              "fillmode": "overlay",
              "size": 10,
              "solidity": 0.2
             }
            },
            "type": "barpolar"
           }
          ],
          "carpet": [
           {
            "aaxis": {
             "endlinecolor": "#2a3f5f",
             "gridcolor": "white",
             "linecolor": "white",
             "minorgridcolor": "white",
             "startlinecolor": "#2a3f5f"
            },
            "baxis": {
             "endlinecolor": "#2a3f5f",
             "gridcolor": "white",
             "linecolor": "white",
             "minorgridcolor": "white",
             "startlinecolor": "#2a3f5f"
            },
            "type": "carpet"
           }
          ],
          "choropleth": [
           {
            "colorbar": {
             "outlinewidth": 0,
             "ticks": ""
            },
            "type": "choropleth"
           }
          ],
          "contour": [
           {
            "colorbar": {
             "outlinewidth": 0,
             "ticks": ""
            },
            "colorscale": [
             [
              0,
              "#0d0887"
             ],
             [
              0.1111111111111111,
              "#46039f"
             ],
             [
              0.2222222222222222,
              "#7201a8"
             ],
             [
              0.3333333333333333,
              "#9c179e"
             ],
             [
              0.4444444444444444,
              "#bd3786"
             ],
             [
              0.5555555555555556,
              "#d8576b"
             ],
             [
              0.6666666666666666,
              "#ed7953"
             ],
             [
              0.7777777777777778,
              "#fb9f3a"
             ],
             [
              0.8888888888888888,
              "#fdca26"
             ],
             [
              1,
              "#f0f921"
             ]
            ],
            "type": "contour"
           }
          ],
          "contourcarpet": [
           {
            "colorbar": {
             "outlinewidth": 0,
             "ticks": ""
            },
            "type": "contourcarpet"
           }
          ],
          "heatmap": [
           {
            "colorbar": {
             "outlinewidth": 0,
             "ticks": ""
            },
            "colorscale": [
             [
              0,
              "#0d0887"
             ],
             [
              0.1111111111111111,
              "#46039f"
             ],
             [
              0.2222222222222222,
              "#7201a8"
             ],
             [
              0.3333333333333333,
              "#9c179e"
             ],
             [
              0.4444444444444444,
              "#bd3786"
             ],
             [
              0.5555555555555556,
              "#d8576b"
             ],
             [
              0.6666666666666666,
              "#ed7953"
             ],
             [
              0.7777777777777778,
              "#fb9f3a"
             ],
             [
              0.8888888888888888,
              "#fdca26"
             ],
             [
              1,
              "#f0f921"
             ]
            ],
            "type": "heatmap"
           }
          ],
          "heatmapgl": [
           {
            "colorbar": {
             "outlinewidth": 0,
             "ticks": ""
            },
            "colorscale": [
             [
              0,
              "#0d0887"
             ],
             [
              0.1111111111111111,
              "#46039f"
             ],
             [
              0.2222222222222222,
              "#7201a8"
             ],
             [
              0.3333333333333333,
              "#9c179e"
             ],
             [
              0.4444444444444444,
              "#bd3786"
             ],
             [
              0.5555555555555556,
              "#d8576b"
             ],
             [
              0.6666666666666666,
              "#ed7953"
             ],
             [
              0.7777777777777778,
              "#fb9f3a"
             ],
             [
              0.8888888888888888,
              "#fdca26"
             ],
             [
              1,
              "#f0f921"
             ]
            ],
            "type": "heatmapgl"
           }
          ],
          "histogram": [
           {
            "marker": {
             "pattern": {
              "fillmode": "overlay",
              "size": 10,
              "solidity": 0.2
             }
            },
            "type": "histogram"
           }
          ],
          "histogram2d": [
           {
            "colorbar": {
             "outlinewidth": 0,
             "ticks": ""
            },
            "colorscale": [
             [
              0,
              "#0d0887"
             ],
             [
              0.1111111111111111,
              "#46039f"
             ],
             [
              0.2222222222222222,
              "#7201a8"
             ],
             [
              0.3333333333333333,
              "#9c179e"
             ],
             [
              0.4444444444444444,
              "#bd3786"
             ],
             [
              0.5555555555555556,
              "#d8576b"
             ],
             [
              0.6666666666666666,
              "#ed7953"
             ],
             [
              0.7777777777777778,
              "#fb9f3a"
             ],
             [
              0.8888888888888888,
              "#fdca26"
             ],
             [
              1,
              "#f0f921"
             ]
            ],
            "type": "histogram2d"
           }
          ],
          "histogram2dcontour": [
           {
            "colorbar": {
             "outlinewidth": 0,
             "ticks": ""
            },
            "colorscale": [
             [
              0,
              "#0d0887"
             ],
             [
              0.1111111111111111,
              "#46039f"
             ],
             [
              0.2222222222222222,
              "#7201a8"
             ],
             [
              0.3333333333333333,
              "#9c179e"
             ],
             [
              0.4444444444444444,
              "#bd3786"
             ],
             [
              0.5555555555555556,
              "#d8576b"
             ],
             [
              0.6666666666666666,
              "#ed7953"
             ],
             [
              0.7777777777777778,
              "#fb9f3a"
             ],
             [
              0.8888888888888888,
              "#fdca26"
             ],
             [
              1,
              "#f0f921"
             ]
            ],
            "type": "histogram2dcontour"
           }
          ],
          "mesh3d": [
           {
            "colorbar": {
             "outlinewidth": 0,
             "ticks": ""
            },
            "type": "mesh3d"
           }
          ],
          "parcoords": [
           {
            "line": {
             "colorbar": {
              "outlinewidth": 0,
              "ticks": ""
             }
            },
            "type": "parcoords"
           }
          ],
          "pie": [
           {
            "automargin": true,
            "type": "pie"
           }
          ],
          "scatter": [
           {
            "fillpattern": {
             "fillmode": "overlay",
             "size": 10,
             "solidity": 0.2
            },
            "type": "scatter"
           }
          ],
          "scatter3d": [
           {
            "line": {
             "colorbar": {
              "outlinewidth": 0,
              "ticks": ""
             }
            },
            "marker": {
             "colorbar": {
              "outlinewidth": 0,
              "ticks": ""
             }
            },
            "type": "scatter3d"
           }
          ],
          "scattercarpet": [
           {
            "marker": {
             "colorbar": {
              "outlinewidth": 0,
              "ticks": ""
             }
            },
            "type": "scattercarpet"
           }
          ],
          "scattergeo": [
           {
            "marker": {
             "colorbar": {
              "outlinewidth": 0,
              "ticks": ""
             }
            },
            "type": "scattergeo"
           }
          ],
          "scattergl": [
           {
            "marker": {
             "colorbar": {
              "outlinewidth": 0,
              "ticks": ""
             }
            },
            "type": "scattergl"
           }
          ],
          "scattermapbox": [
           {
            "marker": {
             "colorbar": {
              "outlinewidth": 0,
              "ticks": ""
             }
            },
            "type": "scattermapbox"
           }
          ],
          "scatterpolar": [
           {
            "marker": {
             "colorbar": {
              "outlinewidth": 0,
              "ticks": ""
             }
            },
            "type": "scatterpolar"
           }
          ],
          "scatterpolargl": [
           {
            "marker": {
             "colorbar": {
              "outlinewidth": 0,
              "ticks": ""
             }
            },
            "type": "scatterpolargl"
           }
          ],
          "scatterternary": [
           {
            "marker": {
             "colorbar": {
              "outlinewidth": 0,
              "ticks": ""
             }
            },
            "type": "scatterternary"
           }
          ],
          "surface": [
           {
            "colorbar": {
             "outlinewidth": 0,
             "ticks": ""
            },
            "colorscale": [
             [
              0,
              "#0d0887"
             ],
             [
              0.1111111111111111,
              "#46039f"
             ],
             [
              0.2222222222222222,
              "#7201a8"
             ],
             [
              0.3333333333333333,
              "#9c179e"
             ],
             [
              0.4444444444444444,
              "#bd3786"
             ],
             [
              0.5555555555555556,
              "#d8576b"
             ],
             [
              0.6666666666666666,
              "#ed7953"
             ],
             [
              0.7777777777777778,
              "#fb9f3a"
             ],
             [
              0.8888888888888888,
              "#fdca26"
             ],
             [
              1,
              "#f0f921"
             ]
            ],
            "type": "surface"
           }
          ],
          "table": [
           {
            "cells": {
             "fill": {
              "color": "#EBF0F8"
             },
             "line": {
              "color": "white"
             }
            },
            "header": {
             "fill": {
              "color": "#C8D4E3"
             },
             "line": {
              "color": "white"
             }
            },
            "type": "table"
           }
          ]
         },
         "layout": {
          "annotationdefaults": {
           "arrowcolor": "#2a3f5f",
           "arrowhead": 0,
           "arrowwidth": 1
          },
          "autotypenumbers": "strict",
          "coloraxis": {
           "colorbar": {
            "outlinewidth": 0,
            "ticks": ""
           }
          },
          "colorscale": {
           "diverging": [
            [
             0,
             "#8e0152"
            ],
            [
             0.1,
             "#c51b7d"
            ],
            [
             0.2,
             "#de77ae"
            ],
            [
             0.3,
             "#f1b6da"
            ],
            [
             0.4,
             "#fde0ef"
            ],
            [
             0.5,
             "#f7f7f7"
            ],
            [
             0.6,
             "#e6f5d0"
            ],
            [
             0.7,
             "#b8e186"
            ],
            [
             0.8,
             "#7fbc41"
            ],
            [
             0.9,
             "#4d9221"
            ],
            [
             1,
             "#276419"
            ]
           ],
           "sequential": [
            [
             0,
             "#0d0887"
            ],
            [
             0.1111111111111111,
             "#46039f"
            ],
            [
             0.2222222222222222,
             "#7201a8"
            ],
            [
             0.3333333333333333,
             "#9c179e"
            ],
            [
             0.4444444444444444,
             "#bd3786"
            ],
            [
             0.5555555555555556,
             "#d8576b"
            ],
            [
             0.6666666666666666,
             "#ed7953"
            ],
            [
             0.7777777777777778,
             "#fb9f3a"
            ],
            [
             0.8888888888888888,
             "#fdca26"
            ],
            [
             1,
             "#f0f921"
            ]
           ],
           "sequentialminus": [
            [
             0,
             "#0d0887"
            ],
            [
             0.1111111111111111,
             "#46039f"
            ],
            [
             0.2222222222222222,
             "#7201a8"
            ],
            [
             0.3333333333333333,
             "#9c179e"
            ],
            [
             0.4444444444444444,
             "#bd3786"
            ],
            [
             0.5555555555555556,
             "#d8576b"
            ],
            [
             0.6666666666666666,
             "#ed7953"
            ],
            [
             0.7777777777777778,
             "#fb9f3a"
            ],
            [
             0.8888888888888888,
             "#fdca26"
            ],
            [
             1,
             "#f0f921"
            ]
           ]
          },
          "colorway": [
           "#636efa",
           "#EF553B",
           "#00cc96",
           "#ab63fa",
           "#FFA15A",
           "#19d3f3",
           "#FF6692",
           "#B6E880",
           "#FF97FF",
           "#FECB52"
          ],
          "font": {
           "color": "#2a3f5f"
          },
          "geo": {
           "bgcolor": "white",
           "lakecolor": "white",
           "landcolor": "#E5ECF6",
           "showlakes": true,
           "showland": true,
           "subunitcolor": "white"
          },
          "hoverlabel": {
           "align": "left"
          },
          "hovermode": "closest",
          "mapbox": {
           "style": "light"
          },
          "paper_bgcolor": "white",
          "plot_bgcolor": "#E5ECF6",
          "polar": {
           "angularaxis": {
            "gridcolor": "white",
            "linecolor": "white",
            "ticks": ""
           },
           "bgcolor": "#E5ECF6",
           "radialaxis": {
            "gridcolor": "white",
            "linecolor": "white",
            "ticks": ""
           }
          },
          "scene": {
           "xaxis": {
            "backgroundcolor": "#E5ECF6",
            "gridcolor": "white",
            "gridwidth": 2,
            "linecolor": "white",
            "showbackground": true,
            "ticks": "",
            "zerolinecolor": "white"
           },
           "yaxis": {
            "backgroundcolor": "#E5ECF6",
            "gridcolor": "white",
            "gridwidth": 2,
            "linecolor": "white",
            "showbackground": true,
            "ticks": "",
            "zerolinecolor": "white"
           },
           "zaxis": {
            "backgroundcolor": "#E5ECF6",
            "gridcolor": "white",
            "gridwidth": 2,
            "linecolor": "white",
            "showbackground": true,
            "ticks": "",
            "zerolinecolor": "white"
           }
          },
          "shapedefaults": {
           "line": {
            "color": "#2a3f5f"
           }
          },
          "ternary": {
           "aaxis": {
            "gridcolor": "white",
            "linecolor": "white",
            "ticks": ""
           },
           "baxis": {
            "gridcolor": "white",
            "linecolor": "white",
            "ticks": ""
           },
           "bgcolor": "#E5ECF6",
           "caxis": {
            "gridcolor": "white",
            "linecolor": "white",
            "ticks": ""
           }
          },
          "title": {
           "x": 0.05
          },
          "xaxis": {
           "automargin": true,
           "gridcolor": "white",
           "linecolor": "white",
           "ticks": "",
           "title": {
            "standoff": 15
           },
           "zerolinecolor": "white",
           "zerolinewidth": 2
          },
          "yaxis": {
           "automargin": true,
           "gridcolor": "white",
           "linecolor": "white",
           "ticks": "",
           "title": {
            "standoff": 15
           },
           "zerolinecolor": "white",
           "zerolinewidth": 2
          }
         }
        },
        "title": {
         "text": "Feature importances for model predicting HSE direct/indirect bandgap",
         "x": 0.5
        },
        "width": 1000,
        "xaxis": {
         "tickangle": 45,
         "tickfont": {
          "size": 12
         },
         "title": {
          "text": "Features"
         }
        },
        "yaxis": {
         "title": {
          "text": "Importance"
         }
        }
       }
      }
     },
     "metadata": {},
     "output_type": "display_data"
    }
   ],
   "source": [
    "import numpy as np\n",
    "import plotly.graph_objects as go\n",
    "\n",
    "if hasattr(svm_classifier, 'coef_'):\n",
    "    feature_importances = np.abs(svm_classifier.coef_.flatten())\n",
    "    included = X_class2.columns.values\n",
    "    indices = np.argsort(feature_importances)[::-1]\n",
    "\n",
    "    total_importance = np.sum(feature_importances)\n",
    "    normalized_importances = feature_importances / total_importance\n",
    "    \n",
    "    fig = go.Figure()\n",
    "\n",
    "    fig.add_trace(go.Bar(\n",
    "        x=included[indices][:10],\n",
    "        y=normalized_importances[indices][:10],\n",
    "        marker=dict(color='royalblue'),\n",
    "    ))\n",
    "\n",
    "    fig.update_layout(\n",
    "        xaxis=dict(\n",
    "            title='Features',\n",
    "            tickfont=dict(size=12),\n",
    "            tickangle = 45 \n",
    "        ),\n",
    "        yaxis_title='Importance',\n",
    "        title='Feature importances for model predicting HSE direct/indirect bandgap',\n",
    "        font=dict(family=\"Arial\", size=14, color=\"black\"),\n",
    "        title_x = 0.5,\n",
    "        width=1000,\n",
    "        height=800,\n",
    "        showlegend=False,\n",
    "    )\n",
    "\n",
    "    config = {\n",
    "        'toImageButtonOptions': {\n",
    "            'format': 'png',  # one of png, svg, jpeg, webp\n",
    "            'filename': 'custom_image',\n",
    "            'height': 500,\n",
    "            'width': 700,\n",
    "            'scale': 6  # Multiply title/legend/axis/canvas sizes by this factor\n",
    "        }\n",
    "    }\n",
    "\n",
    "    fig.show(config=config)\n",
    "\n",
    "else:\n",
    "    print(\"SVM classifier does not have coefficients to determine feature importances.\")\n"
   ]
  }
 ],
 "metadata": {
  "kernelspec": {
   "display_name": "Python 3",
   "language": "python",
   "name": "python3"
  },
  "language_info": {
   "codemirror_mode": {
    "name": "ipython",
    "version": 3
   },
   "file_extension": ".py",
   "mimetype": "text/x-python",
   "name": "python",
   "nbconvert_exporter": "python",
   "pygments_lexer": "ipython3",
   "version": "3.11.3"
  }
 },
 "nbformat": 4,
 "nbformat_minor": 2
}
