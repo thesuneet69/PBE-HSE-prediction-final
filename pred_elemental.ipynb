{
 "cells": [
  {
   "cell_type": "markdown",
   "metadata": {},
   "source": [
    "# Here we explore the prediction of various properties like PBE bandgap, HSE bandgap, Energy above hull and if the bandgaps are direct or not in ABX3 type compounds "
   ]
  },
  {
   "cell_type": "markdown",
   "metadata": {},
   "source": [
    "## Importing all the necessary libraries"
   ]
  },
  {
   "cell_type": "code",
   "execution_count": 1,
   "metadata": {},
   "outputs": [],
   "source": [
    "import pandas as pd\n",
    "import numpy as np\n",
    "from sklearn.model_selection import KFold, cross_val_score\n",
    "from sklearn.metrics import mean_squared_error\n"
   ]
  },
  {
   "cell_type": "markdown",
   "metadata": {},
   "source": [
    "## Converting json file into pandas dataframe"
   ]
  },
  {
   "cell_type": "code",
   "execution_count": 2,
   "metadata": {},
   "outputs": [
    {
     "data": {
      "text/html": [
       "<div>\n",
       "<style scoped>\n",
       "    .dataframe tbody tr th:only-of-type {\n",
       "        vertical-align: middle;\n",
       "    }\n",
       "\n",
       "    .dataframe tbody tr th {\n",
       "        vertical-align: top;\n",
       "    }\n",
       "\n",
       "    .dataframe thead th {\n",
       "        text-align: right;\n",
       "    }\n",
       "</style>\n",
       "<table border=\"1\" class=\"dataframe\">\n",
       "  <thead>\n",
       "    <tr style=\"text-align: right;\">\n",
       "      <th></th>\n",
       "      <th>A</th>\n",
       "      <th>A_HOMO</th>\n",
       "      <th>A_IE</th>\n",
       "      <th>A_IR</th>\n",
       "      <th>A_LUMO</th>\n",
       "      <th>A_OS</th>\n",
       "      <th>A_X</th>\n",
       "      <th>A_Z_radii</th>\n",
       "      <th>A_e_affin</th>\n",
       "      <th>B</th>\n",
       "      <th>...</th>\n",
       "      <th>efermi</th>\n",
       "      <th>density</th>\n",
       "      <th>volume</th>\n",
       "      <th>training_type</th>\n",
       "      <th>HSE_band_gap</th>\n",
       "      <th>PBE_insulator</th>\n",
       "      <th>HSE_insulator</th>\n",
       "      <th>a</th>\n",
       "      <th>b</th>\n",
       "      <th>c</th>\n",
       "    </tr>\n",
       "  </thead>\n",
       "  <tbody>\n",
       "    <tr>\n",
       "      <th>0</th>\n",
       "      <td>Te</td>\n",
       "      <td>-5.952</td>\n",
       "      <td>869.2</td>\n",
       "      <td>1.87</td>\n",
       "      <td>-0.56</td>\n",
       "      <td>4</td>\n",
       "      <td>2.1</td>\n",
       "      <td>1.67</td>\n",
       "      <td>190.2</td>\n",
       "      <td>Be</td>\n",
       "      <td>...</td>\n",
       "      <td>2.108769</td>\n",
       "      <td>4.368437</td>\n",
       "      <td>567.890393</td>\n",
       "      <td>set_6</td>\n",
       "      <td>0.0097</td>\n",
       "      <td>0</td>\n",
       "      <td>0</td>\n",
       "      <td>4.075319</td>\n",
       "      <td>9.180483</td>\n",
       "      <td>15.178798</td>\n",
       "    </tr>\n",
       "    <tr>\n",
       "      <th>1</th>\n",
       "      <td>Te</td>\n",
       "      <td>-5.952</td>\n",
       "      <td>869.2</td>\n",
       "      <td>1.87</td>\n",
       "      <td>-0.56</td>\n",
       "      <td>4</td>\n",
       "      <td>2.1</td>\n",
       "      <td>1.67</td>\n",
       "      <td>190.2</td>\n",
       "      <td>Zn</td>\n",
       "      <td>...</td>\n",
       "      <td>2.301251</td>\n",
       "      <td>5.028065</td>\n",
       "      <td>567.890393</td>\n",
       "      <td>set_6</td>\n",
       "      <td>0.0602</td>\n",
       "      <td>0</td>\n",
       "      <td>0</td>\n",
       "      <td>4.075319</td>\n",
       "      <td>9.180483</td>\n",
       "      <td>15.178798</td>\n",
       "    </tr>\n",
       "    <tr>\n",
       "      <th>2</th>\n",
       "      <td>Te</td>\n",
       "      <td>-5.952</td>\n",
       "      <td>869.2</td>\n",
       "      <td>1.87</td>\n",
       "      <td>-0.56</td>\n",
       "      <td>4</td>\n",
       "      <td>2.1</td>\n",
       "      <td>1.67</td>\n",
       "      <td>190.2</td>\n",
       "      <td>Hg</td>\n",
       "      <td>...</td>\n",
       "      <td>2.938953</td>\n",
       "      <td>6.609168</td>\n",
       "      <td>567.890393</td>\n",
       "      <td>set_6</td>\n",
       "      <td>0.0175</td>\n",
       "      <td>0</td>\n",
       "      <td>0</td>\n",
       "      <td>4.075319</td>\n",
       "      <td>9.180483</td>\n",
       "      <td>15.178798</td>\n",
       "    </tr>\n",
       "    <tr>\n",
       "      <th>3</th>\n",
       "      <td>Te</td>\n",
       "      <td>-5.952</td>\n",
       "      <td>869.2</td>\n",
       "      <td>1.87</td>\n",
       "      <td>-0.56</td>\n",
       "      <td>4</td>\n",
       "      <td>2.1</td>\n",
       "      <td>1.67</td>\n",
       "      <td>190.2</td>\n",
       "      <td>Cu</td>\n",
       "      <td>...</td>\n",
       "      <td>2.595679</td>\n",
       "      <td>5.006275</td>\n",
       "      <td>567.890393</td>\n",
       "      <td>set_6</td>\n",
       "      <td>0.0114</td>\n",
       "      <td>0</td>\n",
       "      <td>0</td>\n",
       "      <td>4.075319</td>\n",
       "      <td>9.180483</td>\n",
       "      <td>15.178798</td>\n",
       "    </tr>\n",
       "    <tr>\n",
       "      <th>4</th>\n",
       "      <td>Te</td>\n",
       "      <td>-5.952</td>\n",
       "      <td>869.2</td>\n",
       "      <td>1.87</td>\n",
       "      <td>-0.56</td>\n",
       "      <td>4</td>\n",
       "      <td>2.1</td>\n",
       "      <td>1.67</td>\n",
       "      <td>190.2</td>\n",
       "      <td>Ni</td>\n",
       "      <td>...</td>\n",
       "      <td>2.617512</td>\n",
       "      <td>4.949518</td>\n",
       "      <td>567.890393</td>\n",
       "      <td>set_6</td>\n",
       "      <td>0.0040</td>\n",
       "      <td>0</td>\n",
       "      <td>0</td>\n",
       "      <td>4.075319</td>\n",
       "      <td>9.180483</td>\n",
       "      <td>15.178798</td>\n",
       "    </tr>\n",
       "  </tbody>\n",
       "</table>\n",
       "<p>5 rows × 41 columns</p>\n",
       "</div>"
      ],
      "text/plain": [
       "    A  A_HOMO   A_IE  A_IR  A_LUMO  A_OS  A_X  A_Z_radii  A_e_affin   B  ...  \\\n",
       "0  Te  -5.952  869.2  1.87   -0.56     4  2.1       1.67      190.2  Be  ...   \n",
       "1  Te  -5.952  869.2  1.87   -0.56     4  2.1       1.67      190.2  Zn  ...   \n",
       "2  Te  -5.952  869.2  1.87   -0.56     4  2.1       1.67      190.2  Hg  ...   \n",
       "3  Te  -5.952  869.2  1.87   -0.56     4  2.1       1.67      190.2  Cu  ...   \n",
       "4  Te  -5.952  869.2  1.87   -0.56     4  2.1       1.67      190.2  Ni  ...   \n",
       "\n",
       "     efermi   density      volume  training_type  HSE_band_gap  PBE_insulator  \\\n",
       "0  2.108769  4.368437  567.890393          set_6        0.0097              0   \n",
       "1  2.301251  5.028065  567.890393          set_6        0.0602              0   \n",
       "2  2.938953  6.609168  567.890393          set_6        0.0175              0   \n",
       "3  2.595679  5.006275  567.890393          set_6        0.0114              0   \n",
       "4  2.617512  4.949518  567.890393          set_6        0.0040              0   \n",
       "\n",
       "   HSE_insulator         a         b          c  \n",
       "0              0  4.075319  9.180483  15.178798  \n",
       "1              0  4.075319  9.180483  15.178798  \n",
       "2              0  4.075319  9.180483  15.178798  \n",
       "3              0  4.075319  9.180483  15.178798  \n",
       "4              0  4.075319  9.180483  15.178798  \n",
       "\n",
       "[5 rows x 41 columns]"
      ]
     },
     "execution_count": 2,
     "metadata": {},
     "output_type": "execute_result"
    }
   ],
   "source": [
    "# Replace 'your_file.json' with the path to your JSON file\n",
    "df = pd.read_json('/Users/suneet/projects/PBE-HSE-prediction/all_ABSe3_calculated_data_2.json')\n",
    "df.head()"
   ]
  },
  {
   "cell_type": "markdown",
   "metadata": {},
   "source": [
    "## Analysing dataset"
   ]
  },
  {
   "cell_type": "code",
   "execution_count": 3,
   "metadata": {},
   "outputs": [
    {
     "data": {
      "text/html": [
       "<div>\n",
       "<style scoped>\n",
       "    .dataframe tbody tr th:only-of-type {\n",
       "        vertical-align: middle;\n",
       "    }\n",
       "\n",
       "    .dataframe tbody tr th {\n",
       "        vertical-align: top;\n",
       "    }\n",
       "\n",
       "    .dataframe thead th {\n",
       "        text-align: right;\n",
       "    }\n",
       "</style>\n",
       "<table border=\"1\" class=\"dataframe\">\n",
       "  <thead>\n",
       "    <tr style=\"text-align: right;\">\n",
       "      <th></th>\n",
       "      <th>A_HOMO</th>\n",
       "      <th>A_IE</th>\n",
       "      <th>A_IR</th>\n",
       "      <th>A_LUMO</th>\n",
       "      <th>A_OS</th>\n",
       "      <th>A_X</th>\n",
       "      <th>A_Z_radii</th>\n",
       "      <th>A_e_affin</th>\n",
       "      <th>B_HOMO</th>\n",
       "      <th>B_IE</th>\n",
       "      <th>...</th>\n",
       "      <th>e_above_hull</th>\n",
       "      <th>efermi</th>\n",
       "      <th>density</th>\n",
       "      <th>volume</th>\n",
       "      <th>HSE_band_gap</th>\n",
       "      <th>PBE_insulator</th>\n",
       "      <th>HSE_insulator</th>\n",
       "      <th>a</th>\n",
       "      <th>b</th>\n",
       "      <th>c</th>\n",
       "    </tr>\n",
       "  </thead>\n",
       "  <tbody>\n",
       "    <tr>\n",
       "      <th>count</th>\n",
       "      <td>957.000000</td>\n",
       "      <td>957.000000</td>\n",
       "      <td>957.000000</td>\n",
       "      <td>957.000000</td>\n",
       "      <td>957.000000</td>\n",
       "      <td>957.000000</td>\n",
       "      <td>957.000000</td>\n",
       "      <td>957.000000</td>\n",
       "      <td>957.000000</td>\n",
       "      <td>957.000000</td>\n",
       "      <td>...</td>\n",
       "      <td>957.000000</td>\n",
       "      <td>957.000000</td>\n",
       "      <td>957.000000</td>\n",
       "      <td>957.000000</td>\n",
       "      <td>957.000000</td>\n",
       "      <td>957.000000</td>\n",
       "      <td>957.000000</td>\n",
       "      <td>957.000000</td>\n",
       "      <td>957.000000</td>\n",
       "      <td>957.000000</td>\n",
       "    </tr>\n",
       "    <tr>\n",
       "      <th>mean</th>\n",
       "      <td>-4.235488</td>\n",
       "      <td>732.696552</td>\n",
       "      <td>1.242293</td>\n",
       "      <td>-1.572004</td>\n",
       "      <td>2.991641</td>\n",
       "      <td>1.783678</td>\n",
       "      <td>2.304447</td>\n",
       "      <td>57.208963</td>\n",
       "      <td>-4.259792</td>\n",
       "      <td>736.419958</td>\n",
       "      <td>...</td>\n",
       "      <td>0.733983</td>\n",
       "      <td>3.440496</td>\n",
       "      <td>5.884782</td>\n",
       "      <td>512.814547</td>\n",
       "      <td>0.293561</td>\n",
       "      <td>0.228840</td>\n",
       "      <td>0.370951</td>\n",
       "      <td>3.890364</td>\n",
       "      <td>9.313622</td>\n",
       "      <td>14.318710</td>\n",
       "    </tr>\n",
       "    <tr>\n",
       "      <th>std</th>\n",
       "      <td>1.119252</td>\n",
       "      <td>135.869730</td>\n",
       "      <td>0.212076</td>\n",
       "      <td>1.334446</td>\n",
       "      <td>0.961570</td>\n",
       "      <td>0.432583</td>\n",
       "      <td>0.618047</td>\n",
       "      <td>64.332324</td>\n",
       "      <td>1.101291</td>\n",
       "      <td>131.515365</td>\n",
       "      <td>...</td>\n",
       "      <td>9.971522</td>\n",
       "      <td>4.659803</td>\n",
       "      <td>1.356302</td>\n",
       "      <td>75.065316</td>\n",
       "      <td>0.470728</td>\n",
       "      <td>0.420306</td>\n",
       "      <td>0.483312</td>\n",
       "      <td>0.282350</td>\n",
       "      <td>1.088588</td>\n",
       "      <td>1.914430</td>\n",
       "    </tr>\n",
       "    <tr>\n",
       "      <th>min</th>\n",
       "      <td>-6.815000</td>\n",
       "      <td>375.700000</td>\n",
       "      <td>0.810000</td>\n",
       "      <td>-5.355000</td>\n",
       "      <td>1.000000</td>\n",
       "      <td>0.790000</td>\n",
       "      <td>0.795000</td>\n",
       "      <td>-68.000000</td>\n",
       "      <td>-6.815000</td>\n",
       "      <td>375.700000</td>\n",
       "      <td>...</td>\n",
       "      <td>0.000000</td>\n",
       "      <td>0.385257</td>\n",
       "      <td>2.929034</td>\n",
       "      <td>326.254744</td>\n",
       "      <td>0.000000</td>\n",
       "      <td>0.000000</td>\n",
       "      <td>0.000000</td>\n",
       "      <td>3.021577</td>\n",
       "      <td>5.410410</td>\n",
       "      <td>9.238741</td>\n",
       "    </tr>\n",
       "    <tr>\n",
       "      <th>25%</th>\n",
       "      <td>-5.194000</td>\n",
       "      <td>650.300000</td>\n",
       "      <td>1.096000</td>\n",
       "      <td>-2.432000</td>\n",
       "      <td>2.000000</td>\n",
       "      <td>1.550000</td>\n",
       "      <td>1.997000</td>\n",
       "      <td>17.000000</td>\n",
       "      <td>-5.194000</td>\n",
       "      <td>652.800000</td>\n",
       "      <td>...</td>\n",
       "      <td>0.136197</td>\n",
       "      <td>2.174115</td>\n",
       "      <td>4.887292</td>\n",
       "      <td>451.634304</td>\n",
       "      <td>0.015200</td>\n",
       "      <td>0.000000</td>\n",
       "      <td>0.000000</td>\n",
       "      <td>3.720540</td>\n",
       "      <td>8.733970</td>\n",
       "      <td>13.448358</td>\n",
       "    </tr>\n",
       "    <tr>\n",
       "      <th>50%</th>\n",
       "      <td>-4.368000</td>\n",
       "      <td>736.700000</td>\n",
       "      <td>1.230000</td>\n",
       "      <td>-0.943000</td>\n",
       "      <td>3.000000</td>\n",
       "      <td>1.900000</td>\n",
       "      <td>2.410000</td>\n",
       "      <td>50.000000</td>\n",
       "      <td>-4.417000</td>\n",
       "      <td>736.700000</td>\n",
       "      <td>...</td>\n",
       "      <td>0.251193</td>\n",
       "      <td>3.260095</td>\n",
       "      <td>5.759300</td>\n",
       "      <td>537.933861</td>\n",
       "      <td>0.042900</td>\n",
       "      <td>0.000000</td>\n",
       "      <td>0.000000</td>\n",
       "      <td>3.936074</td>\n",
       "      <td>9.180483</td>\n",
       "      <td>15.178798</td>\n",
       "    </tr>\n",
       "    <tr>\n",
       "      <th>75%</th>\n",
       "      <td>-3.528000</td>\n",
       "      <td>833.700000</td>\n",
       "      <td>1.360000</td>\n",
       "      <td>-0.596000</td>\n",
       "      <td>4.000000</td>\n",
       "      <td>2.180000</td>\n",
       "      <td>2.700000</td>\n",
       "      <td>101.000000</td>\n",
       "      <td>-3.584000</td>\n",
       "      <td>833.700000</td>\n",
       "      <td>...</td>\n",
       "      <td>0.520905</td>\n",
       "      <td>4.310645</td>\n",
       "      <td>6.714942</td>\n",
       "      <td>567.890393</td>\n",
       "      <td>0.411000</td>\n",
       "      <td>0.000000</td>\n",
       "      <td>1.000000</td>\n",
       "      <td>4.075319</td>\n",
       "      <td>9.338559</td>\n",
       "      <td>15.178798</td>\n",
       "    </tr>\n",
       "    <tr>\n",
       "      <th>max</th>\n",
       "      <td>-2.109000</td>\n",
       "      <td>1011.700000</td>\n",
       "      <td>1.880000</td>\n",
       "      <td>-0.298000</td>\n",
       "      <td>5.000000</td>\n",
       "      <td>2.540000</td>\n",
       "      <td>4.310000</td>\n",
       "      <td>222.800000</td>\n",
       "      <td>-2.109000</td>\n",
       "      <td>1011.700000</td>\n",
       "      <td>...</td>\n",
       "      <td>308.618865</td>\n",
       "      <td>140.937936</td>\n",
       "      <td>10.601874</td>\n",
       "      <td>810.982049</td>\n",
       "      <td>2.863100</td>\n",
       "      <td>1.000000</td>\n",
       "      <td>1.000000</td>\n",
       "      <td>5.534548</td>\n",
       "      <td>13.717645</td>\n",
       "      <td>22.324960</td>\n",
       "    </tr>\n",
       "  </tbody>\n",
       "</table>\n",
       "<p>8 rows × 36 columns</p>\n",
       "</div>"
      ],
      "text/plain": [
       "           A_HOMO         A_IE        A_IR      A_LUMO        A_OS  \\\n",
       "count  957.000000   957.000000  957.000000  957.000000  957.000000   \n",
       "mean    -4.235488   732.696552    1.242293   -1.572004    2.991641   \n",
       "std      1.119252   135.869730    0.212076    1.334446    0.961570   \n",
       "min     -6.815000   375.700000    0.810000   -5.355000    1.000000   \n",
       "25%     -5.194000   650.300000    1.096000   -2.432000    2.000000   \n",
       "50%     -4.368000   736.700000    1.230000   -0.943000    3.000000   \n",
       "75%     -3.528000   833.700000    1.360000   -0.596000    4.000000   \n",
       "max     -2.109000  1011.700000    1.880000   -0.298000    5.000000   \n",
       "\n",
       "              A_X   A_Z_radii   A_e_affin      B_HOMO         B_IE  ...  \\\n",
       "count  957.000000  957.000000  957.000000  957.000000   957.000000  ...   \n",
       "mean     1.783678    2.304447   57.208963   -4.259792   736.419958  ...   \n",
       "std      0.432583    0.618047   64.332324    1.101291   131.515365  ...   \n",
       "min      0.790000    0.795000  -68.000000   -6.815000   375.700000  ...   \n",
       "25%      1.550000    1.997000   17.000000   -5.194000   652.800000  ...   \n",
       "50%      1.900000    2.410000   50.000000   -4.417000   736.700000  ...   \n",
       "75%      2.180000    2.700000  101.000000   -3.584000   833.700000  ...   \n",
       "max      2.540000    4.310000  222.800000   -2.109000  1011.700000  ...   \n",
       "\n",
       "       e_above_hull      efermi     density      volume  HSE_band_gap  \\\n",
       "count    957.000000  957.000000  957.000000  957.000000    957.000000   \n",
       "mean       0.733983    3.440496    5.884782  512.814547      0.293561   \n",
       "std        9.971522    4.659803    1.356302   75.065316      0.470728   \n",
       "min        0.000000    0.385257    2.929034  326.254744      0.000000   \n",
       "25%        0.136197    2.174115    4.887292  451.634304      0.015200   \n",
       "50%        0.251193    3.260095    5.759300  537.933861      0.042900   \n",
       "75%        0.520905    4.310645    6.714942  567.890393      0.411000   \n",
       "max      308.618865  140.937936   10.601874  810.982049      2.863100   \n",
       "\n",
       "       PBE_insulator  HSE_insulator           a           b           c  \n",
       "count     957.000000     957.000000  957.000000  957.000000  957.000000  \n",
       "mean        0.228840       0.370951    3.890364    9.313622   14.318710  \n",
       "std         0.420306       0.483312    0.282350    1.088588    1.914430  \n",
       "min         0.000000       0.000000    3.021577    5.410410    9.238741  \n",
       "25%         0.000000       0.000000    3.720540    8.733970   13.448358  \n",
       "50%         0.000000       0.000000    3.936074    9.180483   15.178798  \n",
       "75%         0.000000       1.000000    4.075319    9.338559   15.178798  \n",
       "max         1.000000       1.000000    5.534548   13.717645   22.324960  \n",
       "\n",
       "[8 rows x 36 columns]"
      ]
     },
     "execution_count": 3,
     "metadata": {},
     "output_type": "execute_result"
    }
   ],
   "source": [
    "df.describe()"
   ]
  },
  {
   "cell_type": "code",
   "execution_count": 4,
   "metadata": {},
   "outputs": [
    {
     "data": {
      "text/plain": [
       "count    957.000000\n",
       "mean       0.120515\n",
       "std        0.251546\n",
       "min        0.000000\n",
       "25%        0.006700\n",
       "50%        0.022600\n",
       "75%        0.081000\n",
       "max        1.993400\n",
       "Name: PBE_band_gap, dtype: float64"
      ]
     },
     "execution_count": 4,
     "metadata": {},
     "output_type": "execute_result"
    }
   ],
   "source": [
    "df['PBE_band_gap'].describe()"
   ]
  },
  {
   "cell_type": "markdown",
   "metadata": {},
   "source": [
    "### Number of unique datatypes"
   ]
  },
  {
   "cell_type": "code",
   "execution_count": 5,
   "metadata": {},
   "outputs": [
    {
     "name": "stdout",
     "output_type": "stream",
     "text": [
      "Unique Data Types in the DataFrame:\n",
      "[dtype('O'), dtype('float64'), dtype('int64')]\n"
     ]
    }
   ],
   "source": [
    "unique_data_types = df.dtypes.unique().tolist()\n",
    "\n",
    "print(\"Unique Data Types in the DataFrame:\")\n",
    "print(unique_data_types)"
   ]
  },
  {
   "cell_type": "markdown",
   "metadata": {},
   "source": [
    "## Data cleaning"
   ]
  },
  {
   "cell_type": "markdown",
   "metadata": {},
   "source": [
    "### Converting DF with stable, PBE_direct, HSE_direct as number values"
   ]
  },
  {
   "cell_type": "code",
   "execution_count": 6,
   "metadata": {},
   "outputs": [
    {
     "name": "stdout",
     "output_type": "stream",
     "text": [
      "0      0\n",
      "1      0\n",
      "2      0\n",
      "3      0\n",
      "4      0\n",
      "      ..\n",
      "952    1\n",
      "953    0\n",
      "954    0\n",
      "955    0\n",
      "956    0\n",
      "Name: stable, Length: 957, dtype: int64\n"
     ]
    }
   ],
   "source": [
    "df['stable'] = df['stable'].replace({'True': 1, 'False': 0})\n",
    "print(df['stable'])\n"
   ]
  },
  {
   "cell_type": "code",
   "execution_count": 7,
   "metadata": {},
   "outputs": [
    {
     "name": "stdout",
     "output_type": "stream",
     "text": [
      "0      0.0\n",
      "1      0.0\n",
      "2      0.0\n",
      "3      0.0\n",
      "4      0.0\n",
      "      ... \n",
      "952    NaN\n",
      "953    NaN\n",
      "954    NaN\n",
      "955    NaN\n",
      "956    NaN\n",
      "Name: HSE_direct, Length: 957, dtype: float64\n"
     ]
    }
   ],
   "source": [
    "df['HSE_direct'] = df['HSE_direct'].replace({'True': 1, 'False': 0})\n",
    "print(df['HSE_direct'])"
   ]
  },
  {
   "cell_type": "code",
   "execution_count": 8,
   "metadata": {},
   "outputs": [
    {
     "name": "stdout",
     "output_type": "stream",
     "text": [
      "0      0.0\n",
      "1      0.0\n",
      "2      0.0\n",
      "3      0.0\n",
      "4      0.0\n",
      "      ... \n",
      "952    NaN\n",
      "953    NaN\n",
      "954    NaN\n",
      "955    NaN\n",
      "956    NaN\n",
      "Name: PBE_direct, Length: 957, dtype: float64\n"
     ]
    }
   ],
   "source": [
    "df['PBE_direct'] = df['PBE_direct'].replace({'True': 1, 'False': 0})\n",
    "print(df['PBE_direct'])"
   ]
  },
  {
   "cell_type": "markdown",
   "metadata": {},
   "source": [
    "### Looking at the unique values in a column"
   ]
  },
  {
   "cell_type": "code",
   "execution_count": 9,
   "metadata": {},
   "outputs": [
    {
     "name": "stdout",
     "output_type": "stream",
     "text": [
      "Unique values in the 'PBE_direct' column: [ 0.  1. nan]\n"
     ]
    }
   ],
   "source": [
    "unique_values_stable = df['PBE_direct'].unique()\n",
    "print(\"Unique values in the 'PBE_direct' column:\", unique_values_stable)"
   ]
  },
  {
   "cell_type": "markdown",
   "metadata": {},
   "source": [
    "### Looking at all the parameters for a single compound we have info about"
   ]
  },
  {
   "cell_type": "code",
   "execution_count": 10,
   "metadata": {},
   "outputs": [
    {
     "name": "stdout",
     "output_type": "stream",
     "text": [
      "A                           Te\n",
      "A_HOMO                  -5.952\n",
      "A_IE                     869.2\n",
      "A_IR                      1.87\n",
      "A_LUMO                   -0.56\n",
      "A_OS                         4\n",
      "A_X                        2.1\n",
      "A_Z_radii                 1.67\n",
      "A_e_affin                190.2\n",
      "B                           Be\n",
      "B_HOMO                   -5.61\n",
      "B_IE                     899.4\n",
      "B_IR                      0.45\n",
      "B_LUMO                  -2.017\n",
      "B_OS                         2\n",
      "B_X                       1.57\n",
      "B_Z_radii                 1.08\n",
      "B_e_affin                -48.0\n",
      "functional_group       TeBeSe3\n",
      "mu                     0.22727\n",
      "tau                    1.12031\n",
      "PBE_vbm                 2.3778\n",
      "PBE_cbm                 2.3959\n",
      "PBE_direct                 0.0\n",
      "HSE_vbm                 2.2194\n",
      "HSE_cbm                 2.2291\n",
      "HSE_direct                 0.0\n",
      "PBE_band_gap            0.0181\n",
      "total_energy        -60.424158\n",
      "e_above_hull          0.773124\n",
      "stable                       0\n",
      "efermi                2.108769\n",
      "density               4.368437\n",
      "volume              567.890393\n",
      "training_type            set_6\n",
      "HSE_band_gap            0.0097\n",
      "PBE_insulator                0\n",
      "HSE_insulator                0\n",
      "a                     4.075319\n",
      "b                     9.180483\n",
      "c                    15.178798\n",
      "Name: 0, dtype: object\n"
     ]
    }
   ],
   "source": [
    "first_row = df.iloc[0]\n",
    "print(first_row)"
   ]
  },
  {
   "cell_type": "markdown",
   "metadata": {},
   "source": [
    "### Function to quick search anything"
   ]
  },
  {
   "cell_type": "code",
   "execution_count": 11,
   "metadata": {},
   "outputs": [
    {
     "name": "stdout",
     "output_type": "stream",
     "text": [
      "The value of column 'C' where 'B' is 'SbRhSe3' is: 0.0\n"
     ]
    }
   ],
   "source": [
    "# Specify the element to search for\n",
    "element_to_search = 'SbRhSe3'\n",
    "\n",
    "# Filter the DataFrame to get the rows where 'X' is present in column 'B'\n",
    "result = df[df['functional_group'] == element_to_search]\n",
    "\n",
    "# Print the value of column 'C' from the result\n",
    "if not result.empty:\n",
    "    value_of_column_c = result['HSE_direct'].values[0]\n",
    "    print(f\"The value of column 'C' where 'B' is '{element_to_search}' is: {value_of_column_c}\")\n",
    "else:\n",
    "    print(\"no rows were {element_to_search} is present\")    "
   ]
  },
  {
   "cell_type": "markdown",
   "metadata": {},
   "source": [
    "### Extracting composition using matminer"
   ]
  },
  {
   "cell_type": "code",
   "execution_count": 12,
   "metadata": {},
   "outputs": [
    {
     "name": "stderr",
     "output_type": "stream",
     "text": [
      "/Users/suneet/Library/Python/3.11/lib/python/site-packages/tqdm/auto.py:21: TqdmWarning: IProgress not found. Please update jupyter and ipywidgets. See https://ipywidgets.readthedocs.io/en/stable/user_install.html\n",
      "  from .autonotebook import tqdm as notebook_tqdm\n",
      "StrToComposition: 100%|██████████| 957/957 [00:00<00:00, 7907.06it/s]\n"
     ]
    },
    {
     "data": {
      "text/html": [
       "<div>\n",
       "<style scoped>\n",
       "    .dataframe tbody tr th:only-of-type {\n",
       "        vertical-align: middle;\n",
       "    }\n",
       "\n",
       "    .dataframe tbody tr th {\n",
       "        vertical-align: top;\n",
       "    }\n",
       "\n",
       "    .dataframe thead th {\n",
       "        text-align: right;\n",
       "    }\n",
       "</style>\n",
       "<table border=\"1\" class=\"dataframe\">\n",
       "  <thead>\n",
       "    <tr style=\"text-align: right;\">\n",
       "      <th></th>\n",
       "      <th>A</th>\n",
       "      <th>A_HOMO</th>\n",
       "      <th>A_IE</th>\n",
       "      <th>A_IR</th>\n",
       "      <th>A_LUMO</th>\n",
       "      <th>A_OS</th>\n",
       "      <th>A_X</th>\n",
       "      <th>A_Z_radii</th>\n",
       "      <th>A_e_affin</th>\n",
       "      <th>B</th>\n",
       "      <th>...</th>\n",
       "      <th>density</th>\n",
       "      <th>volume</th>\n",
       "      <th>training_type</th>\n",
       "      <th>HSE_band_gap</th>\n",
       "      <th>PBE_insulator</th>\n",
       "      <th>HSE_insulator</th>\n",
       "      <th>a</th>\n",
       "      <th>b</th>\n",
       "      <th>c</th>\n",
       "      <th>composition</th>\n",
       "    </tr>\n",
       "  </thead>\n",
       "  <tbody>\n",
       "    <tr>\n",
       "      <th>0</th>\n",
       "      <td>Te</td>\n",
       "      <td>-5.952</td>\n",
       "      <td>869.2</td>\n",
       "      <td>1.87</td>\n",
       "      <td>-0.56</td>\n",
       "      <td>4</td>\n",
       "      <td>2.1</td>\n",
       "      <td>1.67</td>\n",
       "      <td>190.2</td>\n",
       "      <td>Be</td>\n",
       "      <td>...</td>\n",
       "      <td>4.368437</td>\n",
       "      <td>567.890393</td>\n",
       "      <td>set_6</td>\n",
       "      <td>0.0097</td>\n",
       "      <td>0</td>\n",
       "      <td>0</td>\n",
       "      <td>4.075319</td>\n",
       "      <td>9.180483</td>\n",
       "      <td>15.178798</td>\n",
       "      <td>(Te, Be, Se)</td>\n",
       "    </tr>\n",
       "    <tr>\n",
       "      <th>1</th>\n",
       "      <td>Te</td>\n",
       "      <td>-5.952</td>\n",
       "      <td>869.2</td>\n",
       "      <td>1.87</td>\n",
       "      <td>-0.56</td>\n",
       "      <td>4</td>\n",
       "      <td>2.1</td>\n",
       "      <td>1.67</td>\n",
       "      <td>190.2</td>\n",
       "      <td>Zn</td>\n",
       "      <td>...</td>\n",
       "      <td>5.028065</td>\n",
       "      <td>567.890393</td>\n",
       "      <td>set_6</td>\n",
       "      <td>0.0602</td>\n",
       "      <td>0</td>\n",
       "      <td>0</td>\n",
       "      <td>4.075319</td>\n",
       "      <td>9.180483</td>\n",
       "      <td>15.178798</td>\n",
       "      <td>(Te, Zn, Se)</td>\n",
       "    </tr>\n",
       "    <tr>\n",
       "      <th>2</th>\n",
       "      <td>Te</td>\n",
       "      <td>-5.952</td>\n",
       "      <td>869.2</td>\n",
       "      <td>1.87</td>\n",
       "      <td>-0.56</td>\n",
       "      <td>4</td>\n",
       "      <td>2.1</td>\n",
       "      <td>1.67</td>\n",
       "      <td>190.2</td>\n",
       "      <td>Hg</td>\n",
       "      <td>...</td>\n",
       "      <td>6.609168</td>\n",
       "      <td>567.890393</td>\n",
       "      <td>set_6</td>\n",
       "      <td>0.0175</td>\n",
       "      <td>0</td>\n",
       "      <td>0</td>\n",
       "      <td>4.075319</td>\n",
       "      <td>9.180483</td>\n",
       "      <td>15.178798</td>\n",
       "      <td>(Te, Hg, Se)</td>\n",
       "    </tr>\n",
       "    <tr>\n",
       "      <th>3</th>\n",
       "      <td>Te</td>\n",
       "      <td>-5.952</td>\n",
       "      <td>869.2</td>\n",
       "      <td>1.87</td>\n",
       "      <td>-0.56</td>\n",
       "      <td>4</td>\n",
       "      <td>2.1</td>\n",
       "      <td>1.67</td>\n",
       "      <td>190.2</td>\n",
       "      <td>Cu</td>\n",
       "      <td>...</td>\n",
       "      <td>5.006275</td>\n",
       "      <td>567.890393</td>\n",
       "      <td>set_6</td>\n",
       "      <td>0.0114</td>\n",
       "      <td>0</td>\n",
       "      <td>0</td>\n",
       "      <td>4.075319</td>\n",
       "      <td>9.180483</td>\n",
       "      <td>15.178798</td>\n",
       "      <td>(Te, Cu, Se)</td>\n",
       "    </tr>\n",
       "    <tr>\n",
       "      <th>4</th>\n",
       "      <td>Te</td>\n",
       "      <td>-5.952</td>\n",
       "      <td>869.2</td>\n",
       "      <td>1.87</td>\n",
       "      <td>-0.56</td>\n",
       "      <td>4</td>\n",
       "      <td>2.1</td>\n",
       "      <td>1.67</td>\n",
       "      <td>190.2</td>\n",
       "      <td>Ni</td>\n",
       "      <td>...</td>\n",
       "      <td>4.949518</td>\n",
       "      <td>567.890393</td>\n",
       "      <td>set_6</td>\n",
       "      <td>0.0040</td>\n",
       "      <td>0</td>\n",
       "      <td>0</td>\n",
       "      <td>4.075319</td>\n",
       "      <td>9.180483</td>\n",
       "      <td>15.178798</td>\n",
       "      <td>(Te, Ni, Se)</td>\n",
       "    </tr>\n",
       "  </tbody>\n",
       "</table>\n",
       "<p>5 rows × 42 columns</p>\n",
       "</div>"
      ],
      "text/plain": [
       "    A  A_HOMO   A_IE  A_IR  A_LUMO  A_OS  A_X  A_Z_radii  A_e_affin   B  ...  \\\n",
       "0  Te  -5.952  869.2  1.87   -0.56     4  2.1       1.67      190.2  Be  ...   \n",
       "1  Te  -5.952  869.2  1.87   -0.56     4  2.1       1.67      190.2  Zn  ...   \n",
       "2  Te  -5.952  869.2  1.87   -0.56     4  2.1       1.67      190.2  Hg  ...   \n",
       "3  Te  -5.952  869.2  1.87   -0.56     4  2.1       1.67      190.2  Cu  ...   \n",
       "4  Te  -5.952  869.2  1.87   -0.56     4  2.1       1.67      190.2  Ni  ...   \n",
       "\n",
       "    density      volume  training_type  HSE_band_gap  PBE_insulator  \\\n",
       "0  4.368437  567.890393          set_6        0.0097              0   \n",
       "1  5.028065  567.890393          set_6        0.0602              0   \n",
       "2  6.609168  567.890393          set_6        0.0175              0   \n",
       "3  5.006275  567.890393          set_6        0.0114              0   \n",
       "4  4.949518  567.890393          set_6        0.0040              0   \n",
       "\n",
       "   HSE_insulator         a         b          c   composition  \n",
       "0              0  4.075319  9.180483  15.178798  (Te, Be, Se)  \n",
       "1              0  4.075319  9.180483  15.178798  (Te, Zn, Se)  \n",
       "2              0  4.075319  9.180483  15.178798  (Te, Hg, Se)  \n",
       "3              0  4.075319  9.180483  15.178798  (Te, Cu, Se)  \n",
       "4              0  4.075319  9.180483  15.178798  (Te, Ni, Se)  \n",
       "\n",
       "[5 rows x 42 columns]"
      ]
     },
     "execution_count": 12,
     "metadata": {},
     "output_type": "execute_result"
    }
   ],
   "source": [
    "from matminer.featurizers.conversions import StrToComposition\n",
    "df = StrToComposition().featurize_dataframe(df, \"functional_group\")\n",
    "df.head()"
   ]
  },
  {
   "cell_type": "markdown",
   "metadata": {},
   "source": [
    "### To check the percentage of nan values the columns have"
   ]
  },
  {
   "cell_type": "code",
   "execution_count": 13,
   "metadata": {},
   "outputs": [
    {
     "name": "stdout",
     "output_type": "stream",
     "text": [
      "Percentage of missing values in column 'A': 0.00%\n",
      "Percentage of missing values in column 'A_HOMO': 0.00%\n",
      "Percentage of missing values in column 'A_IE': 0.00%\n",
      "Percentage of missing values in column 'A_IR': 0.00%\n",
      "Percentage of missing values in column 'A_LUMO': 0.00%\n",
      "Percentage of missing values in column 'A_OS': 0.00%\n",
      "Percentage of missing values in column 'A_X': 0.00%\n",
      "Percentage of missing values in column 'A_Z_radii': 0.00%\n",
      "Percentage of missing values in column 'A_e_affin': 0.00%\n",
      "Percentage of missing values in column 'B': 0.00%\n",
      "Percentage of missing values in column 'B_HOMO': 0.00%\n",
      "Percentage of missing values in column 'B_IE': 0.00%\n",
      "Percentage of missing values in column 'B_IR': 0.00%\n",
      "Percentage of missing values in column 'B_LUMO': 0.00%\n",
      "Percentage of missing values in column 'B_OS': 0.00%\n",
      "Percentage of missing values in column 'B_X': 0.00%\n",
      "Percentage of missing values in column 'B_Z_radii': 0.00%\n",
      "Percentage of missing values in column 'B_e_affin': 0.00%\n",
      "Percentage of missing values in column 'functional_group': 0.00%\n",
      "Percentage of missing values in column 'mu': 0.00%\n",
      "Percentage of missing values in column 'tau': 0.00%\n",
      "Percentage of missing values in column 'PBE_vbm': 0.00%\n",
      "Percentage of missing values in column 'PBE_cbm': 0.00%\n",
      "Percentage of missing values in column 'PBE_direct': 3.87%\n",
      "Percentage of missing values in column 'HSE_vbm': 0.00%\n",
      "Percentage of missing values in column 'HSE_cbm': 0.00%\n",
      "Percentage of missing values in column 'HSE_direct': 3.87%\n",
      "Percentage of missing values in column 'PBE_band_gap': 0.00%\n",
      "Percentage of missing values in column 'total_energy': 0.00%\n",
      "Percentage of missing values in column 'e_above_hull': 0.00%\n",
      "Percentage of missing values in column 'stable': 0.00%\n",
      "Percentage of missing values in column 'efermi': 0.00%\n",
      "Percentage of missing values in column 'density': 0.00%\n",
      "Percentage of missing values in column 'volume': 0.00%\n",
      "Percentage of missing values in column 'training_type': 0.00%\n",
      "Percentage of missing values in column 'HSE_band_gap': 0.00%\n",
      "Percentage of missing values in column 'PBE_insulator': 0.00%\n",
      "Percentage of missing values in column 'HSE_insulator': 0.00%\n",
      "Percentage of missing values in column 'a': 0.00%\n",
      "Percentage of missing values in column 'b': 0.00%\n",
      "Percentage of missing values in column 'c': 0.00%\n",
      "Percentage of missing values in column 'composition': 0.00%\n"
     ]
    }
   ],
   "source": [
    "for column in df.columns:\n",
    "    missing_count = df[column].isnull().sum()\n",
    "\n",
    "    # Calculate the percentage of missing values\n",
    "    total_rows = len(df)\n",
    "    percentage_missing = (missing_count / total_rows) * 100\n",
    "    print(f\"Percentage of missing values in column '{column}': {percentage_missing:.2f}%\")\n"
   ]
  },
  {
   "cell_type": "markdown",
   "metadata": {},
   "source": [
    "### Remove duplicate entries"
   ]
  },
  {
   "cell_type": "code",
   "execution_count": 14,
   "metadata": {},
   "outputs": [
    {
     "name": "stdout",
     "output_type": "stream",
     "text": [
      "Duplicate elements:\n",
      "705     PTlSe3\n",
      "707    BiRhSe3\n",
      "708    BiRuSe3\n",
      "709    BiCrSe3\n",
      "710    GeIrSe3\n",
      "711    GaAuSe3\n",
      "712    GaCrSe3\n",
      "713    InIrSe3\n",
      "714    InCrSe3\n",
      "715    TlNbSe3\n",
      "716    LaBiSe3\n",
      "717    LaInSe3\n",
      "718    LaTlSe3\n",
      "719    LaAuSe3\n",
      "720    LaRuSe3\n",
      "721    LaFeSe3\n",
      "722    LaCrSe3\n",
      "723     LaYSe3\n",
      "724     YAuSe3\n",
      "725     YCrSe3\n",
      "726     YLaSe3\n",
      "727    CaPtSe3\n",
      "728    SrPbSe3\n",
      "729    SrPdSe3\n",
      "730    SrMnSe3\n",
      "731    SrReSe3\n",
      "732    BaSnSe3\n",
      "733    BaPbSe3\n",
      "734    BaIrSe3\n",
      "735    BaReSe3\n",
      "736    BaMoSe3\n",
      "737     LiVSe3\n",
      "942    HgReSe3\n",
      "953    BiAuSe3\n",
      "954    TlRhSe3\n",
      "955    CaPdSe3\n",
      "956     RbVSe3\n",
      "Name: functional_group, dtype: object\n",
      "(37,)\n"
     ]
    }
   ],
   "source": [
    "duplicate_values = df['functional_group'].duplicated()\n",
    "duplicated_elements = df['functional_group'][duplicate_values]\n",
    "\n",
    "print(\"Duplicate elements:\")\n",
    "print(duplicated_elements)\n",
    "print(duplicated_elements.shape)"
   ]
  },
  {
   "cell_type": "code",
   "execution_count": 15,
   "metadata": {},
   "outputs": [
    {
     "data": {
      "text/html": [
       "<div>\n",
       "<style scoped>\n",
       "    .dataframe tbody tr th:only-of-type {\n",
       "        vertical-align: middle;\n",
       "    }\n",
       "\n",
       "    .dataframe tbody tr th {\n",
       "        vertical-align: top;\n",
       "    }\n",
       "\n",
       "    .dataframe thead th {\n",
       "        text-align: right;\n",
       "    }\n",
       "</style>\n",
       "<table border=\"1\" class=\"dataframe\">\n",
       "  <thead>\n",
       "    <tr style=\"text-align: right;\">\n",
       "      <th></th>\n",
       "      <th>A</th>\n",
       "      <th>A_HOMO</th>\n",
       "      <th>A_IE</th>\n",
       "      <th>A_IR</th>\n",
       "      <th>A_LUMO</th>\n",
       "      <th>A_OS</th>\n",
       "      <th>A_X</th>\n",
       "      <th>A_Z_radii</th>\n",
       "      <th>A_e_affin</th>\n",
       "      <th>B</th>\n",
       "      <th>...</th>\n",
       "      <th>density</th>\n",
       "      <th>volume</th>\n",
       "      <th>training_type</th>\n",
       "      <th>HSE_band_gap</th>\n",
       "      <th>PBE_insulator</th>\n",
       "      <th>HSE_insulator</th>\n",
       "      <th>a</th>\n",
       "      <th>b</th>\n",
       "      <th>c</th>\n",
       "      <th>composition</th>\n",
       "    </tr>\n",
       "  </thead>\n",
       "  <tbody>\n",
       "    <tr>\n",
       "      <th>0</th>\n",
       "      <td>Te</td>\n",
       "      <td>-5.952</td>\n",
       "      <td>869.2</td>\n",
       "      <td>1.870</td>\n",
       "      <td>-0.560</td>\n",
       "      <td>4</td>\n",
       "      <td>2.10</td>\n",
       "      <td>1.670</td>\n",
       "      <td>190.20</td>\n",
       "      <td>Be</td>\n",
       "      <td>...</td>\n",
       "      <td>4.368437</td>\n",
       "      <td>567.890393</td>\n",
       "      <td>set_6</td>\n",
       "      <td>0.0097</td>\n",
       "      <td>0</td>\n",
       "      <td>0</td>\n",
       "      <td>4.075319</td>\n",
       "      <td>9.180483</td>\n",
       "      <td>15.178798</td>\n",
       "      <td>(Te, Be, Se)</td>\n",
       "    </tr>\n",
       "    <tr>\n",
       "      <th>1</th>\n",
       "      <td>Te</td>\n",
       "      <td>-5.952</td>\n",
       "      <td>869.2</td>\n",
       "      <td>1.870</td>\n",
       "      <td>-0.560</td>\n",
       "      <td>4</td>\n",
       "      <td>2.10</td>\n",
       "      <td>1.670</td>\n",
       "      <td>190.20</td>\n",
       "      <td>Zn</td>\n",
       "      <td>...</td>\n",
       "      <td>5.028065</td>\n",
       "      <td>567.890393</td>\n",
       "      <td>set_6</td>\n",
       "      <td>0.0602</td>\n",
       "      <td>0</td>\n",
       "      <td>0</td>\n",
       "      <td>4.075319</td>\n",
       "      <td>9.180483</td>\n",
       "      <td>15.178798</td>\n",
       "      <td>(Te, Zn, Se)</td>\n",
       "    </tr>\n",
       "    <tr>\n",
       "      <th>2</th>\n",
       "      <td>Te</td>\n",
       "      <td>-5.952</td>\n",
       "      <td>869.2</td>\n",
       "      <td>1.870</td>\n",
       "      <td>-0.560</td>\n",
       "      <td>4</td>\n",
       "      <td>2.10</td>\n",
       "      <td>1.670</td>\n",
       "      <td>190.20</td>\n",
       "      <td>Hg</td>\n",
       "      <td>...</td>\n",
       "      <td>6.609168</td>\n",
       "      <td>567.890393</td>\n",
       "      <td>set_6</td>\n",
       "      <td>0.0175</td>\n",
       "      <td>0</td>\n",
       "      <td>0</td>\n",
       "      <td>4.075319</td>\n",
       "      <td>9.180483</td>\n",
       "      <td>15.178798</td>\n",
       "      <td>(Te, Hg, Se)</td>\n",
       "    </tr>\n",
       "    <tr>\n",
       "      <th>3</th>\n",
       "      <td>Te</td>\n",
       "      <td>-5.952</td>\n",
       "      <td>869.2</td>\n",
       "      <td>1.870</td>\n",
       "      <td>-0.560</td>\n",
       "      <td>4</td>\n",
       "      <td>2.10</td>\n",
       "      <td>1.670</td>\n",
       "      <td>190.20</td>\n",
       "      <td>Cu</td>\n",
       "      <td>...</td>\n",
       "      <td>5.006275</td>\n",
       "      <td>567.890393</td>\n",
       "      <td>set_6</td>\n",
       "      <td>0.0114</td>\n",
       "      <td>0</td>\n",
       "      <td>0</td>\n",
       "      <td>4.075319</td>\n",
       "      <td>9.180483</td>\n",
       "      <td>15.178798</td>\n",
       "      <td>(Te, Cu, Se)</td>\n",
       "    </tr>\n",
       "    <tr>\n",
       "      <th>4</th>\n",
       "      <td>Te</td>\n",
       "      <td>-5.952</td>\n",
       "      <td>869.2</td>\n",
       "      <td>1.870</td>\n",
       "      <td>-0.560</td>\n",
       "      <td>4</td>\n",
       "      <td>2.10</td>\n",
       "      <td>1.670</td>\n",
       "      <td>190.20</td>\n",
       "      <td>Ni</td>\n",
       "      <td>...</td>\n",
       "      <td>4.949518</td>\n",
       "      <td>567.890393</td>\n",
       "      <td>set_6</td>\n",
       "      <td>0.0040</td>\n",
       "      <td>0</td>\n",
       "      <td>0</td>\n",
       "      <td>4.075319</td>\n",
       "      <td>9.180483</td>\n",
       "      <td>15.178798</td>\n",
       "      <td>(Te, Ni, Se)</td>\n",
       "    </tr>\n",
       "    <tr>\n",
       "      <th>...</th>\n",
       "      <td>...</td>\n",
       "      <td>...</td>\n",
       "      <td>...</td>\n",
       "      <td>...</td>\n",
       "      <td>...</td>\n",
       "      <td>...</td>\n",
       "      <td>...</td>\n",
       "      <td>...</td>\n",
       "      <td>...</td>\n",
       "      <td>...</td>\n",
       "      <td>...</td>\n",
       "      <td>...</td>\n",
       "      <td>...</td>\n",
       "      <td>...</td>\n",
       "      <td>...</td>\n",
       "      <td>...</td>\n",
       "      <td>...</td>\n",
       "      <td>...</td>\n",
       "      <td>...</td>\n",
       "      <td>...</td>\n",
       "      <td>...</td>\n",
       "    </tr>\n",
       "    <tr>\n",
       "      <th>948</th>\n",
       "      <td>Ba</td>\n",
       "      <td>-3.235</td>\n",
       "      <td>502.9</td>\n",
       "      <td>1.610</td>\n",
       "      <td>-2.026</td>\n",
       "      <td>2</td>\n",
       "      <td>0.89</td>\n",
       "      <td>3.402</td>\n",
       "      <td>13.95</td>\n",
       "      <td>Ti</td>\n",
       "      <td>...</td>\n",
       "      <td>5.443971</td>\n",
       "      <td>514.969966</td>\n",
       "      <td>set_1</td>\n",
       "      <td>0.5571</td>\n",
       "      <td>1</td>\n",
       "      <td>1</td>\n",
       "      <td>3.944580</td>\n",
       "      <td>8.885966</td>\n",
       "      <td>14.691850</td>\n",
       "      <td>(Ba, Ti, Se)</td>\n",
       "    </tr>\n",
       "    <tr>\n",
       "      <th>949</th>\n",
       "      <td>K</td>\n",
       "      <td>-2.330</td>\n",
       "      <td>418.8</td>\n",
       "      <td>1.640</td>\n",
       "      <td>-0.793</td>\n",
       "      <td>1</td>\n",
       "      <td>0.82</td>\n",
       "      <td>3.690</td>\n",
       "      <td>48.40</td>\n",
       "      <td>Ta</td>\n",
       "      <td>...</td>\n",
       "      <td>5.987427</td>\n",
       "      <td>506.891366</td>\n",
       "      <td>set_1</td>\n",
       "      <td>0.9214</td>\n",
       "      <td>1</td>\n",
       "      <td>1</td>\n",
       "      <td>3.923844</td>\n",
       "      <td>8.839255</td>\n",
       "      <td>14.614619</td>\n",
       "      <td>(K, Ta, Se)</td>\n",
       "    </tr>\n",
       "    <tr>\n",
       "      <th>950</th>\n",
       "      <td>La</td>\n",
       "      <td>-2.885</td>\n",
       "      <td>538.1</td>\n",
       "      <td>1.425</td>\n",
       "      <td>-2.881</td>\n",
       "      <td>3</td>\n",
       "      <td>1.10</td>\n",
       "      <td>3.080</td>\n",
       "      <td>50.00</td>\n",
       "      <td>Rh</td>\n",
       "      <td>...</td>\n",
       "      <td>6.979987</td>\n",
       "      <td>455.522342</td>\n",
       "      <td>set_1</td>\n",
       "      <td>0.4571</td>\n",
       "      <td>1</td>\n",
       "      <td>1</td>\n",
       "      <td>3.786547</td>\n",
       "      <td>8.529965</td>\n",
       "      <td>14.103246</td>\n",
       "      <td>(La, Rh, Se)</td>\n",
       "    </tr>\n",
       "    <tr>\n",
       "      <th>951</th>\n",
       "      <td>Ba</td>\n",
       "      <td>-3.235</td>\n",
       "      <td>502.9</td>\n",
       "      <td>1.610</td>\n",
       "      <td>-2.026</td>\n",
       "      <td>2</td>\n",
       "      <td>0.89</td>\n",
       "      <td>3.402</td>\n",
       "      <td>13.95</td>\n",
       "      <td>Zr</td>\n",
       "      <td>...</td>\n",
       "      <td>5.450586</td>\n",
       "      <td>567.180352</td>\n",
       "      <td>set_1</td>\n",
       "      <td>0.9872</td>\n",
       "      <td>1</td>\n",
       "      <td>1</td>\n",
       "      <td>4.073620</td>\n",
       "      <td>9.176655</td>\n",
       "      <td>15.172469</td>\n",
       "      <td>(Ba, Zr, Se)</td>\n",
       "    </tr>\n",
       "    <tr>\n",
       "      <th>952</th>\n",
       "      <td>Ge</td>\n",
       "      <td>-3.894</td>\n",
       "      <td>762.1</td>\n",
       "      <td>1.460</td>\n",
       "      <td>-0.529</td>\n",
       "      <td>2</td>\n",
       "      <td>2.01</td>\n",
       "      <td>1.560</td>\n",
       "      <td>116.00</td>\n",
       "      <td>Mn</td>\n",
       "      <td>...</td>\n",
       "      <td>5.774976</td>\n",
       "      <td>419.185662</td>\n",
       "      <td>set_3</td>\n",
       "      <td>0.0000</td>\n",
       "      <td>0</td>\n",
       "      <td>0</td>\n",
       "      <td>3.683061</td>\n",
       "      <td>8.296842</td>\n",
       "      <td>13.717807</td>\n",
       "      <td>(Ge, Mn, Se)</td>\n",
       "    </tr>\n",
       "  </tbody>\n",
       "</table>\n",
       "<p>920 rows × 42 columns</p>\n",
       "</div>"
      ],
      "text/plain": [
       "      A  A_HOMO   A_IE   A_IR  A_LUMO  A_OS   A_X  A_Z_radii  A_e_affin   B  \\\n",
       "0    Te  -5.952  869.2  1.870  -0.560     4  2.10      1.670     190.20  Be   \n",
       "1    Te  -5.952  869.2  1.870  -0.560     4  2.10      1.670     190.20  Zn   \n",
       "2    Te  -5.952  869.2  1.870  -0.560     4  2.10      1.670     190.20  Hg   \n",
       "3    Te  -5.952  869.2  1.870  -0.560     4  2.10      1.670     190.20  Cu   \n",
       "4    Te  -5.952  869.2  1.870  -0.560     4  2.10      1.670     190.20  Ni   \n",
       "..   ..     ...    ...    ...     ...   ...   ...        ...        ...  ..   \n",
       "948  Ba  -3.235  502.9  1.610  -2.026     2  0.89      3.402      13.95  Ti   \n",
       "949   K  -2.330  418.8  1.640  -0.793     1  0.82      3.690      48.40  Ta   \n",
       "950  La  -2.885  538.1  1.425  -2.881     3  1.10      3.080      50.00  Rh   \n",
       "951  Ba  -3.235  502.9  1.610  -2.026     2  0.89      3.402      13.95  Zr   \n",
       "952  Ge  -3.894  762.1  1.460  -0.529     2  2.01      1.560     116.00  Mn   \n",
       "\n",
       "     ...   density      volume  training_type  HSE_band_gap  PBE_insulator  \\\n",
       "0    ...  4.368437  567.890393          set_6        0.0097              0   \n",
       "1    ...  5.028065  567.890393          set_6        0.0602              0   \n",
       "2    ...  6.609168  567.890393          set_6        0.0175              0   \n",
       "3    ...  5.006275  567.890393          set_6        0.0114              0   \n",
       "4    ...  4.949518  567.890393          set_6        0.0040              0   \n",
       "..   ...       ...         ...            ...           ...            ...   \n",
       "948  ...  5.443971  514.969966          set_1        0.5571              1   \n",
       "949  ...  5.987427  506.891366          set_1        0.9214              1   \n",
       "950  ...  6.979987  455.522342          set_1        0.4571              1   \n",
       "951  ...  5.450586  567.180352          set_1        0.9872              1   \n",
       "952  ...  5.774976  419.185662          set_3        0.0000              0   \n",
       "\n",
       "     HSE_insulator         a         b          c   composition  \n",
       "0                0  4.075319  9.180483  15.178798  (Te, Be, Se)  \n",
       "1                0  4.075319  9.180483  15.178798  (Te, Zn, Se)  \n",
       "2                0  4.075319  9.180483  15.178798  (Te, Hg, Se)  \n",
       "3                0  4.075319  9.180483  15.178798  (Te, Cu, Se)  \n",
       "4                0  4.075319  9.180483  15.178798  (Te, Ni, Se)  \n",
       "..             ...       ...       ...        ...           ...  \n",
       "948              1  3.944580  8.885966  14.691850  (Ba, Ti, Se)  \n",
       "949              1  3.923844  8.839255  14.614619   (K, Ta, Se)  \n",
       "950              1  3.786547  8.529965  14.103246  (La, Rh, Se)  \n",
       "951              1  4.073620  9.176655  15.172469  (Ba, Zr, Se)  \n",
       "952              0  3.683061  8.296842  13.717807  (Ge, Mn, Se)  \n",
       "\n",
       "[920 rows x 42 columns]"
      ]
     },
     "execution_count": 15,
     "metadata": {},
     "output_type": "execute_result"
    }
   ],
   "source": [
    "indices_to_remove = df[duplicate_values].index\n",
    "\n",
    "# Remove rows with duplicate occurrences\n",
    "df = df.drop(indices_to_remove)\n",
    "\n",
    "# Print the modified DataFrame\n",
    "df"
   ]
  },
  {
   "cell_type": "markdown",
   "metadata": {},
   "source": [
    "## Visualizing PBE bandgap values vs HSE Bandgap values"
   ]
  },
  {
   "cell_type": "code",
   "execution_count": 16,
   "metadata": {},
   "outputs": [
    {
     "data": {
      "application/vnd.plotly.v1+json": {
       "config": {
        "plotlyServerURL": "https://plot.ly",
        "toImageButtonOptions": {
         "filename": "custom_image",
         "format": "png",
         "height": 500,
         "scale": 6,
         "width": 700
        }
       },
       "data": [
        {
         "hovertemplate": "PBE Band Gap=%{x}<br>HSE Band Gap=%{y}<extra></extra>",
         "legendgroup": "",
         "marker": {
          "color": "royalblue",
          "symbol": "circle"
         },
         "mode": "markers",
         "name": "",
         "orientation": "v",
         "showlegend": false,
         "type": "scatter",
         "x": [
          0.0181,
          0.051800000000000006,
          0.0383,
          0.0074999999999990005,
          0.028200000000000003,
          0,
          0.012100000000000001,
          0.028999999999999002,
          0.023000000000000003,
          0.07100000000000001,
          0.11799999999999901,
          0.038899999999999005,
          0.7155,
          0.09089999999999901,
          0.153399999999999,
          0.016499999999999,
          0.1817,
          0.042699999999999,
          0.0064999999999990005,
          0.0038000000000000004,
          0.020800000000000003,
          0.06760000000000001,
          0.075599999999999,
          0.10010000000000001,
          0.7585000000000001,
          0.11379999999999901,
          0.049499999999999,
          0.6574,
          0.17750000000000002,
          0.0815,
          0.1222,
          0.9169,
          0.0221,
          0.008199999999999001,
          0.35649999999999904,
          0.0137,
          0.032599999999999005,
          0.055299999999999,
          0.008,
          0.009199999999999,
          0.013199999999999,
          0.096,
          0.6664999999999991,
          0.011499999999999,
          0.315399999999999,
          0.032999999999999,
          0.0018000000000000002,
          0.051000000000000004,
          0.1164,
          0.28450000000000003,
          0.8980999999999991,
          1.3011,
          1.1993,
          0.0529,
          0.2096,
          0.029799999999999,
          0.006899999999999001,
          0.1184,
          0.030899999999999,
          0.032100000000000004,
          0.024099999999999,
          0.017,
          0.14700000000000002,
          0.8607999999999991,
          0.5697000000000001,
          0.651199999999999,
          0.053099999999999,
          0.28450000000000003,
          0.022399999999999,
          0.08070000000000001,
          0.027700000000000002,
          1.3412,
          1.255599999999999,
          0.0175,
          0.11190000000000001,
          0.011599999999999002,
          0.007,
          0.074799999999999,
          0.1333,
          0.329899999999999,
          0.014299999999999001,
          0.0864,
          0.7581000000000001,
          0.9256000000000001,
          0.035299999999999006,
          0.0020999999999990002,
          0.00019999999999900002,
          0.8096999999999991,
          0.023999999999999,
          0.005900000000000001,
          0.020100000000000003,
          0.049,
          0.057199999999999,
          0.6626000000000001,
          0.006,
          0.30960000000000004,
          0.064999999999999,
          0.022000000000000002,
          0.062199999999999006,
          0.052499999999999006,
          0.33939999999999904,
          0.1872,
          0.024799999999999003,
          0.064599999999999,
          0.066399999999999,
          0.049299999999999004,
          0.016,
          0.315799999999999,
          0.008,
          0.055499999999999,
          0.0020999999999990002,
          0.015600000000000001,
          0.677999999999999,
          0.012399999999999,
          0.012899999999999,
          0.013800000000000002,
          0.022499999999999003,
          0.0189,
          0.017399999999999003,
          0.025900000000000003,
          0.17240000000000003,
          0.1874,
          0.010199999999999002,
          0.0068000000000000005,
          0.047099999999999004,
          0.010599999999999,
          0.025799999999999,
          0.016,
          0.005999999999999,
          0.031400000000000004,
          0.012100000000000001,
          0.032900000000000006,
          0.0009999999999990002,
          0.6726999999999991,
          0.125,
          0.08040000000000001,
          0.042699999999999,
          0.029199999999999,
          0.027800000000000002,
          0.024300000000000002,
          0.007699999999999,
          0.003899999999999,
          0.037899999999999004,
          0.20340000000000003,
          0.10729999999999901,
          0.07730000000000001,
          1.052499999999999,
          0.915899999999999,
          0.003399999999999,
          0.059000000000000004,
          0.12460000000000002,
          0.018499999999999,
          0.1183,
          0.008199999999999001,
          1.993399999999999,
          0.894899999999999,
          0.004799999999999,
          0.0031000000000000003,
          0.021199999999999,
          0.010099999999999,
          0.029400000000000003,
          0.8954999999999991,
          0.016599999999999,
          0.0187,
          1.200799999999999,
          0.015099999999999001,
          0.9657999999999991,
          0.017900000000000003,
          0.031400000000000004,
          1.4593,
          0.8236000000000001,
          0.006199999999999001,
          0.8464,
          0.004,
          0.007300000000000001,
          0.0034000000000000002,
          0.142799999999999,
          1.3771,
          0.035499999999999005,
          0.054899999999999005,
          0.018699999999999002,
          0.655899999999999,
          1.357099999999999,
          0.653999999999999,
          0.29289999999999905,
          0.013600000000000001,
          0.034100000000000005,
          0.003699999999999,
          0.029099999999999,
          0.925999999999999,
          0.035299999999999006,
          0.028999999999999002,
          0.0117,
          0.451899999999999,
          0.024099999999999,
          0.028200000000000003,
          0.0158,
          0.041599999999999006,
          0.024700000000000003,
          0.0034999999999990004,
          0.007200000000000001,
          0.07990000000000001,
          0.021799999999999,
          0.035800000000000005,
          0.034499999999999004,
          0.6562,
          0.020999999999999002,
          0.0381,
          0.027199999999999003,
          0.011000000000000001,
          0.0067,
          0.042300000000000004,
          0.06909999999999901,
          0.0726,
          0.617,
          0.0659,
          0.045199999999999005,
          0.035899999999999,
          0.026599999999999003,
          0.026899999999999,
          0.0048000000000000004,
          0.014299999999999001,
          0.0091,
          0.0034999999999990004,
          0.037999999999999,
          0.034,
          0.042699999999999,
          0.42599999999999905,
          0.0383,
          0.5834,
          0.021900000000000003,
          0.017899999999999,
          0.005900000000000001,
          0.01,
          0.013300000000000001,
          0.013000000000000001,
          0.7323000000000001,
          0.0158,
          0.023699999999999003,
          0.0364,
          0.0036000000000000003,
          0.068799999999999,
          0.036399999999999,
          0.025999999999999003,
          0.054799999999999,
          0.051899999999999,
          0.0187,
          0.0154,
          0.031299999999999,
          0.0014999999999990002,
          0.004899999999999001,
          0.030199999999999002,
          0.008199999999999001,
          0.0268,
          0.048699999999999,
          0.010099999999999,
          0.7234,
          0.0134,
          0.0227,
          0.5749999999999991,
          0.06519999999999901,
          0.21249999999999902,
          0.2669,
          0.0077,
          0.13439999999999902,
          0.0102,
          0.0884,
          0.0091,
          0.0315,
          0.060999999999999006,
          0.373899999999999,
          0.273099999999999,
          0.16540000000000002,
          0.0756,
          0.5227,
          0.0425,
          0.020899999999999003,
          0.058100000000000006,
          0.0020999999999990002,
          0.0071,
          0.0033000000000000004,
          0.015300000000000001,
          0.07149999999999901,
          0.0015,
          0.040999999999999,
          0.0432,
          0.14319999999999902,
          0.003,
          0.0758,
          0.0041999999999990005,
          0.024699999999999,
          0.010299999999999001,
          0.025799999999999,
          0.027399999999999,
          0.024999999999999002,
          0.0632,
          0.0099,
          0.0216,
          0.005600000000000001,
          0.0024000000000000002,
          0.0064999999999990005,
          0.064499999999999,
          0.032899999999999,
          0.040799999999999004,
          0.010699999999999,
          0.020599999999999,
          0.007200000000000001,
          0.05670000000000001,
          0.027699999999999003,
          0.026299999999999,
          0.008799999999999001,
          0.061700000000000005,
          0.05330000000000001,
          0.015799999999999002,
          0.0013999999999990001,
          0.022299999999999,
          0.006699999999999,
          0.088299999999999,
          0.07149999999999901,
          0.1701,
          0.04939999999999901,
          0.002199999999999,
          0.554999999999999,
          0.08860000000000001,
          0.020299999999999003,
          0.05670000000000001,
          0.032900000000000006,
          0.013799999999999,
          0.030499999999999004,
          0.05960000000000001,
          0.018499999999999,
          0.029599999999999002,
          0.23019999999999902,
          0.12529999999999902,
          0.2399,
          0.045399999999999004,
          0.024,
          0.041299999999999004,
          0.026799999999999,
          0.012999999999999,
          0.024700000000000003,
          0.044999999999999006,
          0.07149999999999901,
          0.006599999999999001,
          0.008599999999999,
          0.020699999999999,
          0.0029000000000000002,
          0.006500000000000001,
          0.030499999999999004,
          0.0211,
          0.0044999999999990005,
          0.022400000000000003,
          0.0198,
          0.26569999999999905,
          0.0256,
          0.08959999999999901,
          0.6557000000000001,
          0.21729999999999902,
          0.022600000000000002,
          0.0094,
          0.020699999999999,
          0.6806000000000001,
          0.025999999999999003,
          0.20549999999999902,
          0.010299999999999001,
          0.015099999999999001,
          0.008100000000000001,
          0.077599999999999,
          0.001199999999999,
          0.05040000000000001,
          0.025200000000000004,
          0.7795999999999991,
          0.18700000000000003,
          0.038700000000000005,
          0.0134,
          0.013900000000000001,
          0.05790000000000001,
          0.025399999999999003,
          0.006,
          0.019000000000000003,
          0.010699999999999,
          0.006500000000000001,
          0.0041999999999990005,
          0.657799999999999,
          0.0014000000000000002,
          0.021399999999999003,
          0.018699999999999002,
          0.206799999999999,
          0.0297,
          0.028599999999999,
          0.013000000000000001,
          0.030600000000000002,
          0.028799999999999003,
          0.006600000000000001,
          0.007199999999999001,
          0.018299999999999,
          0.0026000000000000003,
          0.0022999999999990003,
          0.0036000000000000003,
          0.001699999999999,
          0.012,
          0.032099999999999004,
          0.0027999999999990003,
          0.010299999999999001,
          0.015200000000000002,
          0.006500000000000001,
          0.012199999999999002,
          0.014400000000000001,
          0.006199999999999001,
          0.015699999999999003,
          0.05,
          0.018000000000000002,
          0.0071,
          0.007500000000000001,
          0.010799999999999001,
          0.029300000000000003,
          0.004900000000000001,
          0.027700000000000002,
          0.0055000000000000005,
          0.11359999999999901,
          0.0083,
          0.013800000000000002,
          0.0335,
          0.081599999999999,
          0.061700000000000005,
          0.0165,
          0.020099999999999,
          0.232299999999999,
          0.036000000000000004,
          0.041299999999999004,
          0.0495,
          0.0442,
          0.0074,
          0.051999999999999005,
          0.038899999999999005,
          0.045599999999999,
          0.018699999999999002,
          0.032,
          0.026999999999999,
          0.071399999999999,
          0.16259999999999902,
          0.0718,
          0.056799999999999004,
          0.012999999999999,
          0.0339,
          0.0158,
          0.010900000000000002,
          0.0205,
          0.007699999999999,
          0,
          0.008100000000000001,
          0.0649,
          0.0117,
          0.0119,
          0.0171,
          0.009399999999999001,
          0.032099999999999004,
          0.0195,
          0.0035999999999990003,
          0.0009999999999990002,
          0.044699999999999004,
          0.006099999999999,
          0.004999999999999,
          0.044000000000000004,
          0.1081,
          0.001699999999999,
          0.016999999999999002,
          0.017400000000000002,
          0.059800000000000006,
          0.002899999999999,
          0.0034999999999990004,
          0.006099999999999,
          0.022699999999999002,
          0.016399999999999002,
          0.008499999999999001,
          0.0024000000000000002,
          0.026600000000000002,
          0.0119,
          0.021799999999999,
          0.012199999999999002,
          0.008599999999999,
          0.012900000000000002,
          0.017099999999999,
          0.002,
          0.014400000000000001,
          0.0106,
          0.006299999999999001,
          0.0106,
          0.0114,
          0.003899999999999,
          0.004900000000000001,
          0.014699999999999,
          0.016799999999999,
          0.013099999999999001,
          0.012999999999999,
          0.011699999999999001,
          0.019699999999999003,
          0.014,
          0.0037,
          0.14650000000000002,
          0.0845,
          0.0334,
          0.016,
          0.0347,
          0.020499999999999,
          0.018600000000000002,
          0.0025,
          0.025999999999999003,
          0.0194,
          0.014700000000000001,
          0.022799999999999,
          0.143399999999999,
          0.0971,
          0.594299999999999,
          0.015499999999999,
          0.042499999999999004,
          0.006899999999999001,
          0.017400000000000002,
          0.010900000000000002,
          0.010499999999999001,
          0.004699999999999,
          0.012199999999999002,
          0.06860000000000001,
          0.0117,
          0.021499999999999003,
          0.012099999999999,
          0.0171,
          0.016800000000000002,
          0.0022999999999990003,
          0.016399999999999002,
          0.020799999999999003,
          0.009600000000000001,
          0.023899999999999002,
          0.007200000000000001,
          0.0041999999999990005,
          0.011800000000000001,
          0.0057,
          0.0047,
          0.0091,
          0.044999999999999006,
          0.0033000000000000004,
          0.0022999999999990003,
          0.004099999999999,
          0.011800000000000001,
          0.005099999999999,
          0.002699999999999,
          0.0117,
          0.027199999999999003,
          0.0199,
          0.051800000000000006,
          0.0045000000000000005,
          0.013399999999999001,
          0.016399999999999002,
          0.0114,
          0.044000000000000004,
          0.0068000000000000005,
          0.0041,
          0.005200000000000001,
          0.004900000000000001,
          0.004299999999999,
          0.005600000000000001,
          0.003,
          0.014100000000000001,
          0.0117,
          0.0019000000000000002,
          0.07939999999999901,
          0.13520000000000001,
          0.012299999999999001,
          0.026399999999999,
          0.022399999999999,
          0.011000000000000001,
          0.012599999999999001,
          0.0108,
          0.009099999999999001,
          0.015399999999999001,
          0.0009000000000000001,
          0.007099999999999,
          0.013599999999999002,
          0.007300000000000001,
          0.0011,
          0.0057,
          0.004999999999999,
          0.0034000000000000002,
          0.10599999999999901,
          0.6516000000000001,
          0.858599999999999,
          0.026499999999999004,
          0.012599999999999001,
          0.024100000000000003,
          0.056400000000000006,
          0.014499999999999002,
          0.10310000000000001,
          0.0085,
          0.0188,
          0.006999999999999001,
          0.0047,
          0.17089999999999902,
          0.006399999999999,
          0.011800000000000001,
          0.012999999999999,
          0.013099999999999001,
          0.034899999999999,
          0.034999999999999004,
          0.0165,
          0.0027,
          0.007,
          0.016299999999999003,
          0.010900000000000002,
          0.035599999999999,
          0.0078000000000000005,
          0.040699999999999,
          0.038200000000000005,
          0.05740000000000001,
          0.048299999999999,
          0.080999999999999,
          0.039799999999999,
          0.06519999999999901,
          0.071899999999999,
          0.149199999999999,
          0.15479999999999902,
          0.113999999999999,
          0.019599999999999,
          0.040099999999999004,
          0.020299999999999003,
          0.004,
          0.005099999999999,
          0.0285,
          0.9878999999999991,
          1.2408000000000001,
          0.001099999999999,
          1.6325,
          0.7614999999999991,
          0.634599999999999,
          0.043300000000000005,
          0.05550000000000001,
          0.0034999999999990004,
          0.6222999999999991,
          0.027099999999999003,
          0.09759999999999901,
          0.019099999999999003,
          0.029300000000000003,
          0.13060000000000002,
          0.8156999999999991,
          0.090599999999999,
          0.060599999999999,
          0.0644,
          0.1282,
          0.0413,
          0.16260000000000002,
          0.013500000000000002,
          0.028099999999999,
          0.0014999999999990002,
          0.004799999999999,
          0.1429,
          0.11140000000000001,
          0.06960000000000001,
          0.040900000000000006,
          0.09290000000000001,
          0.0792,
          0.0176,
          0.008399999999999,
          0.011399999999999001,
          0.16890000000000002,
          0.008,
          0.0868,
          0.002899999999999,
          0.066899999999999,
          0.008,
          0.019200000000000002,
          0.007300000000000001,
          0.0038000000000000004,
          0.020300000000000002,
          0.1915,
          0.016799999999999,
          0.005299999999999001,
          0.035099999999999,
          0.10639999999999901,
          0.0665,
          0.057100000000000005,
          0.09100000000000001,
          0.030299999999999,
          0.009499999999999,
          0.018899999999999,
          0.17470000000000002,
          0.006699999999999,
          0.004299999999999,
          0.0239,
          0.07679999999999901,
          0.0463,
          0.6425000000000001,
          0.023199999999999003,
          0.021599999999999002,
          0.0102,
          0.061900000000000004,
          0.0068000000000000005,
          0.019200000000000002,
          0.044399999999999,
          0.012599999999999001,
          0.012599999999999001,
          0.013900000000000001,
          0.0412,
          0.0041,
          0.041799999999999005,
          0.0106,
          0.30760000000000004,
          0.019700000000000002,
          0.27939999999999904,
          0.29760000000000003,
          0.029199999999999,
          0.13689999999999902,
          0.10510000000000001,
          0.1965,
          0.134,
          0.25260000000000005,
          0.46530000000000005,
          0.43650000000000005,
          0.2174,
          0.2353,
          0,
          0,
          0,
          0,
          0.4011,
          0,
          0,
          0,
          0,
          1.0164,
          0,
          0,
          0.7149000000000001,
          0.633799999999999,
          0.3498,
          0.043300000000000005,
          0,
          0,
          0.446499999999999,
          0,
          0.046699999999999006,
          0.06570000000000001,
          0,
          0.0055000000000000005,
          0.0167,
          0.0176,
          0.008799999999999001,
          0,
          0.0543,
          0.45219999999999905,
          0.23289999999999902,
          0,
          0.0478,
          0.8954999999999991,
          0.30310000000000004,
          0,
          0,
          0,
          0,
          0.3773,
          0,
          0,
          0.046400000000000004,
          0,
          0,
          0.15580000000000002,
          0,
          0,
          0.23550000000000001,
          0.1082,
          0.09350000000000001,
          0.0625,
          0,
          0.6786000000000001,
          0,
          0.41140000000000004,
          0.6699,
          0.10829999999999901,
          0.8971999999999991,
          0,
          0,
          0.041,
          0,
          0,
          0.129199999999999,
          0.38379999999999903,
          0,
          0,
          0,
          0,
          0.06659999999999901,
          0.068899999999999,
          0,
          0,
          0.44560000000000005,
          0,
          0,
          0,
          0,
          0.00009999999999976696,
          0.1368,
          0.08569999999999901,
          0.30649999999999905,
          0,
          0,
          0.18780000000000002,
          0.684999999999999,
          0.6774,
          0,
          0.1552,
          0,
          0.12389999999999901,
          0.34379999999999905,
          0.9281,
          0.168099999999999,
          0,
          0.439899999999999,
          0,
          0,
          0,
          0,
          0,
          0,
          0,
          0.206599999999999,
          0,
          0,
          0.174599999999999,
          0,
          0,
          0,
          0.18199999999999902,
          0,
          0,
          0,
          0,
          0,
          0,
          0,
          0,
          0.44450000000000006,
          1.2418,
          0,
          0,
          0.7010000000000001,
          0.0068000000000000005,
          0.15989999999999902,
          0,
          0.43169999999999903,
          0,
          0,
          0.11730000000000002,
          0.0695,
          0.35189999999999905,
          0.9927999999999991,
          0.039899999999999006,
          0,
          0,
          0,
          0,
          0,
          0,
          0,
          0.009500000000000001,
          0.1545,
          0,
          0,
          0,
          0,
          0,
          0,
          0,
          0.30670000000000003,
          0,
          0.08569999999999901,
          0,
          0,
          0.033599999999999006,
          0,
          0.0039000000000000003,
          0,
          0.254899999999999,
          1.344799999999999,
          0.21749999999999903,
          0,
          0.5144000000000001,
          0,
          0,
          0.0009000000000000001,
          0,
          0,
          0.2023,
          0,
          0,
          0.0345,
          0,
          0,
          0,
          1.1635,
          0.23649999999999902,
          0.639099999999999,
          0,
          0.168799999999999,
          0.2923,
          0,
          0,
          0.21730000000000002,
          0.211899999999999,
          0,
          0,
          0,
          0.107599999999999,
          0.2126,
          0.31659999999999905,
          0.7874000000000001,
          0.19839999999999902,
          0.2451,
          0.17819999999999903,
          0.37620000000000003,
          0.1534,
          0.3603,
          0
         ],
         "xaxis": "x",
         "y": [
          0.0097,
          0.060200000000000004,
          0.0175,
          0.0114,
          0.004,
          0,
          0.049400000000000006,
          0.033599999999999006,
          0.039200000000000006,
          0.8216999999999991,
          0.34890000000000004,
          0.0188,
          1.267799999999999,
          0.063,
          0.09230000000000001,
          0.020499999999999,
          0.48290000000000005,
          0.595699999999999,
          0.7791,
          0.07159999999999901,
          0.049400000000000006,
          0.6568,
          0.6078,
          0.8896000000000001,
          0.7791,
          0.6039999999999991,
          0.15879999999999903,
          0.8138999999999991,
          0.570399999999999,
          0.875,
          0.658799999999999,
          1.5671,
          0.007300000000000001,
          0.0053,
          0.0028000000000000004,
          0.027700000000000002,
          0.034300000000000004,
          1.066599999999999,
          0.0131,
          0.024999999999999002,
          0.038599999999999,
          0.11119999999999901,
          1.2699999999999991,
          0.046000000000000006,
          0.5386999999999991,
          0.7914000000000001,
          0.038000000000000006,
          0.6122000000000001,
          0.6911,
          0.6745999999999991,
          1.5325000000000002,
          1.888399999999999,
          1.8559,
          0.0102,
          0.073199999999999,
          0.7634999999999991,
          1.0015,
          0.9638000000000001,
          0.7982,
          0.6254999999999991,
          0.0723,
          0.019700000000000002,
          0.074099999999999,
          1.4421,
          0.07149999999999901,
          0.2801,
          0.0175,
          0.547099999999999,
          0.1575,
          0.1577,
          0.0273,
          1.9879000000000002,
          1.8982,
          0.005999999999999,
          1.0277,
          0.056299999999999004,
          0.010899999999999,
          0.019699999999998,
          0.7844999999999991,
          0.7032,
          1.0406,
          0.004699999999999,
          1.5059,
          1.6531,
          0.9496999999999991,
          0.047900000000000005,
          0.004099999999999,
          1.5430000000000001,
          0.0391,
          0.015199999999999,
          0.007299999999999001,
          1.182699999999999,
          0.06319999999999901,
          1.4484,
          0.046699999999999006,
          0.5817999999999991,
          0.0553,
          0.038200000000000005,
          0.095,
          0.018000000000000002,
          0.5884,
          0.013799999999999,
          0.051599999999999,
          0.05380000000000001,
          0.09489999999999901,
          0.044800000000000006,
          0.0234,
          0.44480000000000003,
          0.010899999999999,
          0.08179999999999901,
          0.1081,
          0.010700000000000001,
          0.054599999999999003,
          0.013500000000000002,
          0.009000000000000001,
          0.006099999999999,
          0.21760000000000002,
          0.028200000000000003,
          0.0137,
          0.036399999999999,
          0.11730000000000002,
          0.021,
          0.034799999999999005,
          0.018600000000000002,
          0.034399999999999,
          0.021599999999999002,
          0.037799999999999,
          0.0291,
          0.013199999999999,
          0.030699999999999002,
          0.0158,
          0.010499999999999001,
          0.014100000000000001,
          1.184699999999999,
          0.07980000000000001,
          0.292699999999999,
          0.070899999999999,
          0.0318,
          0.069699999999999,
          0.039299999999999,
          0.0106,
          0.016099999999999,
          0.1874,
          0.034600000000000006,
          0.0417,
          1.0217,
          1.7881,
          1.5769000000000002,
          0.0274,
          0.17070000000000002,
          0.146099999999999,
          0.0037999999999990004,
          0.9437000000000001,
          0.021199999999999,
          2.8630999999999993,
          0.066099999999999,
          0.9367000000000001,
          0.0154,
          1.0014,
          0.024,
          1.1298,
          0.0051999999999980005,
          0.0064,
          0.009000000000000001,
          1.9620000000000002,
          0.008799999999999001,
          1.6014,
          0.04939999999999901,
          0.017400000000000002,
          2.2312,
          1.531899999999999,
          0.008999999999999,
          1.7229,
          0.025699999999996,
          0.050799999999999006,
          0.009899999999999002,
          0.851399999999999,
          2.0829,
          0.007099999999999,
          0.032099999999999004,
          0.022599999999999003,
          0.8372,
          2.134,
          1.3062,
          0.6494,
          0.023699999999999003,
          0.017600000000001,
          0.025000000000002003,
          0.015600000000000001,
          1.5725,
          0.0041,
          0.0041999999999990005,
          0.0125,
          0.36139999999999906,
          0.005900000000000001,
          0.0221,
          0.018499999999999,
          0.004699999999999,
          0.0036000000000000003,
          0.014100000000000001,
          0.0442,
          0.0335,
          0.011000000000000001,
          0.024699999999999,
          0.0194,
          1.2770000000000001,
          0.028699999999999,
          0.081099999999999,
          0.0441,
          0.0154,
          0.036799999999999,
          0.006699999999999,
          0.019199999999999003,
          0.028499999999999002,
          1.359,
          0.0645,
          0.11460000000000001,
          0.034100000000000005,
          0.0108,
          0.015199999999999,
          0.028599999999999,
          0.121299999999999,
          0.047400000000000005,
          0.036500000000000005,
          0.0726,
          0.0611,
          0.11179999999999901,
          1.1219000000000001,
          0.9032999999999991,
          1.312,
          0.0337,
          0.0037,
          0.008499999999999001,
          0.020899999999999003,
          0.0178,
          0.087699999999999,
          1.5315999999999992,
          0.07549999999999901,
          0.09190000000000001,
          0.039899999999999006,
          0.0027999999999990003,
          0.028599999999999,
          0.068999999999999,
          0.077599999999999,
          0.010399999999999,
          0.049300000000000004,
          0.0024000000000000002,
          0.002199999999999,
          0.028700000000000003,
          0.017400000000000002,
          0.007,
          0.024599999999999,
          0.009599999999999,
          0.033199999999999,
          0.025400000000000002,
          0.0028000000000000004,
          1.4893,
          0.013900000000000001,
          0.05809999999999901,
          1.124599999999999,
          0.2202,
          0.1554,
          0.530799999999999,
          0.16239999999999902,
          0.149699999999999,
          0.016799999999999,
          0.0117,
          0.0206,
          0.04429999999999901,
          0.06719999999999901,
          0.0044999999999990005,
          0.43370000000000003,
          0.9049,
          0.006500000000000001,
          0.010699999999999,
          0.021499999999999003,
          0.039400000000000004,
          0.035399999999999,
          0.0257,
          0.021099999999999,
          0.0030999999999990003,
          0.05569999999999901,
          0.1101,
          0.0363,
          0.015000000000000001,
          0.34140000000000004,
          0.029399999999999003,
          0.045700000000000005,
          0.0722,
          0.023899999999999002,
          0.006699999999999,
          0.089799999999999,
          0.009799999999999,
          0.0297,
          0.0159,
          0.00019999999999900002,
          0.041799999999999005,
          0.030299999999999,
          0.0178,
          0.019899999999999002,
          0.11699999999999701,
          0.0165,
          0.043499999999999005,
          0.07550000000000001,
          0.0359,
          0.0182,
          0.033100000000000004,
          0.10260000000000001,
          0.6025,
          0.1097,
          0.0471,
          0.086299999999999,
          0.048799999999999004,
          0.24549999999999902,
          0.009800000000000001,
          0.083499999999999,
          0.019999999999999,
          0.26119999999999904,
          0.051899999999999,
          0.16790000000000002,
          0.0166,
          0.0032,
          1.2011,
          0.022899999999999,
          0.2358,
          0.018299999999999,
          0.0273,
          0.015499999999999,
          0.067499999999999,
          0.014700000000000001,
          0.014499999999999002,
          0.9903000000000001,
          0.7756999999999991,
          0.7685000000000001,
          0.433899999999999,
          0.12339999999999901,
          0.2399,
          0.024799999999999003,
          0.0198,
          0.038799999999999,
          0.133199999999999,
          0.073199999999999,
          0.039899999999999006,
          0.012599999999999001,
          0.1499,
          0.07779999999999901,
          0.025800000000000003,
          0.04429999999999901,
          0.29460000000000003,
          0.0432,
          0.036000000000000004,
          0.050399999999999,
          0.758999999999999,
          0.9729999999999991,
          1.2353,
          0.6847999999999991,
          1.247499999999999,
          1.012399999999999,
          0.8362,
          0.016200000000000003,
          0.7941,
          1.4806,
          0.8220000000000001,
          0.6337,
          0.048299999999999,
          0.040999999999999,
          0.002699999999999,
          1.126999999999999,
          0.011600000000000001,
          0.033299999999999004,
          0.010699999999999,
          1.556,
          0.9553,
          0.25779999999999903,
          0.036499999999999005,
          0.0434,
          0.0335,
          0.005600000000000001,
          0.014599999999999001,
          0.061799999999999,
          0.0234,
          0.0068000000000000005,
          0.006199999999999001,
          1.200299999999999,
          0.0181,
          0.10010000000000001,
          0.025800000000000003,
          0.07440000000000001,
          0.023500000000000004,
          0.7372000000000001,
          0.0041999999999990005,
          0.8582000000000001,
          0.029599999999999002,
          0.009800000000000001,
          0.10200000000000001,
          0.037199999999999005,
          0.002199999999999,
          0.017900000000000003,
          0.024499999999999002,
          0.0134,
          0.015000000000000001,
          0.016899999999999003,
          0.09809999999999801,
          0.0051999999999980005,
          0.092199999999998,
          0.042799999999999006,
          0.13039999999999902,
          0.04889999999999901,
          0.0134,
          0.19740000000000002,
          0.061900000000001,
          0.030000000000000002,
          0.023499999999999,
          0.00009999999999976696,
          0.010100000000000001,
          0.049800000000000004,
          0.30750000000000005,
          0.38409999999999905,
          0.035599999999999,
          0.013499999999999,
          0.013399999999999001,
          0.0296,
          0.016799999999999,
          0.6368,
          0.0512,
          0.36059999999999903,
          0.0261,
          0.6343999999999991,
          0.10439999999999901,
          0.031100000000000003,
          0.0217,
          0.028699999999999,
          0.014999999999999002,
          0.08999999999999901,
          0.17829999999999901,
          0.050699999999999,
          0.011299999999999,
          0.019599999999999,
          0.024099999999999,
          0.079,
          0.8607999999999991,
          0.24930000000000002,
          0.008999999999999,
          0.09379999999999901,
          0.056099999999999005,
          0.05790000000000001,
          0.004599999999999001,
          0.0609,
          0.020199999999999,
          0,
          0.012900000000000002,
          0.0029000000000000002,
          0.8005999999999991,
          0.7160000000000001,
          0.050099999999999006,
          0.010499999999999001,
          0.07010000000000001,
          0.009300000000000001,
          0.12429999999999901,
          0.2923,
          0.005799999999999,
          0.009800000000000001,
          0.5716,
          0.022399999999999,
          0.0077999999999990004,
          0.028899999999999003,
          0.5213,
          0.0227,
          0.0067,
          0.013300000000000001,
          0.031199999999999003,
          0.07410000000000101,
          0.10600000000000001,
          0.031699999999999,
          0.029500000000000002,
          0.010499999999999001,
          0.0257,
          0.022499999999999003,
          0.032400000000000005,
          0.041899999999999,
          0.022199999999999002,
          0.013600000000000001,
          0.031899999999999006,
          0.06199999999999901,
          0.610599999999999,
          0.038299999999999,
          0.057600000000000005,
          0.022000000000005,
          0.025800000000000003,
          0.012900000000000002,
          0.073499999999995,
          0.41100000000000003,
          0.7429999999999991,
          0.027699999999999003,
          0.014699999999999,
          0.008799999999999001,
          0.010700000000000001,
          0.09930000000000001,
          0.010499999999999001,
          0.2363,
          0.1154,
          0.0335,
          0.0627,
          0.0616,
          0.024300000000000002,
          0.0151,
          0.551299999999999,
          0.0335,
          0.031400000000000004,
          0.0175,
          0.020299999999999003,
          0.016599999999998002,
          0.046499999999999,
          0.0022,
          0.047499999999999,
          0.0415,
          0.024300000000000002,
          0.0221,
          0.024,
          0.8223,
          0.027700000000001,
          0.009399999999999001,
          0.05569999999999901,
          0.031000000000000003,
          0.004999999999999,
          0.023700000000000002,
          0.014400000000000001,
          0.018000000000000002,
          0.034300000000000004,
          0.021900000000000003,
          0.0033000000000000004,
          0.0038000000000000004,
          0.038199999999999006,
          0.0429,
          0.0119,
          0.001299999999999,
          0.036000000000000004,
          0.008799999999999001,
          0.024,
          0.017999999999999003,
          0.022299999999999,
          0.036499999999999005,
          0.041100000000000005,
          0.0027999999999990003,
          0.1106,
          0.028799999999999003,
          0.0297,
          0.020800000000000003,
          0.010499999999999001,
          0.014599999999999001,
          0.025000000000002003,
          0.008600000000001001,
          0.0164,
          0.016399999999999002,
          0.6004,
          0.052499999999999006,
          0.0718,
          0.0178,
          0.0034000000000000002,
          0.016900000000000002,
          0.012199999999999002,
          0.008700000000000001,
          0.021800000000000003,
          0.019200000000000002,
          0.0048000000000000004,
          0.7673999999999991,
          0.4053,
          0.9639000000000001,
          1.1046,
          1.0874,
          1.082299999999999,
          0.37169999999999903,
          0.0030999999999990003,
          0.0134,
          0.011300000000000001,
          0.053700000000000005,
          0.5427000000000001,
          0.010399999999999,
          0.0151,
          0.020900000000000002,
          0.012699999999999,
          0.026799999999999,
          0.0142,
          1.0217,
          1.2816,
          1.5590000000000002,
          0.011699999999999001,
          0.032399999999999006,
          0.033100000000000004,
          0.0204,
          0.009800000000000001,
          1.014199999999999,
          0.020900000000000002,
          0.0182,
          0.022600000000000002,
          0.024300000000000002,
          0.7061000000000001,
          0.0181,
          0.029799999999999,
          0.055200000000000006,
          0.06479999999999901,
          0.030699999999999002,
          0.051599999999999,
          0.033199999999999,
          0.006099999999999,
          0.021599999999999002,
          0.017,
          0.0373,
          0.0444,
          0.0354,
          0.019599999999999,
          0.017300000000000003,
          0.136099999999999,
          0.0354,
          0.069299999999999,
          0.053399999999999004,
          0.0892,
          0.6806999999999991,
          0.685299999999999,
          0.7464000000000001,
          0.704399999999999,
          0.018799999999999,
          0.061700000000000005,
          0.11270000000000001,
          0.140799999999999,
          0.10790000000000001,
          0.214599999999999,
          1.668699999999999,
          1.8993000000000002,
          1.3319,
          2.5451,
          1.5744,
          1.3871,
          0.802199999999999,
          0.029500000000000002,
          0.8517,
          1.2878,
          0.574099999999999,
          0.016099999999999,
          0.067899999999999,
          0.0609,
          1.132399999999999,
          1.4255,
          0.1078,
          0.0403,
          0.029499999999999003,
          0.2338,
          0.5802,
          0.14369999999999902,
          0.0238,
          0.06230000000000001,
          0.08659999999999901,
          0.093199999999999,
          0.183099999999999,
          0.729699999999999,
          0.7277,
          0.043500000000000004,
          0.11289999999999902,
          0.5759000000000001,
          0.008299999999999001,
          0.6956000000000001,
          0.016799999999999,
          0.001999999999999,
          0.8259999999999991,
          0.781999999999999,
          0.060699999999999005,
          0.09429999999999901,
          0.06619999999999901,
          0.0094,
          0.0322,
          0.714699999999999,
          0.027700000000000002,
          0.8544,
          0.032900000000000006,
          0.008799999999999001,
          0.8538999999999991,
          0.9388000000000001,
          0.131499999999999,
          0.780899999999999,
          0.0181,
          0.0171,
          0.0649,
          0.004799999999999,
          0.030999999999999004,
          0.0034999999999980004,
          0.0025,
          0.04939999999999901,
          0.071299999999999,
          0.36959999999999904,
          0.0413,
          0.0041,
          0.022399999999999,
          0.0053,
          0.8870000000000001,
          0.007899999999999,
          0.027000000000000003,
          0.011800000000000001,
          0.006399999999999,
          0.9106000000000001,
          0.021399999999999003,
          0.0175,
          0.011499999999999,
          0.016499999999999,
          0.0068000000000000005,
          0.29099999999999904,
          0.015700000000000002,
          0.871799999999999,
          0.8548999999999991,
          0.11229999999999901,
          0.513899999999999,
          0.34600000000000003,
          0.824099999999999,
          0.46769999999999906,
          0.9602,
          1.1776,
          1.1132,
          0.8235,
          0.7813999999999991,
          0.030100000000000002,
          0,
          0,
          0.0439,
          0.9918,
          0,
          0,
          0.0792,
          0.12279999999999901,
          1.7440000000000002,
          0,
          0,
          1.267299999999999,
          1.139299999999999,
          0.7666000000000001,
          0.0344,
          0.12259999999999902,
          0,
          1.038499999999999,
          0.1449,
          0.07689999999999901,
          0.7079999999999991,
          0,
          0,
          0.229,
          0.022299999999999,
          0,
          0,
          0.28889999999999905,
          1.0884,
          0.7997000000000001,
          0,
          0.1288,
          1.6185,
          0.8346,
          0.35389999999999905,
          0.022499999999999003,
          0,
          0,
          0.796199999999999,
          0,
          0,
          0.292199999999999,
          0.029200000000000004,
          0,
          0,
          0,
          0,
          0.921899999999999,
          0.340199999999999,
          0.47839999999999905,
          0.9062000000000001,
          0,
          1.4732999999999992,
          0.0316,
          0.9325999999999991,
          1.2083,
          0.32419999999999904,
          1.567699999999999,
          0.3885,
          0,
          0.10169999999999901,
          0,
          0.061700000000000005,
          0.47280000000000005,
          0.9821000000000001,
          0.16760000000000003,
          0,
          0.13919999999999902,
          0,
          0.35950000000000004,
          0.0546,
          0,
          0,
          1.1104,
          0,
          0,
          0,
          0,
          0.23509999999999903,
          0.5679000000000001,
          0.24120000000000003,
          0.8696,
          0.47549999999999903,
          0,
          0.7310999999999991,
          1.4515,
          1.5216,
          0,
          0.507899999999999,
          0,
          0.314499999999999,
          0.956399999999999,
          1.6706,
          0.5757,
          0.11670000000000001,
          0.8841000000000001,
          0,
          0,
          0,
          0,
          0,
          0,
          0,
          0,
          0,
          0.0669,
          0.7189000000000001,
          0.0308,
          0,
          0,
          0.7006999999999991,
          0,
          0,
          0.304299999999999,
          0,
          0.013500000000000002,
          0,
          0.37870000000000004,
          0,
          0.9657000000000001,
          1.9938999999999991,
          0,
          0.019099999999999003,
          1.3657,
          0.036699999999999004,
          0.8228999999999991,
          0.17199999999999901,
          0.43169999999999903,
          0,
          0,
          0.11390000000000002,
          0.0362,
          0.8303,
          1.6238000000000001,
          0.38630000000000003,
          0,
          0,
          0.20589999999999903,
          0,
          0,
          0,
          0,
          0.126999999999999,
          0.5735,
          0,
          0.13620000000000002,
          0,
          0,
          0,
          0,
          0,
          0.7384000000000001,
          0,
          0.115499999999999,
          0.14900000000000002,
          0,
          0.304899999999999,
          0.1009,
          0,
          0.024799999999999003,
          0.562599999999999,
          1.9031000000000002,
          0.640099999999999,
          0,
          1.4126,
          0,
          0,
          0.055400000000000005,
          0,
          0.24399999999999902,
          0.025599999999999002,
          0,
          0,
          0,
          0,
          0,
          0,
          1.902699999999999,
          0.796899999999999,
          1.074,
          0.1665,
          0.1572,
          0.9556000000000001,
          0,
          0,
          0.40740000000000004,
          0.7094,
          0.0239,
          0.41480000000000006,
          0,
          0.5185999999999991,
          0.6272000000000001,
          0.9957,
          1.359099999999999,
          0.8416999999999991,
          0.7622,
          0.5571,
          0.9213999999999991,
          0.45709999999999906,
          0.9872000000000001,
          0
         ],
         "yaxis": "y"
        },
        {
         "line": {
          "color": "black",
          "dash": "dot"
         },
         "mode": "lines",
         "showlegend": false,
         "type": "scatter",
         "x": [
          0,
          2.5
         ],
         "y": [
          0,
          2.5
         ]
        }
       ],
       "layout": {
        "font": {
         "color": "black",
         "family": "Courier New"
        },
        "height": 800,
        "legend": {
         "title": {
          "font": {
           "color": "green"
          }
         },
         "tracegroupgap": 0
        },
        "plot_bgcolor": "white",
        "template": {
         "data": {
          "bar": [
           {
            "error_x": {
             "color": "rgb(36,36,36)"
            },
            "error_y": {
             "color": "rgb(36,36,36)"
            },
            "marker": {
             "line": {
              "color": "white",
              "width": 0.5
             },
             "pattern": {
              "fillmode": "overlay",
              "size": 10,
              "solidity": 0.2
             }
            },
            "type": "bar"
           }
          ],
          "barpolar": [
           {
            "marker": {
             "line": {
              "color": "white",
              "width": 0.5
             },
             "pattern": {
              "fillmode": "overlay",
              "size": 10,
              "solidity": 0.2
             }
            },
            "type": "barpolar"
           }
          ],
          "carpet": [
           {
            "aaxis": {
             "endlinecolor": "rgb(36,36,36)",
             "gridcolor": "white",
             "linecolor": "white",
             "minorgridcolor": "white",
             "startlinecolor": "rgb(36,36,36)"
            },
            "baxis": {
             "endlinecolor": "rgb(36,36,36)",
             "gridcolor": "white",
             "linecolor": "white",
             "minorgridcolor": "white",
             "startlinecolor": "rgb(36,36,36)"
            },
            "type": "carpet"
           }
          ],
          "choropleth": [
           {
            "colorbar": {
             "outlinewidth": 1,
             "tickcolor": "rgb(36,36,36)",
             "ticks": "outside"
            },
            "type": "choropleth"
           }
          ],
          "contour": [
           {
            "colorbar": {
             "outlinewidth": 1,
             "tickcolor": "rgb(36,36,36)",
             "ticks": "outside"
            },
            "colorscale": [
             [
              0,
              "#440154"
             ],
             [
              0.1111111111111111,
              "#482878"
             ],
             [
              0.2222222222222222,
              "#3e4989"
             ],
             [
              0.3333333333333333,
              "#31688e"
             ],
             [
              0.4444444444444444,
              "#26828e"
             ],
             [
              0.5555555555555556,
              "#1f9e89"
             ],
             [
              0.6666666666666666,
              "#35b779"
             ],
             [
              0.7777777777777778,
              "#6ece58"
             ],
             [
              0.8888888888888888,
              "#b5de2b"
             ],
             [
              1,
              "#fde725"
             ]
            ],
            "type": "contour"
           }
          ],
          "contourcarpet": [
           {
            "colorbar": {
             "outlinewidth": 1,
             "tickcolor": "rgb(36,36,36)",
             "ticks": "outside"
            },
            "type": "contourcarpet"
           }
          ],
          "heatmap": [
           {
            "colorbar": {
             "outlinewidth": 1,
             "tickcolor": "rgb(36,36,36)",
             "ticks": "outside"
            },
            "colorscale": [
             [
              0,
              "#440154"
             ],
             [
              0.1111111111111111,
              "#482878"
             ],
             [
              0.2222222222222222,
              "#3e4989"
             ],
             [
              0.3333333333333333,
              "#31688e"
             ],
             [
              0.4444444444444444,
              "#26828e"
             ],
             [
              0.5555555555555556,
              "#1f9e89"
             ],
             [
              0.6666666666666666,
              "#35b779"
             ],
             [
              0.7777777777777778,
              "#6ece58"
             ],
             [
              0.8888888888888888,
              "#b5de2b"
             ],
             [
              1,
              "#fde725"
             ]
            ],
            "type": "heatmap"
           }
          ],
          "heatmapgl": [
           {
            "colorbar": {
             "outlinewidth": 1,
             "tickcolor": "rgb(36,36,36)",
             "ticks": "outside"
            },
            "colorscale": [
             [
              0,
              "#440154"
             ],
             [
              0.1111111111111111,
              "#482878"
             ],
             [
              0.2222222222222222,
              "#3e4989"
             ],
             [
              0.3333333333333333,
              "#31688e"
             ],
             [
              0.4444444444444444,
              "#26828e"
             ],
             [
              0.5555555555555556,
              "#1f9e89"
             ],
             [
              0.6666666666666666,
              "#35b779"
             ],
             [
              0.7777777777777778,
              "#6ece58"
             ],
             [
              0.8888888888888888,
              "#b5de2b"
             ],
             [
              1,
              "#fde725"
             ]
            ],
            "type": "heatmapgl"
           }
          ],
          "histogram": [
           {
            "marker": {
             "line": {
              "color": "white",
              "width": 0.6
             }
            },
            "type": "histogram"
           }
          ],
          "histogram2d": [
           {
            "colorbar": {
             "outlinewidth": 1,
             "tickcolor": "rgb(36,36,36)",
             "ticks": "outside"
            },
            "colorscale": [
             [
              0,
              "#440154"
             ],
             [
              0.1111111111111111,
              "#482878"
             ],
             [
              0.2222222222222222,
              "#3e4989"
             ],
             [
              0.3333333333333333,
              "#31688e"
             ],
             [
              0.4444444444444444,
              "#26828e"
             ],
             [
              0.5555555555555556,
              "#1f9e89"
             ],
             [
              0.6666666666666666,
              "#35b779"
             ],
             [
              0.7777777777777778,
              "#6ece58"
             ],
             [
              0.8888888888888888,
              "#b5de2b"
             ],
             [
              1,
              "#fde725"
             ]
            ],
            "type": "histogram2d"
           }
          ],
          "histogram2dcontour": [
           {
            "colorbar": {
             "outlinewidth": 1,
             "tickcolor": "rgb(36,36,36)",
             "ticks": "outside"
            },
            "colorscale": [
             [
              0,
              "#440154"
             ],
             [
              0.1111111111111111,
              "#482878"
             ],
             [
              0.2222222222222222,
              "#3e4989"
             ],
             [
              0.3333333333333333,
              "#31688e"
             ],
             [
              0.4444444444444444,
              "#26828e"
             ],
             [
              0.5555555555555556,
              "#1f9e89"
             ],
             [
              0.6666666666666666,
              "#35b779"
             ],
             [
              0.7777777777777778,
              "#6ece58"
             ],
             [
              0.8888888888888888,
              "#b5de2b"
             ],
             [
              1,
              "#fde725"
             ]
            ],
            "type": "histogram2dcontour"
           }
          ],
          "mesh3d": [
           {
            "colorbar": {
             "outlinewidth": 1,
             "tickcolor": "rgb(36,36,36)",
             "ticks": "outside"
            },
            "type": "mesh3d"
           }
          ],
          "parcoords": [
           {
            "line": {
             "colorbar": {
              "outlinewidth": 1,
              "tickcolor": "rgb(36,36,36)",
              "ticks": "outside"
             }
            },
            "type": "parcoords"
           }
          ],
          "pie": [
           {
            "automargin": true,
            "type": "pie"
           }
          ],
          "scatter": [
           {
            "fillpattern": {
             "fillmode": "overlay",
             "size": 10,
             "solidity": 0.2
            },
            "type": "scatter"
           }
          ],
          "scatter3d": [
           {
            "line": {
             "colorbar": {
              "outlinewidth": 1,
              "tickcolor": "rgb(36,36,36)",
              "ticks": "outside"
             }
            },
            "marker": {
             "colorbar": {
              "outlinewidth": 1,
              "tickcolor": "rgb(36,36,36)",
              "ticks": "outside"
             }
            },
            "type": "scatter3d"
           }
          ],
          "scattercarpet": [
           {
            "marker": {
             "colorbar": {
              "outlinewidth": 1,
              "tickcolor": "rgb(36,36,36)",
              "ticks": "outside"
             }
            },
            "type": "scattercarpet"
           }
          ],
          "scattergeo": [
           {
            "marker": {
             "colorbar": {
              "outlinewidth": 1,
              "tickcolor": "rgb(36,36,36)",
              "ticks": "outside"
             }
            },
            "type": "scattergeo"
           }
          ],
          "scattergl": [
           {
            "marker": {
             "colorbar": {
              "outlinewidth": 1,
              "tickcolor": "rgb(36,36,36)",
              "ticks": "outside"
             }
            },
            "type": "scattergl"
           }
          ],
          "scattermapbox": [
           {
            "marker": {
             "colorbar": {
              "outlinewidth": 1,
              "tickcolor": "rgb(36,36,36)",
              "ticks": "outside"
             }
            },
            "type": "scattermapbox"
           }
          ],
          "scatterpolar": [
           {
            "marker": {
             "colorbar": {
              "outlinewidth": 1,
              "tickcolor": "rgb(36,36,36)",
              "ticks": "outside"
             }
            },
            "type": "scatterpolar"
           }
          ],
          "scatterpolargl": [
           {
            "marker": {
             "colorbar": {
              "outlinewidth": 1,
              "tickcolor": "rgb(36,36,36)",
              "ticks": "outside"
             }
            },
            "type": "scatterpolargl"
           }
          ],
          "scatterternary": [
           {
            "marker": {
             "colorbar": {
              "outlinewidth": 1,
              "tickcolor": "rgb(36,36,36)",
              "ticks": "outside"
             }
            },
            "type": "scatterternary"
           }
          ],
          "surface": [
           {
            "colorbar": {
             "outlinewidth": 1,
             "tickcolor": "rgb(36,36,36)",
             "ticks": "outside"
            },
            "colorscale": [
             [
              0,
              "#440154"
             ],
             [
              0.1111111111111111,
              "#482878"
             ],
             [
              0.2222222222222222,
              "#3e4989"
             ],
             [
              0.3333333333333333,
              "#31688e"
             ],
             [
              0.4444444444444444,
              "#26828e"
             ],
             [
              0.5555555555555556,
              "#1f9e89"
             ],
             [
              0.6666666666666666,
              "#35b779"
             ],
             [
              0.7777777777777778,
              "#6ece58"
             ],
             [
              0.8888888888888888,
              "#b5de2b"
             ],
             [
              1,
              "#fde725"
             ]
            ],
            "type": "surface"
           }
          ],
          "table": [
           {
            "cells": {
             "fill": {
              "color": "rgb(237,237,237)"
             },
             "line": {
              "color": "white"
             }
            },
            "header": {
             "fill": {
              "color": "rgb(217,217,217)"
             },
             "line": {
              "color": "white"
             }
            },
            "type": "table"
           }
          ]
         },
         "layout": {
          "annotationdefaults": {
           "arrowhead": 0,
           "arrowwidth": 1
          },
          "autotypenumbers": "strict",
          "coloraxis": {
           "colorbar": {
            "outlinewidth": 1,
            "tickcolor": "rgb(36,36,36)",
            "ticks": "outside"
           }
          },
          "colorscale": {
           "diverging": [
            [
             0,
             "rgb(103,0,31)"
            ],
            [
             0.1,
             "rgb(178,24,43)"
            ],
            [
             0.2,
             "rgb(214,96,77)"
            ],
            [
             0.3,
             "rgb(244,165,130)"
            ],
            [
             0.4,
             "rgb(253,219,199)"
            ],
            [
             0.5,
             "rgb(247,247,247)"
            ],
            [
             0.6,
             "rgb(209,229,240)"
            ],
            [
             0.7,
             "rgb(146,197,222)"
            ],
            [
             0.8,
             "rgb(67,147,195)"
            ],
            [
             0.9,
             "rgb(33,102,172)"
            ],
            [
             1,
             "rgb(5,48,97)"
            ]
           ],
           "sequential": [
            [
             0,
             "#440154"
            ],
            [
             0.1111111111111111,
             "#482878"
            ],
            [
             0.2222222222222222,
             "#3e4989"
            ],
            [
             0.3333333333333333,
             "#31688e"
            ],
            [
             0.4444444444444444,
             "#26828e"
            ],
            [
             0.5555555555555556,
             "#1f9e89"
            ],
            [
             0.6666666666666666,
             "#35b779"
            ],
            [
             0.7777777777777778,
             "#6ece58"
            ],
            [
             0.8888888888888888,
             "#b5de2b"
            ],
            [
             1,
             "#fde725"
            ]
           ],
           "sequentialminus": [
            [
             0,
             "#440154"
            ],
            [
             0.1111111111111111,
             "#482878"
            ],
            [
             0.2222222222222222,
             "#3e4989"
            ],
            [
             0.3333333333333333,
             "#31688e"
            ],
            [
             0.4444444444444444,
             "#26828e"
            ],
            [
             0.5555555555555556,
             "#1f9e89"
            ],
            [
             0.6666666666666666,
             "#35b779"
            ],
            [
             0.7777777777777778,
             "#6ece58"
            ],
            [
             0.8888888888888888,
             "#b5de2b"
            ],
            [
             1,
             "#fde725"
            ]
           ]
          },
          "colorway": [
           "#1F77B4",
           "#FF7F0E",
           "#2CA02C",
           "#D62728",
           "#9467BD",
           "#8C564B",
           "#E377C2",
           "#7F7F7F",
           "#BCBD22",
           "#17BECF"
          ],
          "font": {
           "color": "rgb(36,36,36)"
          },
          "geo": {
           "bgcolor": "white",
           "lakecolor": "white",
           "landcolor": "white",
           "showlakes": true,
           "showland": true,
           "subunitcolor": "white"
          },
          "hoverlabel": {
           "align": "left"
          },
          "hovermode": "closest",
          "mapbox": {
           "style": "light"
          },
          "paper_bgcolor": "white",
          "plot_bgcolor": "white",
          "polar": {
           "angularaxis": {
            "gridcolor": "rgb(232,232,232)",
            "linecolor": "rgb(36,36,36)",
            "showgrid": false,
            "showline": true,
            "ticks": "outside"
           },
           "bgcolor": "white",
           "radialaxis": {
            "gridcolor": "rgb(232,232,232)",
            "linecolor": "rgb(36,36,36)",
            "showgrid": false,
            "showline": true,
            "ticks": "outside"
           }
          },
          "scene": {
           "xaxis": {
            "backgroundcolor": "white",
            "gridcolor": "rgb(232,232,232)",
            "gridwidth": 2,
            "linecolor": "rgb(36,36,36)",
            "showbackground": true,
            "showgrid": false,
            "showline": true,
            "ticks": "outside",
            "zeroline": false,
            "zerolinecolor": "rgb(36,36,36)"
           },
           "yaxis": {
            "backgroundcolor": "white",
            "gridcolor": "rgb(232,232,232)",
            "gridwidth": 2,
            "linecolor": "rgb(36,36,36)",
            "showbackground": true,
            "showgrid": false,
            "showline": true,
            "ticks": "outside",
            "zeroline": false,
            "zerolinecolor": "rgb(36,36,36)"
           },
           "zaxis": {
            "backgroundcolor": "white",
            "gridcolor": "rgb(232,232,232)",
            "gridwidth": 2,
            "linecolor": "rgb(36,36,36)",
            "showbackground": true,
            "showgrid": false,
            "showline": true,
            "ticks": "outside",
            "zeroline": false,
            "zerolinecolor": "rgb(36,36,36)"
           }
          },
          "shapedefaults": {
           "fillcolor": "black",
           "line": {
            "width": 0
           },
           "opacity": 0.3
          },
          "ternary": {
           "aaxis": {
            "gridcolor": "rgb(232,232,232)",
            "linecolor": "rgb(36,36,36)",
            "showgrid": false,
            "showline": true,
            "ticks": "outside"
           },
           "baxis": {
            "gridcolor": "rgb(232,232,232)",
            "linecolor": "rgb(36,36,36)",
            "showgrid": false,
            "showline": true,
            "ticks": "outside"
           },
           "bgcolor": "white",
           "caxis": {
            "gridcolor": "rgb(232,232,232)",
            "linecolor": "rgb(36,36,36)",
            "showgrid": false,
            "showline": true,
            "ticks": "outside"
           }
          },
          "title": {
           "x": 0.05
          },
          "xaxis": {
           "automargin": true,
           "gridcolor": "rgb(232,232,232)",
           "linecolor": "rgb(36,36,36)",
           "showgrid": false,
           "showline": true,
           "ticks": "outside",
           "title": {
            "standoff": 15
           },
           "zeroline": false,
           "zerolinecolor": "rgb(36,36,36)"
          },
          "yaxis": {
           "automargin": true,
           "gridcolor": "rgb(232,232,232)",
           "linecolor": "rgb(36,36,36)",
           "showgrid": false,
           "showline": true,
           "ticks": "outside",
           "title": {
            "standoff": 15
           },
           "zeroline": false,
           "zerolinecolor": "rgb(36,36,36)"
          }
         }
        },
        "title": {
         "font": {
          "color": "black",
          "family": "Arial",
          "size": 24
         },
         "text": "Scatter Plot of PBE band gap vs HSE band gap",
         "x": 0.5
        },
        "width": 1000,
        "xaxis": {
         "anchor": "y",
         "domain": [
          0,
          1
         ],
         "tickfont": {
          "color": "black",
          "size": 20
         },
         "title": {
          "font": {
           "family": "Arial",
           "size": 18
          },
          "text": "PBE Band Gap"
         }
        },
        "yaxis": {
         "anchor": "x",
         "domain": [
          0,
          1
         ],
         "tickfont": {
          "color": "black",
          "size": 20
         },
         "title": {
          "font": {
           "family": "Arial",
           "size": 18
          },
          "text": "HSE Band Gap"
         }
        }
       }
      }
     },
     "metadata": {},
     "output_type": "display_data"
    }
   ],
   "source": [
    "import plotly.express as px\n",
    "import plotly.graph_objects as go\n",
    "\n",
    "# Assuming df is your DataFrame\n",
    "fig = px.scatter(df, x='PBE_band_gap', y='HSE_band_gap', \n",
    "                 title='Scatter Plot of PBE band gap vs HSE band gap',\n",
    "                 width=1000, height=800,\n",
    "                 color_discrete_sequence=['royalblue'],\n",
    "                 labels={'PBE_band_gap': 'PBE Band Gap', 'HSE_band_gap': 'HSE Band Gap'})\n",
    "\n",
    "# Adding x=y dashed line\n",
    "fig.add_trace(go.Scatter(\n",
    "    x=[df['PBE_band_gap'].min(), 2.5],\n",
    "    y=[df['PBE_band_gap'].min(), 2.5],\n",
    "    mode='lines',\n",
    "    line=dict(dash='dot', color='black'),\n",
    "    showlegend=False\n",
    "))\n",
    "\n",
    "fig.layout.template = 'simple_white'\n",
    "\n",
    "fig.update_layout(\n",
    "    font_family=\"Courier New\",\n",
    "    font_color=\"black\",\n",
    "    title_font_family=\"Arial\",\n",
    "    title_font_color=\"black\",\n",
    "    legend_title_font_color=\"green\",\n",
    "    title_font_size = 24,\n",
    "    title_x=0.5,\n",
    "    plot_bgcolor='white'\n",
    "\n",
    ")\n",
    "\n",
    "fig.update_xaxes(title_font_family=\"Arial\",tickfont=dict(color='black'), tickfont_size = 20, title_font_size = 18)\n",
    "fig.update_yaxes(title_font_family=\"Arial\",tickfont=dict(color='black'), tickfont_size = 20, title_font_size = 18)\n",
    "\n",
    "config = {\n",
    "    'toImageButtonOptions': {\n",
    "        'format': 'png',  # one of png, svg, jpeg, webp\n",
    "        'filename': 'custom_image',\n",
    "        'height': 500,\n",
    "        'width': 700,\n",
    "        'scale': 6  # Multiply title/legend/axis/canvas sizes by this factor\n",
    "    }\n",
    "}\n",
    "\n",
    "fig.show(config=config)\n"
   ]
  },
  {
   "cell_type": "markdown",
   "metadata": {},
   "source": [
    "## Making stability values with own parameters\n"
   ]
  },
  {
   "cell_type": "code",
   "execution_count": 17,
   "metadata": {},
   "outputs": [],
   "source": [
    "df['stable2'] = (df['e_above_hull'] <= 0.05).astype(int)"
   ]
  },
  {
   "cell_type": "code",
   "execution_count": 18,
   "metadata": {},
   "outputs": [
    {
     "name": "stdout",
     "output_type": "stream",
     "text": [
      "Number of 1's in column 'stable': 59\n"
     ]
    }
   ],
   "source": [
    "count_of_ones = df['stable2'].sum()\n",
    "print(\"Number of 1's in column 'stable':\", count_of_ones)"
   ]
  },
  {
   "cell_type": "markdown",
   "metadata": {},
   "source": [
    "## Preparing X,y "
   ]
  },
  {
   "cell_type": "markdown",
   "metadata": {},
   "source": [
    "### For prediciting PBE bandgap energy\n"
   ]
  },
  {
   "cell_type": "code",
   "execution_count": 57,
   "metadata": {},
   "outputs": [
    {
     "name": "stdout",
     "output_type": "stream",
     "text": [
      "There are 21 possible descriptors:\n",
      "\n",
      "['A_HOMO' 'A_IE' 'A_IR' 'A_LUMO' 'A_OS' 'A_X' 'A_Z_radii' 'A_e_affin'\n",
      " 'B_HOMO' 'B_IE' 'B_IR' 'B_LUMO' 'B_OS' 'B_X' 'B_Z_radii' 'B_e_affin' 'mu'\n",
      " 'tau' 'a' 'b' 'c']\n"
     ]
    }
   ],
   "source": [
    "excluded_incHSE = [\"A\", \"B\", \"functional_group\", \"training_type\", \"PBE_band_gap\", \"composition\", \"PBE_direct\", \"stable2\", \"HSE_direct\", 'PBE_vbm', 'PBE_cbm', 'HSE_vbm', 'HSE_cbm', \"total_energy\", 'HSE_band_gap', 'PBE_insulator', \"HSE_insulator\", \"e_above_hull\", \"density\", \"volume\", \"stable\", \"efermi\"] #, \"total_energy\"] #, \"stable\"] #, \"volume\", \"c\"]\n",
    "y_PBE = df['PBE_band_gap'].values\n",
    "X_PBE = df.drop(excluded_incHSE, axis=1)\n",
    "print(\"There are {} possible descriptors:\\n\\n{}\".format(X_PBE.shape[1], X_PBE.columns.values))"
   ]
  },
  {
   "cell_type": "markdown",
   "metadata": {},
   "source": [
    "### For prediciting HSE bandgap energy\n"
   ]
  },
  {
   "cell_type": "code",
   "execution_count": 112,
   "metadata": {},
   "outputs": [
    {
     "name": "stdout",
     "output_type": "stream",
     "text": [
      "There are 21 possible descriptors:\n",
      "\n",
      "['A_HOMO' 'A_IE' 'A_IR' 'A_LUMO' 'A_OS' 'A_X' 'A_Z_radii' 'A_e_affin'\n",
      " 'B_HOMO' 'B_IE' 'B_IR' 'B_LUMO' 'B_OS' 'B_X' 'B_Z_radii' 'B_e_affin' 'mu'\n",
      " 'tau' 'a' 'b' 'c']\n"
     ]
    }
   ],
   "source": [
    "excluded_incHSEIN = [\"A\", \"B\", \"functional_group\", \"training_type\", \"PBE_band_gap\", \"composition\", \"PBE_direct\", \"stable2\", \"HSE_direct\", 'PBE_vbm', 'PBE_cbm', 'HSE_vbm', 'HSE_cbm', \"total_energy\", 'HSE_band_gap', 'PBE_insulator', \"HSE_insulator\", \"e_above_hull\", \"density\", \"volume\", \"stable\", \"efermi\"] #, \"total_energy\"] #, \"stable\"] #, \"volume\", \"c\"]\n",
    "y_HSE = df['HSE_band_gap'].values\n",
    "X_HSE = df.drop(excluded_incHSEIN, axis=1)\n",
    "print(\"There are {} possible descriptors:\\n\\n{}\".format(X_HSE.shape[1], X_HSE.columns.values))\n"
   ]
  },
  {
   "cell_type": "markdown",
   "metadata": {},
   "source": [
    "## Choosing model based on 10-fold crossvalidation scores"
   ]
  },
  {
   "cell_type": "code",
   "execution_count": 46,
   "metadata": {},
   "outputs": [
    {
     "name": "stdout",
     "output_type": "stream",
     "text": [
      "Model: XGBRegressor\n",
      "Cross-validation results:\n",
      "Folds: 10, mean R2: 0.916\n",
      "Folds: 10, mean RMSE: 0.069\n",
      "\n",
      "Model: RandomForestRegressor\n",
      "Cross-validation results:\n",
      "Folds: 10, mean R2: 0.910\n",
      "Folds: 10, mean RMSE: 0.071\n",
      "\n",
      "Model: LinearRegression\n",
      "Cross-validation results:\n",
      "Folds: 10, mean R2: 5.811\n",
      "Folds: 10, mean RMSE: 0.193\n",
      "\n"
     ]
    }
   ],
   "source": [
    "from xgboost import XGBRegressor\n",
    "from sklearn.ensemble import RandomForestRegressor\n",
    "from sklearn.linear_model import LinearRegression\n",
    "from sklearn.model_selection import KFold, cross_val_score\n",
    "import numpy as np\n",
    "\n",
    "# Assuming X_PBE and y_PBE are your features and target variables\n",
    "\n",
    "# XGBoost Regressor\n",
    "xgb_reg = XGBRegressor(n_estimators=200, random_state=22, learning_rate=0.5)\n",
    "\n",
    "# Random Forest Regressor\n",
    "rf_reg = RandomForestRegressor(n_estimators=200, random_state=21)\n",
    "\n",
    "# Linear Regression\n",
    "lr_reg = LinearRegression()\n",
    "\n",
    "# Models\n",
    "models = [xgb_reg, rf_reg, lr_reg]\n",
    "\n",
    "for model in models:\n",
    "    # Use 10-fold cross-validation (90% training, 10% test)\n",
    "    crossvalidation = KFold(n_splits=10, shuffle=True, random_state=8)\n",
    "    scores_mse = cross_val_score(model, X_PBE, y_PBE, scoring='neg_mean_squared_error', cv=crossvalidation, n_jobs=1)\n",
    "    scores_r2 = cross_val_score(model, X_PBE, y_PBE, scoring='r2', cv=crossvalidation, n_jobs=1)\n",
    "\n",
    "    rmse_scores = [np.sqrt(abs(s)) for s in scores_mse]\n",
    "\n",
    "    print(f'Model: {type(model).__name__}')\n",
    "    print('Cross-validation results:')\n",
    "    print(f'Folds: {len(scores_mse)}, mean R2: {np.mean(np.abs(scores_r2)):.3f}')\n",
    "    print(f'Folds: {len(scores_mse)}, mean RMSE: {np.mean(np.abs(rmse_scores)):.3f}\\n')\n"
   ]
  },
  {
   "cell_type": "markdown",
   "metadata": {},
   "source": [
    "## XGBoost"
   ]
  },
  {
   "cell_type": "markdown",
   "metadata": {},
   "source": [
    "## Only to check optimum values for the XGBoost model\n"
   ]
  },
  {
   "cell_type": "code",
   "execution_count": 65,
   "metadata": {},
   "outputs": [
    {
     "name": "stdout",
     "output_type": "stream",
     "text": [
      "Best R2 Score: 0.602 obtained with random seed: 10\n"
     ]
    }
   ],
   "source": [
    "from xgboost import XGBRegressor\n",
    "from sklearn.metrics import r2_score\n",
    "import numpy as np\n",
    "\n",
    "best_r2_score = -float('inf')\n",
    "best_seed = None\n",
    "\n",
    "for seed in range(1, 43):\n",
    "    # Split the data into train and test sets using the current seed\n",
    "    X_train, X_test, y_train, y_test = train_test_split(X_PBE, y_PBE, test_size=0.09, random_state=seed)\n",
    "\n",
    "    # Extract and drop the 'functional_group' column\n",
    "    train_formula = X_train['functional_group']\n",
    "    X_train = X_train.drop(['functional_group'], axis=1)\n",
    "    test_formula = X_test['functional_group']\n",
    "    X_test = X_test.drop(['functional_group'], axis=1)\n",
    "\n",
    "    # Create an XGBoost regressor\n",
    "    xgb_reg = XGBRegressor(n_estimators=100, random_state=5)\n",
    "    xgb_reg.fit(X_train, y_train)\n",
    "\n",
    "    # Calculate R2 score on the test set\n",
    "    current_r2_score = r2_score(y_true=y_test, y_pred=xgb_reg.predict(X_test))\n",
    "\n",
    "    # Update best R2 score and seed if the current R2 score is better\n",
    "    if current_r2_score > best_r2_score:\n",
    "        best_r2_score = current_r2_score\n",
    "        best_seed = seed\n",
    "\n",
    "print(f'Best R2 Score: {best_r2_score:.3f} obtained with random seed: {best_seed}')\n"
   ]
  },
  {
   "cell_type": "markdown",
   "metadata": {},
   "source": [
    "## For prediciting PBE bandgap"
   ]
  },
  {
   "cell_type": "markdown",
   "metadata": {},
   "source": [
    "### Predicting PBE Bandgap including only elemental features"
   ]
  },
  {
   "cell_type": "code",
   "execution_count": 83,
   "metadata": {},
   "outputs": [
    {
     "name": "stdout",
     "output_type": "stream",
     "text": [
      "Training R2 = 0.999\n",
      "Training RMSE = 0.007\n",
      "Test R2 = 0.636\n",
      "Test RMSE = 0.148\n"
     ]
    }
   ],
   "source": [
    "from xgboost import XGBRegressor\n",
    "from sklearn.metrics import mean_squared_error\n",
    "from sklearn.model_selection import train_test_split\n",
    "\n",
    "# Assuming X, y, and df are already defined\n",
    "\n",
    "# Add 'functional_group' to X\n",
    "X_PBE['functional_group'] = df['functional_group']\n",
    "\n",
    "# Add 'stable' to X\n",
    "X_PBE['stable'] = df['stable']\n",
    "\n",
    "# Specify the test size\n",
    "test_size = 0.09\n",
    "\n",
    "# Split the data into train and test sets while maintaining the proportion of 'stable'\n",
    "X_train, X_test, y_train, y_test = train_test_split(X_PBE, y_PBE, test_size=test_size, random_state=10)\n",
    "\n",
    "# Extract and drop the 'functional_group' and 'stable' columns\n",
    "train_formula = X_train[['functional_group', 'stable']]\n",
    "X_train = X_train.drop(['functional_group', 'stable'], axis=1)\n",
    "test_formula = X_test[['functional_group', 'stable']]\n",
    "X_test = X_test.drop(['functional_group', 'stable'], axis=1)\n",
    "\n",
    "# Create an XGBoost regressor\n",
    "xgb_reg = XGBRegressor(n_estimators=100, random_state=9, learning_rate=0.2)\n",
    "xgb_reg.fit(X_train, y_train)\n",
    "\n",
    "# Get fit statistics\n",
    "print('Training R2 = ' + str(round(xgb_reg.score(X_train, y_train), 3)))\n",
    "print('Training RMSE = %.3f' % np.sqrt(mean_squared_error(y_true=y_train, y_pred=xgb_reg.predict(X_train))))\n",
    "print('Test R2 = ' + str(round(xgb_reg.score(X_test, y_test), 3)))\n",
    "print('Test RMSE = %.3f' % np.sqrt(mean_squared_error(y_true=y_test, y_pred=xgb_reg.predict(X_test))))\n"
   ]
  },
  {
   "cell_type": "markdown",
   "metadata": {},
   "source": [
    "### Parity plot for predicting PBE Bandgap including only elemental features"
   ]
  },
  {
   "cell_type": "code",
   "execution_count": 82,
   "metadata": {},
   "outputs": [
    {
     "data": {
      "application/vnd.plotly.v1+json": {
       "config": {
        "plotlyServerURL": "https://plot.ly",
        "toImageButtonOptions": {
         "filename": "custom_image",
         "format": "png",
         "height": 500,
         "scale": 6,
         "width": 700
        }
       },
       "data": [
        {
         "marker": {
          "color": [
           "black",
           "black",
           "black",
           "black",
           "black",
           "black",
           "black",
           "green",
           "black",
           "black",
           "black",
           "black",
           "green",
           "black",
           "black",
           "black",
           "black",
           "black",
           "black",
           "black",
           "black",
           "black",
           "black",
           "black",
           "black",
           "black",
           "black",
           "green",
           "green",
           "black",
           "black",
           "black",
           "black",
           "black",
           "black",
           "black",
           "black",
           "black",
           "black",
           "black",
           "black",
           "black",
           "black",
           "black",
           "black",
           "green",
           "black",
           "black",
           "green",
           "black",
           "black",
           "black",
           "black",
           "black",
           "black",
           "black",
           "black",
           "black",
           "black",
           "black",
           "black",
           "black",
           "black",
           "black",
           "black",
           "green",
           "black",
           "black",
           "black",
           "black",
           "black",
           "black",
           "black",
           "black",
           "black",
           "black",
           "black",
           "black",
           "black",
           "black",
           "black",
           "black",
           "black"
          ],
          "size": 6
         },
         "mode": "markers",
         "name": "Test Set",
         "type": "scatter",
         "x": [
          0.036399999999999,
          0.0718,
          0.06519999999999901,
          0.0117,
          0.11730000000000002,
          0.13439999999999902,
          0.09350000000000001,
          0,
          0.027399999999999,
          0.056799999999999004,
          0.655899999999999,
          0.013900000000000001,
          0.022400000000000003,
          0,
          0.027800000000000002,
          0.032,
          0.009500000000000001,
          0.024999999999999002,
          0.004,
          0.0117,
          0.080999999999999,
          0.066399999999999,
          0.211899999999999,
          0,
          0.0792,
          0.0014999999999990002,
          0.012199999999999002,
          0.010299999999999001,
          1.2408000000000001,
          0.11140000000000001,
          0.040999999999999,
          0.057199999999999,
          0.054899999999999005,
          0,
          0.0068000000000000005,
          0.032900000000000006,
          0.006699999999999,
          0.0024000000000000002,
          0.0117,
          0.020699999999999,
          0.041599999999999006,
          0.051800000000000006,
          0.0039000000000000003,
          0.13689999999999902,
          0.013000000000000001,
          0.594299999999999,
          0.075599999999999,
          0,
          0.0068000000000000005,
          0.0413,
          0.024099999999999,
          0.6574,
          0,
          1.1993,
          0.0036000000000000003,
          0.014,
          0.016399999999999002,
          0.1874,
          0.6516000000000001,
          0.013099999999999001,
          0.0036000000000000003,
          0.022399999999999,
          0.011499999999999,
          0,
          1.0164,
          0.040699999999999,
          0,
          0.011599999999999002,
          0.0868,
          0.17089999999999902,
          0.16259999999999902,
          0.1817,
          0.010900000000000002,
          0,
          0.016799999999999,
          0.035899999999999,
          0.014100000000000001,
          0.026299999999999,
          0,
          0,
          0,
          0.0014000000000000002,
          0.0167
         ],
         "y": [
          0.03175899013876915,
          0.11421912908554077,
          0.10546093434095383,
          0.00413942476734519,
          0.06365304440259933,
          0.0322202630341053,
          0.1881987601518631,
          0.019105328246951103,
          0.10707589983940125,
          0.10916758328676224,
          0.2054716795682907,
          0.012995715253055096,
          0.001482550404034555,
          0.042354509234428406,
          0.179983451962471,
          0.07118916511535645,
          0.052869465202093124,
          0.014831027016043663,
          0.028816334903240204,
          0.04101727157831192,
          0.02698509953916073,
          0.05514014512300491,
          0.2513194978237152,
          0.18989326059818268,
          0.28291651606559753,
          0.029135804623365402,
          0.0033453800715506077,
          0.01186728198081255,
          0.8126640915870667,
          0.18479236960411072,
          0.09969393163919449,
          0.049903202801942825,
          0.0233643539249897,
          0.26298144459724426,
          0.026779457926750183,
          0.10113991796970367,
          0.06184864789247513,
          0.012376973405480385,
          0.05356615409255028,
          0.026070479303598404,
          0.013285772874951363,
          0.018555056303739548,
          0.11415857076644897,
          0.2510504722595215,
          -0.009973403066396713,
          0.13852867484092712,
          0.07447981089353561,
          0.03406417369842529,
          0.15200172364711761,
          0.17207826673984528,
          0.08399824053049088,
          0.3256256580352783,
          0.05108229070901871,
          0.5876420140266418,
          0.1669664978981018,
          -0.009397787041962147,
          0.019333794713020325,
          0.08654912561178207,
          0.6056555509567261,
          0.0657554641366005,
          -0.0005785063840448856,
          0.06329174339771271,
          0.1616978645324707,
          0.031108397990465164,
          0.3496617376804352,
          0.06453458964824677,
          0.11797700822353363,
          0.012148345820605755,
          0.04081492871046066,
          0.24843889474868774,
          0.04432574659585953,
          0.14591872692108154,
          0.05771373584866524,
          0.03417013958096504,
          0.10109411180019379,
          0.047026026993989944,
          0.026341360062360764,
          0.06074036285281181,
          0.007365872617810965,
          -0.011192917823791504,
          0.11956724524497986,
          0.03908904269337654,
          0.043308187276124954
         ]
        },
        {
         "line": {
          "color": "red",
          "dash": "dash",
          "width": 1.5
         },
         "mode": "lines",
         "name": "Ideal Prediction",
         "type": "scatter",
         "x": [
          0,
          1.2408000000000001
         ],
         "y": [
          0,
          1.2408000000000001
         ]
        },
        {
         "marker": {
          "color": "green",
          "size": 10
         },
         "mode": "markers",
         "name": "PBE direct",
         "type": "scatter",
         "x": [],
         "y": []
        },
        {
         "marker": {
          "color": "black",
          "size": 10
         },
         "mode": "markers",
         "name": "PBE indirect",
         "type": "scatter",
         "x": [],
         "y": []
        }
       ],
       "layout": {
        "annotations": [
         {
          "bgcolor": "rgba(255, 255, 255, 0.7)",
          "bordercolor": "black",
          "borderwidth": 1,
          "font": {
           "color": "black",
           "family": "Arial",
           "size": 12
          },
          "showarrow": false,
          "text": "Black points represent PBE bandgap is indirect<br>Green points represent PBE bandgap is direct",
          "x": 1,
          "xref": "paper",
          "y": 0.05,
          "yref": "paper"
         }
        ],
        "font": {
         "color": "black",
         "family": "Courier New"
        },
        "height": 800,
        "legend": {
         "title": {
          "font": {
           "color": "green"
          }
         }
        },
        "showlegend": false,
        "template": {
         "data": {
          "bar": [
           {
            "error_x": {
             "color": "rgb(36,36,36)"
            },
            "error_y": {
             "color": "rgb(36,36,36)"
            },
            "marker": {
             "line": {
              "color": "white",
              "width": 0.5
             },
             "pattern": {
              "fillmode": "overlay",
              "size": 10,
              "solidity": 0.2
             }
            },
            "type": "bar"
           }
          ],
          "barpolar": [
           {
            "marker": {
             "line": {
              "color": "white",
              "width": 0.5
             },
             "pattern": {
              "fillmode": "overlay",
              "size": 10,
              "solidity": 0.2
             }
            },
            "type": "barpolar"
           }
          ],
          "carpet": [
           {
            "aaxis": {
             "endlinecolor": "rgb(36,36,36)",
             "gridcolor": "white",
             "linecolor": "white",
             "minorgridcolor": "white",
             "startlinecolor": "rgb(36,36,36)"
            },
            "baxis": {
             "endlinecolor": "rgb(36,36,36)",
             "gridcolor": "white",
             "linecolor": "white",
             "minorgridcolor": "white",
             "startlinecolor": "rgb(36,36,36)"
            },
            "type": "carpet"
           }
          ],
          "choropleth": [
           {
            "colorbar": {
             "outlinewidth": 1,
             "tickcolor": "rgb(36,36,36)",
             "ticks": "outside"
            },
            "type": "choropleth"
           }
          ],
          "contour": [
           {
            "colorbar": {
             "outlinewidth": 1,
             "tickcolor": "rgb(36,36,36)",
             "ticks": "outside"
            },
            "colorscale": [
             [
              0,
              "#440154"
             ],
             [
              0.1111111111111111,
              "#482878"
             ],
             [
              0.2222222222222222,
              "#3e4989"
             ],
             [
              0.3333333333333333,
              "#31688e"
             ],
             [
              0.4444444444444444,
              "#26828e"
             ],
             [
              0.5555555555555556,
              "#1f9e89"
             ],
             [
              0.6666666666666666,
              "#35b779"
             ],
             [
              0.7777777777777778,
              "#6ece58"
             ],
             [
              0.8888888888888888,
              "#b5de2b"
             ],
             [
              1,
              "#fde725"
             ]
            ],
            "type": "contour"
           }
          ],
          "contourcarpet": [
           {
            "colorbar": {
             "outlinewidth": 1,
             "tickcolor": "rgb(36,36,36)",
             "ticks": "outside"
            },
            "type": "contourcarpet"
           }
          ],
          "heatmap": [
           {
            "colorbar": {
             "outlinewidth": 1,
             "tickcolor": "rgb(36,36,36)",
             "ticks": "outside"
            },
            "colorscale": [
             [
              0,
              "#440154"
             ],
             [
              0.1111111111111111,
              "#482878"
             ],
             [
              0.2222222222222222,
              "#3e4989"
             ],
             [
              0.3333333333333333,
              "#31688e"
             ],
             [
              0.4444444444444444,
              "#26828e"
             ],
             [
              0.5555555555555556,
              "#1f9e89"
             ],
             [
              0.6666666666666666,
              "#35b779"
             ],
             [
              0.7777777777777778,
              "#6ece58"
             ],
             [
              0.8888888888888888,
              "#b5de2b"
             ],
             [
              1,
              "#fde725"
             ]
            ],
            "type": "heatmap"
           }
          ],
          "heatmapgl": [
           {
            "colorbar": {
             "outlinewidth": 1,
             "tickcolor": "rgb(36,36,36)",
             "ticks": "outside"
            },
            "colorscale": [
             [
              0,
              "#440154"
             ],
             [
              0.1111111111111111,
              "#482878"
             ],
             [
              0.2222222222222222,
              "#3e4989"
             ],
             [
              0.3333333333333333,
              "#31688e"
             ],
             [
              0.4444444444444444,
              "#26828e"
             ],
             [
              0.5555555555555556,
              "#1f9e89"
             ],
             [
              0.6666666666666666,
              "#35b779"
             ],
             [
              0.7777777777777778,
              "#6ece58"
             ],
             [
              0.8888888888888888,
              "#b5de2b"
             ],
             [
              1,
              "#fde725"
             ]
            ],
            "type": "heatmapgl"
           }
          ],
          "histogram": [
           {
            "marker": {
             "line": {
              "color": "white",
              "width": 0.6
             }
            },
            "type": "histogram"
           }
          ],
          "histogram2d": [
           {
            "colorbar": {
             "outlinewidth": 1,
             "tickcolor": "rgb(36,36,36)",
             "ticks": "outside"
            },
            "colorscale": [
             [
              0,
              "#440154"
             ],
             [
              0.1111111111111111,
              "#482878"
             ],
             [
              0.2222222222222222,
              "#3e4989"
             ],
             [
              0.3333333333333333,
              "#31688e"
             ],
             [
              0.4444444444444444,
              "#26828e"
             ],
             [
              0.5555555555555556,
              "#1f9e89"
             ],
             [
              0.6666666666666666,
              "#35b779"
             ],
             [
              0.7777777777777778,
              "#6ece58"
             ],
             [
              0.8888888888888888,
              "#b5de2b"
             ],
             [
              1,
              "#fde725"
             ]
            ],
            "type": "histogram2d"
           }
          ],
          "histogram2dcontour": [
           {
            "colorbar": {
             "outlinewidth": 1,
             "tickcolor": "rgb(36,36,36)",
             "ticks": "outside"
            },
            "colorscale": [
             [
              0,
              "#440154"
             ],
             [
              0.1111111111111111,
              "#482878"
             ],
             [
              0.2222222222222222,
              "#3e4989"
             ],
             [
              0.3333333333333333,
              "#31688e"
             ],
             [
              0.4444444444444444,
              "#26828e"
             ],
             [
              0.5555555555555556,
              "#1f9e89"
             ],
             [
              0.6666666666666666,
              "#35b779"
             ],
             [
              0.7777777777777778,
              "#6ece58"
             ],
             [
              0.8888888888888888,
              "#b5de2b"
             ],
             [
              1,
              "#fde725"
             ]
            ],
            "type": "histogram2dcontour"
           }
          ],
          "mesh3d": [
           {
            "colorbar": {
             "outlinewidth": 1,
             "tickcolor": "rgb(36,36,36)",
             "ticks": "outside"
            },
            "type": "mesh3d"
           }
          ],
          "parcoords": [
           {
            "line": {
             "colorbar": {
              "outlinewidth": 1,
              "tickcolor": "rgb(36,36,36)",
              "ticks": "outside"
             }
            },
            "type": "parcoords"
           }
          ],
          "pie": [
           {
            "automargin": true,
            "type": "pie"
           }
          ],
          "scatter": [
           {
            "fillpattern": {
             "fillmode": "overlay",
             "size": 10,
             "solidity": 0.2
            },
            "type": "scatter"
           }
          ],
          "scatter3d": [
           {
            "line": {
             "colorbar": {
              "outlinewidth": 1,
              "tickcolor": "rgb(36,36,36)",
              "ticks": "outside"
             }
            },
            "marker": {
             "colorbar": {
              "outlinewidth": 1,
              "tickcolor": "rgb(36,36,36)",
              "ticks": "outside"
             }
            },
            "type": "scatter3d"
           }
          ],
          "scattercarpet": [
           {
            "marker": {
             "colorbar": {
              "outlinewidth": 1,
              "tickcolor": "rgb(36,36,36)",
              "ticks": "outside"
             }
            },
            "type": "scattercarpet"
           }
          ],
          "scattergeo": [
           {
            "marker": {
             "colorbar": {
              "outlinewidth": 1,
              "tickcolor": "rgb(36,36,36)",
              "ticks": "outside"
             }
            },
            "type": "scattergeo"
           }
          ],
          "scattergl": [
           {
            "marker": {
             "colorbar": {
              "outlinewidth": 1,
              "tickcolor": "rgb(36,36,36)",
              "ticks": "outside"
             }
            },
            "type": "scattergl"
           }
          ],
          "scattermapbox": [
           {
            "marker": {
             "colorbar": {
              "outlinewidth": 1,
              "tickcolor": "rgb(36,36,36)",
              "ticks": "outside"
             }
            },
            "type": "scattermapbox"
           }
          ],
          "scatterpolar": [
           {
            "marker": {
             "colorbar": {
              "outlinewidth": 1,
              "tickcolor": "rgb(36,36,36)",
              "ticks": "outside"
             }
            },
            "type": "scatterpolar"
           }
          ],
          "scatterpolargl": [
           {
            "marker": {
             "colorbar": {
              "outlinewidth": 1,
              "tickcolor": "rgb(36,36,36)",
              "ticks": "outside"
             }
            },
            "type": "scatterpolargl"
           }
          ],
          "scatterternary": [
           {
            "marker": {
             "colorbar": {
              "outlinewidth": 1,
              "tickcolor": "rgb(36,36,36)",
              "ticks": "outside"
             }
            },
            "type": "scatterternary"
           }
          ],
          "surface": [
           {
            "colorbar": {
             "outlinewidth": 1,
             "tickcolor": "rgb(36,36,36)",
             "ticks": "outside"
            },
            "colorscale": [
             [
              0,
              "#440154"
             ],
             [
              0.1111111111111111,
              "#482878"
             ],
             [
              0.2222222222222222,
              "#3e4989"
             ],
             [
              0.3333333333333333,
              "#31688e"
             ],
             [
              0.4444444444444444,
              "#26828e"
             ],
             [
              0.5555555555555556,
              "#1f9e89"
             ],
             [
              0.6666666666666666,
              "#35b779"
             ],
             [
              0.7777777777777778,
              "#6ece58"
             ],
             [
              0.8888888888888888,
              "#b5de2b"
             ],
             [
              1,
              "#fde725"
             ]
            ],
            "type": "surface"
           }
          ],
          "table": [
           {
            "cells": {
             "fill": {
              "color": "rgb(237,237,237)"
             },
             "line": {
              "color": "white"
             }
            },
            "header": {
             "fill": {
              "color": "rgb(217,217,217)"
             },
             "line": {
              "color": "white"
             }
            },
            "type": "table"
           }
          ]
         },
         "layout": {
          "annotationdefaults": {
           "arrowhead": 0,
           "arrowwidth": 1
          },
          "autotypenumbers": "strict",
          "coloraxis": {
           "colorbar": {
            "outlinewidth": 1,
            "tickcolor": "rgb(36,36,36)",
            "ticks": "outside"
           }
          },
          "colorscale": {
           "diverging": [
            [
             0,
             "rgb(103,0,31)"
            ],
            [
             0.1,
             "rgb(178,24,43)"
            ],
            [
             0.2,
             "rgb(214,96,77)"
            ],
            [
             0.3,
             "rgb(244,165,130)"
            ],
            [
             0.4,
             "rgb(253,219,199)"
            ],
            [
             0.5,
             "rgb(247,247,247)"
            ],
            [
             0.6,
             "rgb(209,229,240)"
            ],
            [
             0.7,
             "rgb(146,197,222)"
            ],
            [
             0.8,
             "rgb(67,147,195)"
            ],
            [
             0.9,
             "rgb(33,102,172)"
            ],
            [
             1,
             "rgb(5,48,97)"
            ]
           ],
           "sequential": [
            [
             0,
             "#440154"
            ],
            [
             0.1111111111111111,
             "#482878"
            ],
            [
             0.2222222222222222,
             "#3e4989"
            ],
            [
             0.3333333333333333,
             "#31688e"
            ],
            [
             0.4444444444444444,
             "#26828e"
            ],
            [
             0.5555555555555556,
             "#1f9e89"
            ],
            [
             0.6666666666666666,
             "#35b779"
            ],
            [
             0.7777777777777778,
             "#6ece58"
            ],
            [
             0.8888888888888888,
             "#b5de2b"
            ],
            [
             1,
             "#fde725"
            ]
           ],
           "sequentialminus": [
            [
             0,
             "#440154"
            ],
            [
             0.1111111111111111,
             "#482878"
            ],
            [
             0.2222222222222222,
             "#3e4989"
            ],
            [
             0.3333333333333333,
             "#31688e"
            ],
            [
             0.4444444444444444,
             "#26828e"
            ],
            [
             0.5555555555555556,
             "#1f9e89"
            ],
            [
             0.6666666666666666,
             "#35b779"
            ],
            [
             0.7777777777777778,
             "#6ece58"
            ],
            [
             0.8888888888888888,
             "#b5de2b"
            ],
            [
             1,
             "#fde725"
            ]
           ]
          },
          "colorway": [
           "#1F77B4",
           "#FF7F0E",
           "#2CA02C",
           "#D62728",
           "#9467BD",
           "#8C564B",
           "#E377C2",
           "#7F7F7F",
           "#BCBD22",
           "#17BECF"
          ],
          "font": {
           "color": "rgb(36,36,36)"
          },
          "geo": {
           "bgcolor": "white",
           "lakecolor": "white",
           "landcolor": "white",
           "showlakes": true,
           "showland": true,
           "subunitcolor": "white"
          },
          "hoverlabel": {
           "align": "left"
          },
          "hovermode": "closest",
          "mapbox": {
           "style": "light"
          },
          "paper_bgcolor": "white",
          "plot_bgcolor": "white",
          "polar": {
           "angularaxis": {
            "gridcolor": "rgb(232,232,232)",
            "linecolor": "rgb(36,36,36)",
            "showgrid": false,
            "showline": true,
            "ticks": "outside"
           },
           "bgcolor": "white",
           "radialaxis": {
            "gridcolor": "rgb(232,232,232)",
            "linecolor": "rgb(36,36,36)",
            "showgrid": false,
            "showline": true,
            "ticks": "outside"
           }
          },
          "scene": {
           "xaxis": {
            "backgroundcolor": "white",
            "gridcolor": "rgb(232,232,232)",
            "gridwidth": 2,
            "linecolor": "rgb(36,36,36)",
            "showbackground": true,
            "showgrid": false,
            "showline": true,
            "ticks": "outside",
            "zeroline": false,
            "zerolinecolor": "rgb(36,36,36)"
           },
           "yaxis": {
            "backgroundcolor": "white",
            "gridcolor": "rgb(232,232,232)",
            "gridwidth": 2,
            "linecolor": "rgb(36,36,36)",
            "showbackground": true,
            "showgrid": false,
            "showline": true,
            "ticks": "outside",
            "zeroline": false,
            "zerolinecolor": "rgb(36,36,36)"
           },
           "zaxis": {
            "backgroundcolor": "white",
            "gridcolor": "rgb(232,232,232)",
            "gridwidth": 2,
            "linecolor": "rgb(36,36,36)",
            "showbackground": true,
            "showgrid": false,
            "showline": true,
            "ticks": "outside",
            "zeroline": false,
            "zerolinecolor": "rgb(36,36,36)"
           }
          },
          "shapedefaults": {
           "fillcolor": "black",
           "line": {
            "width": 0
           },
           "opacity": 0.3
          },
          "ternary": {
           "aaxis": {
            "gridcolor": "rgb(232,232,232)",
            "linecolor": "rgb(36,36,36)",
            "showgrid": false,
            "showline": true,
            "ticks": "outside"
           },
           "baxis": {
            "gridcolor": "rgb(232,232,232)",
            "linecolor": "rgb(36,36,36)",
            "showgrid": false,
            "showline": true,
            "ticks": "outside"
           },
           "bgcolor": "white",
           "caxis": {
            "gridcolor": "rgb(232,232,232)",
            "linecolor": "rgb(36,36,36)",
            "showgrid": false,
            "showline": true,
            "ticks": "outside"
           }
          },
          "title": {
           "x": 0.05
          },
          "xaxis": {
           "automargin": true,
           "gridcolor": "rgb(232,232,232)",
           "linecolor": "rgb(36,36,36)",
           "showgrid": false,
           "showline": true,
           "ticks": "outside",
           "title": {
            "standoff": 15
           },
           "zeroline": false,
           "zerolinecolor": "rgb(36,36,36)"
          },
          "yaxis": {
           "automargin": true,
           "gridcolor": "rgb(232,232,232)",
           "linecolor": "rgb(36,36,36)",
           "showgrid": false,
           "showline": true,
           "ticks": "outside",
           "title": {
            "standoff": 15
           },
           "zeroline": false,
           "zerolinecolor": "rgb(36,36,36)"
          }
         }
        },
        "title": {
         "font": {
          "color": "black",
          "family": "Arial",
          "size": 24
         },
         "text": "Parity Plot for predicting PBE Bandgap including HSE features",
         "x": 0.5
        },
        "width": 1000,
        "xaxis": {
         "title": {
          "font": {
           "family": "arial",
           "size": 18
          },
          "text": "Actual Values"
         }
        },
        "yaxis": {
         "title": {
          "font": {
           "family": "arial",
           "size": 18
          },
          "text": "Predicted Values"
         }
        }
       }
      }
     },
     "metadata": {},
     "output_type": "display_data"
    }
   ],
   "source": [
    "import plotly.graph_objects as go\n",
    "\n",
    "# Predict on training and test sets\n",
    "y_train_pred = xgb_reg.predict(X_train)\n",
    "y_test_pred = xgb_reg.predict(X_test)\n",
    "\n",
    "\n",
    "# Create a parity plot for test set\n",
    "test_set_df_ = pd.DataFrame({'y_test': y_test, 'y_test_pred': y_test_pred})\n",
    "\n",
    "# Merge the DataFrame with the main DataFrame 'df' to get 'hse_direct' values\n",
    "test_set_df_ = pd.merge(test_set_df_, df[['PBE_direct']], left_index=True, right_index=True, how='left')\n",
    "\n",
    "parity_test_fig = go.Figure()\n",
    "\n",
    "# Create a color list based on pbe_direct values\n",
    "colors = []\n",
    "\n",
    "for index, row in test_set_df_.iterrows():\n",
    "    pbe_direct_val = row['PBE_direct']\n",
    "    if pd.isna(pbe_direct_val):\n",
    "        colors.append('red')\n",
    "    elif pbe_direct_val == 1:\n",
    "        colors.append('green')\n",
    "    else:\n",
    "        colors.append('black')\n",
    "\n",
    "parity_test_fig.add_trace(go.Scatter(\n",
    "    x=test_set_df_['y_test'],\n",
    "    y=test_set_df_['y_test_pred'],\n",
    "    mode='markers',\n",
    "    name='Test Set',\n",
    "    marker=dict(size=6, color=colors)\n",
    "))\n",
    "\n",
    "parity_test_fig.add_trace(go.Scatter(\n",
    "    x=[min(test_set_df_['y_test']), max(test_set_df_['y_test'])],\n",
    "    y=[min(test_set_df_['y_test']), max(test_set_df_['y_test'])],\n",
    "    mode='lines',\n",
    "    name='Ideal Prediction',\n",
    "    line=dict(dash='dash', color='red', width=1.5)\n",
    "))\n",
    "\n",
    "# Add custom legend entry\n",
    "parity_test_fig.add_trace(go.Scatter(\n",
    "    x=[],\n",
    "    y=[],\n",
    "    mode='markers',\n",
    "    marker=dict(size=10, color='green'),\n",
    "    name='PBE direct'\n",
    "))\n",
    "\n",
    "parity_test_fig.add_trace(go.Scatter(\n",
    "    x=[],\n",
    "    y=[],\n",
    "    mode='markers',\n",
    "    marker=dict(size=10, color='black'),\n",
    "    name='PBE indirect'\n",
    "))\n",
    "\n",
    "parity_test_fig.update_layout(\n",
    "    template='simple_white',  # set template to white background\n",
    "    title='Parity Plot for predicting PBE Bandgap including HSE features',\n",
    "    xaxis_title='Actual Values',\n",
    "    yaxis_title='Predicted Values',\n",
    "    font_family=\"Courier New\",\n",
    "    font_color=\"black\",\n",
    "    title_font_family=\"Arial\",\n",
    "    title_font_color=\"black\",\n",
    "    title_font_size = 24,\n",
    "    xaxis_title_font_size=18,\n",
    "    yaxis_title_font_size=18,\n",
    "    legend_title_font_color=\"green\",\n",
    "    xaxis_title_font_family = \"arial\",\n",
    "    yaxis_title_font_family = \"arial\",\n",
    "    title_x = 0.5,\n",
    "    showlegend=False,  # hide legend\n",
    "    width=1000,  # Set the width of the plot\n",
    "    height=800,\n",
    ")\n",
    "\n",
    "#fig.update_xaxes(title_font_family=\"Arial\",tickfont=dict(color='black'), tickfont_size = 16, title_font_size = 20)\n",
    "#fig.update_yaxes(title_font_family=\"Arial\",tickfont=dict(color='black'), tickfont_size = 16, title_font_size = 20)\n",
    "\n",
    "textt = \"Black points represent PBE bandgap is indirect<br>Green points represent PBE bandgap is direct\"\n",
    "\n",
    "parity_test_fig.add_annotation(\n",
    "    text=textt,  # Replace with your desired text\n",
    "    x= 1,  # X-coordinate position (0 to 1, where 0 is left and 1 is right)\n",
    "    y= 0.05,  # Y-coordinate position (1 is top of the plot, increase to move downward)\n",
    "    xref=\"paper\",  # Use \"paper\" for relative x-coordinates\n",
    "    yref=\"paper\",  # Use \"paper\" for relative y-coordinates\n",
    "    showarrow=False,  # Do not show an arrow\n",
    "    font=dict(family=\"Arial\", size=12, color=\"black\"),  # Customize font properties\n",
    "    bgcolor=\"rgba(255, 255, 255, 0.7)\",  # Set background color\n",
    "    bordercolor=\"black\",  # Set border color\n",
    "    borderwidth=1,  # Set border width\n",
    ")\n",
    "\n",
    "#fig.update_xaxes(title_font_family=\"Arial\",tickfont=dict(color='black'))\n",
    "#fig.update_yaxes(title_font_family=\"Arial\",tickfont=dict(color='black'))\n",
    "\n",
    "config = {\n",
    "    'toImageButtonOptions': {\n",
    "        'format': 'png',  # one of png, svg, jpeg, webp\n",
    "        'filename': 'custom_image',\n",
    "        'height': 500,\n",
    "        'width': 700,\n",
    "        'scale': 6  # Multiply title/legend/axis/canvas sizes by this factor\n",
    "    }\n",
    "}\n",
    "\n",
    "parity_test_fig.show(config=config)\n",
    "\n",
    "\n",
    "\n"
   ]
  },
  {
   "cell_type": "markdown",
   "metadata": {},
   "source": [
    "### Plotting Importances by features of the PBE prediction model including only elemental features"
   ]
  },
  {
   "cell_type": "code",
   "execution_count": 85,
   "metadata": {},
   "outputs": [
    {
     "data": {
      "application/vnd.plotly.v1+json": {
       "config": {
        "plotlyServerURL": "https://plot.ly",
        "toImageButtonOptions": {
         "filename": "custom_image",
         "format": "png",
         "height": 500,
         "scale": 6,
         "width": 700
        }
       },
       "data": [
        {
         "marker": {
          "color": "royalblue"
         },
         "type": "bar",
         "x": [
          "A_Z_radii",
          "B_HOMO",
          "A_IE",
          "b",
          "a",
          "A_X",
          "A_e_affin",
          "c",
          "A_LUMO",
          "A_OS"
         ],
         "y": [
          0.2226174920797348,
          0.11032794415950775,
          0.0832146406173706,
          0.07996354252099991,
          0.07631927728652954,
          0.060119301080703735,
          0.053008414804935455,
          0.04047049209475517,
          0.03799228370189667,
          0.03532782942056656
         ]
        }
       ],
       "layout": {
        "font": {
         "color": "black",
         "family": "Arial",
         "size": 14
        },
        "height": 800,
        "showlegend": false,
        "template": {
         "data": {
          "bar": [
           {
            "error_x": {
             "color": "#2a3f5f"
            },
            "error_y": {
             "color": "#2a3f5f"
            },
            "marker": {
             "line": {
              "color": "#E5ECF6",
              "width": 0.5
             },
             "pattern": {
              "fillmode": "overlay",
              "size": 10,
              "solidity": 0.2
             }
            },
            "type": "bar"
           }
          ],
          "barpolar": [
           {
            "marker": {
             "line": {
              "color": "#E5ECF6",
              "width": 0.5
             },
             "pattern": {
              "fillmode": "overlay",
              "size": 10,
              "solidity": 0.2
             }
            },
            "type": "barpolar"
           }
          ],
          "carpet": [
           {
            "aaxis": {
             "endlinecolor": "#2a3f5f",
             "gridcolor": "white",
             "linecolor": "white",
             "minorgridcolor": "white",
             "startlinecolor": "#2a3f5f"
            },
            "baxis": {
             "endlinecolor": "#2a3f5f",
             "gridcolor": "white",
             "linecolor": "white",
             "minorgridcolor": "white",
             "startlinecolor": "#2a3f5f"
            },
            "type": "carpet"
           }
          ],
          "choropleth": [
           {
            "colorbar": {
             "outlinewidth": 0,
             "ticks": ""
            },
            "type": "choropleth"
           }
          ],
          "contour": [
           {
            "colorbar": {
             "outlinewidth": 0,
             "ticks": ""
            },
            "colorscale": [
             [
              0,
              "#0d0887"
             ],
             [
              0.1111111111111111,
              "#46039f"
             ],
             [
              0.2222222222222222,
              "#7201a8"
             ],
             [
              0.3333333333333333,
              "#9c179e"
             ],
             [
              0.4444444444444444,
              "#bd3786"
             ],
             [
              0.5555555555555556,
              "#d8576b"
             ],
             [
              0.6666666666666666,
              "#ed7953"
             ],
             [
              0.7777777777777778,
              "#fb9f3a"
             ],
             [
              0.8888888888888888,
              "#fdca26"
             ],
             [
              1,
              "#f0f921"
             ]
            ],
            "type": "contour"
           }
          ],
          "contourcarpet": [
           {
            "colorbar": {
             "outlinewidth": 0,
             "ticks": ""
            },
            "type": "contourcarpet"
           }
          ],
          "heatmap": [
           {
            "colorbar": {
             "outlinewidth": 0,
             "ticks": ""
            },
            "colorscale": [
             [
              0,
              "#0d0887"
             ],
             [
              0.1111111111111111,
              "#46039f"
             ],
             [
              0.2222222222222222,
              "#7201a8"
             ],
             [
              0.3333333333333333,
              "#9c179e"
             ],
             [
              0.4444444444444444,
              "#bd3786"
             ],
             [
              0.5555555555555556,
              "#d8576b"
             ],
             [
              0.6666666666666666,
              "#ed7953"
             ],
             [
              0.7777777777777778,
              "#fb9f3a"
             ],
             [
              0.8888888888888888,
              "#fdca26"
             ],
             [
              1,
              "#f0f921"
             ]
            ],
            "type": "heatmap"
           }
          ],
          "heatmapgl": [
           {
            "colorbar": {
             "outlinewidth": 0,
             "ticks": ""
            },
            "colorscale": [
             [
              0,
              "#0d0887"
             ],
             [
              0.1111111111111111,
              "#46039f"
             ],
             [
              0.2222222222222222,
              "#7201a8"
             ],
             [
              0.3333333333333333,
              "#9c179e"
             ],
             [
              0.4444444444444444,
              "#bd3786"
             ],
             [
              0.5555555555555556,
              "#d8576b"
             ],
             [
              0.6666666666666666,
              "#ed7953"
             ],
             [
              0.7777777777777778,
              "#fb9f3a"
             ],
             [
              0.8888888888888888,
              "#fdca26"
             ],
             [
              1,
              "#f0f921"
             ]
            ],
            "type": "heatmapgl"
           }
          ],
          "histogram": [
           {
            "marker": {
             "pattern": {
              "fillmode": "overlay",
              "size": 10,
              "solidity": 0.2
             }
            },
            "type": "histogram"
           }
          ],
          "histogram2d": [
           {
            "colorbar": {
             "outlinewidth": 0,
             "ticks": ""
            },
            "colorscale": [
             [
              0,
              "#0d0887"
             ],
             [
              0.1111111111111111,
              "#46039f"
             ],
             [
              0.2222222222222222,
              "#7201a8"
             ],
             [
              0.3333333333333333,
              "#9c179e"
             ],
             [
              0.4444444444444444,
              "#bd3786"
             ],
             [
              0.5555555555555556,
              "#d8576b"
             ],
             [
              0.6666666666666666,
              "#ed7953"
             ],
             [
              0.7777777777777778,
              "#fb9f3a"
             ],
             [
              0.8888888888888888,
              "#fdca26"
             ],
             [
              1,
              "#f0f921"
             ]
            ],
            "type": "histogram2d"
           }
          ],
          "histogram2dcontour": [
           {
            "colorbar": {
             "outlinewidth": 0,
             "ticks": ""
            },
            "colorscale": [
             [
              0,
              "#0d0887"
             ],
             [
              0.1111111111111111,
              "#46039f"
             ],
             [
              0.2222222222222222,
              "#7201a8"
             ],
             [
              0.3333333333333333,
              "#9c179e"
             ],
             [
              0.4444444444444444,
              "#bd3786"
             ],
             [
              0.5555555555555556,
              "#d8576b"
             ],
             [
              0.6666666666666666,
              "#ed7953"
             ],
             [
              0.7777777777777778,
              "#fb9f3a"
             ],
             [
              0.8888888888888888,
              "#fdca26"
             ],
             [
              1,
              "#f0f921"
             ]
            ],
            "type": "histogram2dcontour"
           }
          ],
          "mesh3d": [
           {
            "colorbar": {
             "outlinewidth": 0,
             "ticks": ""
            },
            "type": "mesh3d"
           }
          ],
          "parcoords": [
           {
            "line": {
             "colorbar": {
              "outlinewidth": 0,
              "ticks": ""
             }
            },
            "type": "parcoords"
           }
          ],
          "pie": [
           {
            "automargin": true,
            "type": "pie"
           }
          ],
          "scatter": [
           {
            "fillpattern": {
             "fillmode": "overlay",
             "size": 10,
             "solidity": 0.2
            },
            "type": "scatter"
           }
          ],
          "scatter3d": [
           {
            "line": {
             "colorbar": {
              "outlinewidth": 0,
              "ticks": ""
             }
            },
            "marker": {
             "colorbar": {
              "outlinewidth": 0,
              "ticks": ""
             }
            },
            "type": "scatter3d"
           }
          ],
          "scattercarpet": [
           {
            "marker": {
             "colorbar": {
              "outlinewidth": 0,
              "ticks": ""
             }
            },
            "type": "scattercarpet"
           }
          ],
          "scattergeo": [
           {
            "marker": {
             "colorbar": {
              "outlinewidth": 0,
              "ticks": ""
             }
            },
            "type": "scattergeo"
           }
          ],
          "scattergl": [
           {
            "marker": {
             "colorbar": {
              "outlinewidth": 0,
              "ticks": ""
             }
            },
            "type": "scattergl"
           }
          ],
          "scattermapbox": [
           {
            "marker": {
             "colorbar": {
              "outlinewidth": 0,
              "ticks": ""
             }
            },
            "type": "scattermapbox"
           }
          ],
          "scatterpolar": [
           {
            "marker": {
             "colorbar": {
              "outlinewidth": 0,
              "ticks": ""
             }
            },
            "type": "scatterpolar"
           }
          ],
          "scatterpolargl": [
           {
            "marker": {
             "colorbar": {
              "outlinewidth": 0,
              "ticks": ""
             }
            },
            "type": "scatterpolargl"
           }
          ],
          "scatterternary": [
           {
            "marker": {
             "colorbar": {
              "outlinewidth": 0,
              "ticks": ""
             }
            },
            "type": "scatterternary"
           }
          ],
          "surface": [
           {
            "colorbar": {
             "outlinewidth": 0,
             "ticks": ""
            },
            "colorscale": [
             [
              0,
              "#0d0887"
             ],
             [
              0.1111111111111111,
              "#46039f"
             ],
             [
              0.2222222222222222,
              "#7201a8"
             ],
             [
              0.3333333333333333,
              "#9c179e"
             ],
             [
              0.4444444444444444,
              "#bd3786"
             ],
             [
              0.5555555555555556,
              "#d8576b"
             ],
             [
              0.6666666666666666,
              "#ed7953"
             ],
             [
              0.7777777777777778,
              "#fb9f3a"
             ],
             [
              0.8888888888888888,
              "#fdca26"
             ],
             [
              1,
              "#f0f921"
             ]
            ],
            "type": "surface"
           }
          ],
          "table": [
           {
            "cells": {
             "fill": {
              "color": "#EBF0F8"
             },
             "line": {
              "color": "white"
             }
            },
            "header": {
             "fill": {
              "color": "#C8D4E3"
             },
             "line": {
              "color": "white"
             }
            },
            "type": "table"
           }
          ]
         },
         "layout": {
          "annotationdefaults": {
           "arrowcolor": "#2a3f5f",
           "arrowhead": 0,
           "arrowwidth": 1
          },
          "autotypenumbers": "strict",
          "coloraxis": {
           "colorbar": {
            "outlinewidth": 0,
            "ticks": ""
           }
          },
          "colorscale": {
           "diverging": [
            [
             0,
             "#8e0152"
            ],
            [
             0.1,
             "#c51b7d"
            ],
            [
             0.2,
             "#de77ae"
            ],
            [
             0.3,
             "#f1b6da"
            ],
            [
             0.4,
             "#fde0ef"
            ],
            [
             0.5,
             "#f7f7f7"
            ],
            [
             0.6,
             "#e6f5d0"
            ],
            [
             0.7,
             "#b8e186"
            ],
            [
             0.8,
             "#7fbc41"
            ],
            [
             0.9,
             "#4d9221"
            ],
            [
             1,
             "#276419"
            ]
           ],
           "sequential": [
            [
             0,
             "#0d0887"
            ],
            [
             0.1111111111111111,
             "#46039f"
            ],
            [
             0.2222222222222222,
             "#7201a8"
            ],
            [
             0.3333333333333333,
             "#9c179e"
            ],
            [
             0.4444444444444444,
             "#bd3786"
            ],
            [
             0.5555555555555556,
             "#d8576b"
            ],
            [
             0.6666666666666666,
             "#ed7953"
            ],
            [
             0.7777777777777778,
             "#fb9f3a"
            ],
            [
             0.8888888888888888,
             "#fdca26"
            ],
            [
             1,
             "#f0f921"
            ]
           ],
           "sequentialminus": [
            [
             0,
             "#0d0887"
            ],
            [
             0.1111111111111111,
             "#46039f"
            ],
            [
             0.2222222222222222,
             "#7201a8"
            ],
            [
             0.3333333333333333,
             "#9c179e"
            ],
            [
             0.4444444444444444,
             "#bd3786"
            ],
            [
             0.5555555555555556,
             "#d8576b"
            ],
            [
             0.6666666666666666,
             "#ed7953"
            ],
            [
             0.7777777777777778,
             "#fb9f3a"
            ],
            [
             0.8888888888888888,
             "#fdca26"
            ],
            [
             1,
             "#f0f921"
            ]
           ]
          },
          "colorway": [
           "#636efa",
           "#EF553B",
           "#00cc96",
           "#ab63fa",
           "#FFA15A",
           "#19d3f3",
           "#FF6692",
           "#B6E880",
           "#FF97FF",
           "#FECB52"
          ],
          "font": {
           "color": "#2a3f5f"
          },
          "geo": {
           "bgcolor": "white",
           "lakecolor": "white",
           "landcolor": "#E5ECF6",
           "showlakes": true,
           "showland": true,
           "subunitcolor": "white"
          },
          "hoverlabel": {
           "align": "left"
          },
          "hovermode": "closest",
          "mapbox": {
           "style": "light"
          },
          "paper_bgcolor": "white",
          "plot_bgcolor": "#E5ECF6",
          "polar": {
           "angularaxis": {
            "gridcolor": "white",
            "linecolor": "white",
            "ticks": ""
           },
           "bgcolor": "#E5ECF6",
           "radialaxis": {
            "gridcolor": "white",
            "linecolor": "white",
            "ticks": ""
           }
          },
          "scene": {
           "xaxis": {
            "backgroundcolor": "#E5ECF6",
            "gridcolor": "white",
            "gridwidth": 2,
            "linecolor": "white",
            "showbackground": true,
            "ticks": "",
            "zerolinecolor": "white"
           },
           "yaxis": {
            "backgroundcolor": "#E5ECF6",
            "gridcolor": "white",
            "gridwidth": 2,
            "linecolor": "white",
            "showbackground": true,
            "ticks": "",
            "zerolinecolor": "white"
           },
           "zaxis": {
            "backgroundcolor": "#E5ECF6",
            "gridcolor": "white",
            "gridwidth": 2,
            "linecolor": "white",
            "showbackground": true,
            "ticks": "",
            "zerolinecolor": "white"
           }
          },
          "shapedefaults": {
           "line": {
            "color": "#2a3f5f"
           }
          },
          "ternary": {
           "aaxis": {
            "gridcolor": "white",
            "linecolor": "white",
            "ticks": ""
           },
           "baxis": {
            "gridcolor": "white",
            "linecolor": "white",
            "ticks": ""
           },
           "bgcolor": "#E5ECF6",
           "caxis": {
            "gridcolor": "white",
            "linecolor": "white",
            "ticks": ""
           }
          },
          "title": {
           "x": 0.05
          },
          "xaxis": {
           "automargin": true,
           "gridcolor": "white",
           "linecolor": "white",
           "ticks": "",
           "title": {
            "standoff": 15
           },
           "zerolinecolor": "white",
           "zerolinewidth": 2
          },
          "yaxis": {
           "automargin": true,
           "gridcolor": "white",
           "linecolor": "white",
           "ticks": "",
           "title": {
            "standoff": 15
           },
           "zerolinecolor": "white",
           "zerolinewidth": 2
          }
         }
        },
        "title": {
         "text": "Feature Importances for Predicting PBE Features including only elemental features",
         "x": 0.5
        },
        "width": 1000,
        "xaxis": {
         "tickangle": 45,
         "tickfont": {
          "size": 14
         },
         "title": {
          "text": "Features"
         }
        },
        "yaxis": {
         "title": {
          "text": "Importance (%)"
         }
        }
       }
      }
     },
     "metadata": {},
     "output_type": "display_data"
    }
   ],
   "source": [
    "import plotly.graph_objects as go\n",
    "\n",
    "feature_importances = xgb_reg.feature_importances_\n",
    "included = X_PBE.columns.values\n",
    "indices = np.argsort(feature_importances)[::-1]\n",
    "\n",
    "fig = go.Figure()\n",
    "\n",
    "fig.add_trace(go.Bar(\n",
    "    x=included[indices][:10],\n",
    "    y=feature_importances[indices][:10],\n",
    "    marker=dict(color='royalblue'),\n",
    "    #text=feature_importances[indices][:10],\n",
    "    #textposition='auto',\n",
    "))\n",
    "\n",
    "fig.update_layout(\n",
    "    xaxis=dict(\n",
    "        title='Features',\n",
    "        tickfont=dict(size=14),\n",
    "        tickangle=45  \n",
    "    ),\n",
    "    yaxis_title='Importance (%)',\n",
    "    title='Feature Importances for Predicting PBE Features including only elemental features',\n",
    "    font=dict(family=\"Arial\", size=14, color=\"black\"),\n",
    "    title_x = 0.5,\n",
    "    width=1000,\n",
    "    height=800,\n",
    "    showlegend=False,\n",
    ")\n",
    "\n",
    "config = {\n",
    "    'toImageButtonOptions': {\n",
    "        'format': 'png',  # one of png, svg, jpeg, webp\n",
    "        'filename': 'custom_image',\n",
    "        'height': 500,\n",
    "        'width': 700,\n",
    "        'scale': 6  # Multiply title/legend/axis/canvas sizes by this factor\n",
    "    }\n",
    "}\n",
    "\n",
    "fig.show(config=config)\n"
   ]
  },
  {
   "cell_type": "markdown",
   "metadata": {},
   "source": [
    "## For prediciting HSE bandgap"
   ]
  },
  {
   "cell_type": "markdown",
   "metadata": {},
   "source": [
    "### Predicting HSE bandgap including only elemental features"
   ]
  },
  {
   "cell_type": "code",
   "execution_count": 92,
   "metadata": {},
   "outputs": [
    {
     "name": "stdout",
     "output_type": "stream",
     "text": [
      "Best R2 Score: 0.710 obtained with random seed: 26\n"
     ]
    }
   ],
   "source": [
    "from xgboost import XGBRegressor\n",
    "from sklearn.metrics import r2_score\n",
    "import numpy as np\n",
    "\n",
    "best_r2_score = -float('inf')\n",
    "best_seed = None\n",
    "\n",
    "X_HSE['functional_group'] = df['functional_group']\n",
    "\n",
    "for seed in range(1, 43):\n",
    "    # Split the data into train and test sets using the current seed\n",
    "    X_train, X_test, y_train, y_test = train_test_split(X_HSE, y_HSE, test_size=0.1, random_state=seed)\n",
    "\n",
    "    # Extract and drop the 'functional_group' column\n",
    "    train_formula = X_train['functional_group']\n",
    "    X_train = X_train.drop(['functional_group'], axis=1)\n",
    "    test_formula = X_test['functional_group']\n",
    "    X_test = X_test.drop(['functional_group'], axis=1)\n",
    "\n",
    "    # Create an XGBoost regressor\n",
    "    xgb_reg = XGBRegressor(n_estimators=100, random_state=5)\n",
    "    xgb_reg.fit(X_train, y_train)\n",
    "\n",
    "    # Calculate R2 score on the test set\n",
    "    current_r2_score = r2_score(y_true=y_test, y_pred=xgb_reg.predict(X_test))\n",
    "\n",
    "    # Update best R2 score and seed if the current R2 score is better\n",
    "    if current_r2_score > best_r2_score:\n",
    "        best_r2_score = current_r2_score\n",
    "        best_seed = seed\n",
    "\n",
    "print(f'Best R2 Score: {best_r2_score:.3f} obtained with random seed: {best_seed}')\n"
   ]
  },
  {
   "cell_type": "code",
   "execution_count": 117,
   "metadata": {},
   "outputs": [
    {
     "name": "stdout",
     "output_type": "stream",
     "text": [
      "Training R2 = 1.0\n",
      "Training RMSE = 0.002\n",
      "Test R2 = 0.71\n",
      "Test RMSE = 0.304\n"
     ]
    }
   ],
   "source": [
    "from xgboost import XGBRegressor\n",
    "from sklearn.metrics import mean_squared_error\n",
    "from sklearn.model_selection import train_test_split\n",
    "\n",
    "# Assuming X, y, and df are already defined\n",
    "\n",
    "X_HSE['functional_group'] = df['functional_group']\n",
    "\n",
    "# Add 'stable' to X\n",
    "#X_HSE['stable'] = df['stable']\n",
    "\n",
    "# Specify the test size\n",
    "test_size = 0.1\n",
    "\n",
    "# Split the data into train and test sets\n",
    "X__train, X__test, y__train, y__test = train_test_split(X_HSE, y_HSE, test_size=test_size, random_state=26)\n",
    "\n",
    "# Extract and drop the 'functional_group' column\n",
    "train_formula = X__train['functional_group']\n",
    "X__train = X__train.drop('functional_group', axis=1)\n",
    "test__formula = X__test['functional_group']\n",
    "X__test = X__test.drop('functional_group', axis=1)\n",
    "\n",
    "# Create an XGBoost regressor\n",
    "xgb__reg = XGBRegressor(n_estimators=300, random_state=6, learning_rate = 0.3)\n",
    "xgb__reg.fit(X__train, y__train)\n",
    "\n",
    "# Get fit statistics\n",
    "print('Training R2 = ' + str(round(xgb__reg.score(X__train, y__train), 3)))\n",
    "print('Training RMSE = %.3f' % np.sqrt(mean_squared_error(y_true=y__train, y_pred=xgb__reg.predict(X__train))))\n",
    "print('Test R2 = ' + str(round(xgb__reg.score(X__test, y__test), 3)))\n",
    "print('Test RMSE = %.3f' % np.sqrt(mean_squared_error(y_true=y__test, y_pred=xgb__reg.predict(X__test))))\n",
    "\n"
   ]
  },
  {
   "cell_type": "markdown",
   "metadata": {},
   "source": [
    "### Parity plot for HSE Bandgap including only elemental features"
   ]
  },
  {
   "cell_type": "code",
   "execution_count": 118,
   "metadata": {},
   "outputs": [
    {
     "data": {
      "application/vnd.plotly.v1+json": {
       "config": {
        "plotlyServerURL": "https://plot.ly",
        "toImageButtonOptions": {
         "filename": "custom_image",
         "format": "png",
         "height": 500,
         "scale": 6,
         "width": 700
        }
       },
       "data": [
        {
         "marker": {
          "color": [
           "black",
           "black",
           "black",
           "black",
           "black",
           "black",
           "black",
           "black",
           "black",
           "green",
           "black",
           "black",
           "green",
           "black",
           "black",
           "black",
           "black",
           "black",
           "green",
           "black",
           "black",
           "black",
           "black",
           "green",
           "green",
           "green",
           "black",
           "black",
           "black",
           "black",
           "black",
           "black",
           "black",
           "black",
           "black",
           "green",
           "black",
           "black",
           "green",
           "black",
           "black",
           "black",
           "black",
           "black",
           "black",
           "green",
           "black",
           "black",
           "black",
           "black",
           "black",
           "black",
           "black",
           "black",
           "black",
           "black",
           "black",
           "black",
           "black",
           "black",
           "black",
           "black",
           "black",
           "black",
           "black",
           "black",
           "green",
           "black",
           "black",
           "black",
           "black",
           "black",
           "black",
           "black",
           "black",
           "green",
           "black",
           "black",
           "black",
           "black",
           "black",
           "black",
           "black",
           "black",
           "black",
           "black",
           "black",
           "green",
           "black",
           "black",
           "black",
           "black"
          ],
          "size": 6
         },
         "mode": "markers",
         "name": "Test Set",
         "type": "scatter",
         "x": [
          0.004,
          0.019199999999999003,
          0.017600000000001,
          0,
          0.008799999999999001,
          0.032399999999999006,
          0.7756999999999991,
          0.0102,
          0.2363,
          0.018600000000000002,
          0.8870000000000001,
          2.5451,
          0.041899999999999,
          0.006699999999999,
          0.0273,
          0.020800000000000003,
          0.0158,
          1.6185,
          0.074099999999999,
          0.9049,
          0.0373,
          1.4732999999999992,
          0.07410000000000101,
          0,
          0.0175,
          0.2923,
          1.9879000000000002,
          0.0044999999999990005,
          0.012900000000000002,
          0.38409999999999905,
          0.021,
          0.047400000000000005,
          1.0406,
          0.40740000000000004,
          0.030299999999999,
          0.12259999999999902,
          0.031400000000000004,
          0.7189000000000001,
          0,
          0.0159,
          0.09489999999999901,
          0.010499999999999001,
          0.9638000000000001,
          0.009800000000000001,
          0.010700000000000001,
          0.081099999999999,
          0.0335,
          0.033299999999999004,
          0.030699999999999002,
          1.5216,
          0.070899999999999,
          0.0125,
          1.4421,
          1.132399999999999,
          0.00009999999999976696,
          0.021499999999999003,
          0.067499999999999,
          0.9367000000000001,
          0.0188,
          0.6039999999999991,
          0.0206,
          0.7429999999999991,
          0.021199999999999,
          0.149699999999999,
          0.1577,
          0.21760000000000002,
          1.7881,
          0.11289999999999902,
          0.09429999999999901,
          0.020900000000000002,
          0.43169999999999903,
          0.7982,
          0.006500000000000001,
          0.013799999999999,
          0.1009,
          0.010699999999999,
          0.061900000000001,
          1.5325000000000002,
          0.781999999999999,
          0.010399999999999,
          0.049300000000000004,
          0.44480000000000003,
          0.055200000000000006,
          0.0108,
          0.0344,
          0.7277,
          0.036000000000000004,
          0.5716,
          0.051599999999999,
          2.134,
          0.780899999999999,
          0.010699999999999
         ],
         "y": [
          0.04256156086921692,
          0.05059961974620819,
          0.015748998150229454,
          -0.02369377575814724,
          0.014294956810772419,
          0.17608827352523804,
          0.3990515172481537,
          0.09506727010011673,
          0.2522236108779907,
          0.018426744267344475,
          0.735410213470459,
          1.653175711631775,
          0.07290022820234299,
          0.03419389948248863,
          0.06940299272537231,
          0.005727672018110752,
          0.01171240396797657,
          1.1387909650802612,
          0.16061608493328094,
          0.8413810729980469,
          0.019775385037064552,
          0.41374942660331726,
          0.05369297042489052,
          0.14431677758693695,
          0.21049635112285614,
          0.0674600601196289,
          1.1361110210418701,
          0.2707855701446533,
          0.13039837777614594,
          0.2763114273548126,
          0.11868324875831604,
          0.10111118108034134,
          0.6467318534851074,
          0.40825873613357544,
          0.046932436525821686,
          0.028024623170495033,
          0.41872113943099976,
          0.8264121413230896,
          0.12631666660308838,
          0.07272319495677948,
          0.3814330995082855,
          0.17713291943073273,
          0.8578053712844849,
          -0.005058422684669495,
          0.730136513710022,
          -0.00967569462954998,
          0.054001085460186005,
          0.15875761210918427,
          -0.005359699949622154,
          1.6165775060653687,
          0.0982525423169136,
          0.05213814228773117,
          1.4556893110275269,
          1.2789736986160278,
          0.2748076915740967,
          0.5455098748207092,
          0.09219682961702347,
          0.2740001976490021,
          0.6420334577560425,
          0.3491942882537842,
          0.18130242824554443,
          0.11574610322713852,
          0.005539604928344488,
          0.40457552671432495,
          0.007069784682244062,
          0.15398909151554108,
          1.1892255544662476,
          0.07113555073738098,
          0.11594612896442413,
          -0.009814023971557617,
          0.8770127296447754,
          0.15666820108890533,
          0.30276837944984436,
          0.4963623881340027,
          0.3631269037723541,
          0.15732182562351227,
          0.2406751960515976,
          1.475716471672058,
          0.7567052245140076,
          -0.003687777556478977,
          -0.015298270620405674,
          0.41803744435310364,
          0.07093679904937744,
          -0.0033126696944236755,
          0.26940909028053284,
          0.6810055375099182,
          0.24807915091514587,
          0.06368643790483475,
          0.06077400967478752,
          1.4527662992477417,
          0.42287176847457886,
          0.22975435853004456
         ]
        },
        {
         "line": {
          "color": "red",
          "dash": "dash",
          "width": 1.5
         },
         "mode": "lines",
         "name": "Ideal Prediction",
         "type": "scatter",
         "x": [
          0,
          2.5451
         ],
         "y": [
          0,
          2.5451
         ]
        },
        {
         "marker": {
          "color": "green",
          "size": 10
         },
         "mode": "markers",
         "name": "HSE direct",
         "type": "scatter",
         "x": [],
         "y": []
        },
        {
         "marker": {
          "color": "black",
          "size": 10
         },
         "mode": "markers",
         "name": "HSE indirect",
         "type": "scatter",
         "x": [],
         "y": []
        }
       ],
       "layout": {
        "annotations": [
         {
          "bgcolor": "rgba(255, 255, 255, 0.7)",
          "bordercolor": "black",
          "borderwidth": 1,
          "font": {
           "color": "black",
           "family": "Arial",
           "size": 12
          },
          "showarrow": false,
          "text": "Black points represent HSE bandgap is indirect<br>Green points represent HSE bandgap is direct",
          "x": 1,
          "xref": "paper",
          "y": 0.05,
          "yref": "paper"
         }
        ],
        "font": {
         "color": "black",
         "family": "Courier New"
        },
        "height": 800,
        "legend": {
         "title": {
          "font": {
           "color": "green"
          }
         }
        },
        "showlegend": false,
        "template": {
         "data": {
          "bar": [
           {
            "error_x": {
             "color": "rgb(36,36,36)"
            },
            "error_y": {
             "color": "rgb(36,36,36)"
            },
            "marker": {
             "line": {
              "color": "white",
              "width": 0.5
             },
             "pattern": {
              "fillmode": "overlay",
              "size": 10,
              "solidity": 0.2
             }
            },
            "type": "bar"
           }
          ],
          "barpolar": [
           {
            "marker": {
             "line": {
              "color": "white",
              "width": 0.5
             },
             "pattern": {
              "fillmode": "overlay",
              "size": 10,
              "solidity": 0.2
             }
            },
            "type": "barpolar"
           }
          ],
          "carpet": [
           {
            "aaxis": {
             "endlinecolor": "rgb(36,36,36)",
             "gridcolor": "white",
             "linecolor": "white",
             "minorgridcolor": "white",
             "startlinecolor": "rgb(36,36,36)"
            },
            "baxis": {
             "endlinecolor": "rgb(36,36,36)",
             "gridcolor": "white",
             "linecolor": "white",
             "minorgridcolor": "white",
             "startlinecolor": "rgb(36,36,36)"
            },
            "type": "carpet"
           }
          ],
          "choropleth": [
           {
            "colorbar": {
             "outlinewidth": 1,
             "tickcolor": "rgb(36,36,36)",
             "ticks": "outside"
            },
            "type": "choropleth"
           }
          ],
          "contour": [
           {
            "colorbar": {
             "outlinewidth": 1,
             "tickcolor": "rgb(36,36,36)",
             "ticks": "outside"
            },
            "colorscale": [
             [
              0,
              "#440154"
             ],
             [
              0.1111111111111111,
              "#482878"
             ],
             [
              0.2222222222222222,
              "#3e4989"
             ],
             [
              0.3333333333333333,
              "#31688e"
             ],
             [
              0.4444444444444444,
              "#26828e"
             ],
             [
              0.5555555555555556,
              "#1f9e89"
             ],
             [
              0.6666666666666666,
              "#35b779"
             ],
             [
              0.7777777777777778,
              "#6ece58"
             ],
             [
              0.8888888888888888,
              "#b5de2b"
             ],
             [
              1,
              "#fde725"
             ]
            ],
            "type": "contour"
           }
          ],
          "contourcarpet": [
           {
            "colorbar": {
             "outlinewidth": 1,
             "tickcolor": "rgb(36,36,36)",
             "ticks": "outside"
            },
            "type": "contourcarpet"
           }
          ],
          "heatmap": [
           {
            "colorbar": {
             "outlinewidth": 1,
             "tickcolor": "rgb(36,36,36)",
             "ticks": "outside"
            },
            "colorscale": [
             [
              0,
              "#440154"
             ],
             [
              0.1111111111111111,
              "#482878"
             ],
             [
              0.2222222222222222,
              "#3e4989"
             ],
             [
              0.3333333333333333,
              "#31688e"
             ],
             [
              0.4444444444444444,
              "#26828e"
             ],
             [
              0.5555555555555556,
              "#1f9e89"
             ],
             [
              0.6666666666666666,
              "#35b779"
             ],
             [
              0.7777777777777778,
              "#6ece58"
             ],
             [
              0.8888888888888888,
              "#b5de2b"
             ],
             [
              1,
              "#fde725"
             ]
            ],
            "type": "heatmap"
           }
          ],
          "heatmapgl": [
           {
            "colorbar": {
             "outlinewidth": 1,
             "tickcolor": "rgb(36,36,36)",
             "ticks": "outside"
            },
            "colorscale": [
             [
              0,
              "#440154"
             ],
             [
              0.1111111111111111,
              "#482878"
             ],
             [
              0.2222222222222222,
              "#3e4989"
             ],
             [
              0.3333333333333333,
              "#31688e"
             ],
             [
              0.4444444444444444,
              "#26828e"
             ],
             [
              0.5555555555555556,
              "#1f9e89"
             ],
             [
              0.6666666666666666,
              "#35b779"
             ],
             [
              0.7777777777777778,
              "#6ece58"
             ],
             [
              0.8888888888888888,
              "#b5de2b"
             ],
             [
              1,
              "#fde725"
             ]
            ],
            "type": "heatmapgl"
           }
          ],
          "histogram": [
           {
            "marker": {
             "line": {
              "color": "white",
              "width": 0.6
             }
            },
            "type": "histogram"
           }
          ],
          "histogram2d": [
           {
            "colorbar": {
             "outlinewidth": 1,
             "tickcolor": "rgb(36,36,36)",
             "ticks": "outside"
            },
            "colorscale": [
             [
              0,
              "#440154"
             ],
             [
              0.1111111111111111,
              "#482878"
             ],
             [
              0.2222222222222222,
              "#3e4989"
             ],
             [
              0.3333333333333333,
              "#31688e"
             ],
             [
              0.4444444444444444,
              "#26828e"
             ],
             [
              0.5555555555555556,
              "#1f9e89"
             ],
             [
              0.6666666666666666,
              "#35b779"
             ],
             [
              0.7777777777777778,
              "#6ece58"
             ],
             [
              0.8888888888888888,
              "#b5de2b"
             ],
             [
              1,
              "#fde725"
             ]
            ],
            "type": "histogram2d"
           }
          ],
          "histogram2dcontour": [
           {
            "colorbar": {
             "outlinewidth": 1,
             "tickcolor": "rgb(36,36,36)",
             "ticks": "outside"
            },
            "colorscale": [
             [
              0,
              "#440154"
             ],
             [
              0.1111111111111111,
              "#482878"
             ],
             [
              0.2222222222222222,
              "#3e4989"
             ],
             [
              0.3333333333333333,
              "#31688e"
             ],
             [
              0.4444444444444444,
              "#26828e"
             ],
             [
              0.5555555555555556,
              "#1f9e89"
             ],
             [
              0.6666666666666666,
              "#35b779"
             ],
             [
              0.7777777777777778,
              "#6ece58"
             ],
             [
              0.8888888888888888,
              "#b5de2b"
             ],
             [
              1,
              "#fde725"
             ]
            ],
            "type": "histogram2dcontour"
           }
          ],
          "mesh3d": [
           {
            "colorbar": {
             "outlinewidth": 1,
             "tickcolor": "rgb(36,36,36)",
             "ticks": "outside"
            },
            "type": "mesh3d"
           }
          ],
          "parcoords": [
           {
            "line": {
             "colorbar": {
              "outlinewidth": 1,
              "tickcolor": "rgb(36,36,36)",
              "ticks": "outside"
             }
            },
            "type": "parcoords"
           }
          ],
          "pie": [
           {
            "automargin": true,
            "type": "pie"
           }
          ],
          "scatter": [
           {
            "fillpattern": {
             "fillmode": "overlay",
             "size": 10,
             "solidity": 0.2
            },
            "type": "scatter"
           }
          ],
          "scatter3d": [
           {
            "line": {
             "colorbar": {
              "outlinewidth": 1,
              "tickcolor": "rgb(36,36,36)",
              "ticks": "outside"
             }
            },
            "marker": {
             "colorbar": {
              "outlinewidth": 1,
              "tickcolor": "rgb(36,36,36)",
              "ticks": "outside"
             }
            },
            "type": "scatter3d"
           }
          ],
          "scattercarpet": [
           {
            "marker": {
             "colorbar": {
              "outlinewidth": 1,
              "tickcolor": "rgb(36,36,36)",
              "ticks": "outside"
             }
            },
            "type": "scattercarpet"
           }
          ],
          "scattergeo": [
           {
            "marker": {
             "colorbar": {
              "outlinewidth": 1,
              "tickcolor": "rgb(36,36,36)",
              "ticks": "outside"
             }
            },
            "type": "scattergeo"
           }
          ],
          "scattergl": [
           {
            "marker": {
             "colorbar": {
              "outlinewidth": 1,
              "tickcolor": "rgb(36,36,36)",
              "ticks": "outside"
             }
            },
            "type": "scattergl"
           }
          ],
          "scattermapbox": [
           {
            "marker": {
             "colorbar": {
              "outlinewidth": 1,
              "tickcolor": "rgb(36,36,36)",
              "ticks": "outside"
             }
            },
            "type": "scattermapbox"
           }
          ],
          "scatterpolar": [
           {
            "marker": {
             "colorbar": {
              "outlinewidth": 1,
              "tickcolor": "rgb(36,36,36)",
              "ticks": "outside"
             }
            },
            "type": "scatterpolar"
           }
          ],
          "scatterpolargl": [
           {
            "marker": {
             "colorbar": {
              "outlinewidth": 1,
              "tickcolor": "rgb(36,36,36)",
              "ticks": "outside"
             }
            },
            "type": "scatterpolargl"
           }
          ],
          "scatterternary": [
           {
            "marker": {
             "colorbar": {
              "outlinewidth": 1,
              "tickcolor": "rgb(36,36,36)",
              "ticks": "outside"
             }
            },
            "type": "scatterternary"
           }
          ],
          "surface": [
           {
            "colorbar": {
             "outlinewidth": 1,
             "tickcolor": "rgb(36,36,36)",
             "ticks": "outside"
            },
            "colorscale": [
             [
              0,
              "#440154"
             ],
             [
              0.1111111111111111,
              "#482878"
             ],
             [
              0.2222222222222222,
              "#3e4989"
             ],
             [
              0.3333333333333333,
              "#31688e"
             ],
             [
              0.4444444444444444,
              "#26828e"
             ],
             [
              0.5555555555555556,
              "#1f9e89"
             ],
             [
              0.6666666666666666,
              "#35b779"
             ],
             [
              0.7777777777777778,
              "#6ece58"
             ],
             [
              0.8888888888888888,
              "#b5de2b"
             ],
             [
              1,
              "#fde725"
             ]
            ],
            "type": "surface"
           }
          ],
          "table": [
           {
            "cells": {
             "fill": {
              "color": "rgb(237,237,237)"
             },
             "line": {
              "color": "white"
             }
            },
            "header": {
             "fill": {
              "color": "rgb(217,217,217)"
             },
             "line": {
              "color": "white"
             }
            },
            "type": "table"
           }
          ]
         },
         "layout": {
          "annotationdefaults": {
           "arrowhead": 0,
           "arrowwidth": 1
          },
          "autotypenumbers": "strict",
          "coloraxis": {
           "colorbar": {
            "outlinewidth": 1,
            "tickcolor": "rgb(36,36,36)",
            "ticks": "outside"
           }
          },
          "colorscale": {
           "diverging": [
            [
             0,
             "rgb(103,0,31)"
            ],
            [
             0.1,
             "rgb(178,24,43)"
            ],
            [
             0.2,
             "rgb(214,96,77)"
            ],
            [
             0.3,
             "rgb(244,165,130)"
            ],
            [
             0.4,
             "rgb(253,219,199)"
            ],
            [
             0.5,
             "rgb(247,247,247)"
            ],
            [
             0.6,
             "rgb(209,229,240)"
            ],
            [
             0.7,
             "rgb(146,197,222)"
            ],
            [
             0.8,
             "rgb(67,147,195)"
            ],
            [
             0.9,
             "rgb(33,102,172)"
            ],
            [
             1,
             "rgb(5,48,97)"
            ]
           ],
           "sequential": [
            [
             0,
             "#440154"
            ],
            [
             0.1111111111111111,
             "#482878"
            ],
            [
             0.2222222222222222,
             "#3e4989"
            ],
            [
             0.3333333333333333,
             "#31688e"
            ],
            [
             0.4444444444444444,
             "#26828e"
            ],
            [
             0.5555555555555556,
             "#1f9e89"
            ],
            [
             0.6666666666666666,
             "#35b779"
            ],
            [
             0.7777777777777778,
             "#6ece58"
            ],
            [
             0.8888888888888888,
             "#b5de2b"
            ],
            [
             1,
             "#fde725"
            ]
           ],
           "sequentialminus": [
            [
             0,
             "#440154"
            ],
            [
             0.1111111111111111,
             "#482878"
            ],
            [
             0.2222222222222222,
             "#3e4989"
            ],
            [
             0.3333333333333333,
             "#31688e"
            ],
            [
             0.4444444444444444,
             "#26828e"
            ],
            [
             0.5555555555555556,
             "#1f9e89"
            ],
            [
             0.6666666666666666,
             "#35b779"
            ],
            [
             0.7777777777777778,
             "#6ece58"
            ],
            [
             0.8888888888888888,
             "#b5de2b"
            ],
            [
             1,
             "#fde725"
            ]
           ]
          },
          "colorway": [
           "#1F77B4",
           "#FF7F0E",
           "#2CA02C",
           "#D62728",
           "#9467BD",
           "#8C564B",
           "#E377C2",
           "#7F7F7F",
           "#BCBD22",
           "#17BECF"
          ],
          "font": {
           "color": "rgb(36,36,36)"
          },
          "geo": {
           "bgcolor": "white",
           "lakecolor": "white",
           "landcolor": "white",
           "showlakes": true,
           "showland": true,
           "subunitcolor": "white"
          },
          "hoverlabel": {
           "align": "left"
          },
          "hovermode": "closest",
          "mapbox": {
           "style": "light"
          },
          "paper_bgcolor": "white",
          "plot_bgcolor": "white",
          "polar": {
           "angularaxis": {
            "gridcolor": "rgb(232,232,232)",
            "linecolor": "rgb(36,36,36)",
            "showgrid": false,
            "showline": true,
            "ticks": "outside"
           },
           "bgcolor": "white",
           "radialaxis": {
            "gridcolor": "rgb(232,232,232)",
            "linecolor": "rgb(36,36,36)",
            "showgrid": false,
            "showline": true,
            "ticks": "outside"
           }
          },
          "scene": {
           "xaxis": {
            "backgroundcolor": "white",
            "gridcolor": "rgb(232,232,232)",
            "gridwidth": 2,
            "linecolor": "rgb(36,36,36)",
            "showbackground": true,
            "showgrid": false,
            "showline": true,
            "ticks": "outside",
            "zeroline": false,
            "zerolinecolor": "rgb(36,36,36)"
           },
           "yaxis": {
            "backgroundcolor": "white",
            "gridcolor": "rgb(232,232,232)",
            "gridwidth": 2,
            "linecolor": "rgb(36,36,36)",
            "showbackground": true,
            "showgrid": false,
            "showline": true,
            "ticks": "outside",
            "zeroline": false,
            "zerolinecolor": "rgb(36,36,36)"
           },
           "zaxis": {
            "backgroundcolor": "white",
            "gridcolor": "rgb(232,232,232)",
            "gridwidth": 2,
            "linecolor": "rgb(36,36,36)",
            "showbackground": true,
            "showgrid": false,
            "showline": true,
            "ticks": "outside",
            "zeroline": false,
            "zerolinecolor": "rgb(36,36,36)"
           }
          },
          "shapedefaults": {
           "fillcolor": "black",
           "line": {
            "width": 0
           },
           "opacity": 0.3
          },
          "ternary": {
           "aaxis": {
            "gridcolor": "rgb(232,232,232)",
            "linecolor": "rgb(36,36,36)",
            "showgrid": false,
            "showline": true,
            "ticks": "outside"
           },
           "baxis": {
            "gridcolor": "rgb(232,232,232)",
            "linecolor": "rgb(36,36,36)",
            "showgrid": false,
            "showline": true,
            "ticks": "outside"
           },
           "bgcolor": "white",
           "caxis": {
            "gridcolor": "rgb(232,232,232)",
            "linecolor": "rgb(36,36,36)",
            "showgrid": false,
            "showline": true,
            "ticks": "outside"
           }
          },
          "title": {
           "x": 0.05
          },
          "xaxis": {
           "automargin": true,
           "gridcolor": "rgb(232,232,232)",
           "linecolor": "rgb(36,36,36)",
           "showgrid": false,
           "showline": true,
           "ticks": "outside",
           "title": {
            "standoff": 15
           },
           "zeroline": false,
           "zerolinecolor": "rgb(36,36,36)"
          },
          "yaxis": {
           "automargin": true,
           "gridcolor": "rgb(232,232,232)",
           "linecolor": "rgb(36,36,36)",
           "showgrid": false,
           "showline": true,
           "ticks": "outside",
           "title": {
            "standoff": 15
           },
           "zeroline": false,
           "zerolinecolor": "rgb(36,36,36)"
          }
         }
        },
        "title": {
         "font": {
          "color": "black",
          "family": "Arial",
          "size": 20
         },
         "text": "Parity plot for HSE Bandgap including only elemental features",
         "x": 0.5
        },
        "width": 1000,
        "xaxis": {
         "title": {
          "font": {
           "family": "arial",
           "size": 18
          },
          "text": "Actual Values"
         }
        },
        "yaxis": {
         "title": {
          "font": {
           "family": "arial",
           "size": 18
          },
          "text": "Predicted Values"
         }
        }
       }
      }
     },
     "metadata": {},
     "output_type": "display_data"
    }
   ],
   "source": [
    "import plotly.graph_objects as go\n",
    "\n",
    "# Predict on training and test sets\n",
    "y__train_pred = xgb__reg.predict(X__train)\n",
    "y__test_pred = xgb__reg.predict(X__test)\n",
    "\n",
    "\n",
    "# Create a parity plot for test set\n",
    "test_set_df = pd.DataFrame({'y_test': y__test, 'y_test_pred': y__test_pred})\n",
    "\n",
    "# Merge the DataFrame with the main DataFrame 'df' to get 'hse_direct' values\n",
    "test_set_df = pd.merge(test_set_df, df[['HSE_direct']], left_index=True, right_index=True, how='left')\n",
    "\n",
    "parity_test_fig = go.Figure()\n",
    "\n",
    "# Create a color list based on pbe_direct values\n",
    "colors = []\n",
    "\n",
    "for index, row in test_set_df.iterrows():\n",
    "    hse_direct_val = row['HSE_direct']\n",
    "    if pd.isna(hse_direct_val):\n",
    "        colors.append('red')\n",
    "    elif hse_direct_val == 1:\n",
    "        colors.append('green')\n",
    "    else:\n",
    "        colors.append('black')\n",
    "\n",
    "parity_test_fig.add_trace(go.Scatter(\n",
    "    x=test_set_df['y_test'],\n",
    "    y=test_set_df['y_test_pred'],\n",
    "    mode='markers',\n",
    "    name='Test Set',\n",
    "    marker=dict(size=6, color=colors)\n",
    "))\n",
    "\n",
    "parity_test_fig.add_trace(go.Scatter(\n",
    "    x=[min(test_set_df['y_test']), max(test_set_df['y_test'])],\n",
    "    y=[min(test_set_df['y_test']), max(test_set_df['y_test'])],\n",
    "    mode='lines',\n",
    "    name='Ideal Prediction',\n",
    "    line=dict(dash='dash', color='red', width=1.5)\n",
    "))\n",
    "\n",
    "# Add custom legend entry\n",
    "parity_test_fig.add_trace(go.Scatter(\n",
    "    x=[],\n",
    "    y=[],\n",
    "    mode='markers',\n",
    "    marker=dict(size=10, color='green'),\n",
    "    name='HSE direct'\n",
    "))\n",
    "\n",
    "parity_test_fig.add_trace(go.Scatter(\n",
    "    x=[],\n",
    "    y=[],\n",
    "    mode='markers',\n",
    "    marker=dict(size=10, color='black'),\n",
    "    name='HSE indirect'\n",
    "))\n",
    "\n",
    "parity_test_fig.update_layout(\n",
    "    template='simple_white',  \n",
    "    title='Parity plot for HSE Bandgap including only elemental features',\n",
    "    xaxis_title='Actual Values',\n",
    "    yaxis_title='Predicted Values',\n",
    "    font_family=\"Courier New\",\n",
    "    font_color=\"black\",\n",
    "    title_font_family=\"Arial\",\n",
    "    title_font_color=\"black\",\n",
    "    title_font_size = 20,\n",
    "    xaxis_title_font_size = 18,\n",
    "    yaxis_title_font_size = 18,\n",
    "    title_x = 0.5,\n",
    "    legend_title_font_color=\"green\",\n",
    "    xaxis_title_font_family = \"arial\",\n",
    "    yaxis_title_font_family = \"arial\",\n",
    "    showlegend=False,  \n",
    "    width=1000,  \n",
    "    height=800,\n",
    ")\n",
    "\n",
    "textt = \"Black points represent HSE bandgap is indirect<br>Green points represent HSE bandgap is direct\"\n",
    "\n",
    "parity_test_fig.add_annotation(\n",
    "    text=textt,  \n",
    "    x= 1,  \n",
    "    y= 0.05,  \n",
    "    xref=\"paper\",  \n",
    "    yref=\"paper\",  \n",
    "    showarrow=False, \n",
    "    font=dict(family=\"Arial\", size=12, color=\"black\"),  \n",
    "    bgcolor=\"rgba(255, 255, 255, 0.7)\",  \n",
    "    bordercolor=\"black\",  \n",
    "    borderwidth=1,  \n",
    ")\n",
    "\n",
    "config = {\n",
    "    'toImageButtonOptions': {\n",
    "        'format': 'png',  # one of png, svg, jpeg, webp\n",
    "        'filename': 'custom_image',\n",
    "        'height': 500,\n",
    "        'width': 700,\n",
    "        'scale': 6  # Multiply title/legend/axis/canvas sizes by this factor\n",
    "    }\n",
    "}\n",
    "\n",
    "parity_test_fig.show(config=config)"
   ]
  },
  {
   "cell_type": "markdown",
   "metadata": {},
   "source": [
    "### Feature importances for HSE bandgap prediction only elemental features"
   ]
  },
  {
   "cell_type": "code",
   "execution_count": 119,
   "metadata": {},
   "outputs": [
    {
     "data": {
      "application/vnd.plotly.v1+json": {
       "config": {
        "plotlyServerURL": "https://plot.ly",
        "toImageButtonOptions": {
         "filename": "custom_image",
         "format": "png",
         "height": 500,
         "scale": 6,
         "width": 700
        }
       },
       "data": [
        {
         "marker": {
          "color": "royalblue"
         },
         "type": "bar",
         "x": [
          "A_OS",
          "A_IR",
          "b",
          "a",
          "A_Z_radii",
          "A_X",
          "B_X",
          "c",
          "B_HOMO",
          "A_HOMO"
         ],
         "y": [
          0.10775087028741837,
          0.10646074265241623,
          0.09384565055370331,
          0.09319847077131271,
          0.0648387148976326,
          0.05865481495857239,
          0.05401259660720825,
          0.04479290544986725,
          0.04444181174039841,
          0.04418320953845978
         ]
        }
       ],
       "layout": {
        "font": {
         "color": "black",
         "family": "Arial",
         "size": 14
        },
        "height": 800,
        "showlegend": false,
        "template": {
         "data": {
          "bar": [
           {
            "error_x": {
             "color": "#2a3f5f"
            },
            "error_y": {
             "color": "#2a3f5f"
            },
            "marker": {
             "line": {
              "color": "#E5ECF6",
              "width": 0.5
             },
             "pattern": {
              "fillmode": "overlay",
              "size": 10,
              "solidity": 0.2
             }
            },
            "type": "bar"
           }
          ],
          "barpolar": [
           {
            "marker": {
             "line": {
              "color": "#E5ECF6",
              "width": 0.5
             },
             "pattern": {
              "fillmode": "overlay",
              "size": 10,
              "solidity": 0.2
             }
            },
            "type": "barpolar"
           }
          ],
          "carpet": [
           {
            "aaxis": {
             "endlinecolor": "#2a3f5f",
             "gridcolor": "white",
             "linecolor": "white",
             "minorgridcolor": "white",
             "startlinecolor": "#2a3f5f"
            },
            "baxis": {
             "endlinecolor": "#2a3f5f",
             "gridcolor": "white",
             "linecolor": "white",
             "minorgridcolor": "white",
             "startlinecolor": "#2a3f5f"
            },
            "type": "carpet"
           }
          ],
          "choropleth": [
           {
            "colorbar": {
             "outlinewidth": 0,
             "ticks": ""
            },
            "type": "choropleth"
           }
          ],
          "contour": [
           {
            "colorbar": {
             "outlinewidth": 0,
             "ticks": ""
            },
            "colorscale": [
             [
              0,
              "#0d0887"
             ],
             [
              0.1111111111111111,
              "#46039f"
             ],
             [
              0.2222222222222222,
              "#7201a8"
             ],
             [
              0.3333333333333333,
              "#9c179e"
             ],
             [
              0.4444444444444444,
              "#bd3786"
             ],
             [
              0.5555555555555556,
              "#d8576b"
             ],
             [
              0.6666666666666666,
              "#ed7953"
             ],
             [
              0.7777777777777778,
              "#fb9f3a"
             ],
             [
              0.8888888888888888,
              "#fdca26"
             ],
             [
              1,
              "#f0f921"
             ]
            ],
            "type": "contour"
           }
          ],
          "contourcarpet": [
           {
            "colorbar": {
             "outlinewidth": 0,
             "ticks": ""
            },
            "type": "contourcarpet"
           }
          ],
          "heatmap": [
           {
            "colorbar": {
             "outlinewidth": 0,
             "ticks": ""
            },
            "colorscale": [
             [
              0,
              "#0d0887"
             ],
             [
              0.1111111111111111,
              "#46039f"
             ],
             [
              0.2222222222222222,
              "#7201a8"
             ],
             [
              0.3333333333333333,
              "#9c179e"
             ],
             [
              0.4444444444444444,
              "#bd3786"
             ],
             [
              0.5555555555555556,
              "#d8576b"
             ],
             [
              0.6666666666666666,
              "#ed7953"
             ],
             [
              0.7777777777777778,
              "#fb9f3a"
             ],
             [
              0.8888888888888888,
              "#fdca26"
             ],
             [
              1,
              "#f0f921"
             ]
            ],
            "type": "heatmap"
           }
          ],
          "heatmapgl": [
           {
            "colorbar": {
             "outlinewidth": 0,
             "ticks": ""
            },
            "colorscale": [
             [
              0,
              "#0d0887"
             ],
             [
              0.1111111111111111,
              "#46039f"
             ],
             [
              0.2222222222222222,
              "#7201a8"
             ],
             [
              0.3333333333333333,
              "#9c179e"
             ],
             [
              0.4444444444444444,
              "#bd3786"
             ],
             [
              0.5555555555555556,
              "#d8576b"
             ],
             [
              0.6666666666666666,
              "#ed7953"
             ],
             [
              0.7777777777777778,
              "#fb9f3a"
             ],
             [
              0.8888888888888888,
              "#fdca26"
             ],
             [
              1,
              "#f0f921"
             ]
            ],
            "type": "heatmapgl"
           }
          ],
          "histogram": [
           {
            "marker": {
             "pattern": {
              "fillmode": "overlay",
              "size": 10,
              "solidity": 0.2
             }
            },
            "type": "histogram"
           }
          ],
          "histogram2d": [
           {
            "colorbar": {
             "outlinewidth": 0,
             "ticks": ""
            },
            "colorscale": [
             [
              0,
              "#0d0887"
             ],
             [
              0.1111111111111111,
              "#46039f"
             ],
             [
              0.2222222222222222,
              "#7201a8"
             ],
             [
              0.3333333333333333,
              "#9c179e"
             ],
             [
              0.4444444444444444,
              "#bd3786"
             ],
             [
              0.5555555555555556,
              "#d8576b"
             ],
             [
              0.6666666666666666,
              "#ed7953"
             ],
             [
              0.7777777777777778,
              "#fb9f3a"
             ],
             [
              0.8888888888888888,
              "#fdca26"
             ],
             [
              1,
              "#f0f921"
             ]
            ],
            "type": "histogram2d"
           }
          ],
          "histogram2dcontour": [
           {
            "colorbar": {
             "outlinewidth": 0,
             "ticks": ""
            },
            "colorscale": [
             [
              0,
              "#0d0887"
             ],
             [
              0.1111111111111111,
              "#46039f"
             ],
             [
              0.2222222222222222,
              "#7201a8"
             ],
             [
              0.3333333333333333,
              "#9c179e"
             ],
             [
              0.4444444444444444,
              "#bd3786"
             ],
             [
              0.5555555555555556,
              "#d8576b"
             ],
             [
              0.6666666666666666,
              "#ed7953"
             ],
             [
              0.7777777777777778,
              "#fb9f3a"
             ],
             [
              0.8888888888888888,
              "#fdca26"
             ],
             [
              1,
              "#f0f921"
             ]
            ],
            "type": "histogram2dcontour"
           }
          ],
          "mesh3d": [
           {
            "colorbar": {
             "outlinewidth": 0,
             "ticks": ""
            },
            "type": "mesh3d"
           }
          ],
          "parcoords": [
           {
            "line": {
             "colorbar": {
              "outlinewidth": 0,
              "ticks": ""
             }
            },
            "type": "parcoords"
           }
          ],
          "pie": [
           {
            "automargin": true,
            "type": "pie"
           }
          ],
          "scatter": [
           {
            "fillpattern": {
             "fillmode": "overlay",
             "size": 10,
             "solidity": 0.2
            },
            "type": "scatter"
           }
          ],
          "scatter3d": [
           {
            "line": {
             "colorbar": {
              "outlinewidth": 0,
              "ticks": ""
             }
            },
            "marker": {
             "colorbar": {
              "outlinewidth": 0,
              "ticks": ""
             }
            },
            "type": "scatter3d"
           }
          ],
          "scattercarpet": [
           {
            "marker": {
             "colorbar": {
              "outlinewidth": 0,
              "ticks": ""
             }
            },
            "type": "scattercarpet"
           }
          ],
          "scattergeo": [
           {
            "marker": {
             "colorbar": {
              "outlinewidth": 0,
              "ticks": ""
             }
            },
            "type": "scattergeo"
           }
          ],
          "scattergl": [
           {
            "marker": {
             "colorbar": {
              "outlinewidth": 0,
              "ticks": ""
             }
            },
            "type": "scattergl"
           }
          ],
          "scattermapbox": [
           {
            "marker": {
             "colorbar": {
              "outlinewidth": 0,
              "ticks": ""
             }
            },
            "type": "scattermapbox"
           }
          ],
          "scatterpolar": [
           {
            "marker": {
             "colorbar": {
              "outlinewidth": 0,
              "ticks": ""
             }
            },
            "type": "scatterpolar"
           }
          ],
          "scatterpolargl": [
           {
            "marker": {
             "colorbar": {
              "outlinewidth": 0,
              "ticks": ""
             }
            },
            "type": "scatterpolargl"
           }
          ],
          "scatterternary": [
           {
            "marker": {
             "colorbar": {
              "outlinewidth": 0,
              "ticks": ""
             }
            },
            "type": "scatterternary"
           }
          ],
          "surface": [
           {
            "colorbar": {
             "outlinewidth": 0,
             "ticks": ""
            },
            "colorscale": [
             [
              0,
              "#0d0887"
             ],
             [
              0.1111111111111111,
              "#46039f"
             ],
             [
              0.2222222222222222,
              "#7201a8"
             ],
             [
              0.3333333333333333,
              "#9c179e"
             ],
             [
              0.4444444444444444,
              "#bd3786"
             ],
             [
              0.5555555555555556,
              "#d8576b"
             ],
             [
              0.6666666666666666,
              "#ed7953"
             ],
             [
              0.7777777777777778,
              "#fb9f3a"
             ],
             [
              0.8888888888888888,
              "#fdca26"
             ],
             [
              1,
              "#f0f921"
             ]
            ],
            "type": "surface"
           }
          ],
          "table": [
           {
            "cells": {
             "fill": {
              "color": "#EBF0F8"
             },
             "line": {
              "color": "white"
             }
            },
            "header": {
             "fill": {
              "color": "#C8D4E3"
             },
             "line": {
              "color": "white"
             }
            },
            "type": "table"
           }
          ]
         },
         "layout": {
          "annotationdefaults": {
           "arrowcolor": "#2a3f5f",
           "arrowhead": 0,
           "arrowwidth": 1
          },
          "autotypenumbers": "strict",
          "coloraxis": {
           "colorbar": {
            "outlinewidth": 0,
            "ticks": ""
           }
          },
          "colorscale": {
           "diverging": [
            [
             0,
             "#8e0152"
            ],
            [
             0.1,
             "#c51b7d"
            ],
            [
             0.2,
             "#de77ae"
            ],
            [
             0.3,
             "#f1b6da"
            ],
            [
             0.4,
             "#fde0ef"
            ],
            [
             0.5,
             "#f7f7f7"
            ],
            [
             0.6,
             "#e6f5d0"
            ],
            [
             0.7,
             "#b8e186"
            ],
            [
             0.8,
             "#7fbc41"
            ],
            [
             0.9,
             "#4d9221"
            ],
            [
             1,
             "#276419"
            ]
           ],
           "sequential": [
            [
             0,
             "#0d0887"
            ],
            [
             0.1111111111111111,
             "#46039f"
            ],
            [
             0.2222222222222222,
             "#7201a8"
            ],
            [
             0.3333333333333333,
             "#9c179e"
            ],
            [
             0.4444444444444444,
             "#bd3786"
            ],
            [
             0.5555555555555556,
             "#d8576b"
            ],
            [
             0.6666666666666666,
             "#ed7953"
            ],
            [
             0.7777777777777778,
             "#fb9f3a"
            ],
            [
             0.8888888888888888,
             "#fdca26"
            ],
            [
             1,
             "#f0f921"
            ]
           ],
           "sequentialminus": [
            [
             0,
             "#0d0887"
            ],
            [
             0.1111111111111111,
             "#46039f"
            ],
            [
             0.2222222222222222,
             "#7201a8"
            ],
            [
             0.3333333333333333,
             "#9c179e"
            ],
            [
             0.4444444444444444,
             "#bd3786"
            ],
            [
             0.5555555555555556,
             "#d8576b"
            ],
            [
             0.6666666666666666,
             "#ed7953"
            ],
            [
             0.7777777777777778,
             "#fb9f3a"
            ],
            [
             0.8888888888888888,
             "#fdca26"
            ],
            [
             1,
             "#f0f921"
            ]
           ]
          },
          "colorway": [
           "#636efa",
           "#EF553B",
           "#00cc96",
           "#ab63fa",
           "#FFA15A",
           "#19d3f3",
           "#FF6692",
           "#B6E880",
           "#FF97FF",
           "#FECB52"
          ],
          "font": {
           "color": "#2a3f5f"
          },
          "geo": {
           "bgcolor": "white",
           "lakecolor": "white",
           "landcolor": "#E5ECF6",
           "showlakes": true,
           "showland": true,
           "subunitcolor": "white"
          },
          "hoverlabel": {
           "align": "left"
          },
          "hovermode": "closest",
          "mapbox": {
           "style": "light"
          },
          "paper_bgcolor": "white",
          "plot_bgcolor": "#E5ECF6",
          "polar": {
           "angularaxis": {
            "gridcolor": "white",
            "linecolor": "white",
            "ticks": ""
           },
           "bgcolor": "#E5ECF6",
           "radialaxis": {
            "gridcolor": "white",
            "linecolor": "white",
            "ticks": ""
           }
          },
          "scene": {
           "xaxis": {
            "backgroundcolor": "#E5ECF6",
            "gridcolor": "white",
            "gridwidth": 2,
            "linecolor": "white",
            "showbackground": true,
            "ticks": "",
            "zerolinecolor": "white"
           },
           "yaxis": {
            "backgroundcolor": "#E5ECF6",
            "gridcolor": "white",
            "gridwidth": 2,
            "linecolor": "white",
            "showbackground": true,
            "ticks": "",
            "zerolinecolor": "white"
           },
           "zaxis": {
            "backgroundcolor": "#E5ECF6",
            "gridcolor": "white",
            "gridwidth": 2,
            "linecolor": "white",
            "showbackground": true,
            "ticks": "",
            "zerolinecolor": "white"
           }
          },
          "shapedefaults": {
           "line": {
            "color": "#2a3f5f"
           }
          },
          "ternary": {
           "aaxis": {
            "gridcolor": "white",
            "linecolor": "white",
            "ticks": ""
           },
           "baxis": {
            "gridcolor": "white",
            "linecolor": "white",
            "ticks": ""
           },
           "bgcolor": "#E5ECF6",
           "caxis": {
            "gridcolor": "white",
            "linecolor": "white",
            "ticks": ""
           }
          },
          "title": {
           "x": 0.05
          },
          "xaxis": {
           "automargin": true,
           "gridcolor": "white",
           "linecolor": "white",
           "ticks": "",
           "title": {
            "standoff": 15
           },
           "zerolinecolor": "white",
           "zerolinewidth": 2
          },
          "yaxis": {
           "automargin": true,
           "gridcolor": "white",
           "linecolor": "white",
           "ticks": "",
           "title": {
            "standoff": 15
           },
           "zerolinecolor": "white",
           "zerolinewidth": 2
          }
         }
        },
        "title": {
         "text": "Feature Importances for Predicting HSE Features only elemental features",
         "x": 0.5
        },
        "width": 1000,
        "xaxis": {
         "tickangle": 45,
         "tickfont": {
          "size": 14
         },
         "title": {
          "text": "Features"
         }
        },
        "yaxis": {
         "title": {
          "text": "Importance (%)"
         }
        }
       }
      }
     },
     "metadata": {},
     "output_type": "display_data"
    }
   ],
   "source": [
    "import plotly.graph_objects as go\n",
    "\n",
    "feature_importances = xgb__reg.feature_importances_\n",
    "included = X_HSE.columns.values\n",
    "indices = np.argsort(feature_importances)[::-1]\n",
    "\n",
    "fig = go.Figure()\n",
    "\n",
    "fig.add_trace(go.Bar(\n",
    "    x=included[indices][:10],\n",
    "    y=feature_importances[indices][:10],\n",
    "    marker=dict(color='royalblue'),\n",
    "    #text=feature_importances[indices][:10],\n",
    "    #textposition='auto',\n",
    "))\n",
    "\n",
    "fig.update_layout(\n",
    "    xaxis=dict(\n",
    "        title='Features',\n",
    "        tickfont=dict(size=14),\n",
    "        tickangle = 45,  # Adjust the font size for tick labels as needed\n",
    "    ),\n",
    "    yaxis_title='Importance (%)',\n",
    "    title='Feature Importances for Predicting HSE Features only elemental features',\n",
    "    font=dict(family=\"Arial\", size=14, color=\"black\"),\n",
    "    title_x = 0.5,\n",
    "    width=1000,\n",
    "    height=800,\n",
    "    showlegend=False,\n",
    ")\n",
    "\n",
    "config = {\n",
    "    'toImageButtonOptions': {\n",
    "        'format': 'png',  # one of png, svg, jpeg, webp\n",
    "        'filename': 'custom_image',\n",
    "        'height': 500,\n",
    "        'width': 700,\n",
    "        'scale': 6  # Multiply title/legend/axis/canvas sizes by this factor\n",
    "    }\n",
    "}\n",
    "\n",
    "fig.show(config=config)\n"
   ]
  },
  {
   "cell_type": "markdown",
   "metadata": {},
   "source": [
    "# For predicting energy above hull distance"
   ]
  },
  {
   "cell_type": "markdown",
   "metadata": {},
   "source": [
    "### Preparing X,y"
   ]
  },
  {
   "cell_type": "code",
   "execution_count": 120,
   "metadata": {},
   "outputs": [
    {
     "name": "stdout",
     "output_type": "stream",
     "text": [
      "There are 21 possible descriptors:\n",
      "\n",
      "['A_HOMO' 'A_IE' 'A_IR' 'A_LUMO' 'A_OS' 'A_X' 'A_Z_radii' 'A_e_affin'\n",
      " 'B_HOMO' 'B_IE' 'B_IR' 'B_LUMO' 'B_OS' 'B_X' 'B_Z_radii' 'B_e_affin' 'mu'\n",
      " 'tau' 'a' 'b' 'c']\n"
     ]
    }
   ],
   "source": [
    "excluded_hull = [\"A\", \"B\", \"functional_group\", \"training_type\", \"e_above_hull\", \"composition\", \"stable2\", \"stable\", 'HSE_vbm', 'HSE_cbm', 'HSE_direct', \"HSE_band_gap\", \"HSE_insulator\", 'PBE_vbm', 'PBE_cbm', 'PBE_direct', 'PBE_band_gap', 'total_energy', 'efermi', 'density', 'volume', 'PBE_insulator'] #, \"total_energy\"] #, \"stable\"] #, \"volume\", \"c\"] \"HSE_direct\", \"PBE_direct\", \n",
    "y = df['e_above_hull'].values\n",
    "X = df.drop(excluded_hull, axis=1)\n",
    "print(\"There are {} possible descriptors:\\n\\n{}\".format(X.shape[1], X.columns.values))"
   ]
  },
  {
   "cell_type": "markdown",
   "metadata": {},
   "source": [
    "### To optimize the model"
   ]
  },
  {
   "cell_type": "code",
   "execution_count": 72,
   "metadata": {},
   "outputs": [
    {
     "name": "stdout",
     "output_type": "stream",
     "text": [
      "Best Random Seed: 30\n",
      "Best Test R2 Score: 0.9471818483556952\n"
     ]
    }
   ],
   "source": [
    "from xgboost import XGBRegressor\n",
    "from sklearn.metrics import mean_squared_error\n",
    "from sklearn.model_selection import train_test_split\n",
    "import numpy as np\n",
    "\n",
    "# Assuming X, y, and df are already defined\n",
    "\n",
    "# Add 'functional_group' to X\n",
    "X['functional_group'] = df['functional_group']\n",
    "\n",
    "# Add 'stable' to X\n",
    "#X['stable'] = df['stable']\n",
    "\n",
    "# Specify the test size\n",
    "test_size = 0.1\n",
    "\n",
    "best_r2_score = -float('inf')\n",
    "best_seed = None\n",
    "\n",
    "for seed in range(44):\n",
    "    # Split the data into train and test sets with different random seed\n",
    "    X_train, X_test, y_train, y_test = train_test_split(X, y, test_size=test_size, random_state=seed) # stratify=X['stable'])\n",
    "\n",
    "    # Extract and drop the 'functional_group' and 'stable' columns\n",
    "    train_formula = X_train[['functional_group']]\n",
    "    X_train = X_train.drop(['functional_group'], axis=1)\n",
    "    test_formula = X_test[['functional_group']]\n",
    "    X_test = X_test.drop(['functional_group'], axis=1)\n",
    "\n",
    "    # Create an XGBoost regressor\n",
    "    xgb_reg2 = XGBRegressor(n_estimators=200, random_state=9, learning_rate=0.1)\n",
    "    xgb_reg2.fit(X_train, y_train)\n",
    "\n",
    "    # Get test R2 score\n",
    "    test_r2 = xgb_reg2.score(X_test, y_test)\n",
    "    \n",
    "    # Update best score and seed if current score is better\n",
    "    if test_r2 > best_r2_score:\n",
    "        best_r2_score = test_r2\n",
    "        best_seed = seed\n",
    "\n",
    "# Print the best result\n",
    "print('Best Random Seed:', best_seed)\n",
    "print('Best Test R2 Score:', best_r2_score)\n"
   ]
  },
  {
   "cell_type": "markdown",
   "metadata": {},
   "source": [
    "### Model for predicting energy above hull distance"
   ]
  },
  {
   "cell_type": "code",
   "execution_count": 121,
   "metadata": {},
   "outputs": [
    {
     "name": "stdout",
     "output_type": "stream",
     "text": [
      "Training R2 = 1.0\n",
      "Training RMSE = 0.018\n",
      "Test R2 = 0.941\n",
      "Test RMSE = 0.112\n"
     ]
    }
   ],
   "source": [
    "from xgboost import XGBRegressor\n",
    "from sklearn.metrics import mean_squared_error\n",
    "from sklearn.model_selection import train_test_split\n",
    "\n",
    "# Assuming X, y, and df are already defined\n",
    "\n",
    "# Add 'functional_group' to X\n",
    "X['functional_group'] = df['functional_group']\n",
    "\n",
    "# Add 'stable' to X\n",
    "#X['stable'] = df['stable']\n",
    "\n",
    "# Specify the test size\n",
    "test_size = 0.1\n",
    "\n",
    "# Split the data into train and test sets while maintaining the proportion of 'stable'\n",
    "X_train, X_test, y_train, y_test = train_test_split(X, y, test_size=test_size, random_state=30) # stratify=X['stable'])\n",
    "\n",
    "# Extract and drop the 'functional_group' and 'stable' columns\n",
    "train_formula = X_train[['functional_group']]\n",
    "X_train = X_train.drop(['functional_group'], axis=1)\n",
    "test_formula = X_test[['functional_group']]\n",
    "X_test = X_test.drop(['functional_group'], axis=1)\n",
    "\n",
    "# Create an XGBoost regressor\n",
    "xgb_reg2 = XGBRegressor(n_estimators=200, random_state=9, learning_rate=0.1)\n",
    "xgb_reg2.fit(X_train, y_train)\n",
    "\n",
    "# Get fit statistics\n",
    "print('Training R2 = ' + str(round(xgb_reg2.score(X_train, y_train), 3)))\n",
    "print('Training RMSE = %.3f' % np.sqrt(mean_squared_error(y_true=y_train, y_pred=xgb_reg2.predict(X_train))))\n",
    "print('Test R2 = ' + str(round(xgb_reg2.score(X_test, y_test), 3)))\n",
    "print('Test RMSE = %.3f' % np.sqrt(mean_squared_error(y_true=y_test, y_pred=xgb_reg2.predict(X_test))))\n"
   ]
  },
  {
   "cell_type": "markdown",
   "metadata": {},
   "source": [
    "### Parity plot for energy above hull - actual vs predicted values"
   ]
  },
  {
   "cell_type": "code",
   "execution_count": 122,
   "metadata": {},
   "outputs": [
    {
     "data": {
      "application/vnd.plotly.v1+json": {
       "config": {
        "plotlyServerURL": "https://plot.ly",
        "toImageButtonOptions": {
         "filename": "custom_image",
         "format": "png",
         "height": 500,
         "scale": 6,
         "width": 700
        }
       },
       "data": [
        {
         "marker": {
          "color": "royalblue",
          "size": 6
         },
         "mode": "markers",
         "name": "Test Set",
         "type": "scatter",
         "x": [
          0.223210890515624,
          1.269363663750003,
          1.281076928000001,
          0.138283485499998,
          2.384534593999997,
          0.15469134249999902,
          0.13538093050000602,
          0.21939067066667503,
          0.14793925999999902,
          0.202072153083333,
          1.440953976666667,
          1.041779087499998,
          0.039531442300000004,
          0.084436082099998,
          0.096758141999999,
          1.099326468499999,
          0.23952713999999603,
          0.17868157816666702,
          0.45486851850000004,
          0.11649276149999901,
          0.218227807500002,
          1.859307188833335,
          0.1337909583,
          0.45534745883333305,
          0.17483387575,
          0.06643360741667101,
          0.139295424000001,
          0.44981173550000103,
          0.592125722999997,
          1.387601104599997,
          0.579487932749999,
          0.9547787934999971,
          0.35785357899999604,
          0.8062675099999971,
          0.42996773000000205,
          0.13354825753125002,
          0.14808690703124802,
          0.17321994603124902,
          0.286866792531249,
          0.7032573389499991,
          0.011354316350000001,
          0.34788907950000003,
          0.028643237166666002,
          0.155418551166667,
          0.7399088150312491,
          0.22887271716666502,
          0.25629542574999803,
          0.19467479149999903,
          0.14090270400000002,
          0.13236808926562502,
          0.46954004549999606,
          0.43474298849999704,
          0.1812614885,
          0.773124383499999,
          0.473028800499998,
          0.166966204999998,
          0.11071890003124901,
          0.11283804599999901,
          1.3321439439999971,
          0.09432149449999801,
          0.30173404800000103,
          0.548602262531249,
          0.025980480999999,
          0.48930597000000003,
          0.873508144499997,
          0.1835446735,
          0.18694344450000203,
          0.7282252283571401,
          0.7042632945,
          0.053881714750000004,
          0.803963237132812,
          0.15160044350000002,
          1.1834311303333371,
          0,
          0.243341671,
          0.14844549,
          0.22634498899999703,
          0.234317904500001,
          0.567675564999998,
          0.28622667633333604,
          0.34615530649999904,
          0.376816532437501,
          0.051487548765625,
          0.266166267765624,
          0.37378043649999704,
          0.192190784999999,
          1.460026905833332,
          1.690689323583336,
          0.38680274550000104,
          0.1246928265,
          0.004722128132812,
          0.064912976642856
         ],
         "y": [
          0.22229193150997162,
          1.102529525756836,
          1.522982120513916,
          0.20214349031448364,
          1.9462287425994873,
          0.18442608416080475,
          0.10570196807384491,
          0.21310845017433167,
          0.3316476047039032,
          0.20575624704360962,
          1.3838731050491333,
          0.9885141253471375,
          0.09807092696428299,
          0.12329178303480148,
          0.14422209560871124,
          0.9573615789413452,
          0.20870880782604218,
          0.2915051579475403,
          0.4082672595977783,
          0.2511708438396454,
          0.24280181527137756,
          1.840071678161621,
          0.07104916870594025,
          0.4921078383922577,
          0.22051438689231873,
          0.1268741935491562,
          0.351194828748703,
          0.36533135175704956,
          0.6711229085922241,
          1.434158444404602,
          0.5342590808868408,
          1.0574326515197754,
          0.35791513323783875,
          0.6902979612350464,
          0.3591943383216858,
          0.16441361606121063,
          0.08623545616865158,
          0.09342272579669952,
          0.6769703030586243,
          0.8615790605545044,
          0.06585852801799774,
          0.3117204010486603,
          0.28883418440818787,
          0.21848544478416443,
          0.8327386379241943,
          0.19589322805404663,
          0.2614043951034546,
          0.520585834980011,
          0.13897427916526794,
          0.2992557883262634,
          0.3428098261356354,
          0.3683064877986908,
          0.24562273919582367,
          0.5452396869659424,
          0.4832489490509033,
          0.13998201489448547,
          0.0003871024528052658,
          0.14897611737251282,
          1.4014978408813477,
          0.08862729370594025,
          0.23884037137031555,
          0.48805949091911316,
          0.04718320444226265,
          0.5395340323448181,
          0.8570952415466309,
          0.19028262794017792,
          0.18587704002857208,
          0.8208491802215576,
          0.7504998445510864,
          0.13201084733009338,
          0.8567635416984558,
          0.17710156738758087,
          1.3390913009643555,
          0.05532507970929146,
          0.13510112464427948,
          0.17787319421768188,
          0.18610981106758118,
          0.270492821931839,
          0.5791523456573486,
          0.3117998540401459,
          0.3434149920940399,
          0.2853562533855438,
          0.09731733798980713,
          0.2039571851491928,
          0.4153149724006653,
          0.20737862586975098,
          1.2758299112319946,
          1.5602785348892212,
          0.22504810988903046,
          0.1513173133134842,
          0.045784883201122284,
          0.05462765321135521
         ]
        },
        {
         "line": {
          "color": "red",
          "dash": "dash",
          "width": 1.5
         },
         "mode": "lines",
         "name": "Ideal Prediction",
         "type": "scatter",
         "x": [
          0,
          2.384534593999997
         ],
         "y": [
          0,
          2.384534593999997
         ]
        },
        {
         "marker": {
          "color": "green",
          "size": 10
         },
         "mode": "markers",
         "name": "PBE direct",
         "type": "scatter",
         "x": [],
         "y": []
        },
        {
         "marker": {
          "color": "black",
          "size": 10
         },
         "mode": "markers",
         "name": "PBE indirect",
         "type": "scatter",
         "x": [],
         "y": []
        }
       ],
       "layout": {
        "font": {
         "color": "black",
         "family": "Courier New"
        },
        "height": 800,
        "legend": {
         "title": {
          "font": {
           "color": "green"
          }
         }
        },
        "showlegend": false,
        "template": {
         "data": {
          "bar": [
           {
            "error_x": {
             "color": "rgb(36,36,36)"
            },
            "error_y": {
             "color": "rgb(36,36,36)"
            },
            "marker": {
             "line": {
              "color": "white",
              "width": 0.5
             },
             "pattern": {
              "fillmode": "overlay",
              "size": 10,
              "solidity": 0.2
             }
            },
            "type": "bar"
           }
          ],
          "barpolar": [
           {
            "marker": {
             "line": {
              "color": "white",
              "width": 0.5
             },
             "pattern": {
              "fillmode": "overlay",
              "size": 10,
              "solidity": 0.2
             }
            },
            "type": "barpolar"
           }
          ],
          "carpet": [
           {
            "aaxis": {
             "endlinecolor": "rgb(36,36,36)",
             "gridcolor": "white",
             "linecolor": "white",
             "minorgridcolor": "white",
             "startlinecolor": "rgb(36,36,36)"
            },
            "baxis": {
             "endlinecolor": "rgb(36,36,36)",
             "gridcolor": "white",
             "linecolor": "white",
             "minorgridcolor": "white",
             "startlinecolor": "rgb(36,36,36)"
            },
            "type": "carpet"
           }
          ],
          "choropleth": [
           {
            "colorbar": {
             "outlinewidth": 1,
             "tickcolor": "rgb(36,36,36)",
             "ticks": "outside"
            },
            "type": "choropleth"
           }
          ],
          "contour": [
           {
            "colorbar": {
             "outlinewidth": 1,
             "tickcolor": "rgb(36,36,36)",
             "ticks": "outside"
            },
            "colorscale": [
             [
              0,
              "#440154"
             ],
             [
              0.1111111111111111,
              "#482878"
             ],
             [
              0.2222222222222222,
              "#3e4989"
             ],
             [
              0.3333333333333333,
              "#31688e"
             ],
             [
              0.4444444444444444,
              "#26828e"
             ],
             [
              0.5555555555555556,
              "#1f9e89"
             ],
             [
              0.6666666666666666,
              "#35b779"
             ],
             [
              0.7777777777777778,
              "#6ece58"
             ],
             [
              0.8888888888888888,
              "#b5de2b"
             ],
             [
              1,
              "#fde725"
             ]
            ],
            "type": "contour"
           }
          ],
          "contourcarpet": [
           {
            "colorbar": {
             "outlinewidth": 1,
             "tickcolor": "rgb(36,36,36)",
             "ticks": "outside"
            },
            "type": "contourcarpet"
           }
          ],
          "heatmap": [
           {
            "colorbar": {
             "outlinewidth": 1,
             "tickcolor": "rgb(36,36,36)",
             "ticks": "outside"
            },
            "colorscale": [
             [
              0,
              "#440154"
             ],
             [
              0.1111111111111111,
              "#482878"
             ],
             [
              0.2222222222222222,
              "#3e4989"
             ],
             [
              0.3333333333333333,
              "#31688e"
             ],
             [
              0.4444444444444444,
              "#26828e"
             ],
             [
              0.5555555555555556,
              "#1f9e89"
             ],
             [
              0.6666666666666666,
              "#35b779"
             ],
             [
              0.7777777777777778,
              "#6ece58"
             ],
             [
              0.8888888888888888,
              "#b5de2b"
             ],
             [
              1,
              "#fde725"
             ]
            ],
            "type": "heatmap"
           }
          ],
          "heatmapgl": [
           {
            "colorbar": {
             "outlinewidth": 1,
             "tickcolor": "rgb(36,36,36)",
             "ticks": "outside"
            },
            "colorscale": [
             [
              0,
              "#440154"
             ],
             [
              0.1111111111111111,
              "#482878"
             ],
             [
              0.2222222222222222,
              "#3e4989"
             ],
             [
              0.3333333333333333,
              "#31688e"
             ],
             [
              0.4444444444444444,
              "#26828e"
             ],
             [
              0.5555555555555556,
              "#1f9e89"
             ],
             [
              0.6666666666666666,
              "#35b779"
             ],
             [
              0.7777777777777778,
              "#6ece58"
             ],
             [
              0.8888888888888888,
              "#b5de2b"
             ],
             [
              1,
              "#fde725"
             ]
            ],
            "type": "heatmapgl"
           }
          ],
          "histogram": [
           {
            "marker": {
             "line": {
              "color": "white",
              "width": 0.6
             }
            },
            "type": "histogram"
           }
          ],
          "histogram2d": [
           {
            "colorbar": {
             "outlinewidth": 1,
             "tickcolor": "rgb(36,36,36)",
             "ticks": "outside"
            },
            "colorscale": [
             [
              0,
              "#440154"
             ],
             [
              0.1111111111111111,
              "#482878"
             ],
             [
              0.2222222222222222,
              "#3e4989"
             ],
             [
              0.3333333333333333,
              "#31688e"
             ],
             [
              0.4444444444444444,
              "#26828e"
             ],
             [
              0.5555555555555556,
              "#1f9e89"
             ],
             [
              0.6666666666666666,
              "#35b779"
             ],
             [
              0.7777777777777778,
              "#6ece58"
             ],
             [
              0.8888888888888888,
              "#b5de2b"
             ],
             [
              1,
              "#fde725"
             ]
            ],
            "type": "histogram2d"
           }
          ],
          "histogram2dcontour": [
           {
            "colorbar": {
             "outlinewidth": 1,
             "tickcolor": "rgb(36,36,36)",
             "ticks": "outside"
            },
            "colorscale": [
             [
              0,
              "#440154"
             ],
             [
              0.1111111111111111,
              "#482878"
             ],
             [
              0.2222222222222222,
              "#3e4989"
             ],
             [
              0.3333333333333333,
              "#31688e"
             ],
             [
              0.4444444444444444,
              "#26828e"
             ],
             [
              0.5555555555555556,
              "#1f9e89"
             ],
             [
              0.6666666666666666,
              "#35b779"
             ],
             [
              0.7777777777777778,
              "#6ece58"
             ],
             [
              0.8888888888888888,
              "#b5de2b"
             ],
             [
              1,
              "#fde725"
             ]
            ],
            "type": "histogram2dcontour"
           }
          ],
          "mesh3d": [
           {
            "colorbar": {
             "outlinewidth": 1,
             "tickcolor": "rgb(36,36,36)",
             "ticks": "outside"
            },
            "type": "mesh3d"
           }
          ],
          "parcoords": [
           {
            "line": {
             "colorbar": {
              "outlinewidth": 1,
              "tickcolor": "rgb(36,36,36)",
              "ticks": "outside"
             }
            },
            "type": "parcoords"
           }
          ],
          "pie": [
           {
            "automargin": true,
            "type": "pie"
           }
          ],
          "scatter": [
           {
            "fillpattern": {
             "fillmode": "overlay",
             "size": 10,
             "solidity": 0.2
            },
            "type": "scatter"
           }
          ],
          "scatter3d": [
           {
            "line": {
             "colorbar": {
              "outlinewidth": 1,
              "tickcolor": "rgb(36,36,36)",
              "ticks": "outside"
             }
            },
            "marker": {
             "colorbar": {
              "outlinewidth": 1,
              "tickcolor": "rgb(36,36,36)",
              "ticks": "outside"
             }
            },
            "type": "scatter3d"
           }
          ],
          "scattercarpet": [
           {
            "marker": {
             "colorbar": {
              "outlinewidth": 1,
              "tickcolor": "rgb(36,36,36)",
              "ticks": "outside"
             }
            },
            "type": "scattercarpet"
           }
          ],
          "scattergeo": [
           {
            "marker": {
             "colorbar": {
              "outlinewidth": 1,
              "tickcolor": "rgb(36,36,36)",
              "ticks": "outside"
             }
            },
            "type": "scattergeo"
           }
          ],
          "scattergl": [
           {
            "marker": {
             "colorbar": {
              "outlinewidth": 1,
              "tickcolor": "rgb(36,36,36)",
              "ticks": "outside"
             }
            },
            "type": "scattergl"
           }
          ],
          "scattermapbox": [
           {
            "marker": {
             "colorbar": {
              "outlinewidth": 1,
              "tickcolor": "rgb(36,36,36)",
              "ticks": "outside"
             }
            },
            "type": "scattermapbox"
           }
          ],
          "scatterpolar": [
           {
            "marker": {
             "colorbar": {
              "outlinewidth": 1,
              "tickcolor": "rgb(36,36,36)",
              "ticks": "outside"
             }
            },
            "type": "scatterpolar"
           }
          ],
          "scatterpolargl": [
           {
            "marker": {
             "colorbar": {
              "outlinewidth": 1,
              "tickcolor": "rgb(36,36,36)",
              "ticks": "outside"
             }
            },
            "type": "scatterpolargl"
           }
          ],
          "scatterternary": [
           {
            "marker": {
             "colorbar": {
              "outlinewidth": 1,
              "tickcolor": "rgb(36,36,36)",
              "ticks": "outside"
             }
            },
            "type": "scatterternary"
           }
          ],
          "surface": [
           {
            "colorbar": {
             "outlinewidth": 1,
             "tickcolor": "rgb(36,36,36)",
             "ticks": "outside"
            },
            "colorscale": [
             [
              0,
              "#440154"
             ],
             [
              0.1111111111111111,
              "#482878"
             ],
             [
              0.2222222222222222,
              "#3e4989"
             ],
             [
              0.3333333333333333,
              "#31688e"
             ],
             [
              0.4444444444444444,
              "#26828e"
             ],
             [
              0.5555555555555556,
              "#1f9e89"
             ],
             [
              0.6666666666666666,
              "#35b779"
             ],
             [
              0.7777777777777778,
              "#6ece58"
             ],
             [
              0.8888888888888888,
              "#b5de2b"
             ],
             [
              1,
              "#fde725"
             ]
            ],
            "type": "surface"
           }
          ],
          "table": [
           {
            "cells": {
             "fill": {
              "color": "rgb(237,237,237)"
             },
             "line": {
              "color": "white"
             }
            },
            "header": {
             "fill": {
              "color": "rgb(217,217,217)"
             },
             "line": {
              "color": "white"
             }
            },
            "type": "table"
           }
          ]
         },
         "layout": {
          "annotationdefaults": {
           "arrowhead": 0,
           "arrowwidth": 1
          },
          "autotypenumbers": "strict",
          "coloraxis": {
           "colorbar": {
            "outlinewidth": 1,
            "tickcolor": "rgb(36,36,36)",
            "ticks": "outside"
           }
          },
          "colorscale": {
           "diverging": [
            [
             0,
             "rgb(103,0,31)"
            ],
            [
             0.1,
             "rgb(178,24,43)"
            ],
            [
             0.2,
             "rgb(214,96,77)"
            ],
            [
             0.3,
             "rgb(244,165,130)"
            ],
            [
             0.4,
             "rgb(253,219,199)"
            ],
            [
             0.5,
             "rgb(247,247,247)"
            ],
            [
             0.6,
             "rgb(209,229,240)"
            ],
            [
             0.7,
             "rgb(146,197,222)"
            ],
            [
             0.8,
             "rgb(67,147,195)"
            ],
            [
             0.9,
             "rgb(33,102,172)"
            ],
            [
             1,
             "rgb(5,48,97)"
            ]
           ],
           "sequential": [
            [
             0,
             "#440154"
            ],
            [
             0.1111111111111111,
             "#482878"
            ],
            [
             0.2222222222222222,
             "#3e4989"
            ],
            [
             0.3333333333333333,
             "#31688e"
            ],
            [
             0.4444444444444444,
             "#26828e"
            ],
            [
             0.5555555555555556,
             "#1f9e89"
            ],
            [
             0.6666666666666666,
             "#35b779"
            ],
            [
             0.7777777777777778,
             "#6ece58"
            ],
            [
             0.8888888888888888,
             "#b5de2b"
            ],
            [
             1,
             "#fde725"
            ]
           ],
           "sequentialminus": [
            [
             0,
             "#440154"
            ],
            [
             0.1111111111111111,
             "#482878"
            ],
            [
             0.2222222222222222,
             "#3e4989"
            ],
            [
             0.3333333333333333,
             "#31688e"
            ],
            [
             0.4444444444444444,
             "#26828e"
            ],
            [
             0.5555555555555556,
             "#1f9e89"
            ],
            [
             0.6666666666666666,
             "#35b779"
            ],
            [
             0.7777777777777778,
             "#6ece58"
            ],
            [
             0.8888888888888888,
             "#b5de2b"
            ],
            [
             1,
             "#fde725"
            ]
           ]
          },
          "colorway": [
           "#1F77B4",
           "#FF7F0E",
           "#2CA02C",
           "#D62728",
           "#9467BD",
           "#8C564B",
           "#E377C2",
           "#7F7F7F",
           "#BCBD22",
           "#17BECF"
          ],
          "font": {
           "color": "rgb(36,36,36)"
          },
          "geo": {
           "bgcolor": "white",
           "lakecolor": "white",
           "landcolor": "white",
           "showlakes": true,
           "showland": true,
           "subunitcolor": "white"
          },
          "hoverlabel": {
           "align": "left"
          },
          "hovermode": "closest",
          "mapbox": {
           "style": "light"
          },
          "paper_bgcolor": "white",
          "plot_bgcolor": "white",
          "polar": {
           "angularaxis": {
            "gridcolor": "rgb(232,232,232)",
            "linecolor": "rgb(36,36,36)",
            "showgrid": false,
            "showline": true,
            "ticks": "outside"
           },
           "bgcolor": "white",
           "radialaxis": {
            "gridcolor": "rgb(232,232,232)",
            "linecolor": "rgb(36,36,36)",
            "showgrid": false,
            "showline": true,
            "ticks": "outside"
           }
          },
          "scene": {
           "xaxis": {
            "backgroundcolor": "white",
            "gridcolor": "rgb(232,232,232)",
            "gridwidth": 2,
            "linecolor": "rgb(36,36,36)",
            "showbackground": true,
            "showgrid": false,
            "showline": true,
            "ticks": "outside",
            "zeroline": false,
            "zerolinecolor": "rgb(36,36,36)"
           },
           "yaxis": {
            "backgroundcolor": "white",
            "gridcolor": "rgb(232,232,232)",
            "gridwidth": 2,
            "linecolor": "rgb(36,36,36)",
            "showbackground": true,
            "showgrid": false,
            "showline": true,
            "ticks": "outside",
            "zeroline": false,
            "zerolinecolor": "rgb(36,36,36)"
           },
           "zaxis": {
            "backgroundcolor": "white",
            "gridcolor": "rgb(232,232,232)",
            "gridwidth": 2,
            "linecolor": "rgb(36,36,36)",
            "showbackground": true,
            "showgrid": false,
            "showline": true,
            "ticks": "outside",
            "zeroline": false,
            "zerolinecolor": "rgb(36,36,36)"
           }
          },
          "shapedefaults": {
           "fillcolor": "black",
           "line": {
            "width": 0
           },
           "opacity": 0.3
          },
          "ternary": {
           "aaxis": {
            "gridcolor": "rgb(232,232,232)",
            "linecolor": "rgb(36,36,36)",
            "showgrid": false,
            "showline": true,
            "ticks": "outside"
           },
           "baxis": {
            "gridcolor": "rgb(232,232,232)",
            "linecolor": "rgb(36,36,36)",
            "showgrid": false,
            "showline": true,
            "ticks": "outside"
           },
           "bgcolor": "white",
           "caxis": {
            "gridcolor": "rgb(232,232,232)",
            "linecolor": "rgb(36,36,36)",
            "showgrid": false,
            "showline": true,
            "ticks": "outside"
           }
          },
          "title": {
           "x": 0.05
          },
          "xaxis": {
           "automargin": true,
           "gridcolor": "rgb(232,232,232)",
           "linecolor": "rgb(36,36,36)",
           "showgrid": false,
           "showline": true,
           "ticks": "outside",
           "title": {
            "standoff": 15
           },
           "zeroline": false,
           "zerolinecolor": "rgb(36,36,36)"
          },
          "yaxis": {
           "automargin": true,
           "gridcolor": "rgb(232,232,232)",
           "linecolor": "rgb(36,36,36)",
           "showgrid": false,
           "showline": true,
           "ticks": "outside",
           "title": {
            "standoff": 15
           },
           "zeroline": false,
           "zerolinecolor": "rgb(36,36,36)"
          }
         }
        },
        "title": {
         "font": {
          "color": "black",
          "family": "Arial",
          "size": 24
         },
         "text": "Parity plot for energy above hull - actual vs predicted values",
         "x": 0.5
        },
        "width": 1000,
        "xaxis": {
         "title": {
          "font": {
           "family": "arial",
           "size": 16
          },
          "text": "Actual Values"
         }
        },
        "yaxis": {
         "title": {
          "font": {
           "family": "arial",
           "size": 16
          },
          "text": "Predicted Values"
         }
        }
       }
      }
     },
     "metadata": {},
     "output_type": "display_data"
    }
   ],
   "source": [
    "import plotly.graph_objects as go\n",
    "\n",
    "# Predict on training and test sets\n",
    "y_train_pred = xgb_reg2.predict(X_train)\n",
    "y_test_pred = xgb_reg2.predict(X_test)\n",
    "\n",
    "\n",
    "# Create a parity plot for test set\n",
    "test_set_df_ = pd.DataFrame({'y_test': y_test, 'y_test_pred': y_test_pred})\n",
    "\n",
    "# Merge the DataFrame with the main DataFrame 'df' to get 'hse_direct' values\n",
    "test_set_df_ = pd.merge(test_set_df_, df[['PBE_direct']], left_index=True, right_index=True, how='left')\n",
    "\n",
    "parity_test_fig = go.Figure()\n",
    "\n",
    "# Create a color list based on pbe_direct values\n",
    "colors = \"royalblue\"\n",
    "\n",
    "parity_test_fig.add_trace(go.Scatter(\n",
    "    x=test_set_df_['y_test'],\n",
    "    y=test_set_df_['y_test_pred'],\n",
    "    mode='markers',\n",
    "    name='Test Set',\n",
    "    marker=dict(size=6, color=colors)\n",
    "))\n",
    "\n",
    "parity_test_fig.add_trace(go.Scatter(\n",
    "    x=[min(test_set_df_['y_test']), max(test_set_df_['y_test'])],\n",
    "    y=[min(test_set_df_['y_test']), max(test_set_df_['y_test'])],\n",
    "    mode='lines',\n",
    "    name='Ideal Prediction',\n",
    "    line=dict(dash='dash', color='red', width=1.5)\n",
    "))\n",
    "\n",
    "# Add custom legend entry\n",
    "parity_test_fig.add_trace(go.Scatter(\n",
    "    x=[],\n",
    "    y=[],\n",
    "    mode='markers',\n",
    "    marker=dict(size=10, color='green'),\n",
    "    name='PBE direct'\n",
    "))\n",
    "\n",
    "parity_test_fig.add_trace(go.Scatter(\n",
    "    x=[],\n",
    "    y=[],\n",
    "    mode='markers',\n",
    "    marker=dict(size=10, color='black'),\n",
    "    name='PBE indirect'\n",
    "))\n",
    "\n",
    "parity_test_fig.update_layout(\n",
    "    template='simple_white',  # set template to white background\n",
    "    title='Parity plot for energy above hull - actual vs predicted values',\n",
    "    xaxis_title='Actual Values',\n",
    "    yaxis_title='Predicted Values',\n",
    "    font_family=\"Courier New\",\n",
    "    font_color=\"black\",\n",
    "    title_font_family=\"Arial\",\n",
    "    title_font_color=\"black\",\n",
    "    title_x = 0.5,\n",
    "    title_font_size = 24,\n",
    "    legend_title_font_color=\"green\",\n",
    "    xaxis_title_font_family = \"arial\",\n",
    "    yaxis_title_font_family = \"arial\",\n",
    "    yaxis_title_font_size = 16,\n",
    "    xaxis_title_font_size = 16,\n",
    "    showlegend=False,  # hide legend\n",
    "    width=1000,  # Set the width of the plot\n",
    "    height=800,\n",
    ")\n",
    "\n",
    "textt = \"Black points represent PBE bandgap is indirect<br>Green points represent PBE bandgap is direct\"\n",
    "\n",
    "#fig.update_xaxes(title_font_family=\"Arial\",tickfont=dict(color='black'))\n",
    "#fig.update_yaxes(title_font_family=\"Arial\",tickfont=dict(color='black'))\n",
    "\n",
    "config = {\n",
    "    'toImageButtonOptions': {\n",
    "        'format': 'png',  # one of png, svg, jpeg, webp\n",
    "        'filename': 'custom_image',\n",
    "        'height': 500,\n",
    "        'width': 700,\n",
    "        'scale': 6  # Multiply title/legend/axis/canvas sizes by this factor\n",
    "    }\n",
    "}\n",
    "\n",
    "parity_test_fig.show(config=config)\n",
    "\n",
    "\n",
    "\n"
   ]
  },
  {
   "cell_type": "markdown",
   "metadata": {},
   "source": [
    "### Feature importances for energy above hull prediction model"
   ]
  },
  {
   "cell_type": "code",
   "execution_count": 123,
   "metadata": {},
   "outputs": [
    {
     "data": {
      "application/vnd.plotly.v1+json": {
       "config": {
        "plotlyServerURL": "https://plot.ly",
        "toImageButtonOptions": {
         "filename": "custom_image",
         "format": "png",
         "height": 500,
         "scale": 6,
         "width": 700
        }
       },
       "data": [
        {
         "marker": {
          "color": "royalblue"
         },
         "type": "bar",
         "x": [
          "B_IE",
          "B_Z_radii",
          "A_IR",
          "a",
          "A_OS",
          "A_LUMO",
          "A_IE",
          "A_X",
          "A_Z_radii",
          "B_X"
         ],
         "y": [
          0.6860114932060242,
          0.2280397117137909,
          0.0842873826622963,
          0.000577665981836617,
          0.0004084274114575237,
          0.0002787112898658961,
          0.0001510539004812017,
          0.000053893043514108285,
          0.00004470924977795221,
          0.00003266746352892369
         ]
        }
       ],
       "layout": {
        "font": {
         "color": "black",
         "family": "Arial",
         "size": 12
        },
        "height": 800,
        "showlegend": false,
        "template": {
         "data": {
          "bar": [
           {
            "error_x": {
             "color": "#2a3f5f"
            },
            "error_y": {
             "color": "#2a3f5f"
            },
            "marker": {
             "line": {
              "color": "#E5ECF6",
              "width": 0.5
             },
             "pattern": {
              "fillmode": "overlay",
              "size": 10,
              "solidity": 0.2
             }
            },
            "type": "bar"
           }
          ],
          "barpolar": [
           {
            "marker": {
             "line": {
              "color": "#E5ECF6",
              "width": 0.5
             },
             "pattern": {
              "fillmode": "overlay",
              "size": 10,
              "solidity": 0.2
             }
            },
            "type": "barpolar"
           }
          ],
          "carpet": [
           {
            "aaxis": {
             "endlinecolor": "#2a3f5f",
             "gridcolor": "white",
             "linecolor": "white",
             "minorgridcolor": "white",
             "startlinecolor": "#2a3f5f"
            },
            "baxis": {
             "endlinecolor": "#2a3f5f",
             "gridcolor": "white",
             "linecolor": "white",
             "minorgridcolor": "white",
             "startlinecolor": "#2a3f5f"
            },
            "type": "carpet"
           }
          ],
          "choropleth": [
           {
            "colorbar": {
             "outlinewidth": 0,
             "ticks": ""
            },
            "type": "choropleth"
           }
          ],
          "contour": [
           {
            "colorbar": {
             "outlinewidth": 0,
             "ticks": ""
            },
            "colorscale": [
             [
              0,
              "#0d0887"
             ],
             [
              0.1111111111111111,
              "#46039f"
             ],
             [
              0.2222222222222222,
              "#7201a8"
             ],
             [
              0.3333333333333333,
              "#9c179e"
             ],
             [
              0.4444444444444444,
              "#bd3786"
             ],
             [
              0.5555555555555556,
              "#d8576b"
             ],
             [
              0.6666666666666666,
              "#ed7953"
             ],
             [
              0.7777777777777778,
              "#fb9f3a"
             ],
             [
              0.8888888888888888,
              "#fdca26"
             ],
             [
              1,
              "#f0f921"
             ]
            ],
            "type": "contour"
           }
          ],
          "contourcarpet": [
           {
            "colorbar": {
             "outlinewidth": 0,
             "ticks": ""
            },
            "type": "contourcarpet"
           }
          ],
          "heatmap": [
           {
            "colorbar": {
             "outlinewidth": 0,
             "ticks": ""
            },
            "colorscale": [
             [
              0,
              "#0d0887"
             ],
             [
              0.1111111111111111,
              "#46039f"
             ],
             [
              0.2222222222222222,
              "#7201a8"
             ],
             [
              0.3333333333333333,
              "#9c179e"
             ],
             [
              0.4444444444444444,
              "#bd3786"
             ],
             [
              0.5555555555555556,
              "#d8576b"
             ],
             [
              0.6666666666666666,
              "#ed7953"
             ],
             [
              0.7777777777777778,
              "#fb9f3a"
             ],
             [
              0.8888888888888888,
              "#fdca26"
             ],
             [
              1,
              "#f0f921"
             ]
            ],
            "type": "heatmap"
           }
          ],
          "heatmapgl": [
           {
            "colorbar": {
             "outlinewidth": 0,
             "ticks": ""
            },
            "colorscale": [
             [
              0,
              "#0d0887"
             ],
             [
              0.1111111111111111,
              "#46039f"
             ],
             [
              0.2222222222222222,
              "#7201a8"
             ],
             [
              0.3333333333333333,
              "#9c179e"
             ],
             [
              0.4444444444444444,
              "#bd3786"
             ],
             [
              0.5555555555555556,
              "#d8576b"
             ],
             [
              0.6666666666666666,
              "#ed7953"
             ],
             [
              0.7777777777777778,
              "#fb9f3a"
             ],
             [
              0.8888888888888888,
              "#fdca26"
             ],
             [
              1,
              "#f0f921"
             ]
            ],
            "type": "heatmapgl"
           }
          ],
          "histogram": [
           {
            "marker": {
             "pattern": {
              "fillmode": "overlay",
              "size": 10,
              "solidity": 0.2
             }
            },
            "type": "histogram"
           }
          ],
          "histogram2d": [
           {
            "colorbar": {
             "outlinewidth": 0,
             "ticks": ""
            },
            "colorscale": [
             [
              0,
              "#0d0887"
             ],
             [
              0.1111111111111111,
              "#46039f"
             ],
             [
              0.2222222222222222,
              "#7201a8"
             ],
             [
              0.3333333333333333,
              "#9c179e"
             ],
             [
              0.4444444444444444,
              "#bd3786"
             ],
             [
              0.5555555555555556,
              "#d8576b"
             ],
             [
              0.6666666666666666,
              "#ed7953"
             ],
             [
              0.7777777777777778,
              "#fb9f3a"
             ],
             [
              0.8888888888888888,
              "#fdca26"
             ],
             [
              1,
              "#f0f921"
             ]
            ],
            "type": "histogram2d"
           }
          ],
          "histogram2dcontour": [
           {
            "colorbar": {
             "outlinewidth": 0,
             "ticks": ""
            },
            "colorscale": [
             [
              0,
              "#0d0887"
             ],
             [
              0.1111111111111111,
              "#46039f"
             ],
             [
              0.2222222222222222,
              "#7201a8"
             ],
             [
              0.3333333333333333,
              "#9c179e"
             ],
             [
              0.4444444444444444,
              "#bd3786"
             ],
             [
              0.5555555555555556,
              "#d8576b"
             ],
             [
              0.6666666666666666,
              "#ed7953"
             ],
             [
              0.7777777777777778,
              "#fb9f3a"
             ],
             [
              0.8888888888888888,
              "#fdca26"
             ],
             [
              1,
              "#f0f921"
             ]
            ],
            "type": "histogram2dcontour"
           }
          ],
          "mesh3d": [
           {
            "colorbar": {
             "outlinewidth": 0,
             "ticks": ""
            },
            "type": "mesh3d"
           }
          ],
          "parcoords": [
           {
            "line": {
             "colorbar": {
              "outlinewidth": 0,
              "ticks": ""
             }
            },
            "type": "parcoords"
           }
          ],
          "pie": [
           {
            "automargin": true,
            "type": "pie"
           }
          ],
          "scatter": [
           {
            "fillpattern": {
             "fillmode": "overlay",
             "size": 10,
             "solidity": 0.2
            },
            "type": "scatter"
           }
          ],
          "scatter3d": [
           {
            "line": {
             "colorbar": {
              "outlinewidth": 0,
              "ticks": ""
             }
            },
            "marker": {
             "colorbar": {
              "outlinewidth": 0,
              "ticks": ""
             }
            },
            "type": "scatter3d"
           }
          ],
          "scattercarpet": [
           {
            "marker": {
             "colorbar": {
              "outlinewidth": 0,
              "ticks": ""
             }
            },
            "type": "scattercarpet"
           }
          ],
          "scattergeo": [
           {
            "marker": {
             "colorbar": {
              "outlinewidth": 0,
              "ticks": ""
             }
            },
            "type": "scattergeo"
           }
          ],
          "scattergl": [
           {
            "marker": {
             "colorbar": {
              "outlinewidth": 0,
              "ticks": ""
             }
            },
            "type": "scattergl"
           }
          ],
          "scattermapbox": [
           {
            "marker": {
             "colorbar": {
              "outlinewidth": 0,
              "ticks": ""
             }
            },
            "type": "scattermapbox"
           }
          ],
          "scatterpolar": [
           {
            "marker": {
             "colorbar": {
              "outlinewidth": 0,
              "ticks": ""
             }
            },
            "type": "scatterpolar"
           }
          ],
          "scatterpolargl": [
           {
            "marker": {
             "colorbar": {
              "outlinewidth": 0,
              "ticks": ""
             }
            },
            "type": "scatterpolargl"
           }
          ],
          "scatterternary": [
           {
            "marker": {
             "colorbar": {
              "outlinewidth": 0,
              "ticks": ""
             }
            },
            "type": "scatterternary"
           }
          ],
          "surface": [
           {
            "colorbar": {
             "outlinewidth": 0,
             "ticks": ""
            },
            "colorscale": [
             [
              0,
              "#0d0887"
             ],
             [
              0.1111111111111111,
              "#46039f"
             ],
             [
              0.2222222222222222,
              "#7201a8"
             ],
             [
              0.3333333333333333,
              "#9c179e"
             ],
             [
              0.4444444444444444,
              "#bd3786"
             ],
             [
              0.5555555555555556,
              "#d8576b"
             ],
             [
              0.6666666666666666,
              "#ed7953"
             ],
             [
              0.7777777777777778,
              "#fb9f3a"
             ],
             [
              0.8888888888888888,
              "#fdca26"
             ],
             [
              1,
              "#f0f921"
             ]
            ],
            "type": "surface"
           }
          ],
          "table": [
           {
            "cells": {
             "fill": {
              "color": "#EBF0F8"
             },
             "line": {
              "color": "white"
             }
            },
            "header": {
             "fill": {
              "color": "#C8D4E3"
             },
             "line": {
              "color": "white"
             }
            },
            "type": "table"
           }
          ]
         },
         "layout": {
          "annotationdefaults": {
           "arrowcolor": "#2a3f5f",
           "arrowhead": 0,
           "arrowwidth": 1
          },
          "autotypenumbers": "strict",
          "coloraxis": {
           "colorbar": {
            "outlinewidth": 0,
            "ticks": ""
           }
          },
          "colorscale": {
           "diverging": [
            [
             0,
             "#8e0152"
            ],
            [
             0.1,
             "#c51b7d"
            ],
            [
             0.2,
             "#de77ae"
            ],
            [
             0.3,
             "#f1b6da"
            ],
            [
             0.4,
             "#fde0ef"
            ],
            [
             0.5,
             "#f7f7f7"
            ],
            [
             0.6,
             "#e6f5d0"
            ],
            [
             0.7,
             "#b8e186"
            ],
            [
             0.8,
             "#7fbc41"
            ],
            [
             0.9,
             "#4d9221"
            ],
            [
             1,
             "#276419"
            ]
           ],
           "sequential": [
            [
             0,
             "#0d0887"
            ],
            [
             0.1111111111111111,
             "#46039f"
            ],
            [
             0.2222222222222222,
             "#7201a8"
            ],
            [
             0.3333333333333333,
             "#9c179e"
            ],
            [
             0.4444444444444444,
             "#bd3786"
            ],
            [
             0.5555555555555556,
             "#d8576b"
            ],
            [
             0.6666666666666666,
             "#ed7953"
            ],
            [
             0.7777777777777778,
             "#fb9f3a"
            ],
            [
             0.8888888888888888,
             "#fdca26"
            ],
            [
             1,
             "#f0f921"
            ]
           ],
           "sequentialminus": [
            [
             0,
             "#0d0887"
            ],
            [
             0.1111111111111111,
             "#46039f"
            ],
            [
             0.2222222222222222,
             "#7201a8"
            ],
            [
             0.3333333333333333,
             "#9c179e"
            ],
            [
             0.4444444444444444,
             "#bd3786"
            ],
            [
             0.5555555555555556,
             "#d8576b"
            ],
            [
             0.6666666666666666,
             "#ed7953"
            ],
            [
             0.7777777777777778,
             "#fb9f3a"
            ],
            [
             0.8888888888888888,
             "#fdca26"
            ],
            [
             1,
             "#f0f921"
            ]
           ]
          },
          "colorway": [
           "#636efa",
           "#EF553B",
           "#00cc96",
           "#ab63fa",
           "#FFA15A",
           "#19d3f3",
           "#FF6692",
           "#B6E880",
           "#FF97FF",
           "#FECB52"
          ],
          "font": {
           "color": "#2a3f5f"
          },
          "geo": {
           "bgcolor": "white",
           "lakecolor": "white",
           "landcolor": "#E5ECF6",
           "showlakes": true,
           "showland": true,
           "subunitcolor": "white"
          },
          "hoverlabel": {
           "align": "left"
          },
          "hovermode": "closest",
          "mapbox": {
           "style": "light"
          },
          "paper_bgcolor": "white",
          "plot_bgcolor": "#E5ECF6",
          "polar": {
           "angularaxis": {
            "gridcolor": "white",
            "linecolor": "white",
            "ticks": ""
           },
           "bgcolor": "#E5ECF6",
           "radialaxis": {
            "gridcolor": "white",
            "linecolor": "white",
            "ticks": ""
           }
          },
          "scene": {
           "xaxis": {
            "backgroundcolor": "#E5ECF6",
            "gridcolor": "white",
            "gridwidth": 2,
            "linecolor": "white",
            "showbackground": true,
            "ticks": "",
            "zerolinecolor": "white"
           },
           "yaxis": {
            "backgroundcolor": "#E5ECF6",
            "gridcolor": "white",
            "gridwidth": 2,
            "linecolor": "white",
            "showbackground": true,
            "ticks": "",
            "zerolinecolor": "white"
           },
           "zaxis": {
            "backgroundcolor": "#E5ECF6",
            "gridcolor": "white",
            "gridwidth": 2,
            "linecolor": "white",
            "showbackground": true,
            "ticks": "",
            "zerolinecolor": "white"
           }
          },
          "shapedefaults": {
           "line": {
            "color": "#2a3f5f"
           }
          },
          "ternary": {
           "aaxis": {
            "gridcolor": "white",
            "linecolor": "white",
            "ticks": ""
           },
           "baxis": {
            "gridcolor": "white",
            "linecolor": "white",
            "ticks": ""
           },
           "bgcolor": "#E5ECF6",
           "caxis": {
            "gridcolor": "white",
            "linecolor": "white",
            "ticks": ""
           }
          },
          "title": {
           "x": 0.05
          },
          "xaxis": {
           "automargin": true,
           "gridcolor": "white",
           "linecolor": "white",
           "ticks": "",
           "title": {
            "standoff": 15
           },
           "zerolinecolor": "white",
           "zerolinewidth": 2
          },
          "yaxis": {
           "automargin": true,
           "gridcolor": "white",
           "linecolor": "white",
           "ticks": "",
           "title": {
            "standoff": 15
           },
           "zerolinecolor": "white",
           "zerolinewidth": 2
          }
         }
        },
        "title": {
         "text": "Feature importances for energy above hull prediction model",
         "x": 0.5
        },
        "width": 1000,
        "xaxis": {
         "tickangle": 45,
         "tickfont": {
          "size": 12
         },
         "title": {
          "text": "Features"
         }
        },
        "yaxis": {
         "title": {
          "text": "Importance (%)"
         }
        }
       }
      }
     },
     "metadata": {},
     "output_type": "display_data"
    }
   ],
   "source": [
    "import plotly.graph_objects as go\n",
    "\n",
    "feature_importances = xgb_reg2.feature_importances_\n",
    "included = X.columns.values\n",
    "indices = np.argsort(feature_importances)[::-1]\n",
    "\n",
    "fig = go.Figure()\n",
    "\n",
    "fig.add_trace(go.Bar(\n",
    "    x=included[indices][:10],\n",
    "    y=feature_importances[indices][:10],\n",
    "    marker=dict(color='royalblue'),\n",
    "))\n",
    "\n",
    "fig.update_layout(\n",
    "    xaxis=dict(\n",
    "        title='Features',\n",
    "        tickfont=dict(size=12),\n",
    "        tickangle = 45\n",
    "    ),\n",
    "    yaxis_title='Importance (%)',\n",
    "    title='Feature importances for energy above hull prediction model',\n",
    "    font=dict(family=\"Arial\", size=12, color=\"black\"),\n",
    "    width=1000,\n",
    "    height=800,\n",
    "    title_x = 0.5,\n",
    "    showlegend=False,\n",
    ")\n",
    "\n",
    "config = {\n",
    "    'toImageButtonOptions': {\n",
    "        'format': 'png',  # one of png, svg, jpeg, webp\n",
    "        'filename': 'custom_image',\n",
    "        'height': 500,\n",
    "        'width': 700,\n",
    "        'scale': 6  # Multiply title/legend/axis/canvas sizes by this factor\n",
    "    }\n",
    "}\n",
    "\n",
    "fig.show(config=config)\n"
   ]
  },
  {
   "cell_type": "markdown",
   "metadata": {},
   "source": [
    "## Predicting PBE Bandgap direct or indirect using SVM using only elemental features"
   ]
  },
  {
   "cell_type": "code",
   "execution_count": 124,
   "metadata": {},
   "outputs": [
    {
     "name": "stdout",
     "output_type": "stream",
     "text": [
      "Accuracy: 0.9021739130434783\n"
     ]
    }
   ],
   "source": [
    "import pandas as pd\n",
    "from sklearn.model_selection import train_test_split\n",
    "from sklearn.svm import SVC\n",
    "from sklearn.metrics import accuracy_score\n",
    "\n",
    "to_drop = [\"A\", \"B\", \"functional_group\", \"training_type\", \"PBE_band_gap\", \"composition\", \"PBE_direct\", \"stable2\", \"HSE_direct\", 'PBE_vbm', 'PBE_cbm', 'HSE_vbm', 'HSE_cbm', \"total_energy\", 'HSE_band_gap', 'PBE_insulator', \"HSE_insulator\", \"e_above_hull\", \"density\", \"volume\", \"stable\", \"efermi\"] #, \"total_energy\"] #, \"stable\"] #, \"volume\", \"c\"]\n",
    "df_pr = df.dropna()\n",
    "\n",
    "X_class = df_pr.drop(to_drop, axis=1)\n",
    "y_class = df_pr['PBE_direct']\n",
    "\n",
    "X_train, X_test, y_train, y_test = train_test_split(X_class, y_class, test_size=0.2, random_state=16)\n",
    "\n",
    "# Initialize the SVM classifier\n",
    "svm_classifier = SVC(kernel='linear')  \n",
    "svm_classifier.fit(X_train, y_train)\n",
    "y_pred = svm_classifier.predict(X_test)\n",
    "\n",
    "# Evaluating the model\n",
    "accuracy = accuracy_score(y_test, y_pred)\n",
    "print(\"Accuracy:\", accuracy)\n"
   ]
  },
  {
   "cell_type": "markdown",
   "metadata": {},
   "source": [
    "### Feature importances for model predicting direct/indirect bandgap"
   ]
  },
  {
   "cell_type": "code",
   "execution_count": 125,
   "metadata": {},
   "outputs": [
    {
     "data": {
      "application/vnd.plotly.v1+json": {
       "config": {
        "plotlyServerURL": "https://plot.ly",
        "toImageButtonOptions": {
         "filename": "custom_image",
         "format": "png",
         "height": 500,
         "scale": 6,
         "width": 700
        }
       },
       "data": [
        {
         "marker": {
          "color": "royalblue"
         },
         "type": "bar",
         "x": [
          "A_IR",
          "A_X",
          "B_X",
          "A_HOMO",
          "B_HOMO",
          "tau",
          "a",
          "B_LUMO",
          "A_Z_radii",
          "A_LUMO"
         ],
         "y": [
          0.2746213385936255,
          0.15472215243285628,
          0.1499930326775515,
          0.08549424149052548,
          0.06738274533942666,
          0.06606671830282027,
          0.05609129993888269,
          0.027303349552425173,
          0.024632254280039335,
          0.016744249799206523
         ]
        }
       ],
       "layout": {
        "font": {
         "color": "black",
         "family": "Arial",
         "size": 14
        },
        "height": 800,
        "showlegend": false,
        "template": {
         "data": {
          "bar": [
           {
            "error_x": {
             "color": "#2a3f5f"
            },
            "error_y": {
             "color": "#2a3f5f"
            },
            "marker": {
             "line": {
              "color": "#E5ECF6",
              "width": 0.5
             },
             "pattern": {
              "fillmode": "overlay",
              "size": 10,
              "solidity": 0.2
             }
            },
            "type": "bar"
           }
          ],
          "barpolar": [
           {
            "marker": {
             "line": {
              "color": "#E5ECF6",
              "width": 0.5
             },
             "pattern": {
              "fillmode": "overlay",
              "size": 10,
              "solidity": 0.2
             }
            },
            "type": "barpolar"
           }
          ],
          "carpet": [
           {
            "aaxis": {
             "endlinecolor": "#2a3f5f",
             "gridcolor": "white",
             "linecolor": "white",
             "minorgridcolor": "white",
             "startlinecolor": "#2a3f5f"
            },
            "baxis": {
             "endlinecolor": "#2a3f5f",
             "gridcolor": "white",
             "linecolor": "white",
             "minorgridcolor": "white",
             "startlinecolor": "#2a3f5f"
            },
            "type": "carpet"
           }
          ],
          "choropleth": [
           {
            "colorbar": {
             "outlinewidth": 0,
             "ticks": ""
            },
            "type": "choropleth"
           }
          ],
          "contour": [
           {
            "colorbar": {
             "outlinewidth": 0,
             "ticks": ""
            },
            "colorscale": [
             [
              0,
              "#0d0887"
             ],
             [
              0.1111111111111111,
              "#46039f"
             ],
             [
              0.2222222222222222,
              "#7201a8"
             ],
             [
              0.3333333333333333,
              "#9c179e"
             ],
             [
              0.4444444444444444,
              "#bd3786"
             ],
             [
              0.5555555555555556,
              "#d8576b"
             ],
             [
              0.6666666666666666,
              "#ed7953"
             ],
             [
              0.7777777777777778,
              "#fb9f3a"
             ],
             [
              0.8888888888888888,
              "#fdca26"
             ],
             [
              1,
              "#f0f921"
             ]
            ],
            "type": "contour"
           }
          ],
          "contourcarpet": [
           {
            "colorbar": {
             "outlinewidth": 0,
             "ticks": ""
            },
            "type": "contourcarpet"
           }
          ],
          "heatmap": [
           {
            "colorbar": {
             "outlinewidth": 0,
             "ticks": ""
            },
            "colorscale": [
             [
              0,
              "#0d0887"
             ],
             [
              0.1111111111111111,
              "#46039f"
             ],
             [
              0.2222222222222222,
              "#7201a8"
             ],
             [
              0.3333333333333333,
              "#9c179e"
             ],
             [
              0.4444444444444444,
              "#bd3786"
             ],
             [
              0.5555555555555556,
              "#d8576b"
             ],
             [
              0.6666666666666666,
              "#ed7953"
             ],
             [
              0.7777777777777778,
              "#fb9f3a"
             ],
             [
              0.8888888888888888,
              "#fdca26"
             ],
             [
              1,
              "#f0f921"
             ]
            ],
            "type": "heatmap"
           }
          ],
          "heatmapgl": [
           {
            "colorbar": {
             "outlinewidth": 0,
             "ticks": ""
            },
            "colorscale": [
             [
              0,
              "#0d0887"
             ],
             [
              0.1111111111111111,
              "#46039f"
             ],
             [
              0.2222222222222222,
              "#7201a8"
             ],
             [
              0.3333333333333333,
              "#9c179e"
             ],
             [
              0.4444444444444444,
              "#bd3786"
             ],
             [
              0.5555555555555556,
              "#d8576b"
             ],
             [
              0.6666666666666666,
              "#ed7953"
             ],
             [
              0.7777777777777778,
              "#fb9f3a"
             ],
             [
              0.8888888888888888,
              "#fdca26"
             ],
             [
              1,
              "#f0f921"
             ]
            ],
            "type": "heatmapgl"
           }
          ],
          "histogram": [
           {
            "marker": {
             "pattern": {
              "fillmode": "overlay",
              "size": 10,
              "solidity": 0.2
             }
            },
            "type": "histogram"
           }
          ],
          "histogram2d": [
           {
            "colorbar": {
             "outlinewidth": 0,
             "ticks": ""
            },
            "colorscale": [
             [
              0,
              "#0d0887"
             ],
             [
              0.1111111111111111,
              "#46039f"
             ],
             [
              0.2222222222222222,
              "#7201a8"
             ],
             [
              0.3333333333333333,
              "#9c179e"
             ],
             [
              0.4444444444444444,
              "#bd3786"
             ],
             [
              0.5555555555555556,
              "#d8576b"
             ],
             [
              0.6666666666666666,
              "#ed7953"
             ],
             [
              0.7777777777777778,
              "#fb9f3a"
             ],
             [
              0.8888888888888888,
              "#fdca26"
             ],
             [
              1,
              "#f0f921"
             ]
            ],
            "type": "histogram2d"
           }
          ],
          "histogram2dcontour": [
           {
            "colorbar": {
             "outlinewidth": 0,
             "ticks": ""
            },
            "colorscale": [
             [
              0,
              "#0d0887"
             ],
             [
              0.1111111111111111,
              "#46039f"
             ],
             [
              0.2222222222222222,
              "#7201a8"
             ],
             [
              0.3333333333333333,
              "#9c179e"
             ],
             [
              0.4444444444444444,
              "#bd3786"
             ],
             [
              0.5555555555555556,
              "#d8576b"
             ],
             [
              0.6666666666666666,
              "#ed7953"
             ],
             [
              0.7777777777777778,
              "#fb9f3a"
             ],
             [
              0.8888888888888888,
              "#fdca26"
             ],
             [
              1,
              "#f0f921"
             ]
            ],
            "type": "histogram2dcontour"
           }
          ],
          "mesh3d": [
           {
            "colorbar": {
             "outlinewidth": 0,
             "ticks": ""
            },
            "type": "mesh3d"
           }
          ],
          "parcoords": [
           {
            "line": {
             "colorbar": {
              "outlinewidth": 0,
              "ticks": ""
             }
            },
            "type": "parcoords"
           }
          ],
          "pie": [
           {
            "automargin": true,
            "type": "pie"
           }
          ],
          "scatter": [
           {
            "fillpattern": {
             "fillmode": "overlay",
             "size": 10,
             "solidity": 0.2
            },
            "type": "scatter"
           }
          ],
          "scatter3d": [
           {
            "line": {
             "colorbar": {
              "outlinewidth": 0,
              "ticks": ""
             }
            },
            "marker": {
             "colorbar": {
              "outlinewidth": 0,
              "ticks": ""
             }
            },
            "type": "scatter3d"
           }
          ],
          "scattercarpet": [
           {
            "marker": {
             "colorbar": {
              "outlinewidth": 0,
              "ticks": ""
             }
            },
            "type": "scattercarpet"
           }
          ],
          "scattergeo": [
           {
            "marker": {
             "colorbar": {
              "outlinewidth": 0,
              "ticks": ""
             }
            },
            "type": "scattergeo"
           }
          ],
          "scattergl": [
           {
            "marker": {
             "colorbar": {
              "outlinewidth": 0,
              "ticks": ""
             }
            },
            "type": "scattergl"
           }
          ],
          "scattermapbox": [
           {
            "marker": {
             "colorbar": {
              "outlinewidth": 0,
              "ticks": ""
             }
            },
            "type": "scattermapbox"
           }
          ],
          "scatterpolar": [
           {
            "marker": {
             "colorbar": {
              "outlinewidth": 0,
              "ticks": ""
             }
            },
            "type": "scatterpolar"
           }
          ],
          "scatterpolargl": [
           {
            "marker": {
             "colorbar": {
              "outlinewidth": 0,
              "ticks": ""
             }
            },
            "type": "scatterpolargl"
           }
          ],
          "scatterternary": [
           {
            "marker": {
             "colorbar": {
              "outlinewidth": 0,
              "ticks": ""
             }
            },
            "type": "scatterternary"
           }
          ],
          "surface": [
           {
            "colorbar": {
             "outlinewidth": 0,
             "ticks": ""
            },
            "colorscale": [
             [
              0,
              "#0d0887"
             ],
             [
              0.1111111111111111,
              "#46039f"
             ],
             [
              0.2222222222222222,
              "#7201a8"
             ],
             [
              0.3333333333333333,
              "#9c179e"
             ],
             [
              0.4444444444444444,
              "#bd3786"
             ],
             [
              0.5555555555555556,
              "#d8576b"
             ],
             [
              0.6666666666666666,
              "#ed7953"
             ],
             [
              0.7777777777777778,
              "#fb9f3a"
             ],
             [
              0.8888888888888888,
              "#fdca26"
             ],
             [
              1,
              "#f0f921"
             ]
            ],
            "type": "surface"
           }
          ],
          "table": [
           {
            "cells": {
             "fill": {
              "color": "#EBF0F8"
             },
             "line": {
              "color": "white"
             }
            },
            "header": {
             "fill": {
              "color": "#C8D4E3"
             },
             "line": {
              "color": "white"
             }
            },
            "type": "table"
           }
          ]
         },
         "layout": {
          "annotationdefaults": {
           "arrowcolor": "#2a3f5f",
           "arrowhead": 0,
           "arrowwidth": 1
          },
          "autotypenumbers": "strict",
          "coloraxis": {
           "colorbar": {
            "outlinewidth": 0,
            "ticks": ""
           }
          },
          "colorscale": {
           "diverging": [
            [
             0,
             "#8e0152"
            ],
            [
             0.1,
             "#c51b7d"
            ],
            [
             0.2,
             "#de77ae"
            ],
            [
             0.3,
             "#f1b6da"
            ],
            [
             0.4,
             "#fde0ef"
            ],
            [
             0.5,
             "#f7f7f7"
            ],
            [
             0.6,
             "#e6f5d0"
            ],
            [
             0.7,
             "#b8e186"
            ],
            [
             0.8,
             "#7fbc41"
            ],
            [
             0.9,
             "#4d9221"
            ],
            [
             1,
             "#276419"
            ]
           ],
           "sequential": [
            [
             0,
             "#0d0887"
            ],
            [
             0.1111111111111111,
             "#46039f"
            ],
            [
             0.2222222222222222,
             "#7201a8"
            ],
            [
             0.3333333333333333,
             "#9c179e"
            ],
            [
             0.4444444444444444,
             "#bd3786"
            ],
            [
             0.5555555555555556,
             "#d8576b"
            ],
            [
             0.6666666666666666,
             "#ed7953"
            ],
            [
             0.7777777777777778,
             "#fb9f3a"
            ],
            [
             0.8888888888888888,
             "#fdca26"
            ],
            [
             1,
             "#f0f921"
            ]
           ],
           "sequentialminus": [
            [
             0,
             "#0d0887"
            ],
            [
             0.1111111111111111,
             "#46039f"
            ],
            [
             0.2222222222222222,
             "#7201a8"
            ],
            [
             0.3333333333333333,
             "#9c179e"
            ],
            [
             0.4444444444444444,
             "#bd3786"
            ],
            [
             0.5555555555555556,
             "#d8576b"
            ],
            [
             0.6666666666666666,
             "#ed7953"
            ],
            [
             0.7777777777777778,
             "#fb9f3a"
            ],
            [
             0.8888888888888888,
             "#fdca26"
            ],
            [
             1,
             "#f0f921"
            ]
           ]
          },
          "colorway": [
           "#636efa",
           "#EF553B",
           "#00cc96",
           "#ab63fa",
           "#FFA15A",
           "#19d3f3",
           "#FF6692",
           "#B6E880",
           "#FF97FF",
           "#FECB52"
          ],
          "font": {
           "color": "#2a3f5f"
          },
          "geo": {
           "bgcolor": "white",
           "lakecolor": "white",
           "landcolor": "#E5ECF6",
           "showlakes": true,
           "showland": true,
           "subunitcolor": "white"
          },
          "hoverlabel": {
           "align": "left"
          },
          "hovermode": "closest",
          "mapbox": {
           "style": "light"
          },
          "paper_bgcolor": "white",
          "plot_bgcolor": "#E5ECF6",
          "polar": {
           "angularaxis": {
            "gridcolor": "white",
            "linecolor": "white",
            "ticks": ""
           },
           "bgcolor": "#E5ECF6",
           "radialaxis": {
            "gridcolor": "white",
            "linecolor": "white",
            "ticks": ""
           }
          },
          "scene": {
           "xaxis": {
            "backgroundcolor": "#E5ECF6",
            "gridcolor": "white",
            "gridwidth": 2,
            "linecolor": "white",
            "showbackground": true,
            "ticks": "",
            "zerolinecolor": "white"
           },
           "yaxis": {
            "backgroundcolor": "#E5ECF6",
            "gridcolor": "white",
            "gridwidth": 2,
            "linecolor": "white",
            "showbackground": true,
            "ticks": "",
            "zerolinecolor": "white"
           },
           "zaxis": {
            "backgroundcolor": "#E5ECF6",
            "gridcolor": "white",
            "gridwidth": 2,
            "linecolor": "white",
            "showbackground": true,
            "ticks": "",
            "zerolinecolor": "white"
           }
          },
          "shapedefaults": {
           "line": {
            "color": "#2a3f5f"
           }
          },
          "ternary": {
           "aaxis": {
            "gridcolor": "white",
            "linecolor": "white",
            "ticks": ""
           },
           "baxis": {
            "gridcolor": "white",
            "linecolor": "white",
            "ticks": ""
           },
           "bgcolor": "#E5ECF6",
           "caxis": {
            "gridcolor": "white",
            "linecolor": "white",
            "ticks": ""
           }
          },
          "title": {
           "x": 0.05
          },
          "xaxis": {
           "automargin": true,
           "gridcolor": "white",
           "linecolor": "white",
           "ticks": "",
           "title": {
            "standoff": 15
           },
           "zerolinecolor": "white",
           "zerolinewidth": 2
          },
          "yaxis": {
           "automargin": true,
           "gridcolor": "white",
           "linecolor": "white",
           "ticks": "",
           "title": {
            "standoff": 15
           },
           "zerolinecolor": "white",
           "zerolinewidth": 2
          }
         }
        },
        "title": {
         "text": "Feature importances for model predicting PBE direct/indirect bandgap",
         "x": 0.5
        },
        "width": 1000,
        "xaxis": {
         "tickangle": 45,
         "tickfont": {
          "size": 12
         },
         "title": {
          "text": "Features"
         }
        },
        "yaxis": {
         "title": {
          "text": "Importance"
         }
        }
       }
      }
     },
     "metadata": {},
     "output_type": "display_data"
    }
   ],
   "source": [
    "import numpy as np\n",
    "import plotly.graph_objects as go\n",
    "\n",
    "# Assuming svm_classifier is a trained SVM classifier\n",
    "# Assuming X_class is your feature matrix\n",
    "\n",
    "# Get coefficients if SVM is linear\n",
    "if hasattr(svm_classifier, 'coef_'):\n",
    "    feature_importances = np.abs(svm_classifier.coef_.flatten())\n",
    "    included = X_class.columns.values\n",
    "    indices = np.argsort(feature_importances)[::-1]\n",
    "\n",
    "    total_importance = np.sum(feature_importances)\n",
    "    normalized_importances = feature_importances / total_importance\n",
    "    \n",
    "    fig = go.Figure()\n",
    "\n",
    "    fig.add_trace(go.Bar(\n",
    "        x=included[indices][:10],\n",
    "        y=normalized_importances[indices][:10],\n",
    "        marker=dict(color='royalblue'),\n",
    "    ))\n",
    "\n",
    "    fig.update_layout(\n",
    "        xaxis=dict(\n",
    "            title='Features',\n",
    "            tickfont=dict(size=12),\n",
    "            tickangle = 45 \n",
    "        ),\n",
    "        yaxis_title='Importance',\n",
    "        title='Feature importances for model predicting PBE direct/indirect bandgap',\n",
    "        font=dict(family=\"Arial\", size=14, color=\"black\"),\n",
    "        title_x = 0.5,\n",
    "        width=1000,\n",
    "        height=800,\n",
    "        showlegend=False,\n",
    "    )\n",
    "\n",
    "    config = {\n",
    "        'toImageButtonOptions': {\n",
    "            'format': 'png',  # one of png, svg, jpeg, webp\n",
    "            'filename': 'custom_image',\n",
    "            'height': 500,\n",
    "            'width': 700,\n",
    "            'scale': 6  # Multiply title/legend/axis/canvas sizes by this factor\n",
    "        }\n",
    "    }\n",
    "\n",
    "    fig.show(config=config)\n",
    "\n",
    "else:\n",
    "    print(\"SVM classifier does not have coefficients to determine feature importances.\")\n"
   ]
  },
  {
   "cell_type": "markdown",
   "metadata": {},
   "source": [
    "## Predicting HSE Bandgap direct or indirect using SVM with only elemental features"
   ]
  },
  {
   "cell_type": "code",
   "execution_count": 126,
   "metadata": {},
   "outputs": [
    {
     "name": "stdout",
     "output_type": "stream",
     "text": [
      "Accuracy: 0.9239130434782609\n"
     ]
    }
   ],
   "source": [
    "import pandas as pd\n",
    "from sklearn.model_selection import train_test_split\n",
    "from sklearn.svm import SVC\n",
    "from sklearn.metrics import accuracy_score\n",
    "\n",
    "to_drop2 = [\"A\", \"B\", \"functional_group\", \"training_type\", \"PBE_band_gap\", \"composition\", \"PBE_direct\", \"stable2\", \"HSE_direct\", 'PBE_vbm', 'PBE_cbm', 'HSE_vbm', 'HSE_cbm', \"total_energy\", 'HSE_band_gap', 'PBE_insulator', \"HSE_insulator\", \"e_above_hull\", \"density\", \"volume\", \"stable\", \"efermi\"] #, \"total_energy\"] #, \"stable\"] #, \"volume\", \"c\"]\n",
    "df_pr = df.dropna()\n",
    "\n",
    "X_class2 = df_pr.drop(to_drop2, axis=1)\n",
    "y_class2 = df_pr['HSE_direct']\n",
    "\n",
    "X_train, X_test, y_train, y_test = train_test_split(X_class2, y_class2, test_size=0.2, random_state=104)\n",
    "\n",
    "# Initialize the SVM classifier\n",
    "svm_classifier = SVC(kernel='linear')  \n",
    "svm_classifier.fit(X_train, y_train)\n",
    "y_pred = svm_classifier.predict(X_test)\n",
    "\n",
    "# Evaluating the model\n",
    "accuracy = accuracy_score(y_test, y_pred)\n",
    "print(\"Accuracy:\", accuracy)\n"
   ]
  },
  {
   "cell_type": "markdown",
   "metadata": {},
   "source": [
    "### Feature importances for model predicting direct/indirect bandgap"
   ]
  },
  {
   "cell_type": "code",
   "execution_count": 127,
   "metadata": {},
   "outputs": [
    {
     "data": {
      "application/vnd.plotly.v1+json": {
       "config": {
        "plotlyServerURL": "https://plot.ly",
        "toImageButtonOptions": {
         "filename": "custom_image",
         "format": "png",
         "height": 500,
         "scale": 6,
         "width": 700
        }
       },
       "data": [
        {
         "marker": {
          "color": "royalblue"
         },
         "type": "bar",
         "x": [
          "B_X",
          "B_IR",
          "A_X",
          "tau",
          "mu",
          "A_IR",
          "B_Z_radii",
          "A_HOMO",
          "B_HOMO",
          "a"
         ],
         "y": [
          0.16436738594744624,
          0.1606755484727171,
          0.1558219204511908,
          0.10399740153092897,
          0.0811567249800327,
          0.07231881947249519,
          0.0563193025964518,
          0.042209152672821486,
          0.03143198012347469,
          0.02938398015186316
         ]
        }
       ],
       "layout": {
        "font": {
         "color": "black",
         "family": "Arial",
         "size": 14
        },
        "height": 800,
        "showlegend": false,
        "template": {
         "data": {
          "bar": [
           {
            "error_x": {
             "color": "#2a3f5f"
            },
            "error_y": {
             "color": "#2a3f5f"
            },
            "marker": {
             "line": {
              "color": "#E5ECF6",
              "width": 0.5
             },
             "pattern": {
              "fillmode": "overlay",
              "size": 10,
              "solidity": 0.2
             }
            },
            "type": "bar"
           }
          ],
          "barpolar": [
           {
            "marker": {
             "line": {
              "color": "#E5ECF6",
              "width": 0.5
             },
             "pattern": {
              "fillmode": "overlay",
              "size": 10,
              "solidity": 0.2
             }
            },
            "type": "barpolar"
           }
          ],
          "carpet": [
           {
            "aaxis": {
             "endlinecolor": "#2a3f5f",
             "gridcolor": "white",
             "linecolor": "white",
             "minorgridcolor": "white",
             "startlinecolor": "#2a3f5f"
            },
            "baxis": {
             "endlinecolor": "#2a3f5f",
             "gridcolor": "white",
             "linecolor": "white",
             "minorgridcolor": "white",
             "startlinecolor": "#2a3f5f"
            },
            "type": "carpet"
           }
          ],
          "choropleth": [
           {
            "colorbar": {
             "outlinewidth": 0,
             "ticks": ""
            },
            "type": "choropleth"
           }
          ],
          "contour": [
           {
            "colorbar": {
             "outlinewidth": 0,
             "ticks": ""
            },
            "colorscale": [
             [
              0,
              "#0d0887"
             ],
             [
              0.1111111111111111,
              "#46039f"
             ],
             [
              0.2222222222222222,
              "#7201a8"
             ],
             [
              0.3333333333333333,
              "#9c179e"
             ],
             [
              0.4444444444444444,
              "#bd3786"
             ],
             [
              0.5555555555555556,
              "#d8576b"
             ],
             [
              0.6666666666666666,
              "#ed7953"
             ],
             [
              0.7777777777777778,
              "#fb9f3a"
             ],
             [
              0.8888888888888888,
              "#fdca26"
             ],
             [
              1,
              "#f0f921"
             ]
            ],
            "type": "contour"
           }
          ],
          "contourcarpet": [
           {
            "colorbar": {
             "outlinewidth": 0,
             "ticks": ""
            },
            "type": "contourcarpet"
           }
          ],
          "heatmap": [
           {
            "colorbar": {
             "outlinewidth": 0,
             "ticks": ""
            },
            "colorscale": [
             [
              0,
              "#0d0887"
             ],
             [
              0.1111111111111111,
              "#46039f"
             ],
             [
              0.2222222222222222,
              "#7201a8"
             ],
             [
              0.3333333333333333,
              "#9c179e"
             ],
             [
              0.4444444444444444,
              "#bd3786"
             ],
             [
              0.5555555555555556,
              "#d8576b"
             ],
             [
              0.6666666666666666,
              "#ed7953"
             ],
             [
              0.7777777777777778,
              "#fb9f3a"
             ],
             [
              0.8888888888888888,
              "#fdca26"
             ],
             [
              1,
              "#f0f921"
             ]
            ],
            "type": "heatmap"
           }
          ],
          "heatmapgl": [
           {
            "colorbar": {
             "outlinewidth": 0,
             "ticks": ""
            },
            "colorscale": [
             [
              0,
              "#0d0887"
             ],
             [
              0.1111111111111111,
              "#46039f"
             ],
             [
              0.2222222222222222,
              "#7201a8"
             ],
             [
              0.3333333333333333,
              "#9c179e"
             ],
             [
              0.4444444444444444,
              "#bd3786"
             ],
             [
              0.5555555555555556,
              "#d8576b"
             ],
             [
              0.6666666666666666,
              "#ed7953"
             ],
             [
              0.7777777777777778,
              "#fb9f3a"
             ],
             [
              0.8888888888888888,
              "#fdca26"
             ],
             [
              1,
              "#f0f921"
             ]
            ],
            "type": "heatmapgl"
           }
          ],
          "histogram": [
           {
            "marker": {
             "pattern": {
              "fillmode": "overlay",
              "size": 10,
              "solidity": 0.2
             }
            },
            "type": "histogram"
           }
          ],
          "histogram2d": [
           {
            "colorbar": {
             "outlinewidth": 0,
             "ticks": ""
            },
            "colorscale": [
             [
              0,
              "#0d0887"
             ],
             [
              0.1111111111111111,
              "#46039f"
             ],
             [
              0.2222222222222222,
              "#7201a8"
             ],
             [
              0.3333333333333333,
              "#9c179e"
             ],
             [
              0.4444444444444444,
              "#bd3786"
             ],
             [
              0.5555555555555556,
              "#d8576b"
             ],
             [
              0.6666666666666666,
              "#ed7953"
             ],
             [
              0.7777777777777778,
              "#fb9f3a"
             ],
             [
              0.8888888888888888,
              "#fdca26"
             ],
             [
              1,
              "#f0f921"
             ]
            ],
            "type": "histogram2d"
           }
          ],
          "histogram2dcontour": [
           {
            "colorbar": {
             "outlinewidth": 0,
             "ticks": ""
            },
            "colorscale": [
             [
              0,
              "#0d0887"
             ],
             [
              0.1111111111111111,
              "#46039f"
             ],
             [
              0.2222222222222222,
              "#7201a8"
             ],
             [
              0.3333333333333333,
              "#9c179e"
             ],
             [
              0.4444444444444444,
              "#bd3786"
             ],
             [
              0.5555555555555556,
              "#d8576b"
             ],
             [
              0.6666666666666666,
              "#ed7953"
             ],
             [
              0.7777777777777778,
              "#fb9f3a"
             ],
             [
              0.8888888888888888,
              "#fdca26"
             ],
             [
              1,
              "#f0f921"
             ]
            ],
            "type": "histogram2dcontour"
           }
          ],
          "mesh3d": [
           {
            "colorbar": {
             "outlinewidth": 0,
             "ticks": ""
            },
            "type": "mesh3d"
           }
          ],
          "parcoords": [
           {
            "line": {
             "colorbar": {
              "outlinewidth": 0,
              "ticks": ""
             }
            },
            "type": "parcoords"
           }
          ],
          "pie": [
           {
            "automargin": true,
            "type": "pie"
           }
          ],
          "scatter": [
           {
            "fillpattern": {
             "fillmode": "overlay",
             "size": 10,
             "solidity": 0.2
            },
            "type": "scatter"
           }
          ],
          "scatter3d": [
           {
            "line": {
             "colorbar": {
              "outlinewidth": 0,
              "ticks": ""
             }
            },
            "marker": {
             "colorbar": {
              "outlinewidth": 0,
              "ticks": ""
             }
            },
            "type": "scatter3d"
           }
          ],
          "scattercarpet": [
           {
            "marker": {
             "colorbar": {
              "outlinewidth": 0,
              "ticks": ""
             }
            },
            "type": "scattercarpet"
           }
          ],
          "scattergeo": [
           {
            "marker": {
             "colorbar": {
              "outlinewidth": 0,
              "ticks": ""
             }
            },
            "type": "scattergeo"
           }
          ],
          "scattergl": [
           {
            "marker": {
             "colorbar": {
              "outlinewidth": 0,
              "ticks": ""
             }
            },
            "type": "scattergl"
           }
          ],
          "scattermapbox": [
           {
            "marker": {
             "colorbar": {
              "outlinewidth": 0,
              "ticks": ""
             }
            },
            "type": "scattermapbox"
           }
          ],
          "scatterpolar": [
           {
            "marker": {
             "colorbar": {
              "outlinewidth": 0,
              "ticks": ""
             }
            },
            "type": "scatterpolar"
           }
          ],
          "scatterpolargl": [
           {
            "marker": {
             "colorbar": {
              "outlinewidth": 0,
              "ticks": ""
             }
            },
            "type": "scatterpolargl"
           }
          ],
          "scatterternary": [
           {
            "marker": {
             "colorbar": {
              "outlinewidth": 0,
              "ticks": ""
             }
            },
            "type": "scatterternary"
           }
          ],
          "surface": [
           {
            "colorbar": {
             "outlinewidth": 0,
             "ticks": ""
            },
            "colorscale": [
             [
              0,
              "#0d0887"
             ],
             [
              0.1111111111111111,
              "#46039f"
             ],
             [
              0.2222222222222222,
              "#7201a8"
             ],
             [
              0.3333333333333333,
              "#9c179e"
             ],
             [
              0.4444444444444444,
              "#bd3786"
             ],
             [
              0.5555555555555556,
              "#d8576b"
             ],
             [
              0.6666666666666666,
              "#ed7953"
             ],
             [
              0.7777777777777778,
              "#fb9f3a"
             ],
             [
              0.8888888888888888,
              "#fdca26"
             ],
             [
              1,
              "#f0f921"
             ]
            ],
            "type": "surface"
           }
          ],
          "table": [
           {
            "cells": {
             "fill": {
              "color": "#EBF0F8"
             },
             "line": {
              "color": "white"
             }
            },
            "header": {
             "fill": {
              "color": "#C8D4E3"
             },
             "line": {
              "color": "white"
             }
            },
            "type": "table"
           }
          ]
         },
         "layout": {
          "annotationdefaults": {
           "arrowcolor": "#2a3f5f",
           "arrowhead": 0,
           "arrowwidth": 1
          },
          "autotypenumbers": "strict",
          "coloraxis": {
           "colorbar": {
            "outlinewidth": 0,
            "ticks": ""
           }
          },
          "colorscale": {
           "diverging": [
            [
             0,
             "#8e0152"
            ],
            [
             0.1,
             "#c51b7d"
            ],
            [
             0.2,
             "#de77ae"
            ],
            [
             0.3,
             "#f1b6da"
            ],
            [
             0.4,
             "#fde0ef"
            ],
            [
             0.5,
             "#f7f7f7"
            ],
            [
             0.6,
             "#e6f5d0"
            ],
            [
             0.7,
             "#b8e186"
            ],
            [
             0.8,
             "#7fbc41"
            ],
            [
             0.9,
             "#4d9221"
            ],
            [
             1,
             "#276419"
            ]
           ],
           "sequential": [
            [
             0,
             "#0d0887"
            ],
            [
             0.1111111111111111,
             "#46039f"
            ],
            [
             0.2222222222222222,
             "#7201a8"
            ],
            [
             0.3333333333333333,
             "#9c179e"
            ],
            [
             0.4444444444444444,
             "#bd3786"
            ],
            [
             0.5555555555555556,
             "#d8576b"
            ],
            [
             0.6666666666666666,
             "#ed7953"
            ],
            [
             0.7777777777777778,
             "#fb9f3a"
            ],
            [
             0.8888888888888888,
             "#fdca26"
            ],
            [
             1,
             "#f0f921"
            ]
           ],
           "sequentialminus": [
            [
             0,
             "#0d0887"
            ],
            [
             0.1111111111111111,
             "#46039f"
            ],
            [
             0.2222222222222222,
             "#7201a8"
            ],
            [
             0.3333333333333333,
             "#9c179e"
            ],
            [
             0.4444444444444444,
             "#bd3786"
            ],
            [
             0.5555555555555556,
             "#d8576b"
            ],
            [
             0.6666666666666666,
             "#ed7953"
            ],
            [
             0.7777777777777778,
             "#fb9f3a"
            ],
            [
             0.8888888888888888,
             "#fdca26"
            ],
            [
             1,
             "#f0f921"
            ]
           ]
          },
          "colorway": [
           "#636efa",
           "#EF553B",
           "#00cc96",
           "#ab63fa",
           "#FFA15A",
           "#19d3f3",
           "#FF6692",
           "#B6E880",
           "#FF97FF",
           "#FECB52"
          ],
          "font": {
           "color": "#2a3f5f"
          },
          "geo": {
           "bgcolor": "white",
           "lakecolor": "white",
           "landcolor": "#E5ECF6",
           "showlakes": true,
           "showland": true,
           "subunitcolor": "white"
          },
          "hoverlabel": {
           "align": "left"
          },
          "hovermode": "closest",
          "mapbox": {
           "style": "light"
          },
          "paper_bgcolor": "white",
          "plot_bgcolor": "#E5ECF6",
          "polar": {
           "angularaxis": {
            "gridcolor": "white",
            "linecolor": "white",
            "ticks": ""
           },
           "bgcolor": "#E5ECF6",
           "radialaxis": {
            "gridcolor": "white",
            "linecolor": "white",
            "ticks": ""
           }
          },
          "scene": {
           "xaxis": {
            "backgroundcolor": "#E5ECF6",
            "gridcolor": "white",
            "gridwidth": 2,
            "linecolor": "white",
            "showbackground": true,
            "ticks": "",
            "zerolinecolor": "white"
           },
           "yaxis": {
            "backgroundcolor": "#E5ECF6",
            "gridcolor": "white",
            "gridwidth": 2,
            "linecolor": "white",
            "showbackground": true,
            "ticks": "",
            "zerolinecolor": "white"
           },
           "zaxis": {
            "backgroundcolor": "#E5ECF6",
            "gridcolor": "white",
            "gridwidth": 2,
            "linecolor": "white",
            "showbackground": true,
            "ticks": "",
            "zerolinecolor": "white"
           }
          },
          "shapedefaults": {
           "line": {
            "color": "#2a3f5f"
           }
          },
          "ternary": {
           "aaxis": {
            "gridcolor": "white",
            "linecolor": "white",
            "ticks": ""
           },
           "baxis": {
            "gridcolor": "white",
            "linecolor": "white",
            "ticks": ""
           },
           "bgcolor": "#E5ECF6",
           "caxis": {
            "gridcolor": "white",
            "linecolor": "white",
            "ticks": ""
           }
          },
          "title": {
           "x": 0.05
          },
          "xaxis": {
           "automargin": true,
           "gridcolor": "white",
           "linecolor": "white",
           "ticks": "",
           "title": {
            "standoff": 15
           },
           "zerolinecolor": "white",
           "zerolinewidth": 2
          },
          "yaxis": {
           "automargin": true,
           "gridcolor": "white",
           "linecolor": "white",
           "ticks": "",
           "title": {
            "standoff": 15
           },
           "zerolinecolor": "white",
           "zerolinewidth": 2
          }
         }
        },
        "title": {
         "text": "Feature importances for model predicting HSE direct/indirect bandgap",
         "x": 0.5
        },
        "width": 1000,
        "xaxis": {
         "tickangle": 45,
         "tickfont": {
          "size": 12
         },
         "title": {
          "text": "Features"
         }
        },
        "yaxis": {
         "title": {
          "text": "Importance"
         }
        }
       }
      }
     },
     "metadata": {},
     "output_type": "display_data"
    }
   ],
   "source": [
    "import numpy as np\n",
    "import plotly.graph_objects as go\n",
    "import plotly.offline as offline\n",
    "\n",
    "if hasattr(svm_classifier, 'coef_'):\n",
    "    feature_importances = np.abs(svm_classifier.coef_.flatten())\n",
    "    included = X_class2.columns.values\n",
    "    indices = np.argsort(feature_importances)[::-1]\n",
    "\n",
    "    total_importance = np.sum(feature_importances)\n",
    "    normalized_importances = feature_importances / total_importance\n",
    "    \n",
    "    fig = go.Figure()\n",
    "\n",
    "    fig.add_trace(go.Bar(\n",
    "        x=included[indices][:10],\n",
    "        y=normalized_importances[indices][:10],\n",
    "        marker=dict(color='royalblue'),\n",
    "    ))\n",
    "\n",
    "    fig.update_layout(\n",
    "        xaxis=dict(\n",
    "            title='Features',\n",
    "            tickfont=dict(size=12),\n",
    "            tickangle = 45 \n",
    "        ),\n",
    "        yaxis_title='Importance',\n",
    "        title='Feature importances for model predicting HSE direct/indirect bandgap',\n",
    "        font=dict(family=\"Arial\", size=14, color=\"black\"),\n",
    "        title_x = 0.5,\n",
    "        width=1000,\n",
    "        height=800,\n",
    "        showlegend=False,\n",
    "    )\n",
    "\n",
    "    config = {\n",
    "        'toImageButtonOptions': {\n",
    "            'format': 'png',  # one of png, svg, jpeg, webp\n",
    "            'filename': 'custom_image',\n",
    "            'height': 500,\n",
    "            'width': 700,\n",
    "            'scale': 6  # Multiply title/legend/axis/canvas sizes by this factor\n",
    "        }\n",
    "    }\n",
    "\n",
    "    fig.show(config=config)\n",
    "\n",
    "else:\n",
    "    print(\"SVM classifier does not have coefficients to determine feature importances.\")\n"
   ]
  }
 ],
 "metadata": {
  "kernelspec": {
   "display_name": "Python 3",
   "language": "python",
   "name": "python3"
  },
  "language_info": {
   "codemirror_mode": {
    "name": "ipython",
    "version": 3
   },
   "file_extension": ".py",
   "mimetype": "text/x-python",
   "name": "python",
   "nbconvert_exporter": "python",
   "pygments_lexer": "ipython3",
   "version": "3.11.3"
  }
 },
 "nbformat": 4,
 "nbformat_minor": 2
}
